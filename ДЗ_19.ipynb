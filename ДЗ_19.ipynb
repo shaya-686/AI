{
  "nbformat": 4,
  "nbformat_minor": 0,
  "metadata": {
    "colab": {
      "provenance": [],
      "include_colab_link": true
    },
    "kernelspec": {
      "name": "python3",
      "display_name": "Python 3"
    },
    "language_info": {
      "name": "python"
    }
  },
  "cells": [
    {
      "cell_type": "markdown",
      "metadata": {
        "id": "view-in-github",
        "colab_type": "text"
      },
      "source": [
        "<a href=\"https://colab.research.google.com/github/shaya-686/AI/blob/main/%D0%94%D0%97_19.ipynb\" target=\"_parent\"><img src=\"https://colab.research.google.com/assets/colab-badge.svg\" alt=\"Open In Colab\"/></a>"
      ]
    },
    {
      "cell_type": "markdown",
      "source": [
        "# Завдання 1\n",
        "Напишіть функцію, яка повертає список фраз з тексту, які відповідають певному шоблону. При необхідності можете добавити власні параметри.\n",
        "\n",
        "Протестуйте функцію на якомусь тексті."
      ],
      "metadata": {
        "id": "D56Rwjf4EXC_"
      }
    },
    {
      "cell_type": "code",
      "source": [
        "with open('/content/text_for_homework.txt', 'r') as f:\n",
        "  text = f.read()"
      ],
      "metadata": {
        "id": "7mvAXibVca57"
      },
      "execution_count": 144,
      "outputs": []
    },
    {
      "cell_type": "code",
      "source": [
        "import nltk"
      ],
      "metadata": {
        "id": "q8yhlHx4dLVY"
      },
      "execution_count": 145,
      "outputs": []
    },
    {
      "cell_type": "code",
      "source": [
        "nltk.download('averaged_perceptron_tagger')"
      ],
      "metadata": {
        "colab": {
          "base_uri": "https://localhost:8080/"
        },
        "id": "49fAfAFjgVfI",
        "outputId": "9f914d90-b8af-467d-fd79-76ddf6b1ae67"
      },
      "execution_count": 146,
      "outputs": [
        {
          "output_type": "stream",
          "name": "stderr",
          "text": [
            "[nltk_data] Downloading package averaged_perceptron_tagger to\n",
            "[nltk_data]     /root/nltk_data...\n",
            "[nltk_data]   Package averaged_perceptron_tagger is already up-to-\n",
            "[nltk_data]       date!\n"
          ]
        },
        {
          "output_type": "execute_result",
          "data": {
            "text/plain": [
              "True"
            ]
          },
          "metadata": {},
          "execution_count": 146
        }
      ]
    },
    {
      "cell_type": "code",
      "source": [
        "from nltk.tokenize import word_tokenize\n",
        "nltk.download('punkt')"
      ],
      "metadata": {
        "colab": {
          "base_uri": "https://localhost:8080/"
        },
        "id": "8KbF_8pFdLIr",
        "outputId": "e1abba3f-bf09-45e2-8b8a-86d435fa7529"
      },
      "execution_count": 147,
      "outputs": [
        {
          "output_type": "stream",
          "name": "stderr",
          "text": [
            "[nltk_data] Downloading package punkt to /root/nltk_data...\n",
            "[nltk_data]   Package punkt is already up-to-date!\n"
          ]
        },
        {
          "output_type": "execute_result",
          "data": {
            "text/plain": [
              "True"
            ]
          },
          "metadata": {},
          "execution_count": 147
        }
      ]
    },
    {
      "cell_type": "code",
      "source": [
        "import re\n",
        "\n",
        "def validate_regex_format(regex):\n",
        "    format_regex = r'^\\{(<[A-Z]+.*?>)+\\}$'\n",
        "\n",
        "    if re.match(format_regex, regex):\n",
        "        return True\n",
        "    else:\n",
        "        return False"
      ],
      "metadata": {
        "id": "N37wSFUonAud"
      },
      "execution_count": 148,
      "outputs": []
    },
    {
      "cell_type": "code",
      "source": [
        "def get_phrases(text, regex, tag_name):\n",
        "\n",
        "  if not validate_regex_format(regex):\n",
        "    raise ValueError(\"Incorrect regex\")\n",
        "\n",
        "  words = word_tokenize(text)\n",
        "\n",
        "  tags = nltk.pos_tag(words)\n",
        "\n",
        "  grammar = f'{tag_name}: {regex}'\n",
        "\n",
        "  chunk_parser = nltk.RegexpParser(grammar)\n",
        "\n",
        "  tree = chunk_parser.parse(tags)\n",
        "\n",
        "  phrases = []\n",
        "\n",
        "  for subtree in tree.subtrees():\n",
        "    if subtree.label() == tag_name:\n",
        "      phrase = ' '.join(word for word, tag in subtree.leaves())\n",
        "      phrases.append((subtree.label(), phrase))\n",
        "\n",
        "  return phrases"
      ],
      "metadata": {
        "id": "G4Stff_zFQjv"
      },
      "execution_count": 149,
      "outputs": []
    },
    {
      "cell_type": "code",
      "source": [
        "regex = '{<V.*><NN.*>}'\n",
        "tag_name = 'V+NN'\n",
        "\n",
        "try:\n",
        "  phrases = get_phrases(text, regex, tag_name)\n",
        "except Exception as e:\n",
        "  print(\"Message: \", e)\n"
      ],
      "metadata": {
        "id": "Ho9TtuH5f97v"
      },
      "execution_count": 150,
      "outputs": []
    },
    {
      "cell_type": "code",
      "source": [
        "phrases"
      ],
      "metadata": {
        "colab": {
          "base_uri": "https://localhost:8080/"
        },
        "id": "BybRm05kjL8K",
        "outputId": "583ef5a0-6432-44d5-8eeb-9e2a1b6af883"
      },
      "execution_count": 151,
      "outputs": [
        {
          "output_type": "execute_result",
          "data": {
            "text/plain": [
              "[('V+NN', 'replace nets'),\n",
              " ('V+NN', 'snapped Atuik'),\n",
              " ('V+NN', 'aching sob'),\n",
              " ('V+NN', 'striking bone'),\n",
              " ('V+NN', 'decorated mantel'),\n",
              " ('V+NN', 'holding torches'),\n",
              " ('V+NN', 'burning bright'),\n",
              " ('V+NN', 'housed dozens'),\n",
              " ('V+NN', 'carved chair')]"
            ]
          },
          "metadata": {},
          "execution_count": 151
        }
      ]
    }
  ]
}