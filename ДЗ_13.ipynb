{
  "nbformat": 4,
  "nbformat_minor": 0,
  "metadata": {
    "colab": {
      "provenance": [],
      "include_colab_link": true
    },
    "kernelspec": {
      "name": "python3",
      "display_name": "Python 3"
    },
    "language_info": {
      "name": "python"
    }
  },
  "cells": [
    {
      "cell_type": "markdown",
      "metadata": {
        "id": "view-in-github",
        "colab_type": "text"
      },
      "source": [
        "<a href=\"https://colab.research.google.com/github/shaya-686/AI/blob/main/%D0%94%D0%97_13.ipynb\" target=\"_parent\"><img src=\"https://colab.research.google.com/assets/colab-badge.svg\" alt=\"Open In Colab\"/></a>"
      ]
    },
    {
      "cell_type": "markdown",
      "source": [
        "Імпорт модулів"
      ],
      "metadata": {
        "id": "w1r0k1UheNCz"
      }
    },
    {
      "cell_type": "code",
      "execution_count": 1,
      "metadata": {
        "id": "4XxgJqCDoExm"
      },
      "outputs": [],
      "source": [
        "import pandas as pd"
      ]
    },
    {
      "cell_type": "markdown",
      "source": [
        "Дані про банани"
      ],
      "metadata": {
        "id": "Kpk2KycTeQEE"
      }
    },
    {
      "cell_type": "code",
      "source": [
        "# трохи обробки даних\n",
        "df = pd.read_csv('https://raw.githubusercontent.com/HalyshAnton/IT-Step-Pyton-AI/main/module3/data/banana_quality.csv')\n",
        "\n",
        "df['Quality'] = df['Quality'].map({'Good': 1, 'Bad': 0})\n",
        "\n",
        "columns = df.columns.delete(-1)\n",
        "data = df[columns]\n",
        "df[columns] = (data - data.min()) / (data.max() - data.min())"
      ],
      "metadata": {
        "id": "926S2f5pdnH6"
      },
      "execution_count": null,
      "outputs": []
    },
    {
      "cell_type": "code",
      "source": [
        "df.head()"
      ],
      "metadata": {
        "colab": {
          "base_uri": "https://localhost:8080/",
          "height": 206
        },
        "id": "eG6_dawddqwd",
        "outputId": "4f533b17-643e-4883-8c94-ebd2050f749e"
      },
      "execution_count": null,
      "outputs": [
        {
          "output_type": "execute_result",
          "data": {
            "text/plain": [
              "       Size    Weight  Sweetness  Softness  HarvestTime  Ripeness   Acidity  \\\n",
              "0  0.380309  0.626747   0.680712  0.360975     0.567312  0.671933  0.543416   \n",
              "1  0.349951  0.628093   0.485275  0.293682     0.481689  0.646850  0.545720   \n",
              "2  0.478460  0.699448   0.572694  0.283811     0.499358  0.716580  0.617337   \n",
              "3  0.446465  0.705394   0.595677  0.374028     0.473461  0.633590  0.556625   \n",
              "4  0.541672  0.687704   0.458841  0.378242     0.442847  0.579430  0.705908   \n",
              "\n",
              "   Quality  \n",
              "0        1  \n",
              "1        1  \n",
              "2        1  \n",
              "3        1  \n",
              "4        1  "
            ],
            "text/html": [
              "\n",
              "  <div id=\"df-e9c60193-361f-41d1-8f4f-0e3900162f37\" class=\"colab-df-container\">\n",
              "    <div>\n",
              "<style scoped>\n",
              "    .dataframe tbody tr th:only-of-type {\n",
              "        vertical-align: middle;\n",
              "    }\n",
              "\n",
              "    .dataframe tbody tr th {\n",
              "        vertical-align: top;\n",
              "    }\n",
              "\n",
              "    .dataframe thead th {\n",
              "        text-align: right;\n",
              "    }\n",
              "</style>\n",
              "<table border=\"1\" class=\"dataframe\">\n",
              "  <thead>\n",
              "    <tr style=\"text-align: right;\">\n",
              "      <th></th>\n",
              "      <th>Size</th>\n",
              "      <th>Weight</th>\n",
              "      <th>Sweetness</th>\n",
              "      <th>Softness</th>\n",
              "      <th>HarvestTime</th>\n",
              "      <th>Ripeness</th>\n",
              "      <th>Acidity</th>\n",
              "      <th>Quality</th>\n",
              "    </tr>\n",
              "  </thead>\n",
              "  <tbody>\n",
              "    <tr>\n",
              "      <th>0</th>\n",
              "      <td>0.380309</td>\n",
              "      <td>0.626747</td>\n",
              "      <td>0.680712</td>\n",
              "      <td>0.360975</td>\n",
              "      <td>0.567312</td>\n",
              "      <td>0.671933</td>\n",
              "      <td>0.543416</td>\n",
              "      <td>1</td>\n",
              "    </tr>\n",
              "    <tr>\n",
              "      <th>1</th>\n",
              "      <td>0.349951</td>\n",
              "      <td>0.628093</td>\n",
              "      <td>0.485275</td>\n",
              "      <td>0.293682</td>\n",
              "      <td>0.481689</td>\n",
              "      <td>0.646850</td>\n",
              "      <td>0.545720</td>\n",
              "      <td>1</td>\n",
              "    </tr>\n",
              "    <tr>\n",
              "      <th>2</th>\n",
              "      <td>0.478460</td>\n",
              "      <td>0.699448</td>\n",
              "      <td>0.572694</td>\n",
              "      <td>0.283811</td>\n",
              "      <td>0.499358</td>\n",
              "      <td>0.716580</td>\n",
              "      <td>0.617337</td>\n",
              "      <td>1</td>\n",
              "    </tr>\n",
              "    <tr>\n",
              "      <th>3</th>\n",
              "      <td>0.446465</td>\n",
              "      <td>0.705394</td>\n",
              "      <td>0.595677</td>\n",
              "      <td>0.374028</td>\n",
              "      <td>0.473461</td>\n",
              "      <td>0.633590</td>\n",
              "      <td>0.556625</td>\n",
              "      <td>1</td>\n",
              "    </tr>\n",
              "    <tr>\n",
              "      <th>4</th>\n",
              "      <td>0.541672</td>\n",
              "      <td>0.687704</td>\n",
              "      <td>0.458841</td>\n",
              "      <td>0.378242</td>\n",
              "      <td>0.442847</td>\n",
              "      <td>0.579430</td>\n",
              "      <td>0.705908</td>\n",
              "      <td>1</td>\n",
              "    </tr>\n",
              "  </tbody>\n",
              "</table>\n",
              "</div>\n",
              "    <div class=\"colab-df-buttons\">\n",
              "\n",
              "  <div class=\"colab-df-container\">\n",
              "    <button class=\"colab-df-convert\" onclick=\"convertToInteractive('df-e9c60193-361f-41d1-8f4f-0e3900162f37')\"\n",
              "            title=\"Convert this dataframe to an interactive table.\"\n",
              "            style=\"display:none;\">\n",
              "\n",
              "  <svg xmlns=\"http://www.w3.org/2000/svg\" height=\"24px\" viewBox=\"0 -960 960 960\">\n",
              "    <path d=\"M120-120v-720h720v720H120Zm60-500h600v-160H180v160Zm220 220h160v-160H400v160Zm0 220h160v-160H400v160ZM180-400h160v-160H180v160Zm440 0h160v-160H620v160ZM180-180h160v-160H180v160Zm440 0h160v-160H620v160Z\"/>\n",
              "  </svg>\n",
              "    </button>\n",
              "\n",
              "  <style>\n",
              "    .colab-df-container {\n",
              "      display:flex;\n",
              "      gap: 12px;\n",
              "    }\n",
              "\n",
              "    .colab-df-convert {\n",
              "      background-color: #E8F0FE;\n",
              "      border: none;\n",
              "      border-radius: 50%;\n",
              "      cursor: pointer;\n",
              "      display: none;\n",
              "      fill: #1967D2;\n",
              "      height: 32px;\n",
              "      padding: 0 0 0 0;\n",
              "      width: 32px;\n",
              "    }\n",
              "\n",
              "    .colab-df-convert:hover {\n",
              "      background-color: #E2EBFA;\n",
              "      box-shadow: 0px 1px 2px rgba(60, 64, 67, 0.3), 0px 1px 3px 1px rgba(60, 64, 67, 0.15);\n",
              "      fill: #174EA6;\n",
              "    }\n",
              "\n",
              "    .colab-df-buttons div {\n",
              "      margin-bottom: 4px;\n",
              "    }\n",
              "\n",
              "    [theme=dark] .colab-df-convert {\n",
              "      background-color: #3B4455;\n",
              "      fill: #D2E3FC;\n",
              "    }\n",
              "\n",
              "    [theme=dark] .colab-df-convert:hover {\n",
              "      background-color: #434B5C;\n",
              "      box-shadow: 0px 1px 3px 1px rgba(0, 0, 0, 0.15);\n",
              "      filter: drop-shadow(0px 1px 2px rgba(0, 0, 0, 0.3));\n",
              "      fill: #FFFFFF;\n",
              "    }\n",
              "  </style>\n",
              "\n",
              "    <script>\n",
              "      const buttonEl =\n",
              "        document.querySelector('#df-e9c60193-361f-41d1-8f4f-0e3900162f37 button.colab-df-convert');\n",
              "      buttonEl.style.display =\n",
              "        google.colab.kernel.accessAllowed ? 'block' : 'none';\n",
              "\n",
              "      async function convertToInteractive(key) {\n",
              "        const element = document.querySelector('#df-e9c60193-361f-41d1-8f4f-0e3900162f37');\n",
              "        const dataTable =\n",
              "          await google.colab.kernel.invokeFunction('convertToInteractive',\n",
              "                                                    [key], {});\n",
              "        if (!dataTable) return;\n",
              "\n",
              "        const docLinkHtml = 'Like what you see? Visit the ' +\n",
              "          '<a target=\"_blank\" href=https://colab.research.google.com/notebooks/data_table.ipynb>data table notebook</a>'\n",
              "          + ' to learn more about interactive tables.';\n",
              "        element.innerHTML = '';\n",
              "        dataTable['output_type'] = 'display_data';\n",
              "        await google.colab.output.renderOutput(dataTable, element);\n",
              "        const docLink = document.createElement('div');\n",
              "        docLink.innerHTML = docLinkHtml;\n",
              "        element.appendChild(docLink);\n",
              "      }\n",
              "    </script>\n",
              "  </div>\n",
              "\n",
              "\n",
              "<div id=\"df-ca36c251-7204-42a1-91d1-02b787e7502f\">\n",
              "  <button class=\"colab-df-quickchart\" onclick=\"quickchart('df-ca36c251-7204-42a1-91d1-02b787e7502f')\"\n",
              "            title=\"Suggest charts\"\n",
              "            style=\"display:none;\">\n",
              "\n",
              "<svg xmlns=\"http://www.w3.org/2000/svg\" height=\"24px\"viewBox=\"0 0 24 24\"\n",
              "     width=\"24px\">\n",
              "    <g>\n",
              "        <path d=\"M19 3H5c-1.1 0-2 .9-2 2v14c0 1.1.9 2 2 2h14c1.1 0 2-.9 2-2V5c0-1.1-.9-2-2-2zM9 17H7v-7h2v7zm4 0h-2V7h2v10zm4 0h-2v-4h2v4z\"/>\n",
              "    </g>\n",
              "</svg>\n",
              "  </button>\n",
              "\n",
              "<style>\n",
              "  .colab-df-quickchart {\n",
              "      --bg-color: #E8F0FE;\n",
              "      --fill-color: #1967D2;\n",
              "      --hover-bg-color: #E2EBFA;\n",
              "      --hover-fill-color: #174EA6;\n",
              "      --disabled-fill-color: #AAA;\n",
              "      --disabled-bg-color: #DDD;\n",
              "  }\n",
              "\n",
              "  [theme=dark] .colab-df-quickchart {\n",
              "      --bg-color: #3B4455;\n",
              "      --fill-color: #D2E3FC;\n",
              "      --hover-bg-color: #434B5C;\n",
              "      --hover-fill-color: #FFFFFF;\n",
              "      --disabled-bg-color: #3B4455;\n",
              "      --disabled-fill-color: #666;\n",
              "  }\n",
              "\n",
              "  .colab-df-quickchart {\n",
              "    background-color: var(--bg-color);\n",
              "    border: none;\n",
              "    border-radius: 50%;\n",
              "    cursor: pointer;\n",
              "    display: none;\n",
              "    fill: var(--fill-color);\n",
              "    height: 32px;\n",
              "    padding: 0;\n",
              "    width: 32px;\n",
              "  }\n",
              "\n",
              "  .colab-df-quickchart:hover {\n",
              "    background-color: var(--hover-bg-color);\n",
              "    box-shadow: 0 1px 2px rgba(60, 64, 67, 0.3), 0 1px 3px 1px rgba(60, 64, 67, 0.15);\n",
              "    fill: var(--button-hover-fill-color);\n",
              "  }\n",
              "\n",
              "  .colab-df-quickchart-complete:disabled,\n",
              "  .colab-df-quickchart-complete:disabled:hover {\n",
              "    background-color: var(--disabled-bg-color);\n",
              "    fill: var(--disabled-fill-color);\n",
              "    box-shadow: none;\n",
              "  }\n",
              "\n",
              "  .colab-df-spinner {\n",
              "    border: 2px solid var(--fill-color);\n",
              "    border-color: transparent;\n",
              "    border-bottom-color: var(--fill-color);\n",
              "    animation:\n",
              "      spin 1s steps(1) infinite;\n",
              "  }\n",
              "\n",
              "  @keyframes spin {\n",
              "    0% {\n",
              "      border-color: transparent;\n",
              "      border-bottom-color: var(--fill-color);\n",
              "      border-left-color: var(--fill-color);\n",
              "    }\n",
              "    20% {\n",
              "      border-color: transparent;\n",
              "      border-left-color: var(--fill-color);\n",
              "      border-top-color: var(--fill-color);\n",
              "    }\n",
              "    30% {\n",
              "      border-color: transparent;\n",
              "      border-left-color: var(--fill-color);\n",
              "      border-top-color: var(--fill-color);\n",
              "      border-right-color: var(--fill-color);\n",
              "    }\n",
              "    40% {\n",
              "      border-color: transparent;\n",
              "      border-right-color: var(--fill-color);\n",
              "      border-top-color: var(--fill-color);\n",
              "    }\n",
              "    60% {\n",
              "      border-color: transparent;\n",
              "      border-right-color: var(--fill-color);\n",
              "    }\n",
              "    80% {\n",
              "      border-color: transparent;\n",
              "      border-right-color: var(--fill-color);\n",
              "      border-bottom-color: var(--fill-color);\n",
              "    }\n",
              "    90% {\n",
              "      border-color: transparent;\n",
              "      border-bottom-color: var(--fill-color);\n",
              "    }\n",
              "  }\n",
              "</style>\n",
              "\n",
              "  <script>\n",
              "    async function quickchart(key) {\n",
              "      const quickchartButtonEl =\n",
              "        document.querySelector('#' + key + ' button');\n",
              "      quickchartButtonEl.disabled = true;  // To prevent multiple clicks.\n",
              "      quickchartButtonEl.classList.add('colab-df-spinner');\n",
              "      try {\n",
              "        const charts = await google.colab.kernel.invokeFunction(\n",
              "            'suggestCharts', [key], {});\n",
              "      } catch (error) {\n",
              "        console.error('Error during call to suggestCharts:', error);\n",
              "      }\n",
              "      quickchartButtonEl.classList.remove('colab-df-spinner');\n",
              "      quickchartButtonEl.classList.add('colab-df-quickchart-complete');\n",
              "    }\n",
              "    (() => {\n",
              "      let quickchartButtonEl =\n",
              "        document.querySelector('#df-ca36c251-7204-42a1-91d1-02b787e7502f button');\n",
              "      quickchartButtonEl.style.display =\n",
              "        google.colab.kernel.accessAllowed ? 'block' : 'none';\n",
              "    })();\n",
              "  </script>\n",
              "</div>\n",
              "    </div>\n",
              "  </div>\n"
            ],
            "application/vnd.google.colaboratory.intrinsic+json": {
              "type": "dataframe",
              "variable_name": "df",
              "summary": "{\n  \"name\": \"df\",\n  \"rows\": 8000,\n  \"fields\": [\n    {\n      \"column\": \"Size\",\n      \"properties\": {\n        \"dtype\": \"number\",\n        \"std\": 0.13376164104570212,\n        \"min\": 0.0,\n        \"max\": 1.0,\n        \"num_unique_values\": 8000,\n        \"samples\": [\n          0.42681145207858734,\n          0.3636982670161966,\n          0.499762917535701\n        ],\n        \"semantic_type\": \"\",\n        \"description\": \"\"\n      }\n    },\n    {\n      \"column\": \"Weight\",\n      \"properties\": {\n        \"dtype\": \"number\",\n        \"std\": 0.14438003531209154,\n        \"min\": 0.0,\n        \"max\": 1.0,\n        \"num_unique_values\": 8000,\n        \"samples\": [\n          0.4841220755822623,\n          0.3920386495614671,\n          0.6782758184058177\n        ],\n        \"semantic_type\": \"\",\n        \"description\": \"\"\n      }\n    },\n    {\n      \"column\": \"Sweetness\",\n      \"properties\": {\n        \"dtype\": \"number\",\n        \"std\": 0.13944033026305225,\n        \"min\": 0.0,\n        \"max\": 1.0,\n        \"num_unique_values\": 8000,\n        \"samples\": [\n          0.36090872114798445,\n          0.36065713591231285,\n          0.8009020355861252\n        ],\n        \"semantic_type\": \"\",\n        \"description\": \"\"\n      }\n    },\n    {\n      \"column\": \"Softness\",\n      \"properties\": {\n        \"dtype\": \"number\",\n        \"std\": 0.13586165261235486,\n        \"min\": 0.0,\n        \"max\": 1.0,\n        \"num_unique_values\": 8000,\n        \"samples\": [\n          0.401850667197794,\n          0.6292820414425365,\n          0.5282198762431736\n        ],\n        \"semantic_type\": \"\",\n        \"description\": \"\"\n      }\n    },\n    {\n      \"column\": \"HarvestTime\",\n      \"properties\": {\n        \"dtype\": \"number\",\n        \"std\": 0.14402504977190056,\n        \"min\": 0.0,\n        \"max\": 1.0,\n        \"num_unique_values\": 8000,\n        \"samples\": [\n          0.5361941697483128,\n          0.5448621509948689,\n          0.3653719803259087\n        ],\n        \"semantic_type\": \"\",\n        \"description\": \"\"\n      }\n    },\n    {\n      \"column\": \"Ripeness\",\n      \"properties\": {\n        \"dtype\": \"number\",\n        \"std\": 0.1441018379032065,\n        \"min\": 0.0,\n        \"max\": 1.0,\n        \"num_unique_values\": 8000,\n        \"samples\": [\n          0.6648203981671774,\n          0.883346239383179,\n          0.4348136864214833\n        ],\n        \"semantic_type\": \"\",\n        \"description\": \"\"\n      }\n    },\n    {\n      \"column\": \"Acidity\",\n      \"properties\": {\n        \"dtype\": \"number\",\n        \"std\": 0.14665411857025115,\n        \"min\": 0.0,\n        \"max\": 1.0,\n        \"num_unique_values\": 8000,\n        \"samples\": [\n          0.40913510826297517,\n          0.21012956362075774,\n          0.6885939962504982\n        ],\n        \"semantic_type\": \"\",\n        \"description\": \"\"\n      }\n    },\n    {\n      \"column\": \"Quality\",\n      \"properties\": {\n        \"dtype\": \"number\",\n        \"std\": 0,\n        \"min\": 0,\n        \"max\": 1,\n        \"num_unique_values\": 2,\n        \"samples\": [\n          0,\n          1\n        ],\n        \"semantic_type\": \"\",\n        \"description\": \"\"\n      }\n    }\n  ]\n}"
            }
          },
          "metadata": {},
          "execution_count": 22
        }
      ]
    },
    {
      "cell_type": "markdown",
      "source": [
        "Потрібно на основі інформації про банан спрогнозувати його якість `Quality`"
      ],
      "metadata": {
        "id": "KAmkR_CFejgQ"
      }
    },
    {
      "cell_type": "markdown",
      "source": [
        "# Завдання 1\n",
        "Створіть клас Dataset для тренувальних та тестових даних"
      ],
      "metadata": {
        "id": "dBt0E5BJe6OK"
      }
    },
    {
      "cell_type": "code",
      "source": [],
      "metadata": {
        "id": "vFtu1Wd1drwJ"
      },
      "execution_count": null,
      "outputs": []
    },
    {
      "cell_type": "markdown",
      "source": [
        "# Завдання 2\n",
        "Створіть DataLoader"
      ],
      "metadata": {
        "id": "zQlB_6WzfB8n"
      }
    },
    {
      "cell_type": "code",
      "source": [],
      "metadata": {
        "id": "-6-po4H4fZQy"
      },
      "execution_count": null,
      "outputs": []
    },
    {
      "cell_type": "markdown",
      "source": [
        "# Завдання 3\n",
        "Створіть нейромережу"
      ],
      "metadata": {
        "id": "2W93LiDxfZrx"
      }
    },
    {
      "cell_type": "code",
      "source": [],
      "metadata": {
        "id": "p9DHog7Xf7xE"
      },
      "execution_count": null,
      "outputs": []
    },
    {
      "cell_type": "markdown",
      "source": [
        "# Завдання 4\n",
        "Визначте функцію втрат та оптимізатор"
      ],
      "metadata": {
        "id": "VmNUVkkUf8gB"
      }
    },
    {
      "cell_type": "code",
      "source": [],
      "metadata": {
        "id": "e1sw9oRBgDXR"
      },
      "execution_count": null,
      "outputs": []
    },
    {
      "cell_type": "markdown",
      "source": [
        "# Завдання 5\n",
        "Натренуйте нейромережу. Візміть невелику кількість епох"
      ],
      "metadata": {
        "id": "qTOFCl_egEFZ"
      }
    },
    {
      "cell_type": "code",
      "source": [],
      "metadata": {
        "id": "Nxo4p3IUgOx5"
      },
      "execution_count": null,
      "outputs": []
    },
    {
      "cell_type": "markdown",
      "source": [
        "# Завдання 6\n",
        "Збережіть нейромережу та зробіть прогноз"
      ],
      "metadata": {
        "id": "aoclw4XlgPhB"
      }
    },
    {
      "cell_type": "code",
      "source": [],
      "metadata": {
        "id": "UzVFg-KjgYgy"
      },
      "execution_count": null,
      "outputs": []
    }
  ]
}