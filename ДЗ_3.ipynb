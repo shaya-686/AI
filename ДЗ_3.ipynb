{
  "nbformat": 4,
  "nbformat_minor": 0,
  "metadata": {
    "colab": {
      "provenance": [],
      "include_colab_link": true
    },
    "kernelspec": {
      "name": "python3",
      "display_name": "Python 3"
    },
    "language_info": {
      "name": "python"
    }
  },
  "cells": [
    {
      "cell_type": "markdown",
      "metadata": {
        "id": "view-in-github",
        "colab_type": "text"
      },
      "source": [
        "<a href=\"https://colab.research.google.com/github/shaya-686/AI/blob/main/%D0%94%D0%97_3.ipynb\" target=\"_parent\"><img src=\"https://colab.research.google.com/assets/colab-badge.svg\" alt=\"Open In Colab\"/></a>"
      ]
    },
    {
      "cell_type": "markdown",
      "source": [
        "Імпортуйте модуль pandas"
      ],
      "metadata": {
        "id": "JcEy7-4Sou1q"
      }
    },
    {
      "cell_type": "code",
      "execution_count": null,
      "metadata": {
        "id": "bBPN6MQ4omtx"
      },
      "outputs": [],
      "source": []
    },
    {
      "cell_type": "markdown",
      "source": [
        "# Інформація про дані\n",
        "Зібрано дані продажу техніки в різних магазинах.\n",
        "* OrderDate -- дата замовлення\n",
        "* Region    -- регіон де розміщено магазин\n",
        "* Manager   -- ім'я менеджера\n",
        "* SalesMan  -- ім'я продавця\n",
        "* Item      -- тип товару\n",
        "* Units     -- кількість купленого товару\n",
        "* Unit_price -- ціна за штуку\n",
        "* Sale_amt   -- загальна вартість покупки"
      ],
      "metadata": {
        "id": "cR2fUNbco1Fh"
      }
    },
    {
      "cell_type": "code",
      "source": [
        "df = pd.read_csv(\"https://raw.githubusercontent.com/HalyshAnton/IT-Step-Pyton-AI/main/module2/data/sales_data.csv\", index_col=\"Unnamed: 0\")"
      ],
      "metadata": {
        "id": "uvpR4oiIqU7t"
      },
      "execution_count": null,
      "outputs": []
    },
    {
      "cell_type": "markdown",
      "source": [
        "# Завдання 1\n",
        "\n",
        "Вивести загальну інформацію про таблицю: кількість рядків та стовпців, назви стовпців та їхній тип даних, в яких стовпцях є пропущені значення"
      ],
      "metadata": {
        "id": "SYfF3l1Ao0SC"
      }
    },
    {
      "cell_type": "code",
      "source": [],
      "metadata": {
        "id": "FF27dmV_ynWM"
      },
      "execution_count": null,
      "outputs": []
    },
    {
      "cell_type": "markdown",
      "source": [
        "# Завдання 2\n",
        "\n",
        "Перейменуйте стовпчики так, щоб назви містили літери нижнього регістру"
      ],
      "metadata": {
        "id": "GtiSCylwuhgl"
      }
    },
    {
      "cell_type": "code",
      "source": [],
      "metadata": {
        "id": "EWZj1Pltu2la"
      },
      "execution_count": null,
      "outputs": []
    },
    {
      "cell_type": "markdown",
      "source": [
        "# Завдання 3\n",
        "Виведіть дані про купівлі телевізорів та телефонів"
      ],
      "metadata": {
        "id": "4opZJS6YtxzK"
      }
    },
    {
      "cell_type": "code",
      "source": [],
      "metadata": {
        "id": "cUenrZqdugpM"
      },
      "execution_count": null,
      "outputs": []
    },
    {
      "cell_type": "markdown",
      "source": [
        "# Завдання 4\n",
        "Яка загальна виручка у продавця Luis?"
      ],
      "metadata": {
        "id": "Xj6KjrIvy88t"
      }
    },
    {
      "cell_type": "code",
      "source": [],
      "metadata": {
        "id": "v61fgvNGOimR"
      },
      "execution_count": null,
      "outputs": []
    },
    {
      "cell_type": "markdown",
      "source": [
        "# Завдання 5\n",
        "\n",
        "Скільки і якого товару було продано?\n",
        "\n",
        "див groupby(),"
      ],
      "metadata": {
        "id": "EC6FWEv-u1gT"
      }
    },
    {
      "cell_type": "code",
      "source": [],
      "metadata": {
        "id": "4-MlEzEDzLg7"
      },
      "execution_count": null,
      "outputs": []
    },
    {
      "cell_type": "markdown",
      "source": [
        "# Завдання 6\n",
        "Перевірте чи правильно розраховано загальну вартість покупки. Виведіть ті рядки де є помилка. Виправте дані в таблиці"
      ],
      "metadata": {
        "id": "E_yqxKNXxF2u"
      }
    },
    {
      "cell_type": "code",
      "source": [],
      "metadata": {
        "id": "KFDqxG1yx5dS"
      },
      "execution_count": null,
      "outputs": []
    }
  ]
}