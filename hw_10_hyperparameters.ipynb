{
 "cells": [
  {
   "cell_type": "code",
   "execution_count": 1,
   "id": "02f8b6bd",
   "metadata": {
    "_cell_guid": "b1076dfc-b9ad-4769-8c92-a6c4dae69d19",
    "_uuid": "8f2839f25d086af736a60e9eeb907d3b93b6e0e5",
    "execution": {
     "iopub.execute_input": "2024-07-15T16:54:55.909904Z",
     "iopub.status.busy": "2024-07-15T16:54:55.909460Z",
     "iopub.status.idle": "2024-07-15T16:54:56.660345Z",
     "shell.execute_reply": "2024-07-15T16:54:56.659093Z"
    },
    "papermill": {
     "duration": 0.761924,
     "end_time": "2024-07-15T16:54:56.663545",
     "exception": false,
     "start_time": "2024-07-15T16:54:55.901621",
     "status": "completed"
    },
    "tags": []
   },
   "outputs": [
    {
     "name": "stdout",
     "output_type": "stream",
     "text": [
      "/kaggle/input/playground-series-s3e25/sample_submission.csv\n",
      "/kaggle/input/playground-series-s3e25/train.csv\n",
      "/kaggle/input/playground-series-s3e25/test.csv\n"
     ]
    }
   ],
   "source": [
    "# This Python 3 environment comes with many helpful analytics libraries installed\n",
    "# It is defined by the kaggle/python Docker image: https://github.com/kaggle/docker-python\n",
    "# For example, here's several helpful packages to load\n",
    "\n",
    "import numpy as np # linear algebra\n",
    "import pandas as pd # data processing, CSV file I/O (e.g. pd.read_csv)\n",
    "\n",
    "# Input data files are available in the read-only \"../input/\" directory\n",
    "# For example, running this (by clicking run or pressing Shift+Enter) will list all files under the input directory\n",
    "\n",
    "import os\n",
    "for dirname, _, filenames in os.walk('/kaggle/input'):\n",
    "    for filename in filenames:\n",
    "        print(os.path.join(dirname, filename))\n",
    "\n",
    "# You can write up to 20GB to the current directory (/kaggle/working/) that gets preserved as output when you create a version using \"Save & Run All\" \n",
    "# You can also write temporary files to /kaggle/temp/, but they won't be saved outside of the current session"
   ]
  },
  {
   "cell_type": "code",
   "execution_count": 2,
   "id": "00bf1300",
   "metadata": {
    "execution": {
     "iopub.execute_input": "2024-07-15T16:54:56.677580Z",
     "iopub.status.busy": "2024-07-15T16:54:56.676363Z",
     "iopub.status.idle": "2024-07-15T16:54:56.733660Z",
     "shell.execute_reply": "2024-07-15T16:54:56.732087Z"
    },
    "papermill": {
     "duration": 0.066529,
     "end_time": "2024-07-15T16:54:56.736133",
     "exception": false,
     "start_time": "2024-07-15T16:54:56.669604",
     "status": "completed"
    },
    "tags": []
   },
   "outputs": [],
   "source": [
    "df=pd.read_csv('/kaggle/input/playground-series-s3e25/train.csv')"
   ]
  },
  {
   "cell_type": "code",
   "execution_count": 3,
   "id": "30a4745b",
   "metadata": {
    "execution": {
     "iopub.execute_input": "2024-07-15T16:54:56.749218Z",
     "iopub.status.busy": "2024-07-15T16:54:56.748866Z",
     "iopub.status.idle": "2024-07-15T16:54:56.779644Z",
     "shell.execute_reply": "2024-07-15T16:54:56.778213Z"
    },
    "papermill": {
     "duration": 0.039953,
     "end_time": "2024-07-15T16:54:56.781963",
     "exception": false,
     "start_time": "2024-07-15T16:54:56.742010",
     "status": "completed"
    },
    "tags": []
   },
   "outputs": [
    {
     "name": "stdout",
     "output_type": "stream",
     "text": [
      "<class 'pandas.core.frame.DataFrame'>\n",
      "RangeIndex: 10407 entries, 0 to 10406\n",
      "Data columns (total 13 columns):\n",
      " #   Column                 Non-Null Count  Dtype  \n",
      "---  ------                 --------------  -----  \n",
      " 0   id                     10407 non-null  int64  \n",
      " 1   allelectrons_Total     10407 non-null  float64\n",
      " 2   density_Total          10407 non-null  float64\n",
      " 3   allelectrons_Average   10407 non-null  float64\n",
      " 4   val_e_Average          10407 non-null  float64\n",
      " 5   atomicweight_Average   10407 non-null  float64\n",
      " 6   ionenergy_Average      10407 non-null  float64\n",
      " 7   el_neg_chi_Average     10407 non-null  float64\n",
      " 8   R_vdw_element_Average  10407 non-null  float64\n",
      " 9   R_cov_element_Average  10407 non-null  float64\n",
      " 10  zaratio_Average        10407 non-null  float64\n",
      " 11  density_Average        10407 non-null  float64\n",
      " 12  Hardness               10407 non-null  float64\n",
      "dtypes: float64(12), int64(1)\n",
      "memory usage: 1.0 MB\n"
     ]
    }
   ],
   "source": [
    "df.info()"
   ]
  },
  {
   "cell_type": "code",
   "execution_count": 4,
   "id": "48f44b1b",
   "metadata": {
    "execution": {
     "iopub.execute_input": "2024-07-15T16:54:56.795329Z",
     "iopub.status.busy": "2024-07-15T16:54:56.794583Z",
     "iopub.status.idle": "2024-07-15T16:54:56.845406Z",
     "shell.execute_reply": "2024-07-15T16:54:56.844458Z"
    },
    "papermill": {
     "duration": 0.059669,
     "end_time": "2024-07-15T16:54:56.847578",
     "exception": false,
     "start_time": "2024-07-15T16:54:56.787909",
     "status": "completed"
    },
    "tags": []
   },
   "outputs": [
    {
     "data": {
      "text/html": [
       "<div>\n",
       "<style scoped>\n",
       "    .dataframe tbody tr th:only-of-type {\n",
       "        vertical-align: middle;\n",
       "    }\n",
       "\n",
       "    .dataframe tbody tr th {\n",
       "        vertical-align: top;\n",
       "    }\n",
       "\n",
       "    .dataframe thead th {\n",
       "        text-align: right;\n",
       "    }\n",
       "</style>\n",
       "<table border=\"1\" class=\"dataframe\">\n",
       "  <thead>\n",
       "    <tr style=\"text-align: right;\">\n",
       "      <th></th>\n",
       "      <th>id</th>\n",
       "      <th>allelectrons_Total</th>\n",
       "      <th>density_Total</th>\n",
       "      <th>allelectrons_Average</th>\n",
       "      <th>val_e_Average</th>\n",
       "      <th>atomicweight_Average</th>\n",
       "      <th>ionenergy_Average</th>\n",
       "      <th>el_neg_chi_Average</th>\n",
       "      <th>R_vdw_element_Average</th>\n",
       "      <th>R_cov_element_Average</th>\n",
       "      <th>zaratio_Average</th>\n",
       "      <th>density_Average</th>\n",
       "      <th>Hardness</th>\n",
       "    </tr>\n",
       "  </thead>\n",
       "  <tbody>\n",
       "    <tr>\n",
       "      <th>count</th>\n",
       "      <td>10407.00000</td>\n",
       "      <td>10407.000000</td>\n",
       "      <td>10407.000000</td>\n",
       "      <td>10407.000000</td>\n",
       "      <td>10407.000000</td>\n",
       "      <td>10407.000000</td>\n",
       "      <td>10407.000000</td>\n",
       "      <td>10407.000000</td>\n",
       "      <td>10407.000000</td>\n",
       "      <td>10407.000000</td>\n",
       "      <td>10407.000000</td>\n",
       "      <td>10407.000000</td>\n",
       "      <td>10407.000000</td>\n",
       "    </tr>\n",
       "    <tr>\n",
       "      <th>mean</th>\n",
       "      <td>5203.00000</td>\n",
       "      <td>128.053516</td>\n",
       "      <td>14.491342</td>\n",
       "      <td>17.033222</td>\n",
       "      <td>4.546789</td>\n",
       "      <td>37.507703</td>\n",
       "      <td>10.938308</td>\n",
       "      <td>2.607662</td>\n",
       "      <td>1.731330</td>\n",
       "      <td>0.944132</td>\n",
       "      <td>0.493349</td>\n",
       "      <td>2.132984</td>\n",
       "      <td>4.647126</td>\n",
       "    </tr>\n",
       "    <tr>\n",
       "      <th>std</th>\n",
       "      <td>3004.38646</td>\n",
       "      <td>224.123776</td>\n",
       "      <td>15.972877</td>\n",
       "      <td>10.468734</td>\n",
       "      <td>0.690864</td>\n",
       "      <td>26.012313</td>\n",
       "      <td>1.408276</td>\n",
       "      <td>0.334906</td>\n",
       "      <td>0.192481</td>\n",
       "      <td>0.180017</td>\n",
       "      <td>0.063080</td>\n",
       "      <td>1.936656</td>\n",
       "      <td>1.680525</td>\n",
       "    </tr>\n",
       "    <tr>\n",
       "      <th>min</th>\n",
       "      <td>0.00000</td>\n",
       "      <td>0.000000</td>\n",
       "      <td>0.000000</td>\n",
       "      <td>0.000000</td>\n",
       "      <td>0.000000</td>\n",
       "      <td>0.000000</td>\n",
       "      <td>0.000000</td>\n",
       "      <td>0.000000</td>\n",
       "      <td>0.000000</td>\n",
       "      <td>0.000000</td>\n",
       "      <td>0.000000</td>\n",
       "      <td>0.000000</td>\n",
       "      <td>1.000000</td>\n",
       "    </tr>\n",
       "    <tr>\n",
       "      <th>25%</th>\n",
       "      <td>2601.50000</td>\n",
       "      <td>68.000000</td>\n",
       "      <td>7.558488</td>\n",
       "      <td>10.000000</td>\n",
       "      <td>4.000000</td>\n",
       "      <td>20.298893</td>\n",
       "      <td>10.590660</td>\n",
       "      <td>2.530000</td>\n",
       "      <td>1.672500</td>\n",
       "      <td>0.864000</td>\n",
       "      <td>0.476196</td>\n",
       "      <td>0.814800</td>\n",
       "      <td>3.000000</td>\n",
       "    </tr>\n",
       "    <tr>\n",
       "      <th>50%</th>\n",
       "      <td>5203.00000</td>\n",
       "      <td>100.000000</td>\n",
       "      <td>10.650000</td>\n",
       "      <td>12.600000</td>\n",
       "      <td>4.714286</td>\n",
       "      <td>26.203827</td>\n",
       "      <td>11.202760</td>\n",
       "      <td>2.706000</td>\n",
       "      <td>1.732727</td>\n",
       "      <td>0.915556</td>\n",
       "      <td>0.488550</td>\n",
       "      <td>1.351550</td>\n",
       "      <td>5.500000</td>\n",
       "    </tr>\n",
       "    <tr>\n",
       "      <th>75%</th>\n",
       "      <td>7804.50000</td>\n",
       "      <td>131.000000</td>\n",
       "      <td>16.676996</td>\n",
       "      <td>22.000000</td>\n",
       "      <td>4.800000</td>\n",
       "      <td>48.719500</td>\n",
       "      <td>11.670725</td>\n",
       "      <td>2.805000</td>\n",
       "      <td>1.800000</td>\n",
       "      <td>0.981667</td>\n",
       "      <td>0.496070</td>\n",
       "      <td>2.741550</td>\n",
       "      <td>6.000000</td>\n",
       "    </tr>\n",
       "    <tr>\n",
       "      <th>max</th>\n",
       "      <td>10406.00000</td>\n",
       "      <td>15300.000000</td>\n",
       "      <td>643.093804</td>\n",
       "      <td>67.000000</td>\n",
       "      <td>6.000000</td>\n",
       "      <td>167.400000</td>\n",
       "      <td>15.245810</td>\n",
       "      <td>3.443000</td>\n",
       "      <td>2.250000</td>\n",
       "      <td>1.615840</td>\n",
       "      <td>0.825990</td>\n",
       "      <td>10.970000</td>\n",
       "      <td>10.000000</td>\n",
       "    </tr>\n",
       "  </tbody>\n",
       "</table>\n",
       "</div>"
      ],
      "text/plain": [
       "                id  allelectrons_Total  density_Total  allelectrons_Average  \\\n",
       "count  10407.00000        10407.000000   10407.000000          10407.000000   \n",
       "mean    5203.00000          128.053516      14.491342             17.033222   \n",
       "std     3004.38646          224.123776      15.972877             10.468734   \n",
       "min        0.00000            0.000000       0.000000              0.000000   \n",
       "25%     2601.50000           68.000000       7.558488             10.000000   \n",
       "50%     5203.00000          100.000000      10.650000             12.600000   \n",
       "75%     7804.50000          131.000000      16.676996             22.000000   \n",
       "max    10406.00000        15300.000000     643.093804             67.000000   \n",
       "\n",
       "       val_e_Average  atomicweight_Average  ionenergy_Average  \\\n",
       "count   10407.000000          10407.000000       10407.000000   \n",
       "mean        4.546789             37.507703          10.938308   \n",
       "std         0.690864             26.012313           1.408276   \n",
       "min         0.000000              0.000000           0.000000   \n",
       "25%         4.000000             20.298893          10.590660   \n",
       "50%         4.714286             26.203827          11.202760   \n",
       "75%         4.800000             48.719500          11.670725   \n",
       "max         6.000000            167.400000          15.245810   \n",
       "\n",
       "       el_neg_chi_Average  R_vdw_element_Average  R_cov_element_Average  \\\n",
       "count        10407.000000           10407.000000           10407.000000   \n",
       "mean             2.607662               1.731330               0.944132   \n",
       "std              0.334906               0.192481               0.180017   \n",
       "min              0.000000               0.000000               0.000000   \n",
       "25%              2.530000               1.672500               0.864000   \n",
       "50%              2.706000               1.732727               0.915556   \n",
       "75%              2.805000               1.800000               0.981667   \n",
       "max              3.443000               2.250000               1.615840   \n",
       "\n",
       "       zaratio_Average  density_Average      Hardness  \n",
       "count     10407.000000     10407.000000  10407.000000  \n",
       "mean          0.493349         2.132984      4.647126  \n",
       "std           0.063080         1.936656      1.680525  \n",
       "min           0.000000         0.000000      1.000000  \n",
       "25%           0.476196         0.814800      3.000000  \n",
       "50%           0.488550         1.351550      5.500000  \n",
       "75%           0.496070         2.741550      6.000000  \n",
       "max           0.825990        10.970000     10.000000  "
      ]
     },
     "execution_count": 4,
     "metadata": {},
     "output_type": "execute_result"
    }
   ],
   "source": [
    "df.describe()"
   ]
  },
  {
   "cell_type": "code",
   "execution_count": 5,
   "id": "59809f8b",
   "metadata": {
    "execution": {
     "iopub.execute_input": "2024-07-15T16:54:56.861665Z",
     "iopub.status.busy": "2024-07-15T16:54:56.860930Z",
     "iopub.status.idle": "2024-07-15T16:54:56.867832Z",
     "shell.execute_reply": "2024-07-15T16:54:56.866811Z"
    },
    "papermill": {
     "duration": 0.016202,
     "end_time": "2024-07-15T16:54:56.869956",
     "exception": false,
     "start_time": "2024-07-15T16:54:56.853754",
     "status": "completed"
    },
    "tags": []
   },
   "outputs": [],
   "source": [
    "id_data = df['id']\n",
    "df = df.drop(columns = ['id'])"
   ]
  },
  {
   "cell_type": "code",
   "execution_count": 6,
   "id": "01bb7d70",
   "metadata": {
    "execution": {
     "iopub.execute_input": "2024-07-15T16:54:56.883604Z",
     "iopub.status.busy": "2024-07-15T16:54:56.883243Z",
     "iopub.status.idle": "2024-07-15T16:54:56.888903Z",
     "shell.execute_reply": "2024-07-15T16:54:56.887913Z"
    },
    "papermill": {
     "duration": 0.014818,
     "end_time": "2024-07-15T16:54:56.890962",
     "exception": false,
     "start_time": "2024-07-15T16:54:56.876144",
     "status": "completed"
    },
    "tags": []
   },
   "outputs": [],
   "source": [
    "y = df['Hardness']\n",
    "X = df.drop(columns='Hardness')"
   ]
  },
  {
   "cell_type": "code",
   "execution_count": 7,
   "id": "c48d315b",
   "metadata": {
    "execution": {
     "iopub.execute_input": "2024-07-15T16:54:56.904862Z",
     "iopub.status.busy": "2024-07-15T16:54:56.904118Z",
     "iopub.status.idle": "2024-07-15T16:54:58.973311Z",
     "shell.execute_reply": "2024-07-15T16:54:58.972483Z"
    },
    "papermill": {
     "duration": 2.078615,
     "end_time": "2024-07-15T16:54:58.975756",
     "exception": false,
     "start_time": "2024-07-15T16:54:56.897141",
     "status": "completed"
    },
    "tags": []
   },
   "outputs": [],
   "source": [
    "import matplotlib.pyplot as plt\n",
    "from sklearn import model_selection, metrics\n",
    "import lightgbm as lgb"
   ]
  },
  {
   "cell_type": "code",
   "execution_count": 8,
   "id": "2e7708de",
   "metadata": {
    "execution": {
     "iopub.execute_input": "2024-07-15T16:54:58.989618Z",
     "iopub.status.busy": "2024-07-15T16:54:58.989095Z",
     "iopub.status.idle": "2024-07-15T16:54:59.005819Z",
     "shell.execute_reply": "2024-07-15T16:54:59.004727Z"
    },
    "papermill": {
     "duration": 0.025938,
     "end_time": "2024-07-15T16:54:59.007945",
     "exception": false,
     "start_time": "2024-07-15T16:54:58.982007",
     "status": "completed"
    },
    "tags": []
   },
   "outputs": [
    {
     "name": "stdout",
     "output_type": "stream",
     "text": [
      "Train: 6243 samples \t 60%\n",
      "Test:  2082 samples \t 20%\n",
      "Val:   2082 samples \t 20%\n"
     ]
    }
   ],
   "source": [
    "from sklearn.model_selection import train_test_split\n",
    "\n",
    "X_train, X_test, y_train, y_test = train_test_split(X, y,\n",
    "                                                    train_size=0.8,\n",
    "                                                    random_state=42)\n",
    "\n",
    "X_train, X_val, y_train, y_val = train_test_split(X_train, y_train,\n",
    "                                                  train_size=0.75,\n",
    "                                                  random_state=42)\n",
    "\n",
    "print(f'Train: {X_train.shape[0]} samples \\t {round(X_train.shape[0] / X.shape[0] * 100)}%')\n",
    "print(f'Test:  {X_test.shape[0]} samples \\t {round(X_test.shape[0] / X.shape[0] * 100)}%')\n",
    "print(f'Val:   {X_val.shape[0]} samples \\t {round(X_val.shape[0] / X.shape[0] * 100)}%')"
   ]
  },
  {
   "cell_type": "code",
   "execution_count": 9,
   "id": "074afe05",
   "metadata": {
    "execution": {
     "iopub.execute_input": "2024-07-15T16:54:59.022333Z",
     "iopub.status.busy": "2024-07-15T16:54:59.021955Z",
     "iopub.status.idle": "2024-07-15T16:54:59.171701Z",
     "shell.execute_reply": "2024-07-15T16:54:59.170833Z"
    },
    "papermill": {
     "duration": 0.159901,
     "end_time": "2024-07-15T16:54:59.174063",
     "exception": false,
     "start_time": "2024-07-15T16:54:59.014162",
     "status": "completed"
    },
    "tags": []
   },
   "outputs": [],
   "source": [
    "from sklearn.compose import ColumnTransformer\n",
    "from sklearn.pipeline import Pipeline\n",
    "from sklearn.impute import SimpleImputer\n",
    "from sklearn.preprocessing import OrdinalEncoder\n"
   ]
  },
  {
   "cell_type": "code",
   "execution_count": 10,
   "id": "c22521cf",
   "metadata": {
    "execution": {
     "iopub.execute_input": "2024-07-15T16:54:59.188157Z",
     "iopub.status.busy": "2024-07-15T16:54:59.187802Z",
     "iopub.status.idle": "2024-07-15T16:54:59.224530Z",
     "shell.execute_reply": "2024-07-15T16:54:59.223376Z"
    },
    "papermill": {
     "duration": 0.046349,
     "end_time": "2024-07-15T16:54:59.226833",
     "exception": false,
     "start_time": "2024-07-15T16:54:59.180484",
     "status": "completed"
    },
    "tags": []
   },
   "outputs": [
    {
     "data": {
      "text/html": [
       "<style>#sk-container-id-1 {color: black;background-color: white;}#sk-container-id-1 pre{padding: 0;}#sk-container-id-1 div.sk-toggleable {background-color: white;}#sk-container-id-1 label.sk-toggleable__label {cursor: pointer;display: block;width: 100%;margin-bottom: 0;padding: 0.3em;box-sizing: border-box;text-align: center;}#sk-container-id-1 label.sk-toggleable__label-arrow:before {content: \"▸\";float: left;margin-right: 0.25em;color: #696969;}#sk-container-id-1 label.sk-toggleable__label-arrow:hover:before {color: black;}#sk-container-id-1 div.sk-estimator:hover label.sk-toggleable__label-arrow:before {color: black;}#sk-container-id-1 div.sk-toggleable__content {max-height: 0;max-width: 0;overflow: hidden;text-align: left;background-color: #f0f8ff;}#sk-container-id-1 div.sk-toggleable__content pre {margin: 0.2em;color: black;border-radius: 0.25em;background-color: #f0f8ff;}#sk-container-id-1 input.sk-toggleable__control:checked~div.sk-toggleable__content {max-height: 200px;max-width: 100%;overflow: auto;}#sk-container-id-1 input.sk-toggleable__control:checked~label.sk-toggleable__label-arrow:before {content: \"▾\";}#sk-container-id-1 div.sk-estimator input.sk-toggleable__control:checked~label.sk-toggleable__label {background-color: #d4ebff;}#sk-container-id-1 div.sk-label input.sk-toggleable__control:checked~label.sk-toggleable__label {background-color: #d4ebff;}#sk-container-id-1 input.sk-hidden--visually {border: 0;clip: rect(1px 1px 1px 1px);clip: rect(1px, 1px, 1px, 1px);height: 1px;margin: -1px;overflow: hidden;padding: 0;position: absolute;width: 1px;}#sk-container-id-1 div.sk-estimator {font-family: monospace;background-color: #f0f8ff;border: 1px dotted black;border-radius: 0.25em;box-sizing: border-box;margin-bottom: 0.5em;}#sk-container-id-1 div.sk-estimator:hover {background-color: #d4ebff;}#sk-container-id-1 div.sk-parallel-item::after {content: \"\";width: 100%;border-bottom: 1px solid gray;flex-grow: 1;}#sk-container-id-1 div.sk-label:hover label.sk-toggleable__label {background-color: #d4ebff;}#sk-container-id-1 div.sk-serial::before {content: \"\";position: absolute;border-left: 1px solid gray;box-sizing: border-box;top: 0;bottom: 0;left: 50%;z-index: 0;}#sk-container-id-1 div.sk-serial {display: flex;flex-direction: column;align-items: center;background-color: white;padding-right: 0.2em;padding-left: 0.2em;position: relative;}#sk-container-id-1 div.sk-item {position: relative;z-index: 1;}#sk-container-id-1 div.sk-parallel {display: flex;align-items: stretch;justify-content: center;background-color: white;position: relative;}#sk-container-id-1 div.sk-item::before, #sk-container-id-1 div.sk-parallel-item::before {content: \"\";position: absolute;border-left: 1px solid gray;box-sizing: border-box;top: 0;bottom: 0;left: 50%;z-index: -1;}#sk-container-id-1 div.sk-parallel-item {display: flex;flex-direction: column;z-index: 1;position: relative;background-color: white;}#sk-container-id-1 div.sk-parallel-item:first-child::after {align-self: flex-end;width: 50%;}#sk-container-id-1 div.sk-parallel-item:last-child::after {align-self: flex-start;width: 50%;}#sk-container-id-1 div.sk-parallel-item:only-child::after {width: 0;}#sk-container-id-1 div.sk-dashed-wrapped {border: 1px dashed gray;margin: 0 0.4em 0.5em 0.4em;box-sizing: border-box;padding-bottom: 0.4em;background-color: white;}#sk-container-id-1 div.sk-label label {font-family: monospace;font-weight: bold;display: inline-block;line-height: 1.2em;}#sk-container-id-1 div.sk-label-container {text-align: center;}#sk-container-id-1 div.sk-container {/* jupyter's `normalize.less` sets `[hidden] { display: none; }` but bootstrap.min.css set `[hidden] { display: none !important; }` so we also need the `!important` here to be able to override the default hidden behavior on the sphinx rendered scikit-learn.org. See: https://github.com/scikit-learn/scikit-learn/issues/21755 */display: inline-block !important;position: relative;}#sk-container-id-1 div.sk-text-repr-fallback {display: none;}</style><div id=\"sk-container-id-1\" class=\"sk-top-container\"><div class=\"sk-text-repr-fallback\"><pre>ColumnTransformer(transformers=[(&#x27;num&#x27;,\n",
       "                                 Pipeline(steps=[(&#x27;imputer&#x27;,\n",
       "                                                  SimpleImputer(strategy=&#x27;median&#x27;))]),\n",
       "                                 Index([&#x27;allelectrons_Total&#x27;, &#x27;density_Total&#x27;, &#x27;allelectrons_Average&#x27;,\n",
       "       &#x27;val_e_Average&#x27;, &#x27;atomicweight_Average&#x27;, &#x27;ionenergy_Average&#x27;,\n",
       "       &#x27;el_neg_chi_Average&#x27;, &#x27;R_vdw_element_Average&#x27;, &#x27;R_cov_element_Average&#x27;,\n",
       "       &#x27;zaratio_Average&#x27;, &#x27;density_Average&#x27;],\n",
       "      dtype=&#x27;object&#x27;)),\n",
       "                                (&#x27;cat&#x27;,\n",
       "                                 Pipeline(steps=[(&#x27;imputer&#x27;,\n",
       "                                                  SimpleImputer(strategy=&#x27;most_frequent&#x27;)),\n",
       "                                                 (&#x27;encoder&#x27;,\n",
       "                                                  OrdinalEncoder(handle_unknown=&#x27;use_encoded_value&#x27;,\n",
       "                                                                 unknown_value=nan))]),\n",
       "                                 Index([], dtype=&#x27;object&#x27;))])</pre><b>In a Jupyter environment, please rerun this cell to show the HTML representation or trust the notebook. <br />On GitHub, the HTML representation is unable to render, please try loading this page with nbviewer.org.</b></div><div class=\"sk-container\" hidden><div class=\"sk-item sk-dashed-wrapped\"><div class=\"sk-label-container\"><div class=\"sk-label sk-toggleable\"><input class=\"sk-toggleable__control sk-hidden--visually\" id=\"sk-estimator-id-1\" type=\"checkbox\" ><label for=\"sk-estimator-id-1\" class=\"sk-toggleable__label sk-toggleable__label-arrow\">ColumnTransformer</label><div class=\"sk-toggleable__content\"><pre>ColumnTransformer(transformers=[(&#x27;num&#x27;,\n",
       "                                 Pipeline(steps=[(&#x27;imputer&#x27;,\n",
       "                                                  SimpleImputer(strategy=&#x27;median&#x27;))]),\n",
       "                                 Index([&#x27;allelectrons_Total&#x27;, &#x27;density_Total&#x27;, &#x27;allelectrons_Average&#x27;,\n",
       "       &#x27;val_e_Average&#x27;, &#x27;atomicweight_Average&#x27;, &#x27;ionenergy_Average&#x27;,\n",
       "       &#x27;el_neg_chi_Average&#x27;, &#x27;R_vdw_element_Average&#x27;, &#x27;R_cov_element_Average&#x27;,\n",
       "       &#x27;zaratio_Average&#x27;, &#x27;density_Average&#x27;],\n",
       "      dtype=&#x27;object&#x27;)),\n",
       "                                (&#x27;cat&#x27;,\n",
       "                                 Pipeline(steps=[(&#x27;imputer&#x27;,\n",
       "                                                  SimpleImputer(strategy=&#x27;most_frequent&#x27;)),\n",
       "                                                 (&#x27;encoder&#x27;,\n",
       "                                                  OrdinalEncoder(handle_unknown=&#x27;use_encoded_value&#x27;,\n",
       "                                                                 unknown_value=nan))]),\n",
       "                                 Index([], dtype=&#x27;object&#x27;))])</pre></div></div></div><div class=\"sk-parallel\"><div class=\"sk-parallel-item\"><div class=\"sk-item\"><div class=\"sk-label-container\"><div class=\"sk-label sk-toggleable\"><input class=\"sk-toggleable__control sk-hidden--visually\" id=\"sk-estimator-id-2\" type=\"checkbox\" ><label for=\"sk-estimator-id-2\" class=\"sk-toggleable__label sk-toggleable__label-arrow\">num</label><div class=\"sk-toggleable__content\"><pre>Index([&#x27;allelectrons_Total&#x27;, &#x27;density_Total&#x27;, &#x27;allelectrons_Average&#x27;,\n",
       "       &#x27;val_e_Average&#x27;, &#x27;atomicweight_Average&#x27;, &#x27;ionenergy_Average&#x27;,\n",
       "       &#x27;el_neg_chi_Average&#x27;, &#x27;R_vdw_element_Average&#x27;, &#x27;R_cov_element_Average&#x27;,\n",
       "       &#x27;zaratio_Average&#x27;, &#x27;density_Average&#x27;],\n",
       "      dtype=&#x27;object&#x27;)</pre></div></div></div><div class=\"sk-serial\"><div class=\"sk-item\"><div class=\"sk-serial\"><div class=\"sk-item\"><div class=\"sk-estimator sk-toggleable\"><input class=\"sk-toggleable__control sk-hidden--visually\" id=\"sk-estimator-id-3\" type=\"checkbox\" ><label for=\"sk-estimator-id-3\" class=\"sk-toggleable__label sk-toggleable__label-arrow\">SimpleImputer</label><div class=\"sk-toggleable__content\"><pre>SimpleImputer(strategy=&#x27;median&#x27;)</pre></div></div></div></div></div></div></div></div><div class=\"sk-parallel-item\"><div class=\"sk-item\"><div class=\"sk-label-container\"><div class=\"sk-label sk-toggleable\"><input class=\"sk-toggleable__control sk-hidden--visually\" id=\"sk-estimator-id-4\" type=\"checkbox\" ><label for=\"sk-estimator-id-4\" class=\"sk-toggleable__label sk-toggleable__label-arrow\">cat</label><div class=\"sk-toggleable__content\"><pre>Index([], dtype=&#x27;object&#x27;)</pre></div></div></div><div class=\"sk-serial\"><div class=\"sk-item\"><div class=\"sk-serial\"><div class=\"sk-item\"><div class=\"sk-estimator sk-toggleable\"><input class=\"sk-toggleable__control sk-hidden--visually\" id=\"sk-estimator-id-5\" type=\"checkbox\" ><label for=\"sk-estimator-id-5\" class=\"sk-toggleable__label sk-toggleable__label-arrow\">SimpleImputer</label><div class=\"sk-toggleable__content\"><pre>SimpleImputer(strategy=&#x27;most_frequent&#x27;)</pre></div></div></div><div class=\"sk-item\"><div class=\"sk-estimator sk-toggleable\"><input class=\"sk-toggleable__control sk-hidden--visually\" id=\"sk-estimator-id-6\" type=\"checkbox\" ><label for=\"sk-estimator-id-6\" class=\"sk-toggleable__label sk-toggleable__label-arrow\">OrdinalEncoder</label><div class=\"sk-toggleable__content\"><pre>OrdinalEncoder(handle_unknown=&#x27;use_encoded_value&#x27;, unknown_value=nan)</pre></div></div></div></div></div></div></div></div></div></div></div></div>"
      ],
      "text/plain": [
       "ColumnTransformer(transformers=[('num',\n",
       "                                 Pipeline(steps=[('imputer',\n",
       "                                                  SimpleImputer(strategy='median'))]),\n",
       "                                 Index(['allelectrons_Total', 'density_Total', 'allelectrons_Average',\n",
       "       'val_e_Average', 'atomicweight_Average', 'ionenergy_Average',\n",
       "       'el_neg_chi_Average', 'R_vdw_element_Average', 'R_cov_element_Average',\n",
       "       'zaratio_Average', 'density_Average'],\n",
       "      dtype='object')),\n",
       "                                ('cat',\n",
       "                                 Pipeline(steps=[('imputer',\n",
       "                                                  SimpleImputer(strategy='most_frequent')),\n",
       "                                                 ('encoder',\n",
       "                                                  OrdinalEncoder(handle_unknown='use_encoded_value',\n",
       "                                                                 unknown_value=nan))]),\n",
       "                                 Index([], dtype='object'))])"
      ]
     },
     "execution_count": 10,
     "metadata": {},
     "output_type": "execute_result"
    }
   ],
   "source": [
    "num_columns = X.select_dtypes(include=\"number\").columns\n",
    "cat_columns = X.select_dtypes(include=\"object\").columns\n",
    "\n",
    "# числові ознаки\n",
    "num_transformer = Pipeline(\n",
    "    steps=[(\"imputer\", SimpleImputer(strategy=\"median\"))]\n",
    "    )\n",
    "\n",
    "# категоріальні ознаки\n",
    "cat_transformer = Pipeline(\n",
    "    steps=[(\"imputer\", SimpleImputer(strategy=\"most_frequent\")),\n",
    "           (\"encoder\", OrdinalEncoder(handle_unknown=\"use_encoded_value\", unknown_value=np.nan))])\n",
    "\n",
    "# об'єднання двох pipeline\n",
    "preprocessor = ColumnTransformer(\n",
    "    transformers=[\n",
    "        (\"num\", num_transformer, num_columns),\n",
    "        (\"cat\", cat_transformer, cat_columns),\n",
    "    ]\n",
    ")\n",
    "\n",
    "preprocessor.set_output(transform='pandas')\n",
    "preprocessor"
   ]
  },
  {
   "cell_type": "code",
   "execution_count": 11,
   "id": "851e5258",
   "metadata": {
    "execution": {
     "iopub.execute_input": "2024-07-15T16:54:59.241055Z",
     "iopub.status.busy": "2024-07-15T16:54:59.240719Z",
     "iopub.status.idle": "2024-07-15T16:54:59.268271Z",
     "shell.execute_reply": "2024-07-15T16:54:59.267371Z"
    },
    "papermill": {
     "duration": 0.037382,
     "end_time": "2024-07-15T16:54:59.270674",
     "exception": false,
     "start_time": "2024-07-15T16:54:59.233292",
     "status": "completed"
    },
    "tags": []
   },
   "outputs": [],
   "source": [
    "# навчання препроцесора\n",
    "X_train = preprocessor.fit_transform(X_train)\n",
    "\n",
    "# обробка даних\n",
    "X_val = preprocessor.transform(X_val)\n",
    "X_test = preprocessor.transform(X_test)"
   ]
  },
  {
   "cell_type": "code",
   "execution_count": 12,
   "id": "981f1137",
   "metadata": {
    "execution": {
     "iopub.execute_input": "2024-07-15T16:54:59.285282Z",
     "iopub.status.busy": "2024-07-15T16:54:59.284926Z",
     "iopub.status.idle": "2024-07-15T16:54:59.294727Z",
     "shell.execute_reply": "2024-07-15T16:54:59.293720Z"
    },
    "papermill": {
     "duration": 0.019264,
     "end_time": "2024-07-15T16:54:59.296650",
     "exception": false,
     "start_time": "2024-07-15T16:54:59.277386",
     "status": "completed"
    },
    "tags": []
   },
   "outputs": [],
   "source": [
    "from sklearn import metrics\n",
    "\n",
    "\n",
    "def objective(trial):\n",
    "  \"\"\"\n",
    "  Функція objective для Optuna, яка навчає модель LightGBMRegressor\n",
    "  на тренувальному наборі даних та оцінює її на тестовому наборі.\n",
    "\n",
    "  Args:\n",
    "      trial (optuna.Trial): Об'єкт Optuna, що представляє один набір гіперпараметрів.\n",
    "\n",
    "  Returns:\n",
    "      float: Значення метрики оцінки (R2).\n",
    "  \"\"\"\n",
    "\n",
    "  # 1. Визначення гіперпараметрів:\n",
    "\n",
    "  params = {\n",
    "        'objective': 'mse',\n",
    "        'n_estimators': 100,\n",
    "        'verbose': -1,\n",
    "        'min_split_gain': 0.05,\n",
    "        'boosting_type': trial.suggest_categorical('boosting_type', ['gbdt', 'dart']),\n",
    "        'lambda_l1': trial.suggest_float('lambda_l1', 1e-8, 10.0, log=True),\n",
    "        'lambda_l2': trial.suggest_float('lambda_l2', 1e-8, 10.0, log=True),\n",
    "        'learning_rate': trial.suggest_float('learning_rate', 1e-4, 1.0, log=True),\n",
    "        'num_leaves': trial.suggest_int('num_leaves', 100, 256),\n",
    "        'max_depth': trial.suggest_int('max_depth', 1, 100),\n",
    "        'feature_fraction': trial.suggest_float('feature_fraction', 0.4, 1.0),\n",
    "        'bagging_fraction': trial.suggest_float('bagging_fraction', 0.4, 1.0),\n",
    "        'colsample_bytree': trial.suggest_float('colsample_bytree', 0.5, 1.0),\n",
    "        'reg_alpha': trial.suggest_float('reg_alpha', 0.01, 1.0),\n",
    "        'reg_lambda': trial.suggest_float('reg_lambda', 0.01, 1.0),\n",
    "        'bagging_freq': trial.suggest_int('bagging_freq', 1, 7),\n",
    "        'min_child_samples': trial.suggest_int('min_child_samples', 5, 100),\n",
    "    }\n",
    "\n",
    "  # 2. Створення моделі LightGBMRegressor:\n",
    "\n",
    "  model = lgb.LGBMRegressor(**params)\n",
    "\n",
    "  # 3. Навчання моделі на тренувальному наборі даних:\n",
    "\n",
    "  model.fit(X_train, y_train)\n",
    "\n",
    "  # 4. Оцінка моделі на тестовому наборі даних:\n",
    "\n",
    "  y_pred = model.predict(X_val)\n",
    "  r2 = metrics.r2_score(y_val, y_pred)\n",
    "\n",
    "  # 5. Повернення значення метрики:\n",
    "  return r2"
   ]
  },
  {
   "cell_type": "code",
   "execution_count": 13,
   "id": "055e594b",
   "metadata": {
    "execution": {
     "iopub.execute_input": "2024-07-15T16:54:59.311189Z",
     "iopub.status.busy": "2024-07-15T16:54:59.310411Z",
     "iopub.status.idle": "2024-07-15T16:55:11.813996Z",
     "shell.execute_reply": "2024-07-15T16:55:11.812559Z"
    },
    "papermill": {
     "duration": 12.513596,
     "end_time": "2024-07-15T16:55:11.816725",
     "exception": false,
     "start_time": "2024-07-15T16:54:59.303129",
     "status": "completed"
    },
    "tags": []
   },
   "outputs": [],
   "source": [
    "!pip install -q optuna"
   ]
  },
  {
   "cell_type": "code",
   "execution_count": 14,
   "id": "7581b3fe",
   "metadata": {
    "execution": {
     "iopub.execute_input": "2024-07-15T16:55:11.832068Z",
     "iopub.status.busy": "2024-07-15T16:55:11.831703Z",
     "iopub.status.idle": "2024-07-15T16:55:35.171687Z",
     "shell.execute_reply": "2024-07-15T16:55:35.170373Z"
    },
    "papermill": {
     "duration": 23.349793,
     "end_time": "2024-07-15T16:55:35.173897",
     "exception": false,
     "start_time": "2024-07-15T16:55:11.824104",
     "status": "completed"
    },
    "tags": []
   },
   "outputs": [
    {
     "name": "stderr",
     "output_type": "stream",
     "text": [
      "[I 2024-07-15 16:55:12,032] A new study created in memory with name: no-name-bfd24ce3-2af7-4020-a23b-d12819dd010d\n",
      "[I 2024-07-15 16:55:12,525] Trial 0 finished with value: 0.015775307064828548 and parameters: {'boosting_type': 'gbdt', 'lambda_l1': 0.5023605914278633, 'lambda_l2': 0.00023398267114108141, 'learning_rate': 0.00020009569949166488, 'num_leaves': 206, 'max_depth': 98, 'feature_fraction': 0.975159947265693, 'bagging_fraction': 0.612225232072986, 'colsample_bytree': 0.739387827071369, 'reg_alpha': 0.09626332346211446, 'reg_lambda': 0.9757806646600282, 'bagging_freq': 1, 'min_child_samples': 59}. Best is trial 0 with value: 0.015775307064828548.\n",
      "[I 2024-07-15 16:55:12,834] Trial 1 finished with value: 0.3514041725589784 and parameters: {'boosting_type': 'gbdt', 'lambda_l1': 1.1343287023381807e-07, 'lambda_l2': 6.276843907906747e-08, 'learning_rate': 0.43011111759452647, 'num_leaves': 102, 'max_depth': 72, 'feature_fraction': 0.6837683622693629, 'bagging_fraction': 0.9789618808970061, 'colsample_bytree': 0.5447313230721104, 'reg_alpha': 0.13196721182446156, 'reg_lambda': 0.8296755754998845, 'bagging_freq': 3, 'min_child_samples': 19}. Best is trial 1 with value: 0.3514041725589784.\n",
      "[I 2024-07-15 16:55:13,228] Trial 2 finished with value: 0.43429817154413997 and parameters: {'boosting_type': 'dart', 'lambda_l1': 1.4920251581974725e-06, 'lambda_l2': 0.12379942918152449, 'learning_rate': 0.4835724037631509, 'num_leaves': 140, 'max_depth': 70, 'feature_fraction': 0.9336620832542227, 'bagging_fraction': 0.41235980253321947, 'colsample_bytree': 0.7534609937738639, 'reg_alpha': 0.18273689521807293, 'reg_lambda': 0.131895586025061, 'bagging_freq': 5, 'min_child_samples': 94}. Best is trial 2 with value: 0.43429817154413997.\n",
      "[I 2024-07-15 16:55:13,532] Trial 3 finished with value: 0.043379443053182976 and parameters: {'boosting_type': 'gbdt', 'lambda_l1': 0.0002853289648251122, 'lambda_l2': 3.5157630364333485e-08, 'learning_rate': 0.0005675204609163969, 'num_leaves': 154, 'max_depth': 96, 'feature_fraction': 0.7528876602148129, 'bagging_fraction': 0.6214576518517997, 'colsample_bytree': 0.7777857479676529, 'reg_alpha': 0.8232063181466479, 'reg_lambda': 0.206583598928175, 'bagging_freq': 7, 'min_child_samples': 48}. Best is trial 2 with value: 0.43429817154413997.\n",
      "[I 2024-07-15 16:55:13,861] Trial 4 finished with value: 0.19519553069267193 and parameters: {'boosting_type': 'gbdt', 'lambda_l1': 1.2968291035568702e-05, 'lambda_l2': 1.8472349087665987e-07, 'learning_rate': 0.003135498261664316, 'num_leaves': 117, 'max_depth': 23, 'feature_fraction': 0.6964006577762889, 'bagging_fraction': 0.6738359877304602, 'colsample_bytree': 0.9982344308015592, 'reg_alpha': 0.03595837534522995, 'reg_lambda': 0.5757118190799905, 'bagging_freq': 4, 'min_child_samples': 44}. Best is trial 2 with value: 0.43429817154413997.\n",
      "[I 2024-07-15 16:55:14,510] Trial 5 finished with value: -1.468834730767989 and parameters: {'boosting_type': 'dart', 'lambda_l1': 0.15877293539748952, 'lambda_l2': 7.167188059219218e-07, 'learning_rate': 0.0003308755927770319, 'num_leaves': 110, 'max_depth': 86, 'feature_fraction': 0.9813156324335632, 'bagging_fraction': 0.9824865213063226, 'colsample_bytree': 0.6771388085352394, 'reg_alpha': 0.15455018737582546, 'reg_lambda': 0.4584316357445935, 'bagging_freq': 3, 'min_child_samples': 80}. Best is trial 2 with value: 0.43429817154413997.\n",
      "[I 2024-07-15 16:55:15,188] Trial 6 finished with value: 0.26289258793618475 and parameters: {'boosting_type': 'gbdt', 'lambda_l1': 0.023117076268827315, 'lambda_l2': 0.008451903674157987, 'learning_rate': 0.004281897695958036, 'num_leaves': 210, 'max_depth': 96, 'feature_fraction': 0.6495779348629106, 'bagging_fraction': 0.4560841238114468, 'colsample_bytree': 0.893859781754752, 'reg_alpha': 0.42901397872671543, 'reg_lambda': 0.025709176937012496, 'bagging_freq': 1, 'min_child_samples': 7}. Best is trial 2 with value: 0.43429817154413997.\n",
      "[I 2024-07-15 16:55:15,700] Trial 7 finished with value: -1.4773256546145155 and parameters: {'boosting_type': 'dart', 'lambda_l1': 5.512614850280752, 'lambda_l2': 0.0022936466046803118, 'learning_rate': 0.00024073897264701994, 'num_leaves': 219, 'max_depth': 9, 'feature_fraction': 0.9144530093498239, 'bagging_fraction': 0.8313716076852591, 'colsample_bytree': 0.7897768216138019, 'reg_alpha': 0.5739480414720003, 'reg_lambda': 0.49002631151836135, 'bagging_freq': 3, 'min_child_samples': 30}. Best is trial 2 with value: 0.43429817154413997.\n",
      "[I 2024-07-15 16:55:16,286] Trial 8 finished with value: 0.4219859829022877 and parameters: {'boosting_type': 'dart', 'lambda_l1': 2.380025448387562e-07, 'lambda_l2': 5.241684182838739e-06, 'learning_rate': 0.3329324536305119, 'num_leaves': 238, 'max_depth': 17, 'feature_fraction': 0.667765668791471, 'bagging_fraction': 0.43776700194632423, 'colsample_bytree': 0.605621088625355, 'reg_alpha': 0.7529041369613798, 'reg_lambda': 0.038785796365432335, 'bagging_freq': 3, 'min_child_samples': 31}. Best is trial 2 with value: 0.43429817154413997.\n",
      "[I 2024-07-15 16:55:16,593] Trial 9 finished with value: 0.14476692265500457 and parameters: {'boosting_type': 'gbdt', 'lambda_l1': 0.5203122916135171, 'lambda_l2': 1.2218831404389672, 'learning_rate': 0.002241106260129587, 'num_leaves': 126, 'max_depth': 72, 'feature_fraction': 0.5264314579067002, 'bagging_fraction': 0.9601807437149901, 'colsample_bytree': 0.5166676772755165, 'reg_alpha': 0.3559591111446684, 'reg_lambda': 0.47256010358663586, 'bagging_freq': 2, 'min_child_samples': 58}. Best is trial 2 with value: 0.43429817154413997.\n",
      "[I 2024-07-15 16:55:17,010] Trial 10 finished with value: 0.25874324610300403 and parameters: {'boosting_type': 'dart', 'lambda_l1': 1.0128471167375237e-08, 'lambda_l2': 6.2095947028712555, 'learning_rate': 0.06823714868123942, 'num_leaves': 165, 'max_depth': 49, 'feature_fraction': 0.8340677295472324, 'bagging_fraction': 0.5437489239889759, 'colsample_bytree': 0.8871757534964198, 'reg_alpha': 0.31104259286454394, 'reg_lambda': 0.25682598087448555, 'bagging_freq': 6, 'min_child_samples': 98}. Best is trial 2 with value: 0.43429817154413997.\n",
      "[I 2024-07-15 16:55:17,398] Trial 11 finished with value: 0.3626740006416773 and parameters: {'boosting_type': 'dart', 'lambda_l1': 2.2259656197428893e-06, 'lambda_l2': 2.231563345229709e-05, 'learning_rate': 0.8565709150645112, 'num_leaves': 251, 'max_depth': 41, 'feature_fraction': 0.48898588207916116, 'bagging_fraction': 0.41197968574806587, 'colsample_bytree': 0.6192020165647301, 'reg_alpha': 0.7694776446223276, 'reg_lambda': 0.023493150054889098, 'bagging_freq': 5, 'min_child_samples': 99}. Best is trial 2 with value: 0.43429817154413997.\n",
      "[I 2024-07-15 16:55:17,851] Trial 12 finished with value: 0.3892291693856216 and parameters: {'boosting_type': 'dart', 'lambda_l1': 3.0474272960906594e-06, 'lambda_l2': 0.08941402741498403, 'learning_rate': 0.10493616236926044, 'num_leaves': 143, 'max_depth': 29, 'feature_fraction': 0.5850407229653244, 'bagging_fraction': 0.49485133453310115, 'colsample_bytree': 0.630064893449588, 'reg_alpha': 0.9737820233550977, 'reg_lambda': 0.17571049553180582, 'bagging_freq': 5, 'min_child_samples': 78}. Best is trial 2 with value: 0.43429817154413997.\n",
      "[I 2024-07-15 16:55:18,400] Trial 13 finished with value: 0.06151445365059738 and parameters: {'boosting_type': 'dart', 'lambda_l1': 1.9138977592108406e-07, 'lambda_l2': 3.387352573592316e-06, 'learning_rate': 0.04135887413395019, 'num_leaves': 185, 'max_depth': 64, 'feature_fraction': 0.41750199918258646, 'bagging_fraction': 0.4019670446865904, 'colsample_bytree': 0.7029050403066865, 'reg_alpha': 0.6160051876170549, 'reg_lambda': 0.32947960103374235, 'bagging_freq': 5, 'min_child_samples': 32}. Best is trial 2 with value: 0.43429817154413997.\n",
      "[I 2024-07-15 16:55:18,878] Trial 14 finished with value: 0.46228058429566765 and parameters: {'boosting_type': 'dart', 'lambda_l1': 6.447831277584173e-05, 'lambda_l2': 0.00014066675349505214, 'learning_rate': 0.24350202074515295, 'num_leaves': 250, 'max_depth': 7, 'feature_fraction': 0.8037751993662292, 'bagging_fraction': 0.5332355585117319, 'colsample_bytree': 0.5921968996533999, 'reg_alpha': 0.7156221096367317, 'reg_lambda': 0.14412508564919446, 'bagging_freq': 4, 'min_child_samples': 75}. Best is trial 14 with value: 0.46228058429566765.\n",
      "[I 2024-07-15 16:55:19,140] Trial 15 finished with value: -0.6613933345527154 and parameters: {'boosting_type': 'dart', 'lambda_l1': 0.00025545258105967177, 'lambda_l2': 0.06687144891782566, 'learning_rate': 0.014753749820878764, 'num_leaves': 182, 'max_depth': 2, 'feature_fraction': 0.8241724902621438, 'bagging_fraction': 0.5449726838335165, 'colsample_bytree': 0.8385010672214079, 'reg_alpha': 0.28280587576248106, 'reg_lambda': 0.6714965446146405, 'bagging_freq': 7, 'min_child_samples': 78}. Best is trial 14 with value: 0.46228058429566765.\n",
      "[I 2024-07-15 16:55:19,745] Trial 16 finished with value: 0.4507068943223961 and parameters: {'boosting_type': 'dart', 'lambda_l1': 0.003001145501073593, 'lambda_l2': 0.0002696832322578171, 'learning_rate': 0.17006372544962212, 'num_leaves': 147, 'max_depth': 59, 'feature_fraction': 0.874643895425358, 'bagging_fraction': 0.7360538900104695, 'colsample_bytree': 0.5645090848603662, 'reg_alpha': 0.5209645028251506, 'reg_lambda': 0.342475448147406, 'bagging_freq': 4, 'min_child_samples': 87}. Best is trial 14 with value: 0.46228058429566765.\n",
      "[I 2024-07-15 16:55:20,402] Trial 17 finished with value: 0.4600915316572175 and parameters: {'boosting_type': 'dart', 'lambda_l1': 0.004968395695916289, 'lambda_l2': 0.00011600026222435776, 'learning_rate': 0.17028708707013718, 'num_leaves': 190, 'max_depth': 40, 'feature_fraction': 0.8028409158678586, 'bagging_fraction': 0.7865730745322979, 'colsample_bytree': 0.5663933329126984, 'reg_alpha': 0.6549459675612562, 'reg_lambda': 0.29492358109252637, 'bagging_freq': 4, 'min_child_samples': 71}. Best is trial 14 with value: 0.46228058429566765.\n",
      "[I 2024-07-15 16:55:21,055] Trial 18 finished with value: -0.185055983778585 and parameters: {'boosting_type': 'dart', 'lambda_l1': 3.948559238938399e-05, 'lambda_l2': 4.3948094900836884e-05, 'learning_rate': 0.027524402107416163, 'num_leaves': 230, 'max_depth': 35, 'feature_fraction': 0.777507528414311, 'bagging_fraction': 0.7942784307716914, 'colsample_bytree': 0.5105325397106155, 'reg_alpha': 0.6929186219729369, 'reg_lambda': 0.2997374802021013, 'bagging_freq': 2, 'min_child_samples': 67}. Best is trial 14 with value: 0.46228058429566765.\n",
      "[I 2024-07-15 16:55:21,723] Trial 19 finished with value: 0.45825994665485625 and parameters: {'boosting_type': 'dart', 'lambda_l1': 0.006114101200857708, 'lambda_l2': 0.003616255004283321, 'learning_rate': 0.16807696573994815, 'num_leaves': 255, 'max_depth': 16, 'feature_fraction': 0.7709870874014331, 'bagging_fraction': 0.8864351349592083, 'colsample_bytree': 0.6769829479106916, 'reg_alpha': 0.8986806558778397, 'reg_lambda': 0.38887434078583794, 'bagging_freq': 6, 'min_child_samples': 69}. Best is trial 14 with value: 0.46228058429566765.\n",
      "[I 2024-07-15 16:55:22,300] Trial 20 finished with value: -0.08302186468875483 and parameters: {'boosting_type': 'dart', 'lambda_l1': 0.001814711466999146, 'lambda_l2': 5.393306515151143e-05, 'learning_rate': 0.032409155110459296, 'num_leaves': 196, 'max_depth': 45, 'feature_fraction': 0.5989876837798567, 'bagging_fraction': 0.7401060382298776, 'colsample_bytree': 0.5870938450014817, 'reg_alpha': 0.6656042413530301, 'reg_lambda': 0.635699087281937, 'bagging_freq': 4, 'min_child_samples': 69}. Best is trial 14 with value: 0.46228058429566765.\n",
      "[I 2024-07-15 16:55:22,916] Trial 21 finished with value: 0.4590050611619112 and parameters: {'boosting_type': 'dart', 'lambda_l1': 0.005943589355495618, 'lambda_l2': 0.003080798114817939, 'learning_rate': 0.16958107451406984, 'num_leaves': 255, 'max_depth': 12, 'feature_fraction': 0.7585686606856723, 'bagging_fraction': 0.8466375119807624, 'colsample_bytree': 0.6683025703000903, 'reg_alpha': 0.9089339768571649, 'reg_lambda': 0.12531845926914223, 'bagging_freq': 6, 'min_child_samples': 65}. Best is trial 14 with value: 0.46228058429566765.\n",
      "[I 2024-07-15 16:55:23,119] Trial 22 finished with value: 0.4343935627042249 and parameters: {'boosting_type': 'dart', 'lambda_l1': 0.02921177095787949, 'lambda_l2': 0.001681072991195885, 'learning_rate': 0.9723203935155867, 'num_leaves': 237, 'max_depth': 2, 'feature_fraction': 0.7485750798269514, 'bagging_fraction': 0.8609406978736359, 'colsample_bytree': 0.6493967855341014, 'reg_alpha': 0.875584200888421, 'reg_lambda': 0.11942182816215152, 'bagging_freq': 6, 'min_child_samples': 60}. Best is trial 14 with value: 0.46228058429566765.\n",
      "[I 2024-07-15 16:55:23,733] Trial 23 finished with value: 0.461547702474036 and parameters: {'boosting_type': 'dart', 'lambda_l1': 6.849920587283048e-05, 'lambda_l2': 0.00037889588218617125, 'learning_rate': 0.17835925108760534, 'num_leaves': 224, 'max_depth': 12, 'feature_fraction': 0.8261801243742437, 'bagging_fraction': 0.920352620190047, 'colsample_bytree': 0.5613383947862287, 'reg_alpha': 0.9823050936190602, 'reg_lambda': 0.21795531020426467, 'bagging_freq': 4, 'min_child_samples': 89}. Best is trial 14 with value: 0.46228058429566765.\n",
      "[I 2024-07-15 16:55:24,377] Trial 24 finished with value: 0.30155832699126905 and parameters: {'boosting_type': 'dart', 'lambda_l1': 9.9861169226952e-05, 'lambda_l2': 0.00026992446170041764, 'learning_rate': 0.07103762854213054, 'num_leaves': 218, 'max_depth': 25, 'feature_fraction': 0.8358839548851376, 'bagging_fraction': 0.9236165772709269, 'colsample_bytree': 0.5561823121093831, 'reg_alpha': 0.9997373326885863, 'reg_lambda': 0.22655390958080368, 'bagging_freq': 4, 'min_child_samples': 87}. Best is trial 14 with value: 0.46228058429566765.\n",
      "[I 2024-07-15 16:55:24,966] Trial 25 finished with value: -0.5770073584276285 and parameters: {'boosting_type': 'dart', 'lambda_l1': 0.0008940019190721001, 'lambda_l2': 4.354661954305897e-06, 'learning_rate': 0.015015588764742035, 'num_leaves': 196, 'max_depth': 33, 'feature_fraction': 0.8871807773684717, 'bagging_fraction': 0.7811140473923617, 'colsample_bytree': 0.5054661492582837, 'reg_alpha': 0.4870594411124231, 'reg_lambda': 0.26683761754314966, 'bagging_freq': 4, 'min_child_samples': 87}. Best is trial 14 with value: 0.46228058429566765.\n",
      "[I 2024-07-15 16:55:25,442] Trial 26 finished with value: 0.46460398830991867 and parameters: {'boosting_type': 'dart', 'lambda_l1': 1.923555907141192e-05, 'lambda_l2': 1.9911018452795555e-05, 'learning_rate': 0.2813480890250191, 'num_leaves': 226, 'max_depth': 8, 'feature_fraction': 0.8088958296356259, 'bagging_fraction': 0.6554249707437769, 'colsample_bytree': 0.5741150371150384, 'reg_alpha': 0.7693916698743805, 'reg_lambda': 0.3931250905515983, 'bagging_freq': 2, 'min_child_samples': 76}. Best is trial 26 with value: 0.46460398830991867.\n",
      "[I 2024-07-15 16:55:25,885] Trial 27 finished with value: 0.46177453980049843 and parameters: {'boosting_type': 'dart', 'lambda_l1': 1.3755595102968526e-05, 'lambda_l2': 8.308998245037655e-07, 'learning_rate': 0.33011932359107865, 'num_leaves': 240, 'max_depth': 7, 'feature_fraction': 0.8733510827836414, 'bagging_fraction': 0.6632083021083075, 'colsample_bytree': 0.6057754928440654, 'reg_alpha': 0.7766695740521999, 'reg_lambda': 0.3812179987058759, 'bagging_freq': 2, 'min_child_samples': 92}. Best is trial 26 with value: 0.46460398830991867.\n",
      "[I 2024-07-15 16:55:26,094] Trial 28 finished with value: 0.4263158289375373 and parameters: {'boosting_type': 'dart', 'lambda_l1': 1.0936425213696168e-05, 'lambda_l2': 6.867344739440406e-07, 'learning_rate': 0.3562003153024487, 'num_leaves': 244, 'max_depth': 2, 'feature_fraction': 0.929677592013493, 'bagging_fraction': 0.6541528074854479, 'colsample_bytree': 0.7218719812074987, 'reg_alpha': 0.7529526421213047, 'reg_lambda': 0.39250044720043126, 'bagging_freq': 2, 'min_child_samples': 79}. Best is trial 26 with value: 0.46460398830991867.\n",
      "[I 2024-07-15 16:55:26,445] Trial 29 finished with value: 0.17004725802278486 and parameters: {'boosting_type': 'gbdt', 'lambda_l1': 1.3883662428177552e-05, 'lambda_l2': 1.4139053219381003e-05, 'learning_rate': 0.6452437250945864, 'num_leaves': 207, 'max_depth': 22, 'feature_fraction': 0.8801838990307792, 'bagging_fraction': 0.5702547931833378, 'colsample_bytree': 0.592655542618195, 'reg_alpha': 0.8158867257724051, 'reg_lambda': 0.8014423048689258, 'bagging_freq': 1, 'min_child_samples': 55}. Best is trial 26 with value: 0.46460398830991867.\n",
      "[I 2024-07-15 16:55:26,890] Trial 30 finished with value: -1.0334976920082912 and parameters: {'boosting_type': 'dart', 'lambda_l1': 4.957673548118321e-07, 'lambda_l2': 1.139139075328883e-08, 'learning_rate': 0.006186707428674435, 'num_leaves': 242, 'max_depth': 8, 'feature_fraction': 0.7250210189153865, 'bagging_fraction': 0.5988988176405268, 'colsample_bytree': 0.6441997909985598, 'reg_alpha': 0.561748550413579, 'reg_lambda': 0.5577274933574977, 'bagging_freq': 2, 'min_child_samples': 92}. Best is trial 26 with value: 0.46460398830991867.\n",
      "[I 2024-07-15 16:55:27,453] Trial 31 finished with value: 0.4643210415722042 and parameters: {'boosting_type': 'dart', 'lambda_l1': 5.883646495276936e-05, 'lambda_l2': 0.000614975179018868, 'learning_rate': 0.2880064309754832, 'num_leaves': 227, 'max_depth': 15, 'feature_fraction': 0.8512630789453703, 'bagging_fraction': 0.7028205414347737, 'colsample_bytree': 0.5382606728567065, 'reg_alpha': 0.8366080682647871, 'reg_lambda': 0.3983864439386432, 'bagging_freq': 1, 'min_child_samples': 84}. Best is trial 26 with value: 0.46460398830991867.\n",
      "[I 2024-07-15 16:55:28,066] Trial 32 finished with value: 0.4637048441447549 and parameters: {'boosting_type': 'dart', 'lambda_l1': 3.3873052506475044e-05, 'lambda_l2': 7.846566745098222e-07, 'learning_rate': 0.309597131526983, 'num_leaves': 230, 'max_depth': 20, 'feature_fraction': 0.9596829642709979, 'bagging_fraction': 0.7191750749008374, 'colsample_bytree': 0.5410556654332218, 'reg_alpha': 0.7111840167450518, 'reg_lambda': 0.40119828264747137, 'bagging_freq': 1, 'min_child_samples': 83}. Best is trial 26 with value: 0.46460398830991867.\n",
      "[I 2024-07-15 16:55:28,683] Trial 33 finished with value: 0.40238902710436975 and parameters: {'boosting_type': 'dart', 'lambda_l1': 0.00032908590992193924, 'lambda_l2': 0.0006351376542054509, 'learning_rate': 0.1028268924485607, 'num_leaves': 229, 'max_depth': 17, 'feature_fraction': 0.9595002520737305, 'bagging_fraction': 0.7110960576477309, 'colsample_bytree': 0.5494753004771737, 'reg_alpha': 0.7078604767731507, 'reg_lambda': 0.7376661797847397, 'bagging_freq': 1, 'min_child_samples': 74}. Best is trial 26 with value: 0.46460398830991867.\n",
      "[I 2024-07-15 16:55:29,013] Trial 34 finished with value: 0.3514234148359221 and parameters: {'boosting_type': 'gbdt', 'lambda_l1': 3.828175286031309e-05, 'lambda_l2': 0.017554859410652233, 'learning_rate': 0.5038453916043728, 'num_leaves': 211, 'max_depth': 20, 'feature_fraction': 0.9820677231072172, 'bagging_fraction': 0.6301492229707115, 'colsample_bytree': 0.529610677610268, 'reg_alpha': 0.847713217278798, 'reg_lambda': 0.4406973893120119, 'bagging_freq': 1, 'min_child_samples': 82}. Best is trial 26 with value: 0.46460398830991867.\n",
      "[I 2024-07-15 16:55:29,673] Trial 35 finished with value: 0.46049941584816456 and parameters: {'boosting_type': 'dart', 'lambda_l1': 3.0828671918520303e-06, 'lambda_l2': 1.2689569771709914e-07, 'learning_rate': 0.27043717988246974, 'num_leaves': 230, 'max_depth': 28, 'feature_fraction': 0.9085165093870732, 'bagging_fraction': 0.7142858227258062, 'colsample_bytree': 0.5332329615523027, 'reg_alpha': 0.6306511544992742, 'reg_lambda': 0.5541658263518614, 'bagging_freq': 1, 'min_child_samples': 64}. Best is trial 26 with value: 0.46460398830991867.\n",
      "[I 2024-07-15 16:55:30,259] Trial 36 finished with value: -1.3738524258149045 and parameters: {'boosting_type': 'dart', 'lambda_l1': 0.00020553629402593964, 'lambda_l2': 9.791167511554237e-06, 'learning_rate': 0.0014255677565951, 'num_leaves': 173, 'max_depth': 13, 'feature_fraction': 0.9531338396503398, 'bagging_fraction': 0.49720723427412594, 'colsample_bytree': 0.5788915274532062, 'reg_alpha': 0.7129347772893785, 'reg_lambda': 0.42129598206748614, 'bagging_freq': 3, 'min_child_samples': 46}. Best is trial 26 with value: 0.46460398830991867.\n",
      "[I 2024-07-15 16:55:30,513] Trial 37 finished with value: 0.4678414481233173 and parameters: {'boosting_type': 'gbdt', 'lambda_l1': 0.0007237664063402937, 'lambda_l2': 1.6535538522336373e-06, 'learning_rate': 0.059108408523941405, 'num_leaves': 217, 'max_depth': 7, 'feature_fraction': 0.800576224838643, 'bagging_fraction': 0.6915335670402694, 'colsample_bytree': 0.5040381567654357, 'reg_alpha': 0.92852419307798, 'reg_lambda': 0.9353437435104583, 'bagging_freq': 1, 'min_child_samples': 74}. Best is trial 37 with value: 0.4678414481233173.\n",
      "[I 2024-07-15 16:55:30,857] Trial 38 finished with value: 0.469647348743641 and parameters: {'boosting_type': 'gbdt', 'lambda_l1': 0.0006800365891949662, 'lambda_l2': 1.2223989523731603e-06, 'learning_rate': 0.059543908275241655, 'num_leaves': 200, 'max_depth': 34, 'feature_fraction': 0.9970936609932195, 'bagging_fraction': 0.6810196833045314, 'colsample_bytree': 0.5249924200046788, 'reg_alpha': 0.9205266552766335, 'reg_lambda': 0.5196469663278522, 'bagging_freq': 1, 'min_child_samples': 83}. Best is trial 38 with value: 0.469647348743641.\n",
      "[I 2024-07-15 16:55:31,133] Trial 39 finished with value: 0.007835711074899554 and parameters: {'boosting_type': 'gbdt', 'lambda_l1': 0.0009011678996160688, 'lambda_l2': 2.1521036778123527e-06, 'learning_rate': 0.0001075051795173168, 'num_leaves': 198, 'max_depth': 32, 'feature_fraction': 0.6371460149552038, 'bagging_fraction': 0.6866447439547725, 'colsample_bytree': 0.9917033893320237, 'reg_alpha': 0.9314925923342651, 'reg_lambda': 0.9972986004052884, 'bagging_freq': 1, 'min_child_samples': 84}. Best is trial 38 with value: 0.469647348743641.\n",
      "[I 2024-07-15 16:55:31,506] Trial 40 finished with value: 0.46836012601829013 and parameters: {'boosting_type': 'gbdt', 'lambda_l1': 0.016701244064811, 'lambda_l2': 2.7872145242281685e-07, 'learning_rate': 0.04733119063256604, 'num_leaves': 220, 'max_depth': 25, 'feature_fraction': 0.7183659731622549, 'bagging_fraction': 0.6102217971321003, 'colsample_bytree': 0.513053319612113, 'reg_alpha': 0.8183561202617428, 'reg_lambda': 0.908730936907606, 'bagging_freq': 2, 'min_child_samples': 52}. Best is trial 38 with value: 0.469647348743641.\n",
      "[I 2024-07-15 16:55:31,931] Trial 41 finished with value: 0.47504072830801014 and parameters: {'boosting_type': 'gbdt', 'lambda_l1': 0.0467521510071988, 'lambda_l2': 2.3930543376806327e-07, 'learning_rate': 0.0607308826629829, 'num_leaves': 216, 'max_depth': 24, 'feature_fraction': 0.7104402318758508, 'bagging_fraction': 0.6291994511380901, 'colsample_bytree': 0.5010438203120373, 'reg_alpha': 0.828436374428441, 'reg_lambda': 0.9197156071387774, 'bagging_freq': 2, 'min_child_samples': 39}. Best is trial 41 with value: 0.47504072830801014.\n",
      "[I 2024-07-15 16:55:32,338] Trial 42 finished with value: 0.4759021060822052 and parameters: {'boosting_type': 'gbdt', 'lambda_l1': 0.04945854996134679, 'lambda_l2': 3.618690629107054e-08, 'learning_rate': 0.04940378019836769, 'num_leaves': 216, 'max_depth': 38, 'feature_fraction': 0.7150098533383988, 'bagging_fraction': 0.6158323548353142, 'colsample_bytree': 0.5051483158080795, 'reg_alpha': 0.9281202180840873, 'reg_lambda': 0.9112349631114802, 'bagging_freq': 2, 'min_child_samples': 42}. Best is trial 42 with value: 0.4759021060822052.\n",
      "[I 2024-07-15 16:55:32,744] Trial 43 finished with value: 0.45539677087918506 and parameters: {'boosting_type': 'gbdt', 'lambda_l1': 0.16869127379695256, 'lambda_l2': 2.9965421575231704e-08, 'learning_rate': 0.02177520843016492, 'num_leaves': 216, 'max_depth': 54, 'feature_fraction': 0.7219641256326277, 'bagging_fraction': 0.5990034856208758, 'colsample_bytree': 0.5010171349601037, 'reg_alpha': 0.94786126499993, 'reg_lambda': 0.9172997091795515, 'bagging_freq': 2, 'min_child_samples': 38}. Best is trial 42 with value: 0.4759021060822052.\n",
      "[I 2024-07-15 16:55:33,146] Trial 44 finished with value: 0.472248148144653 and parameters: {'boosting_type': 'gbdt', 'lambda_l1': 0.02296189654712353, 'lambda_l2': 2.48269225561374e-07, 'learning_rate': 0.04153439487298169, 'num_leaves': 204, 'max_depth': 38, 'feature_fraction': 0.6797587177864083, 'bagging_fraction': 0.6294829232952839, 'colsample_bytree': 0.5260278304997135, 'reg_alpha': 0.8923479361657063, 'reg_lambda': 0.9415238250840271, 'bagging_freq': 3, 'min_child_samples': 40}. Best is trial 42 with value: 0.4759021060822052.\n",
      "[I 2024-07-15 16:55:33,568] Trial 45 finished with value: 0.47577283289677286 and parameters: {'boosting_type': 'gbdt', 'lambda_l1': 0.026224933367798898, 'lambda_l2': 2.2153208782666456e-07, 'learning_rate': 0.04571741168724974, 'num_leaves': 202, 'max_depth': 37, 'feature_fraction': 0.6809384284782916, 'bagging_fraction': 0.630241120156646, 'colsample_bytree': 0.5237181751553751, 'reg_alpha': 0.8658542644406738, 'reg_lambda': 0.8691913415205178, 'bagging_freq': 3, 'min_child_samples': 39}. Best is trial 42 with value: 0.4759021060822052.\n",
      "[I 2024-07-15 16:55:33,998] Trial 46 finished with value: 0.37726860871259826 and parameters: {'boosting_type': 'gbdt', 'lambda_l1': 1.4083642287561542, 'lambda_l2': 4.508698012128238e-08, 'learning_rate': 0.009528281126929468, 'num_leaves': 202, 'max_depth': 42, 'feature_fraction': 0.6715028542807165, 'bagging_fraction': 0.6369405787660185, 'colsample_bytree': 0.5336532879238693, 'reg_alpha': 0.8788975625327856, 'reg_lambda': 0.8646140082130189, 'bagging_freq': 3, 'min_child_samples': 23}. Best is trial 42 with value: 0.4759021060822052.\n",
      "[I 2024-07-15 16:55:34,379] Trial 47 finished with value: 0.4629066473616067 and parameters: {'boosting_type': 'gbdt', 'lambda_l1': 0.06984880051924135, 'lambda_l2': 1.3795083715373657e-07, 'learning_rate': 0.08722013003673508, 'num_leaves': 171, 'max_depth': 36, 'feature_fraction': 0.622891293363844, 'bagging_fraction': 0.5678678059447433, 'colsample_bytree': 0.5256649004408822, 'reg_alpha': 0.8627219319356664, 'reg_lambda': 0.797934333353656, 'bagging_freq': 3, 'min_child_samples': 40}. Best is trial 42 with value: 0.4759021060822052.\n",
      "[I 2024-07-15 16:55:34,797] Trial 48 finished with value: 0.43428674593815375 and parameters: {'boosting_type': 'gbdt', 'lambda_l1': 0.5743696380818214, 'lambda_l2': 1.9675359870039167e-08, 'learning_rate': 0.015458098649740085, 'num_leaves': 189, 'max_depth': 48, 'feature_fraction': 0.5686099641141966, 'bagging_fraction': 0.5771655376855924, 'colsample_bytree': 0.7735718798058187, 'reg_alpha': 0.9635415386713853, 'reg_lambda': 0.8586819078094503, 'bagging_freq': 3, 'min_child_samples': 24}. Best is trial 42 with value: 0.4759021060822052.\n",
      "[I 2024-07-15 16:55:35,167] Trial 49 finished with value: 0.46825065575857094 and parameters: {'boosting_type': 'gbdt', 'lambda_l1': 0.1574431468116154, 'lambda_l2': 3.2955350996770714e-07, 'learning_rate': 0.04278899161479784, 'num_leaves': 206, 'max_depth': 53, 'feature_fraction': 0.6980386752149332, 'bagging_fraction': 0.5070657385782007, 'colsample_bytree': 0.6192525498353864, 'reg_alpha': 0.817789318861121, 'reg_lambda': 0.96181665034973, 'bagging_freq': 3, 'min_child_samples': 38}. Best is trial 42 with value: 0.4759021060822052.\n"
     ]
    }
   ],
   "source": [
    "import optuna\n",
    "study = optuna.create_study(directions=['maximize'])\n",
    "study.optimize(objective, n_trials=50)"
   ]
  },
  {
   "cell_type": "code",
   "execution_count": 15,
   "id": "29b296fe",
   "metadata": {
    "execution": {
     "iopub.execute_input": "2024-07-15T16:55:35.195838Z",
     "iopub.status.busy": "2024-07-15T16:55:35.195478Z",
     "iopub.status.idle": "2024-07-15T16:55:35.330971Z",
     "shell.execute_reply": "2024-07-15T16:55:35.329996Z"
    },
    "papermill": {
     "duration": 0.149496,
     "end_time": "2024-07-15T16:55:35.333559",
     "exception": false,
     "start_time": "2024-07-15T16:55:35.184063",
     "status": "completed"
    },
    "tags": []
   },
   "outputs": [
    {
     "data": {
      "text/html": [
       "<div>\n",
       "<style scoped>\n",
       "    .dataframe tbody tr th:only-of-type {\n",
       "        vertical-align: middle;\n",
       "    }\n",
       "\n",
       "    .dataframe tbody tr th {\n",
       "        vertical-align: top;\n",
       "    }\n",
       "\n",
       "    .dataframe thead th {\n",
       "        text-align: right;\n",
       "    }\n",
       "</style>\n",
       "<table border=\"1\" class=\"dataframe\">\n",
       "  <thead>\n",
       "    <tr style=\"text-align: right;\">\n",
       "      <th></th>\n",
       "      <th>r2</th>\n",
       "    </tr>\n",
       "  </thead>\n",
       "  <tbody>\n",
       "    <tr>\n",
       "      <th>0</th>\n",
       "      <td>0.475902</td>\n",
       "    </tr>\n",
       "  </tbody>\n",
       "</table>\n",
       "</div>"
      ],
      "text/plain": [
       "         r2\n",
       "0  0.475902"
      ]
     },
     "execution_count": 15,
     "metadata": {},
     "output_type": "execute_result"
    }
   ],
   "source": [
    "data = pd.DataFrame([trial.values for trial in study.best_trials],\n",
    "                    columns=['r2'])\n",
    "\n",
    "data"
   ]
  },
  {
   "cell_type": "code",
   "execution_count": 16,
   "id": "b2e70f4a",
   "metadata": {
    "execution": {
     "iopub.execute_input": "2024-07-15T16:55:35.355694Z",
     "iopub.status.busy": "2024-07-15T16:55:35.355307Z",
     "iopub.status.idle": "2024-07-15T16:55:35.376871Z",
     "shell.execute_reply": "2024-07-15T16:55:35.375872Z"
    },
    "papermill": {
     "duration": 0.035194,
     "end_time": "2024-07-15T16:55:35.379021",
     "exception": false,
     "start_time": "2024-07-15T16:55:35.343827",
     "status": "completed"
    },
    "tags": []
   },
   "outputs": [
    {
     "data": {
      "text/plain": [
       "{'boosting_type': 'gbdt',\n",
       " 'lambda_l1': 0.04945854996134679,\n",
       " 'lambda_l2': 3.618690629107054e-08,\n",
       " 'learning_rate': 0.04940378019836769,\n",
       " 'num_leaves': 216,\n",
       " 'max_depth': 38,\n",
       " 'feature_fraction': 0.7150098533383988,\n",
       " 'bagging_fraction': 0.6158323548353142,\n",
       " 'colsample_bytree': 0.5051483158080795,\n",
       " 'reg_alpha': 0.9281202180840873,\n",
       " 'reg_lambda': 0.9112349631114802,\n",
       " 'bagging_freq': 2,\n",
       " 'min_child_samples': 42}"
      ]
     },
     "execution_count": 16,
     "metadata": {},
     "output_type": "execute_result"
    }
   ],
   "source": [
    "best_params = study.best_trials[0].params\n",
    "best_params"
   ]
  },
  {
   "cell_type": "code",
   "execution_count": 17,
   "id": "720455ce",
   "metadata": {
    "execution": {
     "iopub.execute_input": "2024-07-15T16:55:35.401023Z",
     "iopub.status.busy": "2024-07-15T16:55:35.400659Z",
     "iopub.status.idle": "2024-07-15T16:55:35.492686Z",
     "shell.execute_reply": "2024-07-15T16:55:35.491654Z"
    },
    "papermill": {
     "duration": 0.105752,
     "end_time": "2024-07-15T16:55:35.494991",
     "exception": false,
     "start_time": "2024-07-15T16:55:35.389239",
     "status": "completed"
    },
    "tags": []
   },
   "outputs": [
    {
     "data": {
      "text/html": [
       "<style>#sk-container-id-2 {color: black;background-color: white;}#sk-container-id-2 pre{padding: 0;}#sk-container-id-2 div.sk-toggleable {background-color: white;}#sk-container-id-2 label.sk-toggleable__label {cursor: pointer;display: block;width: 100%;margin-bottom: 0;padding: 0.3em;box-sizing: border-box;text-align: center;}#sk-container-id-2 label.sk-toggleable__label-arrow:before {content: \"▸\";float: left;margin-right: 0.25em;color: #696969;}#sk-container-id-2 label.sk-toggleable__label-arrow:hover:before {color: black;}#sk-container-id-2 div.sk-estimator:hover label.sk-toggleable__label-arrow:before {color: black;}#sk-container-id-2 div.sk-toggleable__content {max-height: 0;max-width: 0;overflow: hidden;text-align: left;background-color: #f0f8ff;}#sk-container-id-2 div.sk-toggleable__content pre {margin: 0.2em;color: black;border-radius: 0.25em;background-color: #f0f8ff;}#sk-container-id-2 input.sk-toggleable__control:checked~div.sk-toggleable__content {max-height: 200px;max-width: 100%;overflow: auto;}#sk-container-id-2 input.sk-toggleable__control:checked~label.sk-toggleable__label-arrow:before {content: \"▾\";}#sk-container-id-2 div.sk-estimator input.sk-toggleable__control:checked~label.sk-toggleable__label {background-color: #d4ebff;}#sk-container-id-2 div.sk-label input.sk-toggleable__control:checked~label.sk-toggleable__label {background-color: #d4ebff;}#sk-container-id-2 input.sk-hidden--visually {border: 0;clip: rect(1px 1px 1px 1px);clip: rect(1px, 1px, 1px, 1px);height: 1px;margin: -1px;overflow: hidden;padding: 0;position: absolute;width: 1px;}#sk-container-id-2 div.sk-estimator {font-family: monospace;background-color: #f0f8ff;border: 1px dotted black;border-radius: 0.25em;box-sizing: border-box;margin-bottom: 0.5em;}#sk-container-id-2 div.sk-estimator:hover {background-color: #d4ebff;}#sk-container-id-2 div.sk-parallel-item::after {content: \"\";width: 100%;border-bottom: 1px solid gray;flex-grow: 1;}#sk-container-id-2 div.sk-label:hover label.sk-toggleable__label {background-color: #d4ebff;}#sk-container-id-2 div.sk-serial::before {content: \"\";position: absolute;border-left: 1px solid gray;box-sizing: border-box;top: 0;bottom: 0;left: 50%;z-index: 0;}#sk-container-id-2 div.sk-serial {display: flex;flex-direction: column;align-items: center;background-color: white;padding-right: 0.2em;padding-left: 0.2em;position: relative;}#sk-container-id-2 div.sk-item {position: relative;z-index: 1;}#sk-container-id-2 div.sk-parallel {display: flex;align-items: stretch;justify-content: center;background-color: white;position: relative;}#sk-container-id-2 div.sk-item::before, #sk-container-id-2 div.sk-parallel-item::before {content: \"\";position: absolute;border-left: 1px solid gray;box-sizing: border-box;top: 0;bottom: 0;left: 50%;z-index: -1;}#sk-container-id-2 div.sk-parallel-item {display: flex;flex-direction: column;z-index: 1;position: relative;background-color: white;}#sk-container-id-2 div.sk-parallel-item:first-child::after {align-self: flex-end;width: 50%;}#sk-container-id-2 div.sk-parallel-item:last-child::after {align-self: flex-start;width: 50%;}#sk-container-id-2 div.sk-parallel-item:only-child::after {width: 0;}#sk-container-id-2 div.sk-dashed-wrapped {border: 1px dashed gray;margin: 0 0.4em 0.5em 0.4em;box-sizing: border-box;padding-bottom: 0.4em;background-color: white;}#sk-container-id-2 div.sk-label label {font-family: monospace;font-weight: bold;display: inline-block;line-height: 1.2em;}#sk-container-id-2 div.sk-label-container {text-align: center;}#sk-container-id-2 div.sk-container {/* jupyter's `normalize.less` sets `[hidden] { display: none; }` but bootstrap.min.css set `[hidden] { display: none !important; }` so we also need the `!important` here to be able to override the default hidden behavior on the sphinx rendered scikit-learn.org. See: https://github.com/scikit-learn/scikit-learn/issues/21755 */display: inline-block !important;position: relative;}#sk-container-id-2 div.sk-text-repr-fallback {display: none;}</style><div id=\"sk-container-id-2\" class=\"sk-top-container\"><div class=\"sk-text-repr-fallback\"><pre>LGBMRegressor(bagging_fraction=0.6158323548353142, bagging_freq=2,\n",
       "              colsample_bytree=0.5051483158080795,\n",
       "              feature_fraction=0.7150098533383988,\n",
       "              lambda_l1=0.04945854996134679, lambda_l2=3.618690629107054e-08,\n",
       "              learning_rate=0.04940378019836769, max_depth=38,\n",
       "              min_child_samples=42, n_estimators=18, num_leaves=216,\n",
       "              reg_alpha=0.9281202180840873, reg_lambda=0.9112349631114802,\n",
       "              verbose=-1)</pre><b>In a Jupyter environment, please rerun this cell to show the HTML representation or trust the notebook. <br />On GitHub, the HTML representation is unable to render, please try loading this page with nbviewer.org.</b></div><div class=\"sk-container\" hidden><div class=\"sk-item\"><div class=\"sk-estimator sk-toggleable\"><input class=\"sk-toggleable__control sk-hidden--visually\" id=\"sk-estimator-id-7\" type=\"checkbox\" checked><label for=\"sk-estimator-id-7\" class=\"sk-toggleable__label sk-toggleable__label-arrow\">LGBMRegressor</label><div class=\"sk-toggleable__content\"><pre>LGBMRegressor(bagging_fraction=0.6158323548353142, bagging_freq=2,\n",
       "              colsample_bytree=0.5051483158080795,\n",
       "              feature_fraction=0.7150098533383988,\n",
       "              lambda_l1=0.04945854996134679, lambda_l2=3.618690629107054e-08,\n",
       "              learning_rate=0.04940378019836769, max_depth=38,\n",
       "              min_child_samples=42, n_estimators=18, num_leaves=216,\n",
       "              reg_alpha=0.9281202180840873, reg_lambda=0.9112349631114802,\n",
       "              verbose=-1)</pre></div></div></div></div></div>"
      ],
      "text/plain": [
       "LGBMRegressor(bagging_fraction=0.6158323548353142, bagging_freq=2,\n",
       "              colsample_bytree=0.5051483158080795,\n",
       "              feature_fraction=0.7150098533383988,\n",
       "              lambda_l1=0.04945854996134679, lambda_l2=3.618690629107054e-08,\n",
       "              learning_rate=0.04940378019836769, max_depth=38,\n",
       "              min_child_samples=42, n_estimators=18, num_leaves=216,\n",
       "              reg_alpha=0.9281202180840873, reg_lambda=0.9112349631114802,\n",
       "              verbose=-1)"
      ]
     },
     "execution_count": 17,
     "metadata": {},
     "output_type": "execute_result"
    }
   ],
   "source": [
    "model = lgb.LGBMRegressor(**best_params,n_estimators=18,\n",
    "                          verbose=-1)\n",
    "\n",
    "model.fit(X_train, y_train,\n",
    "          eval_set=[(X_test, y_test), (X_train, y_train)],\n",
    "          eval_metric='mse')"
   ]
  },
  {
   "cell_type": "code",
   "execution_count": 18,
   "id": "2267f831",
   "metadata": {
    "execution": {
     "iopub.execute_input": "2024-07-15T16:55:35.517682Z",
     "iopub.status.busy": "2024-07-15T16:55:35.517205Z",
     "iopub.status.idle": "2024-07-15T16:55:35.522889Z",
     "shell.execute_reply": "2024-07-15T16:55:35.521924Z"
    },
    "papermill": {
     "duration": 0.019253,
     "end_time": "2024-07-15T16:55:35.524894",
     "exception": false,
     "start_time": "2024-07-15T16:55:35.505641",
     "status": "completed"
    },
    "tags": []
   },
   "outputs": [],
   "source": [
    "def get_metrics(y_true, y_pred, name=\"model\"):\n",
    "  df = pd.DataFrame()\n",
    "\n",
    "  df.loc[\"MAE\", name] = metrics.mean_absolute_error(y_true, y_pred)\n",
    "  df.loc[\"RMSE\", name] = metrics.mean_squared_error(y_true, y_pred) ** 0.5\n",
    "  df.loc[\"R2\", name] = metrics.r2_score(y_true, y_pred)\n",
    "\n",
    "  return df.round(2)"
   ]
  },
  {
   "cell_type": "code",
   "execution_count": 19,
   "id": "ea5bf407",
   "metadata": {
    "execution": {
     "iopub.execute_input": "2024-07-15T16:55:35.546818Z",
     "iopub.status.busy": "2024-07-15T16:55:35.546463Z",
     "iopub.status.idle": "2024-07-15T16:55:35.588435Z",
     "shell.execute_reply": "2024-07-15T16:55:35.587477Z"
    },
    "papermill": {
     "duration": 0.055369,
     "end_time": "2024-07-15T16:55:35.590540",
     "exception": false,
     "start_time": "2024-07-15T16:55:35.535171",
     "status": "completed"
    },
    "tags": []
   },
   "outputs": [
    {
     "data": {
      "text/html": [
       "<div>\n",
       "<style scoped>\n",
       "    .dataframe tbody tr th:only-of-type {\n",
       "        vertical-align: middle;\n",
       "    }\n",
       "\n",
       "    .dataframe tbody tr th {\n",
       "        vertical-align: top;\n",
       "    }\n",
       "\n",
       "    .dataframe thead th {\n",
       "        text-align: right;\n",
       "    }\n",
       "</style>\n",
       "<table border=\"1\" class=\"dataframe\">\n",
       "  <thead>\n",
       "    <tr style=\"text-align: right;\">\n",
       "      <th></th>\n",
       "      <th>train</th>\n",
       "      <th>test</th>\n",
       "    </tr>\n",
       "  </thead>\n",
       "  <tbody>\n",
       "    <tr>\n",
       "      <th>MAE</th>\n",
       "      <td>1.07</td>\n",
       "      <td>1.09</td>\n",
       "    </tr>\n",
       "    <tr>\n",
       "      <th>RMSE</th>\n",
       "      <td>1.30</td>\n",
       "      <td>1.31</td>\n",
       "    </tr>\n",
       "    <tr>\n",
       "      <th>R2</th>\n",
       "      <td>0.41</td>\n",
       "      <td>0.36</td>\n",
       "    </tr>\n",
       "  </tbody>\n",
       "</table>\n",
       "</div>"
      ],
      "text/plain": [
       "      train  test\n",
       "MAE    1.07  1.09\n",
       "RMSE   1.30  1.31\n",
       "R2     0.41  0.36"
      ]
     },
     "execution_count": 19,
     "metadata": {},
     "output_type": "execute_result"
    }
   ],
   "source": [
    "all_metrics = pd.DataFrame()\n",
    "\n",
    "all_metrics[\"train\"] = get_metrics(y_train, model.predict(X_train))\n",
    "all_metrics[\"test\"] = get_metrics(y_test, model.predict(X_test))\n",
    "\n",
    "all_metrics"
   ]
  },
  {
   "cell_type": "code",
   "execution_count": 20,
   "id": "2feb2a48",
   "metadata": {
    "execution": {
     "iopub.execute_input": "2024-07-15T16:55:35.613009Z",
     "iopub.status.busy": "2024-07-15T16:55:35.612654Z",
     "iopub.status.idle": "2024-07-15T16:55:37.045655Z",
     "shell.execute_reply": "2024-07-15T16:55:37.044392Z"
    },
    "papermill": {
     "duration": 1.446681,
     "end_time": "2024-07-15T16:55:37.047765",
     "exception": false,
     "start_time": "2024-07-15T16:55:35.601084",
     "status": "completed"
    },
    "tags": []
   },
   "outputs": [
    {
     "data": {
      "text/html": [
       "        <script type=\"text/javascript\">\n",
       "        window.PlotlyConfig = {MathJaxConfig: 'local'};\n",
       "        if (window.MathJax && window.MathJax.Hub && window.MathJax.Hub.Config) {window.MathJax.Hub.Config({SVG: {font: \"STIX-Web\"}});}\n",
       "        if (typeof require !== 'undefined') {\n",
       "        require.undef(\"plotly\");\n",
       "        requirejs.config({\n",
       "            paths: {\n",
       "                'plotly': ['https://cdn.plot.ly/plotly-2.27.0.min']\n",
       "            }\n",
       "        });\n",
       "        require(['plotly'], function(Plotly) {\n",
       "            window._Plotly = Plotly;\n",
       "        });\n",
       "        }\n",
       "        </script>\n",
       "        "
      ]
     },
     "metadata": {},
     "output_type": "display_data"
    },
    {
     "data": {
      "text/html": [
       "<div>                            <div id=\"a0231d50-4596-45a5-b0cf-d3ead5bac205\" class=\"plotly-graph-div\" style=\"height:525px; width:100%;\"></div>            <script type=\"text/javascript\">                require([\"plotly\"], function(Plotly) {                    window.PLOTLYENV=window.PLOTLYENV || {};                                    if (document.getElementById(\"a0231d50-4596-45a5-b0cf-d3ead5bac205\")) {                    Plotly.newPlot(                        \"a0231d50-4596-45a5-b0cf-d3ead5bac205\",                        [{\"cliponaxis\":false,\"hovertemplate\":[\"reg_lambda (FloatDistribution): 0.005239397267475886\\u003cextra\\u003e\\u003c\\u002fextra\\u003e\",\"num_leaves (IntDistribution): 0.006720532282259246\\u003cextra\\u003e\\u003c\\u002fextra\\u003e\",\"lambda_l2 (FloatDistribution): 0.007995052970377071\\u003cextra\\u003e\\u003c\\u002fextra\\u003e\",\"min_child_samples (IntDistribution): 0.01052891996499351\\u003cextra\\u003e\\u003c\\u002fextra\\u003e\",\"colsample_bytree (FloatDistribution): 0.013713237923381345\\u003cextra\\u003e\\u003c\\u002fextra\\u003e\",\"max_depth (IntDistribution): 0.01764795108738348\\u003cextra\\u003e\\u003c\\u002fextra\\u003e\",\"boosting_type (CategoricalDistribution): 0.019602079796617492\\u003cextra\\u003e\\u003c\\u002fextra\\u003e\",\"feature_fraction (FloatDistribution): 0.04437074860077684\\u003cextra\\u003e\\u003c\\u002fextra\\u003e\",\"lambda_l1 (FloatDistribution): 0.0632213123834356\\u003cextra\\u003e\\u003c\\u002fextra\\u003e\",\"bagging_fraction (FloatDistribution): 0.06486432934333704\\u003cextra\\u003e\\u003c\\u002fextra\\u003e\",\"reg_alpha (FloatDistribution): 0.07535440515169646\\u003cextra\\u003e\\u003c\\u002fextra\\u003e\",\"bagging_freq (IntDistribution): 0.08234331307084604\\u003cextra\\u003e\\u003c\\u002fextra\\u003e\",\"learning_rate (FloatDistribution): 0.58839872015742\\u003cextra\\u003e\\u003c\\u002fextra\\u003e\"],\"name\":\"Objective Value\",\"orientation\":\"h\",\"text\":[\"\\u003c0.01\",\"\\u003c0.01\",\"\\u003c0.01\",\"0.01\",\"0.01\",\"0.02\",\"0.02\",\"0.04\",\"0.06\",\"0.06\",\"0.08\",\"0.08\",\"0.59\"],\"textposition\":\"outside\",\"x\":[0.005239397267475886,0.006720532282259246,0.007995052970377071,0.01052891996499351,0.013713237923381345,0.01764795108738348,0.019602079796617492,0.04437074860077684,0.0632213123834356,0.06486432934333704,0.07535440515169646,0.08234331307084604,0.58839872015742],\"y\":[\"reg_lambda\",\"num_leaves\",\"lambda_l2\",\"min_child_samples\",\"colsample_bytree\",\"max_depth\",\"boosting_type\",\"feature_fraction\",\"lambda_l1\",\"bagging_fraction\",\"reg_alpha\",\"bagging_freq\",\"learning_rate\"],\"type\":\"bar\"}],                        {\"title\":{\"text\":\"Hyperparameter Importances\"},\"xaxis\":{\"title\":{\"text\":\"Hyperparameter Importance\"}},\"yaxis\":{\"title\":{\"text\":\"Hyperparameter\"}},\"template\":{\"data\":{\"histogram2dcontour\":[{\"type\":\"histogram2dcontour\",\"colorbar\":{\"outlinewidth\":0,\"ticks\":\"\"},\"colorscale\":[[0.0,\"#0d0887\"],[0.1111111111111111,\"#46039f\"],[0.2222222222222222,\"#7201a8\"],[0.3333333333333333,\"#9c179e\"],[0.4444444444444444,\"#bd3786\"],[0.5555555555555556,\"#d8576b\"],[0.6666666666666666,\"#ed7953\"],[0.7777777777777778,\"#fb9f3a\"],[0.8888888888888888,\"#fdca26\"],[1.0,\"#f0f921\"]]}],\"choropleth\":[{\"type\":\"choropleth\",\"colorbar\":{\"outlinewidth\":0,\"ticks\":\"\"}}],\"histogram2d\":[{\"type\":\"histogram2d\",\"colorbar\":{\"outlinewidth\":0,\"ticks\":\"\"},\"colorscale\":[[0.0,\"#0d0887\"],[0.1111111111111111,\"#46039f\"],[0.2222222222222222,\"#7201a8\"],[0.3333333333333333,\"#9c179e\"],[0.4444444444444444,\"#bd3786\"],[0.5555555555555556,\"#d8576b\"],[0.6666666666666666,\"#ed7953\"],[0.7777777777777778,\"#fb9f3a\"],[0.8888888888888888,\"#fdca26\"],[1.0,\"#f0f921\"]]}],\"heatmap\":[{\"type\":\"heatmap\",\"colorbar\":{\"outlinewidth\":0,\"ticks\":\"\"},\"colorscale\":[[0.0,\"#0d0887\"],[0.1111111111111111,\"#46039f\"],[0.2222222222222222,\"#7201a8\"],[0.3333333333333333,\"#9c179e\"],[0.4444444444444444,\"#bd3786\"],[0.5555555555555556,\"#d8576b\"],[0.6666666666666666,\"#ed7953\"],[0.7777777777777778,\"#fb9f3a\"],[0.8888888888888888,\"#fdca26\"],[1.0,\"#f0f921\"]]}],\"heatmapgl\":[{\"type\":\"heatmapgl\",\"colorbar\":{\"outlinewidth\":0,\"ticks\":\"\"},\"colorscale\":[[0.0,\"#0d0887\"],[0.1111111111111111,\"#46039f\"],[0.2222222222222222,\"#7201a8\"],[0.3333333333333333,\"#9c179e\"],[0.4444444444444444,\"#bd3786\"],[0.5555555555555556,\"#d8576b\"],[0.6666666666666666,\"#ed7953\"],[0.7777777777777778,\"#fb9f3a\"],[0.8888888888888888,\"#fdca26\"],[1.0,\"#f0f921\"]]}],\"contourcarpet\":[{\"type\":\"contourcarpet\",\"colorbar\":{\"outlinewidth\":0,\"ticks\":\"\"}}],\"contour\":[{\"type\":\"contour\",\"colorbar\":{\"outlinewidth\":0,\"ticks\":\"\"},\"colorscale\":[[0.0,\"#0d0887\"],[0.1111111111111111,\"#46039f\"],[0.2222222222222222,\"#7201a8\"],[0.3333333333333333,\"#9c179e\"],[0.4444444444444444,\"#bd3786\"],[0.5555555555555556,\"#d8576b\"],[0.6666666666666666,\"#ed7953\"],[0.7777777777777778,\"#fb9f3a\"],[0.8888888888888888,\"#fdca26\"],[1.0,\"#f0f921\"]]}],\"surface\":[{\"type\":\"surface\",\"colorbar\":{\"outlinewidth\":0,\"ticks\":\"\"},\"colorscale\":[[0.0,\"#0d0887\"],[0.1111111111111111,\"#46039f\"],[0.2222222222222222,\"#7201a8\"],[0.3333333333333333,\"#9c179e\"],[0.4444444444444444,\"#bd3786\"],[0.5555555555555556,\"#d8576b\"],[0.6666666666666666,\"#ed7953\"],[0.7777777777777778,\"#fb9f3a\"],[0.8888888888888888,\"#fdca26\"],[1.0,\"#f0f921\"]]}],\"mesh3d\":[{\"type\":\"mesh3d\",\"colorbar\":{\"outlinewidth\":0,\"ticks\":\"\"}}],\"scatter\":[{\"fillpattern\":{\"fillmode\":\"overlay\",\"size\":10,\"solidity\":0.2},\"type\":\"scatter\"}],\"parcoords\":[{\"type\":\"parcoords\",\"line\":{\"colorbar\":{\"outlinewidth\":0,\"ticks\":\"\"}}}],\"scatterpolargl\":[{\"type\":\"scatterpolargl\",\"marker\":{\"colorbar\":{\"outlinewidth\":0,\"ticks\":\"\"}}}],\"bar\":[{\"error_x\":{\"color\":\"#2a3f5f\"},\"error_y\":{\"color\":\"#2a3f5f\"},\"marker\":{\"line\":{\"color\":\"#E5ECF6\",\"width\":0.5},\"pattern\":{\"fillmode\":\"overlay\",\"size\":10,\"solidity\":0.2}},\"type\":\"bar\"}],\"scattergeo\":[{\"type\":\"scattergeo\",\"marker\":{\"colorbar\":{\"outlinewidth\":0,\"ticks\":\"\"}}}],\"scatterpolar\":[{\"type\":\"scatterpolar\",\"marker\":{\"colorbar\":{\"outlinewidth\":0,\"ticks\":\"\"}}}],\"histogram\":[{\"marker\":{\"pattern\":{\"fillmode\":\"overlay\",\"size\":10,\"solidity\":0.2}},\"type\":\"histogram\"}],\"scattergl\":[{\"type\":\"scattergl\",\"marker\":{\"colorbar\":{\"outlinewidth\":0,\"ticks\":\"\"}}}],\"scatter3d\":[{\"type\":\"scatter3d\",\"line\":{\"colorbar\":{\"outlinewidth\":0,\"ticks\":\"\"}},\"marker\":{\"colorbar\":{\"outlinewidth\":0,\"ticks\":\"\"}}}],\"scattermapbox\":[{\"type\":\"scattermapbox\",\"marker\":{\"colorbar\":{\"outlinewidth\":0,\"ticks\":\"\"}}}],\"scatterternary\":[{\"type\":\"scatterternary\",\"marker\":{\"colorbar\":{\"outlinewidth\":0,\"ticks\":\"\"}}}],\"scattercarpet\":[{\"type\":\"scattercarpet\",\"marker\":{\"colorbar\":{\"outlinewidth\":0,\"ticks\":\"\"}}}],\"carpet\":[{\"aaxis\":{\"endlinecolor\":\"#2a3f5f\",\"gridcolor\":\"white\",\"linecolor\":\"white\",\"minorgridcolor\":\"white\",\"startlinecolor\":\"#2a3f5f\"},\"baxis\":{\"endlinecolor\":\"#2a3f5f\",\"gridcolor\":\"white\",\"linecolor\":\"white\",\"minorgridcolor\":\"white\",\"startlinecolor\":\"#2a3f5f\"},\"type\":\"carpet\"}],\"table\":[{\"cells\":{\"fill\":{\"color\":\"#EBF0F8\"},\"line\":{\"color\":\"white\"}},\"header\":{\"fill\":{\"color\":\"#C8D4E3\"},\"line\":{\"color\":\"white\"}},\"type\":\"table\"}],\"barpolar\":[{\"marker\":{\"line\":{\"color\":\"#E5ECF6\",\"width\":0.5},\"pattern\":{\"fillmode\":\"overlay\",\"size\":10,\"solidity\":0.2}},\"type\":\"barpolar\"}],\"pie\":[{\"automargin\":true,\"type\":\"pie\"}]},\"layout\":{\"autotypenumbers\":\"strict\",\"colorway\":[\"#636efa\",\"#EF553B\",\"#00cc96\",\"#ab63fa\",\"#FFA15A\",\"#19d3f3\",\"#FF6692\",\"#B6E880\",\"#FF97FF\",\"#FECB52\"],\"font\":{\"color\":\"#2a3f5f\"},\"hovermode\":\"closest\",\"hoverlabel\":{\"align\":\"left\"},\"paper_bgcolor\":\"white\",\"plot_bgcolor\":\"#E5ECF6\",\"polar\":{\"bgcolor\":\"#E5ECF6\",\"angularaxis\":{\"gridcolor\":\"white\",\"linecolor\":\"white\",\"ticks\":\"\"},\"radialaxis\":{\"gridcolor\":\"white\",\"linecolor\":\"white\",\"ticks\":\"\"}},\"ternary\":{\"bgcolor\":\"#E5ECF6\",\"aaxis\":{\"gridcolor\":\"white\",\"linecolor\":\"white\",\"ticks\":\"\"},\"baxis\":{\"gridcolor\":\"white\",\"linecolor\":\"white\",\"ticks\":\"\"},\"caxis\":{\"gridcolor\":\"white\",\"linecolor\":\"white\",\"ticks\":\"\"}},\"coloraxis\":{\"colorbar\":{\"outlinewidth\":0,\"ticks\":\"\"}},\"colorscale\":{\"sequential\":[[0.0,\"#0d0887\"],[0.1111111111111111,\"#46039f\"],[0.2222222222222222,\"#7201a8\"],[0.3333333333333333,\"#9c179e\"],[0.4444444444444444,\"#bd3786\"],[0.5555555555555556,\"#d8576b\"],[0.6666666666666666,\"#ed7953\"],[0.7777777777777778,\"#fb9f3a\"],[0.8888888888888888,\"#fdca26\"],[1.0,\"#f0f921\"]],\"sequentialminus\":[[0.0,\"#0d0887\"],[0.1111111111111111,\"#46039f\"],[0.2222222222222222,\"#7201a8\"],[0.3333333333333333,\"#9c179e\"],[0.4444444444444444,\"#bd3786\"],[0.5555555555555556,\"#d8576b\"],[0.6666666666666666,\"#ed7953\"],[0.7777777777777778,\"#fb9f3a\"],[0.8888888888888888,\"#fdca26\"],[1.0,\"#f0f921\"]],\"diverging\":[[0,\"#8e0152\"],[0.1,\"#c51b7d\"],[0.2,\"#de77ae\"],[0.3,\"#f1b6da\"],[0.4,\"#fde0ef\"],[0.5,\"#f7f7f7\"],[0.6,\"#e6f5d0\"],[0.7,\"#b8e186\"],[0.8,\"#7fbc41\"],[0.9,\"#4d9221\"],[1,\"#276419\"]]},\"xaxis\":{\"gridcolor\":\"white\",\"linecolor\":\"white\",\"ticks\":\"\",\"title\":{\"standoff\":15},\"zerolinecolor\":\"white\",\"automargin\":true,\"zerolinewidth\":2},\"yaxis\":{\"gridcolor\":\"white\",\"linecolor\":\"white\",\"ticks\":\"\",\"title\":{\"standoff\":15},\"zerolinecolor\":\"white\",\"automargin\":true,\"zerolinewidth\":2},\"scene\":{\"xaxis\":{\"backgroundcolor\":\"#E5ECF6\",\"gridcolor\":\"white\",\"linecolor\":\"white\",\"showbackground\":true,\"ticks\":\"\",\"zerolinecolor\":\"white\",\"gridwidth\":2},\"yaxis\":{\"backgroundcolor\":\"#E5ECF6\",\"gridcolor\":\"white\",\"linecolor\":\"white\",\"showbackground\":true,\"ticks\":\"\",\"zerolinecolor\":\"white\",\"gridwidth\":2},\"zaxis\":{\"backgroundcolor\":\"#E5ECF6\",\"gridcolor\":\"white\",\"linecolor\":\"white\",\"showbackground\":true,\"ticks\":\"\",\"zerolinecolor\":\"white\",\"gridwidth\":2}},\"shapedefaults\":{\"line\":{\"color\":\"#2a3f5f\"}},\"annotationdefaults\":{\"arrowcolor\":\"#2a3f5f\",\"arrowhead\":0,\"arrowwidth\":1},\"geo\":{\"bgcolor\":\"white\",\"landcolor\":\"#E5ECF6\",\"subunitcolor\":\"white\",\"showland\":true,\"showlakes\":true,\"lakecolor\":\"white\"},\"title\":{\"x\":0.05},\"mapbox\":{\"style\":\"light\"}}}},                        {\"responsive\": true}                    ).then(function(){\n",
       "                            \n",
       "var gd = document.getElementById('a0231d50-4596-45a5-b0cf-d3ead5bac205');\n",
       "var x = new MutationObserver(function (mutations, observer) {{\n",
       "        var display = window.getComputedStyle(gd).display;\n",
       "        if (!display || display === 'none') {{\n",
       "            console.log([gd, 'removed!']);\n",
       "            Plotly.purge(gd);\n",
       "            observer.disconnect();\n",
       "        }}\n",
       "}});\n",
       "\n",
       "// Listen for the removal of the full notebook cells\n",
       "var notebookContainer = gd.closest('#notebook-container');\n",
       "if (notebookContainer) {{\n",
       "    x.observe(notebookContainer, {childList: true});\n",
       "}}\n",
       "\n",
       "// Listen for the clearing of the current output cell\n",
       "var outputEl = gd.closest('.output');\n",
       "if (outputEl) {{\n",
       "    x.observe(outputEl, {childList: true});\n",
       "}}\n",
       "\n",
       "                        })                };                });            </script>        </div>"
      ]
     },
     "metadata": {},
     "output_type": "display_data"
    }
   ],
   "source": [
    "optuna.visualization.plot_param_importances(study)"
   ]
  },
  {
   "cell_type": "code",
   "execution_count": 21,
   "id": "d2715ece",
   "metadata": {
    "execution": {
     "iopub.execute_input": "2024-07-15T16:55:37.071828Z",
     "iopub.status.busy": "2024-07-15T16:55:37.071173Z",
     "iopub.status.idle": "2024-07-15T16:55:37.544717Z",
     "shell.execute_reply": "2024-07-15T16:55:37.543696Z"
    },
    "papermill": {
     "duration": 0.487958,
     "end_time": "2024-07-15T16:55:37.546915",
     "exception": false,
     "start_time": "2024-07-15T16:55:37.058957",
     "status": "completed"
    },
    "tags": []
   },
   "outputs": [
    {
     "data": {
      "text/plain": [
       "<Axes: title={'center': 'Feature importance'}, xlabel='Feature importance', ylabel='Features'>"
      ]
     },
     "execution_count": 21,
     "metadata": {},
     "output_type": "execute_result"
    },
    {
     "data": {
      "image/png": "[encoded data removed]",
      "text/plain": [
       "<Figure size 640x480 with 1 Axes>"
      ]
     },
     "metadata": {},
     "output_type": "display_data"
    }
   ],
   "source": [
    "lgb.plot_importance(model)"
   ]
  },
  {
   "cell_type": "code",
   "execution_count": 22,
   "id": "7b88427b",
   "metadata": {
    "execution": {
     "iopub.execute_input": "2024-07-15T16:55:37.572544Z",
     "iopub.status.busy": "2024-07-15T16:55:37.572143Z",
     "iopub.status.idle": "2024-07-15T16:55:37.960711Z",
     "shell.execute_reply": "2024-07-15T16:55:37.959622Z"
    },
    "papermill": {
     "duration": 0.403954,
     "end_time": "2024-07-15T16:55:37.962999",
     "exception": false,
     "start_time": "2024-07-15T16:55:37.559045",
     "status": "completed"
    },
    "tags": []
   },
   "outputs": [
    {
     "data": {
      "text/plain": [
       "<Axes: title={'center': 'Metric during training'}, xlabel='Iterations', ylabel='l2'>"
      ]
     },
     "execution_count": 22,
     "metadata": {},
     "output_type": "execute_result"
    },
    {
     "data": {
      "image/png": "[encoded data removed]",
      "text/plain": [
       "<Figure size 640x480 with 1 Axes>"
      ]
     },
     "metadata": {},
     "output_type": "display_data"
    }
   ],
   "source": [
    "lgb.plot_metric(model,\n",
    "                metric='l2')"
   ]
  },
  {
   "cell_type": "code",
   "execution_count": 23,
   "id": "afe1a539",
   "metadata": {
    "execution": {
     "iopub.execute_input": "2024-07-15T16:55:37.989884Z",
     "iopub.status.busy": "2024-07-15T16:55:37.989507Z",
     "iopub.status.idle": "2024-07-15T16:55:38.001689Z",
     "shell.execute_reply": "2024-07-15T16:55:38.000729Z"
    },
    "papermill": {
     "duration": 0.027938,
     "end_time": "2024-07-15T16:55:38.003778",
     "exception": false,
     "start_time": "2024-07-15T16:55:37.975840",
     "status": "completed"
    },
    "tags": []
   },
   "outputs": [
    {
     "data": {
      "text/plain": [
       "['my_model.pkl']"
      ]
     },
     "execution_count": 23,
     "metadata": {},
     "output_type": "execute_result"
    }
   ],
   "source": [
    "import joblib\n",
    "joblib.dump(model, 'my_model.pkl')"
   ]
  }
 ],
 "metadata": {
  "kaggle": {
   "accelerator": "none",
   "dataSources": [
    {
     "databundleVersionId": 6989718,
     "sourceId": 60892,
     "sourceType": "competition"
    }
   ],
   "dockerImageVersionId": 30746,
   "isGpuEnabled": false,
   "isInternetEnabled": false,
   "language": "python",
   "sourceType": "notebook"
  },
  "kernelspec": {
   "display_name": "Python 3",
   "language": "python",
   "name": "python3"
  },
  "language_info": {
   "codemirror_mode": {
    "name": "ipython",
    "version": 3
   },
   "file_extension": ".py",
   "mimetype": "text/x-python",
   "name": "python",
   "nbconvert_exporter": "python",
   "pygments_lexer": "ipython3",
   "version": "3.10.13"
  },
  "papermill": {
   "default_parameters": {},
   "duration": 45.357493,
   "end_time": "2024-07-15T16:55:38.737414",
   "environment_variables": {},
   "exception": null,
   "input_path": "__notebook__.ipynb",
   "output_path": "__notebook__.ipynb",
   "parameters": {},
   "start_time": "2024-07-15T16:54:53.379921",
   "version": "2.5.0"
  }
 },
 "nbformat": 4,
 "nbformat_minor": 5
}
