{
 "cells": [
  {
   "cell_type": "code",
   "execution_count": 1,
   "id": "527824f4",
   "metadata": {
    "_cell_guid": "b1076dfc-b9ad-4769-8c92-a6c4dae69d19",
    "_uuid": "8f2839f25d086af736a60e9eeb907d3b93b6e0e5",
    "execution": {
     "iopub.execute_input": "2024-07-14T14:13:43.379920Z",
     "iopub.status.busy": "2024-07-14T14:13:43.379411Z",
     "iopub.status.idle": "2024-07-14T14:13:44.458756Z",
     "shell.execute_reply": "2024-07-14T14:13:44.457252Z"
    },
    "papermill": {
     "duration": 1.093568,
     "end_time": "2024-07-14T14:13:44.461637",
     "exception": false,
     "start_time": "2024-07-14T14:13:43.368069",
     "status": "completed"
    },
    "tags": []
   },
   "outputs": [
    {
     "name": "stdout",
     "output_type": "stream",
     "text": [
      "/kaggle/input/playground-series-s3e25/sample_submission.csv\n",
      "/kaggle/input/playground-series-s3e25/train.csv\n",
      "/kaggle/input/playground-series-s3e25/test.csv\n"
     ]
    }
   ],
   "source": [
    "# This Python 3 environment comes with many helpful analytics libraries installed\n",
    "# It is defined by the kaggle/python Docker image: https://github.com/kaggle/docker-python\n",
    "# For example, here's several helpful packages to load\n",
    "\n",
    "import numpy as np # linear algebra\n",
    "import pandas as pd # data processing, CSV file I/O (e.g. pd.read_csv)\n",
    "\n",
    "# Input data files are available in the read-only \"../input/\" directory\n",
    "# For example, running this (by clicking run or pressing Shift+Enter) will list all files under the input directory\n",
    "\n",
    "import os\n",
    "for dirname, _, filenames in os.walk('/kaggle/input'):\n",
    "    for filename in filenames:\n",
    "        print(os.path.join(dirname, filename))\n",
    "\n",
    "# You can write up to 20GB to the current directory (/kaggle/working/) that gets preserved as output when you create a version using \"Save & Run All\" \n",
    "# You can also write temporary files to /kaggle/temp/, but they won't be saved outside of the current session"
   ]
  },
  {
   "cell_type": "code",
   "execution_count": 2,
   "id": "68896b5a",
   "metadata": {
    "execution": {
     "iopub.execute_input": "2024-07-14T14:13:44.481990Z",
     "iopub.status.busy": "2024-07-14T14:13:44.481425Z",
     "iopub.status.idle": "2024-07-14T14:13:44.542154Z",
     "shell.execute_reply": "2024-07-14T14:13:44.540899Z"
    },
    "papermill": {
     "duration": 0.074151,
     "end_time": "2024-07-14T14:13:44.545128",
     "exception": false,
     "start_time": "2024-07-14T14:13:44.470977",
     "status": "completed"
    },
    "tags": []
   },
   "outputs": [],
   "source": [
    "df=pd.read_csv('/kaggle/input/playground-series-s3e25/train.csv')"
   ]
  },
  {
   "cell_type": "code",
   "execution_count": 3,
   "id": "fb4646f8",
   "metadata": {
    "execution": {
     "iopub.execute_input": "2024-07-14T14:13:44.565689Z",
     "iopub.status.busy": "2024-07-14T14:13:44.564642Z",
     "iopub.status.idle": "2024-07-14T14:13:44.602513Z",
     "shell.execute_reply": "2024-07-14T14:13:44.600938Z"
    },
    "papermill": {
     "duration": 0.051222,
     "end_time": "2024-07-14T14:13:44.605391",
     "exception": false,
     "start_time": "2024-07-14T14:13:44.554169",
     "status": "completed"
    },
    "tags": []
   },
   "outputs": [
    {
     "name": "stdout",
     "output_type": "stream",
     "text": [
      "<class 'pandas.core.frame.DataFrame'>\n",
      "RangeIndex: 10407 entries, 0 to 10406\n",
      "Data columns (total 13 columns):\n",
      " #   Column                 Non-Null Count  Dtype  \n",
      "---  ------                 --------------  -----  \n",
      " 0   id                     10407 non-null  int64  \n",
      " 1   allelectrons_Total     10407 non-null  float64\n",
      " 2   density_Total          10407 non-null  float64\n",
      " 3   allelectrons_Average   10407 non-null  float64\n",
      " 4   val_e_Average          10407 non-null  float64\n",
      " 5   atomicweight_Average   10407 non-null  float64\n",
      " 6   ionenergy_Average      10407 non-null  float64\n",
      " 7   el_neg_chi_Average     10407 non-null  float64\n",
      " 8   R_vdw_element_Average  10407 non-null  float64\n",
      " 9   R_cov_element_Average  10407 non-null  float64\n",
      " 10  zaratio_Average        10407 non-null  float64\n",
      " 11  density_Average        10407 non-null  float64\n",
      " 12  Hardness               10407 non-null  float64\n",
      "dtypes: float64(12), int64(1)\n",
      "memory usage: 1.0 MB\n"
     ]
    }
   ],
   "source": [
    "df.info()"
   ]
  },
  {
   "cell_type": "code",
   "execution_count": 4,
   "id": "bb3ba285",
   "metadata": {
    "execution": {
     "iopub.execute_input": "2024-07-14T14:13:44.626152Z",
     "iopub.status.busy": "2024-07-14T14:13:44.625666Z",
     "iopub.status.idle": "2024-07-14T14:13:44.697797Z",
     "shell.execute_reply": "2024-07-14T14:13:44.696422Z"
    },
    "papermill": {
     "duration": 0.085843,
     "end_time": "2024-07-14T14:13:44.700457",
     "exception": false,
     "start_time": "2024-07-14T14:13:44.614614",
     "status": "completed"
    },
    "tags": []
   },
   "outputs": [
    {
     "data": {
      "text/html": [
       "<div>\n",
       "<style scoped>\n",
       "    .dataframe tbody tr th:only-of-type {\n",
       "        vertical-align: middle;\n",
       "    }\n",
       "\n",
       "    .dataframe tbody tr th {\n",
       "        vertical-align: top;\n",
       "    }\n",
       "\n",
       "    .dataframe thead th {\n",
       "        text-align: right;\n",
       "    }\n",
       "</style>\n",
       "<table border=\"1\" class=\"dataframe\">\n",
       "  <thead>\n",
       "    <tr style=\"text-align: right;\">\n",
       "      <th></th>\n",
       "      <th>id</th>\n",
       "      <th>allelectrons_Total</th>\n",
       "      <th>density_Total</th>\n",
       "      <th>allelectrons_Average</th>\n",
       "      <th>val_e_Average</th>\n",
       "      <th>atomicweight_Average</th>\n",
       "      <th>ionenergy_Average</th>\n",
       "      <th>el_neg_chi_Average</th>\n",
       "      <th>R_vdw_element_Average</th>\n",
       "      <th>R_cov_element_Average</th>\n",
       "      <th>zaratio_Average</th>\n",
       "      <th>density_Average</th>\n",
       "      <th>Hardness</th>\n",
       "    </tr>\n",
       "  </thead>\n",
       "  <tbody>\n",
       "    <tr>\n",
       "      <th>count</th>\n",
       "      <td>10407.00000</td>\n",
       "      <td>10407.000000</td>\n",
       "      <td>10407.000000</td>\n",
       "      <td>10407.000000</td>\n",
       "      <td>10407.000000</td>\n",
       "      <td>10407.000000</td>\n",
       "      <td>10407.000000</td>\n",
       "      <td>10407.000000</td>\n",
       "      <td>10407.000000</td>\n",
       "      <td>10407.000000</td>\n",
       "      <td>10407.000000</td>\n",
       "      <td>10407.000000</td>\n",
       "      <td>10407.000000</td>\n",
       "    </tr>\n",
       "    <tr>\n",
       "      <th>mean</th>\n",
       "      <td>5203.00000</td>\n",
       "      <td>128.053516</td>\n",
       "      <td>14.491342</td>\n",
       "      <td>17.033222</td>\n",
       "      <td>4.546789</td>\n",
       "      <td>37.507703</td>\n",
       "      <td>10.938308</td>\n",
       "      <td>2.607662</td>\n",
       "      <td>1.731330</td>\n",
       "      <td>0.944132</td>\n",
       "      <td>0.493349</td>\n",
       "      <td>2.132984</td>\n",
       "      <td>4.647126</td>\n",
       "    </tr>\n",
       "    <tr>\n",
       "      <th>std</th>\n",
       "      <td>3004.38646</td>\n",
       "      <td>224.123776</td>\n",
       "      <td>15.972877</td>\n",
       "      <td>10.468734</td>\n",
       "      <td>0.690864</td>\n",
       "      <td>26.012313</td>\n",
       "      <td>1.408276</td>\n",
       "      <td>0.334906</td>\n",
       "      <td>0.192481</td>\n",
       "      <td>0.180017</td>\n",
       "      <td>0.063080</td>\n",
       "      <td>1.936656</td>\n",
       "      <td>1.680525</td>\n",
       "    </tr>\n",
       "    <tr>\n",
       "      <th>min</th>\n",
       "      <td>0.00000</td>\n",
       "      <td>0.000000</td>\n",
       "      <td>0.000000</td>\n",
       "      <td>0.000000</td>\n",
       "      <td>0.000000</td>\n",
       "      <td>0.000000</td>\n",
       "      <td>0.000000</td>\n",
       "      <td>0.000000</td>\n",
       "      <td>0.000000</td>\n",
       "      <td>0.000000</td>\n",
       "      <td>0.000000</td>\n",
       "      <td>0.000000</td>\n",
       "      <td>1.000000</td>\n",
       "    </tr>\n",
       "    <tr>\n",
       "      <th>25%</th>\n",
       "      <td>2601.50000</td>\n",
       "      <td>68.000000</td>\n",
       "      <td>7.558488</td>\n",
       "      <td>10.000000</td>\n",
       "      <td>4.000000</td>\n",
       "      <td>20.298893</td>\n",
       "      <td>10.590660</td>\n",
       "      <td>2.530000</td>\n",
       "      <td>1.672500</td>\n",
       "      <td>0.864000</td>\n",
       "      <td>0.476196</td>\n",
       "      <td>0.814800</td>\n",
       "      <td>3.000000</td>\n",
       "    </tr>\n",
       "    <tr>\n",
       "      <th>50%</th>\n",
       "      <td>5203.00000</td>\n",
       "      <td>100.000000</td>\n",
       "      <td>10.650000</td>\n",
       "      <td>12.600000</td>\n",
       "      <td>4.714286</td>\n",
       "      <td>26.203827</td>\n",
       "      <td>11.202760</td>\n",
       "      <td>2.706000</td>\n",
       "      <td>1.732727</td>\n",
       "      <td>0.915556</td>\n",
       "      <td>0.488550</td>\n",
       "      <td>1.351550</td>\n",
       "      <td>5.500000</td>\n",
       "    </tr>\n",
       "    <tr>\n",
       "      <th>75%</th>\n",
       "      <td>7804.50000</td>\n",
       "      <td>131.000000</td>\n",
       "      <td>16.676996</td>\n",
       "      <td>22.000000</td>\n",
       "      <td>4.800000</td>\n",
       "      <td>48.719500</td>\n",
       "      <td>11.670725</td>\n",
       "      <td>2.805000</td>\n",
       "      <td>1.800000</td>\n",
       "      <td>0.981667</td>\n",
       "      <td>0.496070</td>\n",
       "      <td>2.741550</td>\n",
       "      <td>6.000000</td>\n",
       "    </tr>\n",
       "    <tr>\n",
       "      <th>max</th>\n",
       "      <td>10406.00000</td>\n",
       "      <td>15300.000000</td>\n",
       "      <td>643.093804</td>\n",
       "      <td>67.000000</td>\n",
       "      <td>6.000000</td>\n",
       "      <td>167.400000</td>\n",
       "      <td>15.245810</td>\n",
       "      <td>3.443000</td>\n",
       "      <td>2.250000</td>\n",
       "      <td>1.615840</td>\n",
       "      <td>0.825990</td>\n",
       "      <td>10.970000</td>\n",
       "      <td>10.000000</td>\n",
       "    </tr>\n",
       "  </tbody>\n",
       "</table>\n",
       "</div>"
      ],
      "text/plain": [
       "                id  allelectrons_Total  density_Total  allelectrons_Average  \\\n",
       "count  10407.00000        10407.000000   10407.000000          10407.000000   \n",
       "mean    5203.00000          128.053516      14.491342             17.033222   \n",
       "std     3004.38646          224.123776      15.972877             10.468734   \n",
       "min        0.00000            0.000000       0.000000              0.000000   \n",
       "25%     2601.50000           68.000000       7.558488             10.000000   \n",
       "50%     5203.00000          100.000000      10.650000             12.600000   \n",
       "75%     7804.50000          131.000000      16.676996             22.000000   \n",
       "max    10406.00000        15300.000000     643.093804             67.000000   \n",
       "\n",
       "       val_e_Average  atomicweight_Average  ionenergy_Average  \\\n",
       "count   10407.000000          10407.000000       10407.000000   \n",
       "mean        4.546789             37.507703          10.938308   \n",
       "std         0.690864             26.012313           1.408276   \n",
       "min         0.000000              0.000000           0.000000   \n",
       "25%         4.000000             20.298893          10.590660   \n",
       "50%         4.714286             26.203827          11.202760   \n",
       "75%         4.800000             48.719500          11.670725   \n",
       "max         6.000000            167.400000          15.245810   \n",
       "\n",
       "       el_neg_chi_Average  R_vdw_element_Average  R_cov_element_Average  \\\n",
       "count        10407.000000           10407.000000           10407.000000   \n",
       "mean             2.607662               1.731330               0.944132   \n",
       "std              0.334906               0.192481               0.180017   \n",
       "min              0.000000               0.000000               0.000000   \n",
       "25%              2.530000               1.672500               0.864000   \n",
       "50%              2.706000               1.732727               0.915556   \n",
       "75%              2.805000               1.800000               0.981667   \n",
       "max              3.443000               2.250000               1.615840   \n",
       "\n",
       "       zaratio_Average  density_Average      Hardness  \n",
       "count     10407.000000     10407.000000  10407.000000  \n",
       "mean          0.493349         2.132984      4.647126  \n",
       "std           0.063080         1.936656      1.680525  \n",
       "min           0.000000         0.000000      1.000000  \n",
       "25%           0.476196         0.814800      3.000000  \n",
       "50%           0.488550         1.351550      5.500000  \n",
       "75%           0.496070         2.741550      6.000000  \n",
       "max           0.825990        10.970000     10.000000  "
      ]
     },
     "execution_count": 4,
     "metadata": {},
     "output_type": "execute_result"
    }
   ],
   "source": [
    "df.describe()"
   ]
  },
  {
   "cell_type": "code",
   "execution_count": 5,
   "id": "b1624783",
   "metadata": {
    "execution": {
     "iopub.execute_input": "2024-07-14T14:13:44.721562Z",
     "iopub.status.busy": "2024-07-14T14:13:44.721102Z",
     "iopub.status.idle": "2024-07-14T14:13:44.731024Z",
     "shell.execute_reply": "2024-07-14T14:13:44.729396Z"
    },
    "papermill": {
     "duration": 0.023892,
     "end_time": "2024-07-14T14:13:44.733692",
     "exception": false,
     "start_time": "2024-07-14T14:13:44.709800",
     "status": "completed"
    },
    "tags": []
   },
   "outputs": [],
   "source": [
    "id_data = df['id']\n",
    "df = df.drop(columns = ['id'])"
   ]
  },
  {
   "cell_type": "code",
   "execution_count": 6,
   "id": "84321883",
   "metadata": {
    "execution": {
     "iopub.execute_input": "2024-07-14T14:13:44.755109Z",
     "iopub.status.busy": "2024-07-14T14:13:44.754629Z",
     "iopub.status.idle": "2024-07-14T14:13:44.762555Z",
     "shell.execute_reply": "2024-07-14T14:13:44.761342Z"
    },
    "papermill": {
     "duration": 0.021834,
     "end_time": "2024-07-14T14:13:44.765167",
     "exception": false,
     "start_time": "2024-07-14T14:13:44.743333",
     "status": "completed"
    },
    "tags": []
   },
   "outputs": [],
   "source": [
    "y = df['Hardness']\n",
    "X = df.drop(columns='Hardness')"
   ]
  },
  {
   "cell_type": "code",
   "execution_count": 7,
   "id": "c39a8713",
   "metadata": {
    "execution": {
     "iopub.execute_input": "2024-07-14T14:13:44.786538Z",
     "iopub.status.busy": "2024-07-14T14:13:44.786081Z",
     "iopub.status.idle": "2024-07-14T14:13:47.758030Z",
     "shell.execute_reply": "2024-07-14T14:13:47.756386Z"
    },
    "papermill": {
     "duration": 2.985937,
     "end_time": "2024-07-14T14:13:47.760983",
     "exception": false,
     "start_time": "2024-07-14T14:13:44.775046",
     "status": "completed"
    },
    "tags": []
   },
   "outputs": [],
   "source": [
    "import matplotlib.pyplot as plt\n",
    "from sklearn import model_selection, metrics\n",
    "import lightgbm as lgb"
   ]
  },
  {
   "cell_type": "code",
   "execution_count": 8,
   "id": "e099c79a",
   "metadata": {
    "execution": {
     "iopub.execute_input": "2024-07-14T14:13:47.783397Z",
     "iopub.status.busy": "2024-07-14T14:13:47.782634Z",
     "iopub.status.idle": "2024-07-14T14:13:47.805691Z",
     "shell.execute_reply": "2024-07-14T14:13:47.803882Z"
    },
    "papermill": {
     "duration": 0.036986,
     "end_time": "2024-07-14T14:13:47.808449",
     "exception": false,
     "start_time": "2024-07-14T14:13:47.771463",
     "status": "completed"
    },
    "tags": []
   },
   "outputs": [
    {
     "name": "stdout",
     "output_type": "stream",
     "text": [
      "Train: 6243 samples \t 60%\n",
      "Test:  2082 samples \t 20%\n",
      "Val:   2082 samples \t 20%\n"
     ]
    }
   ],
   "source": [
    "from sklearn.model_selection import train_test_split\n",
    "\n",
    "X_train, X_test, y_train, y_test = train_test_split(X, y,\n",
    "                                                    train_size=0.8,\n",
    "                                                    random_state=42)\n",
    "\n",
    "X_train, X_val, y_train, y_val = train_test_split(X_train, y_train,\n",
    "                                                  train_size=0.75,\n",
    "                                                  random_state=42)\n",
    "\n",
    "print(f'Train: {X_train.shape[0]} samples \\t {round(X_train.shape[0] / X.shape[0] * 100)}%')\n",
    "print(f'Test:  {X_test.shape[0]} samples \\t {round(X_test.shape[0] / X.shape[0] * 100)}%')\n",
    "print(f'Val:   {X_val.shape[0]} samples \\t {round(X_val.shape[0] / X.shape[0] * 100)}%')"
   ]
  },
  {
   "cell_type": "code",
   "execution_count": 9,
   "id": "c598e4de",
   "metadata": {
    "execution": {
     "iopub.execute_input": "2024-07-14T14:13:47.829574Z",
     "iopub.status.busy": "2024-07-14T14:13:47.829109Z",
     "iopub.status.idle": "2024-07-14T14:13:48.047381Z",
     "shell.execute_reply": "2024-07-14T14:13:48.045409Z"
    },
    "papermill": {
     "duration": 0.233584,
     "end_time": "2024-07-14T14:13:48.051507",
     "exception": false,
     "start_time": "2024-07-14T14:13:47.817923",
     "status": "completed"
    },
    "tags": []
   },
   "outputs": [],
   "source": [
    "from sklearn.compose import ColumnTransformer\n",
    "from sklearn.pipeline import Pipeline\n",
    "from sklearn.impute import SimpleImputer\n",
    "from sklearn.preprocessing import OrdinalEncoder\n"
   ]
  },
  {
   "cell_type": "code",
   "execution_count": 10,
   "id": "36ab8ed4",
   "metadata": {
    "execution": {
     "iopub.execute_input": "2024-07-14T14:13:48.079039Z",
     "iopub.status.busy": "2024-07-14T14:13:48.077311Z",
     "iopub.status.idle": "2024-07-14T14:13:48.131590Z",
     "shell.execute_reply": "2024-07-14T14:13:48.130346Z"
    },
    "papermill": {
     "duration": 0.070057,
     "end_time": "2024-07-14T14:13:48.134342",
     "exception": false,
     "start_time": "2024-07-14T14:13:48.064285",
     "status": "completed"
    },
    "tags": []
   },
   "outputs": [
    {
     "data": {
      "text/html": [
       "<style>#sk-container-id-1 {color: black;background-color: white;}#sk-container-id-1 pre{padding: 0;}#sk-container-id-1 div.sk-toggleable {background-color: white;}#sk-container-id-1 label.sk-toggleable__label {cursor: pointer;display: block;width: 100%;margin-bottom: 0;padding: 0.3em;box-sizing: border-box;text-align: center;}#sk-container-id-1 label.sk-toggleable__label-arrow:before {content: \"▸\";float: left;margin-right: 0.25em;color: #696969;}#sk-container-id-1 label.sk-toggleable__label-arrow:hover:before {color: black;}#sk-container-id-1 div.sk-estimator:hover label.sk-toggleable__label-arrow:before {color: black;}#sk-container-id-1 div.sk-toggleable__content {max-height: 0;max-width: 0;overflow: hidden;text-align: left;background-color: #f0f8ff;}#sk-container-id-1 div.sk-toggleable__content pre {margin: 0.2em;color: black;border-radius: 0.25em;background-color: #f0f8ff;}#sk-container-id-1 input.sk-toggleable__control:checked~div.sk-toggleable__content {max-height: 200px;max-width: 100%;overflow: auto;}#sk-container-id-1 input.sk-toggleable__control:checked~label.sk-toggleable__label-arrow:before {content: \"▾\";}#sk-container-id-1 div.sk-estimator input.sk-toggleable__control:checked~label.sk-toggleable__label {background-color: #d4ebff;}#sk-container-id-1 div.sk-label input.sk-toggleable__control:checked~label.sk-toggleable__label {background-color: #d4ebff;}#sk-container-id-1 input.sk-hidden--visually {border: 0;clip: rect(1px 1px 1px 1px);clip: rect(1px, 1px, 1px, 1px);height: 1px;margin: -1px;overflow: hidden;padding: 0;position: absolute;width: 1px;}#sk-container-id-1 div.sk-estimator {font-family: monospace;background-color: #f0f8ff;border: 1px dotted black;border-radius: 0.25em;box-sizing: border-box;margin-bottom: 0.5em;}#sk-container-id-1 div.sk-estimator:hover {background-color: #d4ebff;}#sk-container-id-1 div.sk-parallel-item::after {content: \"\";width: 100%;border-bottom: 1px solid gray;flex-grow: 1;}#sk-container-id-1 div.sk-label:hover label.sk-toggleable__label {background-color: #d4ebff;}#sk-container-id-1 div.sk-serial::before {content: \"\";position: absolute;border-left: 1px solid gray;box-sizing: border-box;top: 0;bottom: 0;left: 50%;z-index: 0;}#sk-container-id-1 div.sk-serial {display: flex;flex-direction: column;align-items: center;background-color: white;padding-right: 0.2em;padding-left: 0.2em;position: relative;}#sk-container-id-1 div.sk-item {position: relative;z-index: 1;}#sk-container-id-1 div.sk-parallel {display: flex;align-items: stretch;justify-content: center;background-color: white;position: relative;}#sk-container-id-1 div.sk-item::before, #sk-container-id-1 div.sk-parallel-item::before {content: \"\";position: absolute;border-left: 1px solid gray;box-sizing: border-box;top: 0;bottom: 0;left: 50%;z-index: -1;}#sk-container-id-1 div.sk-parallel-item {display: flex;flex-direction: column;z-index: 1;position: relative;background-color: white;}#sk-container-id-1 div.sk-parallel-item:first-child::after {align-self: flex-end;width: 50%;}#sk-container-id-1 div.sk-parallel-item:last-child::after {align-self: flex-start;width: 50%;}#sk-container-id-1 div.sk-parallel-item:only-child::after {width: 0;}#sk-container-id-1 div.sk-dashed-wrapped {border: 1px dashed gray;margin: 0 0.4em 0.5em 0.4em;box-sizing: border-box;padding-bottom: 0.4em;background-color: white;}#sk-container-id-1 div.sk-label label {font-family: monospace;font-weight: bold;display: inline-block;line-height: 1.2em;}#sk-container-id-1 div.sk-label-container {text-align: center;}#sk-container-id-1 div.sk-container {/* jupyter's `normalize.less` sets `[hidden] { display: none; }` but bootstrap.min.css set `[hidden] { display: none !important; }` so we also need the `!important` here to be able to override the default hidden behavior on the sphinx rendered scikit-learn.org. See: https://github.com/scikit-learn/scikit-learn/issues/21755 */display: inline-block !important;position: relative;}#sk-container-id-1 div.sk-text-repr-fallback {display: none;}</style><div id=\"sk-container-id-1\" class=\"sk-top-container\"><div class=\"sk-text-repr-fallback\"><pre>ColumnTransformer(transformers=[(&#x27;num&#x27;,\n",
       "                                 Pipeline(steps=[(&#x27;imputer&#x27;,\n",
       "                                                  SimpleImputer(strategy=&#x27;median&#x27;))]),\n",
       "                                 Index([&#x27;allelectrons_Total&#x27;, &#x27;density_Total&#x27;, &#x27;allelectrons_Average&#x27;,\n",
       "       &#x27;val_e_Average&#x27;, &#x27;atomicweight_Average&#x27;, &#x27;ionenergy_Average&#x27;,\n",
       "       &#x27;el_neg_chi_Average&#x27;, &#x27;R_vdw_element_Average&#x27;, &#x27;R_cov_element_Average&#x27;,\n",
       "       &#x27;zaratio_Average&#x27;, &#x27;density_Average&#x27;],\n",
       "      dtype=&#x27;object&#x27;)),\n",
       "                                (&#x27;cat&#x27;,\n",
       "                                 Pipeline(steps=[(&#x27;imputer&#x27;,\n",
       "                                                  SimpleImputer(strategy=&#x27;most_frequent&#x27;)),\n",
       "                                                 (&#x27;encoder&#x27;,\n",
       "                                                  OrdinalEncoder(handle_unknown=&#x27;use_encoded_value&#x27;,\n",
       "                                                                 unknown_value=nan))]),\n",
       "                                 Index([], dtype=&#x27;object&#x27;))])</pre><b>In a Jupyter environment, please rerun this cell to show the HTML representation or trust the notebook. <br />On GitHub, the HTML representation is unable to render, please try loading this page with nbviewer.org.</b></div><div class=\"sk-container\" hidden><div class=\"sk-item sk-dashed-wrapped\"><div class=\"sk-label-container\"><div class=\"sk-label sk-toggleable\"><input class=\"sk-toggleable__control sk-hidden--visually\" id=\"sk-estimator-id-1\" type=\"checkbox\" ><label for=\"sk-estimator-id-1\" class=\"sk-toggleable__label sk-toggleable__label-arrow\">ColumnTransformer</label><div class=\"sk-toggleable__content\"><pre>ColumnTransformer(transformers=[(&#x27;num&#x27;,\n",
       "                                 Pipeline(steps=[(&#x27;imputer&#x27;,\n",
       "                                                  SimpleImputer(strategy=&#x27;median&#x27;))]),\n",
       "                                 Index([&#x27;allelectrons_Total&#x27;, &#x27;density_Total&#x27;, &#x27;allelectrons_Average&#x27;,\n",
       "       &#x27;val_e_Average&#x27;, &#x27;atomicweight_Average&#x27;, &#x27;ionenergy_Average&#x27;,\n",
       "       &#x27;el_neg_chi_Average&#x27;, &#x27;R_vdw_element_Average&#x27;, &#x27;R_cov_element_Average&#x27;,\n",
       "       &#x27;zaratio_Average&#x27;, &#x27;density_Average&#x27;],\n",
       "      dtype=&#x27;object&#x27;)),\n",
       "                                (&#x27;cat&#x27;,\n",
       "                                 Pipeline(steps=[(&#x27;imputer&#x27;,\n",
       "                                                  SimpleImputer(strategy=&#x27;most_frequent&#x27;)),\n",
       "                                                 (&#x27;encoder&#x27;,\n",
       "                                                  OrdinalEncoder(handle_unknown=&#x27;use_encoded_value&#x27;,\n",
       "                                                                 unknown_value=nan))]),\n",
       "                                 Index([], dtype=&#x27;object&#x27;))])</pre></div></div></div><div class=\"sk-parallel\"><div class=\"sk-parallel-item\"><div class=\"sk-item\"><div class=\"sk-label-container\"><div class=\"sk-label sk-toggleable\"><input class=\"sk-toggleable__control sk-hidden--visually\" id=\"sk-estimator-id-2\" type=\"checkbox\" ><label for=\"sk-estimator-id-2\" class=\"sk-toggleable__label sk-toggleable__label-arrow\">num</label><div class=\"sk-toggleable__content\"><pre>Index([&#x27;allelectrons_Total&#x27;, &#x27;density_Total&#x27;, &#x27;allelectrons_Average&#x27;,\n",
       "       &#x27;val_e_Average&#x27;, &#x27;atomicweight_Average&#x27;, &#x27;ionenergy_Average&#x27;,\n",
       "       &#x27;el_neg_chi_Average&#x27;, &#x27;R_vdw_element_Average&#x27;, &#x27;R_cov_element_Average&#x27;,\n",
       "       &#x27;zaratio_Average&#x27;, &#x27;density_Average&#x27;],\n",
       "      dtype=&#x27;object&#x27;)</pre></div></div></div><div class=\"sk-serial\"><div class=\"sk-item\"><div class=\"sk-serial\"><div class=\"sk-item\"><div class=\"sk-estimator sk-toggleable\"><input class=\"sk-toggleable__control sk-hidden--visually\" id=\"sk-estimator-id-3\" type=\"checkbox\" ><label for=\"sk-estimator-id-3\" class=\"sk-toggleable__label sk-toggleable__label-arrow\">SimpleImputer</label><div class=\"sk-toggleable__content\"><pre>SimpleImputer(strategy=&#x27;median&#x27;)</pre></div></div></div></div></div></div></div></div><div class=\"sk-parallel-item\"><div class=\"sk-item\"><div class=\"sk-label-container\"><div class=\"sk-label sk-toggleable\"><input class=\"sk-toggleable__control sk-hidden--visually\" id=\"sk-estimator-id-4\" type=\"checkbox\" ><label for=\"sk-estimator-id-4\" class=\"sk-toggleable__label sk-toggleable__label-arrow\">cat</label><div class=\"sk-toggleable__content\"><pre>Index([], dtype=&#x27;object&#x27;)</pre></div></div></div><div class=\"sk-serial\"><div class=\"sk-item\"><div class=\"sk-serial\"><div class=\"sk-item\"><div class=\"sk-estimator sk-toggleable\"><input class=\"sk-toggleable__control sk-hidden--visually\" id=\"sk-estimator-id-5\" type=\"checkbox\" ><label for=\"sk-estimator-id-5\" class=\"sk-toggleable__label sk-toggleable__label-arrow\">SimpleImputer</label><div class=\"sk-toggleable__content\"><pre>SimpleImputer(strategy=&#x27;most_frequent&#x27;)</pre></div></div></div><div class=\"sk-item\"><div class=\"sk-estimator sk-toggleable\"><input class=\"sk-toggleable__control sk-hidden--visually\" id=\"sk-estimator-id-6\" type=\"checkbox\" ><label for=\"sk-estimator-id-6\" class=\"sk-toggleable__label sk-toggleable__label-arrow\">OrdinalEncoder</label><div class=\"sk-toggleable__content\"><pre>OrdinalEncoder(handle_unknown=&#x27;use_encoded_value&#x27;, unknown_value=nan)</pre></div></div></div></div></div></div></div></div></div></div></div></div>"
      ],
      "text/plain": [
       "ColumnTransformer(transformers=[('num',\n",
       "                                 Pipeline(steps=[('imputer',\n",
       "                                                  SimpleImputer(strategy='median'))]),\n",
       "                                 Index(['allelectrons_Total', 'density_Total', 'allelectrons_Average',\n",
       "       'val_e_Average', 'atomicweight_Average', 'ionenergy_Average',\n",
       "       'el_neg_chi_Average', 'R_vdw_element_Average', 'R_cov_element_Average',\n",
       "       'zaratio_Average', 'density_Average'],\n",
       "      dtype='object')),\n",
       "                                ('cat',\n",
       "                                 Pipeline(steps=[('imputer',\n",
       "                                                  SimpleImputer(strategy='most_frequent')),\n",
       "                                                 ('encoder',\n",
       "                                                  OrdinalEncoder(handle_unknown='use_encoded_value',\n",
       "                                                                 unknown_value=nan))]),\n",
       "                                 Index([], dtype='object'))])"
      ]
     },
     "execution_count": 10,
     "metadata": {},
     "output_type": "execute_result"
    }
   ],
   "source": [
    "num_columns = X.select_dtypes(include=\"number\").columns\n",
    "cat_columns = X.select_dtypes(include=\"object\").columns\n",
    "\n",
    "# числові ознаки\n",
    "num_transformer = Pipeline(\n",
    "    steps=[(\"imputer\", SimpleImputer(strategy=\"median\"))]\n",
    "    )\n",
    "\n",
    "# категоріальні ознаки\n",
    "cat_transformer = Pipeline(\n",
    "    steps=[(\"imputer\", SimpleImputer(strategy=\"most_frequent\")),\n",
    "           (\"encoder\", OrdinalEncoder(handle_unknown=\"use_encoded_value\", unknown_value=np.nan))])\n",
    "\n",
    "# об'єднання двох pipeline\n",
    "preprocessor = ColumnTransformer(\n",
    "    transformers=[\n",
    "        (\"num\", num_transformer, num_columns),\n",
    "        (\"cat\", cat_transformer, cat_columns),\n",
    "    ]\n",
    ")\n",
    "\n",
    "preprocessor.set_output(transform='pandas')\n",
    "preprocessor"
   ]
  },
  {
   "cell_type": "code",
   "execution_count": 11,
   "id": "b302bc4d",
   "metadata": {
    "execution": {
     "iopub.execute_input": "2024-07-14T14:13:48.156481Z",
     "iopub.status.busy": "2024-07-14T14:13:48.156019Z",
     "iopub.status.idle": "2024-07-14T14:13:48.198304Z",
     "shell.execute_reply": "2024-07-14T14:13:48.196682Z"
    },
    "papermill": {
     "duration": 0.057171,
     "end_time": "2024-07-14T14:13:48.201528",
     "exception": false,
     "start_time": "2024-07-14T14:13:48.144357",
     "status": "completed"
    },
    "tags": []
   },
   "outputs": [],
   "source": [
    "# навчання препроцесора\n",
    "X_train = preprocessor.fit_transform(X_train)\n",
    "\n",
    "# обробка даних\n",
    "X_val = preprocessor.transform(X_val)\n",
    "X_test = preprocessor.transform(X_test)"
   ]
  },
  {
   "cell_type": "code",
   "execution_count": 12,
   "id": "d7cfb7bc",
   "metadata": {
    "execution": {
     "iopub.execute_input": "2024-07-14T14:13:48.226709Z",
     "iopub.status.busy": "2024-07-14T14:13:48.226225Z",
     "iopub.status.idle": "2024-07-14T14:13:48.244848Z",
     "shell.execute_reply": "2024-07-14T14:13:48.243549Z"
    },
    "papermill": {
     "duration": 0.03542,
     "end_time": "2024-07-14T14:13:48.248787",
     "exception": false,
     "start_time": "2024-07-14T14:13:48.213367",
     "status": "completed"
    },
    "tags": []
   },
   "outputs": [],
   "source": [
    "from sklearn import metrics\n",
    "\n",
    "\n",
    "def objective(trial):\n",
    "  \"\"\"\n",
    "  Функція objective для Optuna, яка навчає модель LightGBMRegressor\n",
    "  на тренувальному наборі даних та оцінює її на тестовому наборі.\n",
    "\n",
    "  Args:\n",
    "      trial (optuna.Trial): Об'єкт Optuna, що представляє один набір гіперпараметрів.\n",
    "\n",
    "  Returns:\n",
    "      float: Значення метрики оцінки (R2).\n",
    "  \"\"\"\n",
    "\n",
    "  # 1. Визначення гіперпараметрів:\n",
    "\n",
    "  params = {\n",
    "        'objective': 'mse',\n",
    "        'n_estimators': 100,\n",
    "        'verbose': -1,\n",
    "        'boosting_type': trial.suggest_categorical('boosting_type', ['gbdt', 'dart']),\n",
    "        'lambda_l1': trial.suggest_float('lambda_l1', 1e-8, 10.0, log=True),\n",
    "        'lambda_l2': trial.suggest_float('lambda_l2', 1e-8, 10.0, log=True),\n",
    "        'learning_rate': trial.suggest_float('learning_rate', 1e-4, 1.0, log=True),\n",
    "        'num_leaves': trial.suggest_int('num_leaves', 2, 256),\n",
    "        'feature_fraction': trial.suggest_float('feature_fraction', 0.4, 1.0),\n",
    "        'bagging_fraction': trial.suggest_float('bagging_fraction', 0.4, 1.0),\n",
    "        'bagging_freq': trial.suggest_int('bagging_freq', 1, 7),\n",
    "        'min_child_samples': trial.suggest_int('min_child_samples', 5, 100),\n",
    "    }\n",
    "\n",
    "  # 2. Створення моделі LightGBMRegressor:\n",
    "\n",
    "  model = lgb.LGBMRegressor(**params)\n",
    "\n",
    "  # 3. Навчання моделі на тренувальному наборі даних:\n",
    "\n",
    "  model.fit(X_train, y_train)\n",
    "\n",
    "  # 4. Оцінка моделі на тестовому наборі даних:\n",
    "\n",
    "  y_pred = model.predict(X_val)\n",
    "  r2 = metrics.r2_score(y_val, y_pred)\n",
    "\n",
    "  # 5. Повернення значення метрики:\n",
    "  return r2"
   ]
  },
  {
   "cell_type": "code",
   "execution_count": 13,
   "id": "24c7897e",
   "metadata": {
    "execution": {
     "iopub.execute_input": "2024-07-14T14:13:48.282114Z",
     "iopub.status.busy": "2024-07-14T14:13:48.280951Z",
     "iopub.status.idle": "2024-07-14T14:14:04.820782Z",
     "shell.execute_reply": "2024-07-14T14:14:04.819100Z"
    },
    "papermill": {
     "duration": 16.559963,
     "end_time": "2024-07-14T14:14:04.823942",
     "exception": false,
     "start_time": "2024-07-14T14:13:48.263979",
     "status": "completed"
    },
    "tags": []
   },
   "outputs": [],
   "source": [
    "!pip install -q optuna"
   ]
  },
  {
   "cell_type": "code",
   "execution_count": 14,
   "id": "6c2e5a8c",
   "metadata": {
    "execution": {
     "iopub.execute_input": "2024-07-14T14:14:04.847101Z",
     "iopub.status.busy": "2024-07-14T14:14:04.846546Z",
     "iopub.status.idle": "2024-07-14T14:14:11.468960Z",
     "shell.execute_reply": "2024-07-14T14:14:11.467337Z"
    },
    "papermill": {
     "duration": 6.637588,
     "end_time": "2024-07-14T14:14:11.472297",
     "exception": false,
     "start_time": "2024-07-14T14:14:04.834709",
     "status": "completed"
    },
    "tags": []
   },
   "outputs": [
    {
     "name": "stderr",
     "output_type": "stream",
     "text": [
      "[I 2024-07-14 14:14:05,166] A new study created in memory with name: no-name-1ce1b63a-df53-4fee-81a8-5ff541cae3b6\n",
      "[I 2024-07-14 14:14:07,868] Trial 0 finished with value: -1.2928753099737968 and parameters: {'boosting_type': 'dart', 'lambda_l1': 2.8265174805606897e-07, 'lambda_l2': 0.0021424859713653132, 'learning_rate': 0.0023598912372621915, 'num_leaves': 213, 'feature_fraction': 0.5884650030282594, 'bagging_fraction': 0.5562834647462359, 'bagging_freq': 1, 'min_child_samples': 12}. Best is trial 0 with value: -1.2928753099737968.\n",
      "[I 2024-07-14 14:14:08,732] Trial 1 finished with value: 0.44068761301178005 and parameters: {'boosting_type': 'dart', 'lambda_l1': 1.3270907728355394, 'lambda_l2': 6.063388417785091e-07, 'learning_rate': 0.44378466978362735, 'num_leaves': 88, 'feature_fraction': 0.880269854979175, 'bagging_fraction': 0.9958385817016232, 'bagging_freq': 6, 'min_child_samples': 34}. Best is trial 1 with value: 0.44068761301178005.\n",
      "[I 2024-07-14 14:14:09,331] Trial 2 finished with value: 0.2946798098879979 and parameters: {'boosting_type': 'dart', 'lambda_l1': 0.14095920100622364, 'lambda_l2': 9.84061843182077e-08, 'learning_rate': 0.07034591697274624, 'num_leaves': 110, 'feature_fraction': 0.9323130516112048, 'bagging_fraction': 0.9001282474549552, 'bagging_freq': 1, 'min_child_samples': 84}. Best is trial 1 with value: 0.44068761301178005.\n",
      "[I 2024-07-14 14:14:09,722] Trial 3 finished with value: 0.36212551122508696 and parameters: {'boosting_type': 'gbdt', 'lambda_l1': 3.452825810725743e-05, 'lambda_l2': 2.148816861433781, 'learning_rate': 0.00874106917062972, 'num_leaves': 63, 'feature_fraction': 0.9537045558526902, 'bagging_fraction': 0.7957138778523105, 'bagging_freq': 6, 'min_child_samples': 40}. Best is trial 1 with value: 0.44068761301178005.\n",
      "[I 2024-07-14 14:14:09,923] Trial 4 finished with value: 0.4617847669306516 and parameters: {'boosting_type': 'gbdt', 'lambda_l1': 0.05240060823587978, 'lambda_l2': 0.001540953117393034, 'learning_rate': 0.09020076168416015, 'num_leaves': 121, 'feature_fraction': 0.680073638225644, 'bagging_fraction': 0.4487028825695191, 'bagging_freq': 6, 'min_child_samples': 73}. Best is trial 4 with value: 0.4617847669306516.\n",
      "[I 2024-07-14 14:14:10,187] Trial 5 finished with value: 0.36075281283211424 and parameters: {'boosting_type': 'gbdt', 'lambda_l1': 7.706953553370918e-06, 'lambda_l2': 2.42529249711672e-05, 'learning_rate': 0.00994352016732096, 'num_leaves': 119, 'feature_fraction': 0.6622246492111825, 'bagging_fraction': 0.8451330064280956, 'bagging_freq': 6, 'min_child_samples': 92}. Best is trial 4 with value: 0.4617847669306516.\n",
      "[I 2024-07-14 14:14:10,837] Trial 6 finished with value: -1.1221637620916383 and parameters: {'boosting_type': 'dart', 'lambda_l1': 3.5042857176480574e-07, 'lambda_l2': 0.11809384291191004, 'learning_rate': 0.0046424476780584385, 'num_leaves': 82, 'feature_fraction': 0.7401881811681005, 'bagging_fraction': 0.8869687940459531, 'bagging_freq': 1, 'min_child_samples': 33}. Best is trial 4 with value: 0.4617847669306516.\n",
      "[I 2024-07-14 14:14:11,091] Trial 7 finished with value: 0.03140466116071039 and parameters: {'boosting_type': 'gbdt', 'lambda_l1': 6.648589762898296e-07, 'lambda_l2': 0.0004570646177513571, 'learning_rate': 0.0004368864102792334, 'num_leaves': 243, 'feature_fraction': 0.4974899729373508, 'bagging_fraction': 0.61013697558308, 'bagging_freq': 2, 'min_child_samples': 53}. Best is trial 4 with value: 0.4617847669306516.\n",
      "[I 2024-07-14 14:14:11,234] Trial 8 finished with value: 0.3036077662640694 and parameters: {'boosting_type': 'gbdt', 'lambda_l1': 2.090452762719751e-05, 'lambda_l2': 0.017158456368708296, 'learning_rate': 0.009489878831552646, 'num_leaves': 7, 'feature_fraction': 0.8552379499097509, 'bagging_fraction': 0.9872191435443246, 'bagging_freq': 5, 'min_child_samples': 79}. Best is trial 4 with value: 0.4617847669306516.\n",
      "[I 2024-07-14 14:14:11,463] Trial 9 finished with value: 0.3714782121728947 and parameters: {'boosting_type': 'gbdt', 'lambda_l1': 6.612411576234048, 'lambda_l2': 0.00031573806371376064, 'learning_rate': 0.010963077574212833, 'num_leaves': 152, 'feature_fraction': 0.7353959009567301, 'bagging_fraction': 0.4269849151505751, 'bagging_freq': 5, 'min_child_samples': 19}. Best is trial 4 with value: 0.4617847669306516.\n"
     ]
    }
   ],
   "source": [
    "import optuna\n",
    "study = optuna.create_study(directions=['maximize'])\n",
    "study.optimize(objective, n_trials=10)"
   ]
  },
  {
   "cell_type": "code",
   "execution_count": 15,
   "id": "54283e64",
   "metadata": {
    "execution": {
     "iopub.execute_input": "2024-07-14T14:14:11.496581Z",
     "iopub.status.busy": "2024-07-14T14:14:11.496177Z",
     "iopub.status.idle": "2024-07-14T14:14:11.513472Z",
     "shell.execute_reply": "2024-07-14T14:14:11.512112Z"
    },
    "papermill": {
     "duration": 0.032552,
     "end_time": "2024-07-14T14:14:11.516147",
     "exception": false,
     "start_time": "2024-07-14T14:14:11.483595",
     "status": "completed"
    },
    "tags": []
   },
   "outputs": [
    {
     "data": {
      "text/html": [
       "<div>\n",
       "<style scoped>\n",
       "    .dataframe tbody tr th:only-of-type {\n",
       "        vertical-align: middle;\n",
       "    }\n",
       "\n",
       "    .dataframe tbody tr th {\n",
       "        vertical-align: top;\n",
       "    }\n",
       "\n",
       "    .dataframe thead th {\n",
       "        text-align: right;\n",
       "    }\n",
       "</style>\n",
       "<table border=\"1\" class=\"dataframe\">\n",
       "  <thead>\n",
       "    <tr style=\"text-align: right;\">\n",
       "      <th></th>\n",
       "      <th>r2</th>\n",
       "    </tr>\n",
       "  </thead>\n",
       "  <tbody>\n",
       "    <tr>\n",
       "      <th>0</th>\n",
       "      <td>0.461785</td>\n",
       "    </tr>\n",
       "  </tbody>\n",
       "</table>\n",
       "</div>"
      ],
      "text/plain": [
       "         r2\n",
       "0  0.461785"
      ]
     },
     "execution_count": 15,
     "metadata": {},
     "output_type": "execute_result"
    }
   ],
   "source": [
    "data = pd.DataFrame([trial.values for trial in study.best_trials],\n",
    "                    columns=['r2'])\n",
    "\n",
    "data"
   ]
  },
  {
   "cell_type": "code",
   "execution_count": 16,
   "id": "72ad3a09",
   "metadata": {
    "execution": {
     "iopub.execute_input": "2024-07-14T14:14:11.541267Z",
     "iopub.status.busy": "2024-07-14T14:14:11.540011Z",
     "iopub.status.idle": "2024-07-14T14:14:11.551482Z",
     "shell.execute_reply": "2024-07-14T14:14:11.550254Z"
    },
    "papermill": {
     "duration": 0.02667,
     "end_time": "2024-07-14T14:14:11.554130",
     "exception": false,
     "start_time": "2024-07-14T14:14:11.527460",
     "status": "completed"
    },
    "tags": []
   },
   "outputs": [
    {
     "data": {
      "text/plain": [
       "{'boosting_type': 'gbdt',\n",
       " 'lambda_l1': 0.05240060823587978,\n",
       " 'lambda_l2': 0.001540953117393034,\n",
       " 'learning_rate': 0.09020076168416015,\n",
       " 'num_leaves': 121,\n",
       " 'feature_fraction': 0.680073638225644,\n",
       " 'bagging_fraction': 0.4487028825695191,\n",
       " 'bagging_freq': 6,\n",
       " 'min_child_samples': 73}"
      ]
     },
     "execution_count": 16,
     "metadata": {},
     "output_type": "execute_result"
    }
   ],
   "source": [
    "best_params = study.best_trials[0].params\n",
    "best_params"
   ]
  },
  {
   "cell_type": "code",
   "execution_count": 17,
   "id": "422e0eb7",
   "metadata": {
    "execution": {
     "iopub.execute_input": "2024-07-14T14:14:11.578534Z",
     "iopub.status.busy": "2024-07-14T14:14:11.578140Z",
     "iopub.status.idle": "2024-07-14T14:14:11.643974Z",
     "shell.execute_reply": "2024-07-14T14:14:11.642738Z"
    },
    "papermill": {
     "duration": 0.08148,
     "end_time": "2024-07-14T14:14:11.646895",
     "exception": false,
     "start_time": "2024-07-14T14:14:11.565415",
     "status": "completed"
    },
    "tags": []
   },
   "outputs": [
    {
     "data": {
      "text/html": [
       "<style>#sk-container-id-2 {color: black;background-color: white;}#sk-container-id-2 pre{padding: 0;}#sk-container-id-2 div.sk-toggleable {background-color: white;}#sk-container-id-2 label.sk-toggleable__label {cursor: pointer;display: block;width: 100%;margin-bottom: 0;padding: 0.3em;box-sizing: border-box;text-align: center;}#sk-container-id-2 label.sk-toggleable__label-arrow:before {content: \"▸\";float: left;margin-right: 0.25em;color: #696969;}#sk-container-id-2 label.sk-toggleable__label-arrow:hover:before {color: black;}#sk-container-id-2 div.sk-estimator:hover label.sk-toggleable__label-arrow:before {color: black;}#sk-container-id-2 div.sk-toggleable__content {max-height: 0;max-width: 0;overflow: hidden;text-align: left;background-color: #f0f8ff;}#sk-container-id-2 div.sk-toggleable__content pre {margin: 0.2em;color: black;border-radius: 0.25em;background-color: #f0f8ff;}#sk-container-id-2 input.sk-toggleable__control:checked~div.sk-toggleable__content {max-height: 200px;max-width: 100%;overflow: auto;}#sk-container-id-2 input.sk-toggleable__control:checked~label.sk-toggleable__label-arrow:before {content: \"▾\";}#sk-container-id-2 div.sk-estimator input.sk-toggleable__control:checked~label.sk-toggleable__label {background-color: #d4ebff;}#sk-container-id-2 div.sk-label input.sk-toggleable__control:checked~label.sk-toggleable__label {background-color: #d4ebff;}#sk-container-id-2 input.sk-hidden--visually {border: 0;clip: rect(1px 1px 1px 1px);clip: rect(1px, 1px, 1px, 1px);height: 1px;margin: -1px;overflow: hidden;padding: 0;position: absolute;width: 1px;}#sk-container-id-2 div.sk-estimator {font-family: monospace;background-color: #f0f8ff;border: 1px dotted black;border-radius: 0.25em;box-sizing: border-box;margin-bottom: 0.5em;}#sk-container-id-2 div.sk-estimator:hover {background-color: #d4ebff;}#sk-container-id-2 div.sk-parallel-item::after {content: \"\";width: 100%;border-bottom: 1px solid gray;flex-grow: 1;}#sk-container-id-2 div.sk-label:hover label.sk-toggleable__label {background-color: #d4ebff;}#sk-container-id-2 div.sk-serial::before {content: \"\";position: absolute;border-left: 1px solid gray;box-sizing: border-box;top: 0;bottom: 0;left: 50%;z-index: 0;}#sk-container-id-2 div.sk-serial {display: flex;flex-direction: column;align-items: center;background-color: white;padding-right: 0.2em;padding-left: 0.2em;position: relative;}#sk-container-id-2 div.sk-item {position: relative;z-index: 1;}#sk-container-id-2 div.sk-parallel {display: flex;align-items: stretch;justify-content: center;background-color: white;position: relative;}#sk-container-id-2 div.sk-item::before, #sk-container-id-2 div.sk-parallel-item::before {content: \"\";position: absolute;border-left: 1px solid gray;box-sizing: border-box;top: 0;bottom: 0;left: 50%;z-index: -1;}#sk-container-id-2 div.sk-parallel-item {display: flex;flex-direction: column;z-index: 1;position: relative;background-color: white;}#sk-container-id-2 div.sk-parallel-item:first-child::after {align-self: flex-end;width: 50%;}#sk-container-id-2 div.sk-parallel-item:last-child::after {align-self: flex-start;width: 50%;}#sk-container-id-2 div.sk-parallel-item:only-child::after {width: 0;}#sk-container-id-2 div.sk-dashed-wrapped {border: 1px dashed gray;margin: 0 0.4em 0.5em 0.4em;box-sizing: border-box;padding-bottom: 0.4em;background-color: white;}#sk-container-id-2 div.sk-label label {font-family: monospace;font-weight: bold;display: inline-block;line-height: 1.2em;}#sk-container-id-2 div.sk-label-container {text-align: center;}#sk-container-id-2 div.sk-container {/* jupyter's `normalize.less` sets `[hidden] { display: none; }` but bootstrap.min.css set `[hidden] { display: none !important; }` so we also need the `!important` here to be able to override the default hidden behavior on the sphinx rendered scikit-learn.org. See: https://github.com/scikit-learn/scikit-learn/issues/21755 */display: inline-block !important;position: relative;}#sk-container-id-2 div.sk-text-repr-fallback {display: none;}</style><div id=\"sk-container-id-2\" class=\"sk-top-container\"><div class=\"sk-text-repr-fallback\"><pre>LGBMRegressor(bagging_fraction=0.4487028825695191, bagging_freq=6,\n",
       "              feature_fraction=0.680073638225644, lambda_l1=0.05240060823587978,\n",
       "              lambda_l2=0.001540953117393034, learning_rate=0.09020076168416015,\n",
       "              min_child_samples=73, n_estimators=15, num_leaves=121,\n",
       "              verbose=-1)</pre><b>In a Jupyter environment, please rerun this cell to show the HTML representation or trust the notebook. <br />On GitHub, the HTML representation is unable to render, please try loading this page with nbviewer.org.</b></div><div class=\"sk-container\" hidden><div class=\"sk-item\"><div class=\"sk-estimator sk-toggleable\"><input class=\"sk-toggleable__control sk-hidden--visually\" id=\"sk-estimator-id-7\" type=\"checkbox\" checked><label for=\"sk-estimator-id-7\" class=\"sk-toggleable__label sk-toggleable__label-arrow\">LGBMRegressor</label><div class=\"sk-toggleable__content\"><pre>LGBMRegressor(bagging_fraction=0.4487028825695191, bagging_freq=6,\n",
       "              feature_fraction=0.680073638225644, lambda_l1=0.05240060823587978,\n",
       "              lambda_l2=0.001540953117393034, learning_rate=0.09020076168416015,\n",
       "              min_child_samples=73, n_estimators=15, num_leaves=121,\n",
       "              verbose=-1)</pre></div></div></div></div></div>"
      ],
      "text/plain": [
       "LGBMRegressor(bagging_fraction=0.4487028825695191, bagging_freq=6,\n",
       "              feature_fraction=0.680073638225644, lambda_l1=0.05240060823587978,\n",
       "              lambda_l2=0.001540953117393034, learning_rate=0.09020076168416015,\n",
       "              min_child_samples=73, n_estimators=15, num_leaves=121,\n",
       "              verbose=-1)"
      ]
     },
     "execution_count": 17,
     "metadata": {},
     "output_type": "execute_result"
    }
   ],
   "source": [
    "model = lgb.LGBMRegressor(**best_params,n_estimators=15,\n",
    "                          verbose=-1)\n",
    "\n",
    "model.fit(X_train, y_train,\n",
    "          eval_set=[(X_test, y_test), (X_train, y_train)],\n",
    "          eval_metric='mse')"
   ]
  },
  {
   "cell_type": "code",
   "execution_count": 18,
   "id": "b947ee50",
   "metadata": {
    "execution": {
     "iopub.execute_input": "2024-07-14T14:14:11.674592Z",
     "iopub.status.busy": "2024-07-14T14:14:11.674172Z",
     "iopub.status.idle": "2024-07-14T14:14:11.681873Z",
     "shell.execute_reply": "2024-07-14T14:14:11.680442Z"
    },
    "papermill": {
     "duration": 0.025428,
     "end_time": "2024-07-14T14:14:11.685077",
     "exception": false,
     "start_time": "2024-07-14T14:14:11.659649",
     "status": "completed"
    },
    "tags": []
   },
   "outputs": [],
   "source": [
    "def get_metrics(y_true, y_pred, name=\"model\"):\n",
    "  df = pd.DataFrame()\n",
    "\n",
    "  df.loc[\"MAE\", name] = metrics.mean_absolute_error(y_true, y_pred)\n",
    "  df.loc[\"RMSE\", name] = metrics.mean_squared_error(y_true, y_pred) ** 0.5\n",
    "  df.loc[\"R2\", name] = metrics.r2_score(y_true, y_pred)\n",
    "\n",
    "  return df.round(2)"
   ]
  },
  {
   "cell_type": "code",
   "execution_count": 19,
   "id": "a75efdf8",
   "metadata": {
    "execution": {
     "iopub.execute_input": "2024-07-14T14:14:11.711838Z",
     "iopub.status.busy": "2024-07-14T14:14:11.710654Z",
     "iopub.status.idle": "2024-07-14T14:14:11.752368Z",
     "shell.execute_reply": "2024-07-14T14:14:11.750903Z"
    },
    "papermill": {
     "duration": 0.058047,
     "end_time": "2024-07-14T14:14:11.755575",
     "exception": false,
     "start_time": "2024-07-14T14:14:11.697528",
     "status": "completed"
    },
    "tags": []
   },
   "outputs": [
    {
     "data": {
      "text/html": [
       "<div>\n",
       "<style scoped>\n",
       "    .dataframe tbody tr th:only-of-type {\n",
       "        vertical-align: middle;\n",
       "    }\n",
       "\n",
       "    .dataframe tbody tr th {\n",
       "        vertical-align: top;\n",
       "    }\n",
       "\n",
       "    .dataframe thead th {\n",
       "        text-align: right;\n",
       "    }\n",
       "</style>\n",
       "<table border=\"1\" class=\"dataframe\">\n",
       "  <thead>\n",
       "    <tr style=\"text-align: right;\">\n",
       "      <th></th>\n",
       "      <th>train</th>\n",
       "      <th>test</th>\n",
       "    </tr>\n",
       "  </thead>\n",
       "  <tbody>\n",
       "    <tr>\n",
       "      <th>MAE</th>\n",
       "      <td>1.03</td>\n",
       "      <td>1.04</td>\n",
       "    </tr>\n",
       "    <tr>\n",
       "      <th>RMSE</th>\n",
       "      <td>1.29</td>\n",
       "      <td>1.29</td>\n",
       "    </tr>\n",
       "    <tr>\n",
       "      <th>R2</th>\n",
       "      <td>0.42</td>\n",
       "      <td>0.39</td>\n",
       "    </tr>\n",
       "  </tbody>\n",
       "</table>\n",
       "</div>"
      ],
      "text/plain": [
       "      train  test\n",
       "MAE    1.03  1.04\n",
       "RMSE   1.29  1.29\n",
       "R2     0.42  0.39"
      ]
     },
     "execution_count": 19,
     "metadata": {},
     "output_type": "execute_result"
    }
   ],
   "source": [
    "all_metrics = pd.DataFrame()\n",
    "\n",
    "all_metrics[\"train\"] = get_metrics(y_train, model.predict(X_train))\n",
    "all_metrics[\"test\"] = get_metrics(y_test, model.predict(X_test))\n",
    "\n",
    "all_metrics"
   ]
  },
  {
   "cell_type": "code",
   "execution_count": 20,
   "id": "c3d5dc49",
   "metadata": {
    "execution": {
     "iopub.execute_input": "2024-07-14T14:14:11.784170Z",
     "iopub.status.busy": "2024-07-14T14:14:11.782829Z",
     "iopub.status.idle": "2024-07-14T14:14:13.095331Z",
     "shell.execute_reply": "2024-07-14T14:14:13.094208Z"
    },
    "papermill": {
     "duration": 1.330056,
     "end_time": "2024-07-14T14:14:13.098168",
     "exception": false,
     "start_time": "2024-07-14T14:14:11.768112",
     "status": "completed"
    },
    "tags": []
   },
   "outputs": [
    {
     "data": {
      "text/html": [
       "        <script type=\"text/javascript\">\n",
       "        window.PlotlyConfig = {MathJaxConfig: 'local'};\n",
       "        if (window.MathJax && window.MathJax.Hub && window.MathJax.Hub.Config) {window.MathJax.Hub.Config({SVG: {font: \"STIX-Web\"}});}\n",
       "        if (typeof require !== 'undefined') {\n",
       "        require.undef(\"plotly\");\n",
       "        requirejs.config({\n",
       "            paths: {\n",
       "                'plotly': ['https://cdn.plot.ly/plotly-2.27.0.min']\n",
       "            }\n",
       "        });\n",
       "        require(['plotly'], function(Plotly) {\n",
       "            window._Plotly = Plotly;\n",
       "        });\n",
       "        }\n",
       "        </script>\n",
       "        "
      ]
     },
     "metadata": {},
     "output_type": "display_data"
    },
    {
     "data": {
      "text/html": [
       "<div>                            <div id=\"e8ab8408-18e3-4d51-9259-1cacab412bf3\" class=\"plotly-graph-div\" style=\"height:525px; width:100%;\"></div>            <script type=\"text/javascript\">                require([\"plotly\"], function(Plotly) {                    window.PLOTLYENV=window.PLOTLYENV || {};                                    if (document.getElementById(\"e8ab8408-18e3-4d51-9259-1cacab412bf3\")) {                    Plotly.newPlot(                        \"e8ab8408-18e3-4d51-9259-1cacab412bf3\",                        [{\"cliponaxis\":false,\"hovertemplate\":[\"lambda_l1 (FloatDistribution): 0.01749381730463098\\u003cextra\\u003e\\u003c\\u002fextra\\u003e\",\"boosting_type (CategoricalDistribution): 0.055205846131779986\\u003cextra\\u003e\\u003c\\u002fextra\\u003e\",\"bagging_fraction (FloatDistribution): 0.05902034644549569\\u003cextra\\u003e\\u003c\\u002fextra\\u003e\",\"feature_fraction (FloatDistribution): 0.06977861013424497\\u003cextra\\u003e\\u003c\\u002fextra\\u003e\",\"lambda_l2 (FloatDistribution): 0.07639125158297247\\u003cextra\\u003e\\u003c\\u002fextra\\u003e\",\"num_leaves (IntDistribution): 0.14806268691092356\\u003cextra\\u003e\\u003c\\u002fextra\\u003e\",\"bagging_freq (IntDistribution): 0.14942607227585744\\u003cextra\\u003e\\u003c\\u002fextra\\u003e\",\"min_child_samples (IntDistribution): 0.17828761782131056\\u003cextra\\u003e\\u003c\\u002fextra\\u003e\",\"learning_rate (FloatDistribution): 0.24633375139278452\\u003cextra\\u003e\\u003c\\u002fextra\\u003e\"],\"name\":\"Objective Value\",\"orientation\":\"h\",\"text\":[\"0.02\",\"0.06\",\"0.06\",\"0.07\",\"0.08\",\"0.15\",\"0.15\",\"0.18\",\"0.25\"],\"textposition\":\"outside\",\"x\":[0.01749381730463098,0.055205846131779986,0.05902034644549569,0.06977861013424497,0.07639125158297247,0.14806268691092356,0.14942607227585744,0.17828761782131056,0.24633375139278452],\"y\":[\"lambda_l1\",\"boosting_type\",\"bagging_fraction\",\"feature_fraction\",\"lambda_l2\",\"num_leaves\",\"bagging_freq\",\"min_child_samples\",\"learning_rate\"],\"type\":\"bar\"}],                        {\"title\":{\"text\":\"Hyperparameter Importances\"},\"xaxis\":{\"title\":{\"text\":\"Hyperparameter Importance\"}},\"yaxis\":{\"title\":{\"text\":\"Hyperparameter\"}},\"template\":{\"data\":{\"histogram2dcontour\":[{\"type\":\"histogram2dcontour\",\"colorbar\":{\"outlinewidth\":0,\"ticks\":\"\"},\"colorscale\":[[0.0,\"#0d0887\"],[0.1111111111111111,\"#46039f\"],[0.2222222222222222,\"#7201a8\"],[0.3333333333333333,\"#9c179e\"],[0.4444444444444444,\"#bd3786\"],[0.5555555555555556,\"#d8576b\"],[0.6666666666666666,\"#ed7953\"],[0.7777777777777778,\"#fb9f3a\"],[0.8888888888888888,\"#fdca26\"],[1.0,\"#f0f921\"]]}],\"choropleth\":[{\"type\":\"choropleth\",\"colorbar\":{\"outlinewidth\":0,\"ticks\":\"\"}}],\"histogram2d\":[{\"type\":\"histogram2d\",\"colorbar\":{\"outlinewidth\":0,\"ticks\":\"\"},\"colorscale\":[[0.0,\"#0d0887\"],[0.1111111111111111,\"#46039f\"],[0.2222222222222222,\"#7201a8\"],[0.3333333333333333,\"#9c179e\"],[0.4444444444444444,\"#bd3786\"],[0.5555555555555556,\"#d8576b\"],[0.6666666666666666,\"#ed7953\"],[0.7777777777777778,\"#fb9f3a\"],[0.8888888888888888,\"#fdca26\"],[1.0,\"#f0f921\"]]}],\"heatmap\":[{\"type\":\"heatmap\",\"colorbar\":{\"outlinewidth\":0,\"ticks\":\"\"},\"colorscale\":[[0.0,\"#0d0887\"],[0.1111111111111111,\"#46039f\"],[0.2222222222222222,\"#7201a8\"],[0.3333333333333333,\"#9c179e\"],[0.4444444444444444,\"#bd3786\"],[0.5555555555555556,\"#d8576b\"],[0.6666666666666666,\"#ed7953\"],[0.7777777777777778,\"#fb9f3a\"],[0.8888888888888888,\"#fdca26\"],[1.0,\"#f0f921\"]]}],\"heatmapgl\":[{\"type\":\"heatmapgl\",\"colorbar\":{\"outlinewidth\":0,\"ticks\":\"\"},\"colorscale\":[[0.0,\"#0d0887\"],[0.1111111111111111,\"#46039f\"],[0.2222222222222222,\"#7201a8\"],[0.3333333333333333,\"#9c179e\"],[0.4444444444444444,\"#bd3786\"],[0.5555555555555556,\"#d8576b\"],[0.6666666666666666,\"#ed7953\"],[0.7777777777777778,\"#fb9f3a\"],[0.8888888888888888,\"#fdca26\"],[1.0,\"#f0f921\"]]}],\"contourcarpet\":[{\"type\":\"contourcarpet\",\"colorbar\":{\"outlinewidth\":0,\"ticks\":\"\"}}],\"contour\":[{\"type\":\"contour\",\"colorbar\":{\"outlinewidth\":0,\"ticks\":\"\"},\"colorscale\":[[0.0,\"#0d0887\"],[0.1111111111111111,\"#46039f\"],[0.2222222222222222,\"#7201a8\"],[0.3333333333333333,\"#9c179e\"],[0.4444444444444444,\"#bd3786\"],[0.5555555555555556,\"#d8576b\"],[0.6666666666666666,\"#ed7953\"],[0.7777777777777778,\"#fb9f3a\"],[0.8888888888888888,\"#fdca26\"],[1.0,\"#f0f921\"]]}],\"surface\":[{\"type\":\"surface\",\"colorbar\":{\"outlinewidth\":0,\"ticks\":\"\"},\"colorscale\":[[0.0,\"#0d0887\"],[0.1111111111111111,\"#46039f\"],[0.2222222222222222,\"#7201a8\"],[0.3333333333333333,\"#9c179e\"],[0.4444444444444444,\"#bd3786\"],[0.5555555555555556,\"#d8576b\"],[0.6666666666666666,\"#ed7953\"],[0.7777777777777778,\"#fb9f3a\"],[0.8888888888888888,\"#fdca26\"],[1.0,\"#f0f921\"]]}],\"mesh3d\":[{\"type\":\"mesh3d\",\"colorbar\":{\"outlinewidth\":0,\"ticks\":\"\"}}],\"scatter\":[{\"fillpattern\":{\"fillmode\":\"overlay\",\"size\":10,\"solidity\":0.2},\"type\":\"scatter\"}],\"parcoords\":[{\"type\":\"parcoords\",\"line\":{\"colorbar\":{\"outlinewidth\":0,\"ticks\":\"\"}}}],\"scatterpolargl\":[{\"type\":\"scatterpolargl\",\"marker\":{\"colorbar\":{\"outlinewidth\":0,\"ticks\":\"\"}}}],\"bar\":[{\"error_x\":{\"color\":\"#2a3f5f\"},\"error_y\":{\"color\":\"#2a3f5f\"},\"marker\":{\"line\":{\"color\":\"#E5ECF6\",\"width\":0.5},\"pattern\":{\"fillmode\":\"overlay\",\"size\":10,\"solidity\":0.2}},\"type\":\"bar\"}],\"scattergeo\":[{\"type\":\"scattergeo\",\"marker\":{\"colorbar\":{\"outlinewidth\":0,\"ticks\":\"\"}}}],\"scatterpolar\":[{\"type\":\"scatterpolar\",\"marker\":{\"colorbar\":{\"outlinewidth\":0,\"ticks\":\"\"}}}],\"histogram\":[{\"marker\":{\"pattern\":{\"fillmode\":\"overlay\",\"size\":10,\"solidity\":0.2}},\"type\":\"histogram\"}],\"scattergl\":[{\"type\":\"scattergl\",\"marker\":{\"colorbar\":{\"outlinewidth\":0,\"ticks\":\"\"}}}],\"scatter3d\":[{\"type\":\"scatter3d\",\"line\":{\"colorbar\":{\"outlinewidth\":0,\"ticks\":\"\"}},\"marker\":{\"colorbar\":{\"outlinewidth\":0,\"ticks\":\"\"}}}],\"scattermapbox\":[{\"type\":\"scattermapbox\",\"marker\":{\"colorbar\":{\"outlinewidth\":0,\"ticks\":\"\"}}}],\"scatterternary\":[{\"type\":\"scatterternary\",\"marker\":{\"colorbar\":{\"outlinewidth\":0,\"ticks\":\"\"}}}],\"scattercarpet\":[{\"type\":\"scattercarpet\",\"marker\":{\"colorbar\":{\"outlinewidth\":0,\"ticks\":\"\"}}}],\"carpet\":[{\"aaxis\":{\"endlinecolor\":\"#2a3f5f\",\"gridcolor\":\"white\",\"linecolor\":\"white\",\"minorgridcolor\":\"white\",\"startlinecolor\":\"#2a3f5f\"},\"baxis\":{\"endlinecolor\":\"#2a3f5f\",\"gridcolor\":\"white\",\"linecolor\":\"white\",\"minorgridcolor\":\"white\",\"startlinecolor\":\"#2a3f5f\"},\"type\":\"carpet\"}],\"table\":[{\"cells\":{\"fill\":{\"color\":\"#EBF0F8\"},\"line\":{\"color\":\"white\"}},\"header\":{\"fill\":{\"color\":\"#C8D4E3\"},\"line\":{\"color\":\"white\"}},\"type\":\"table\"}],\"barpolar\":[{\"marker\":{\"line\":{\"color\":\"#E5ECF6\",\"width\":0.5},\"pattern\":{\"fillmode\":\"overlay\",\"size\":10,\"solidity\":0.2}},\"type\":\"barpolar\"}],\"pie\":[{\"automargin\":true,\"type\":\"pie\"}]},\"layout\":{\"autotypenumbers\":\"strict\",\"colorway\":[\"#636efa\",\"#EF553B\",\"#00cc96\",\"#ab63fa\",\"#FFA15A\",\"#19d3f3\",\"#FF6692\",\"#B6E880\",\"#FF97FF\",\"#FECB52\"],\"font\":{\"color\":\"#2a3f5f\"},\"hovermode\":\"closest\",\"hoverlabel\":{\"align\":\"left\"},\"paper_bgcolor\":\"white\",\"plot_bgcolor\":\"#E5ECF6\",\"polar\":{\"bgcolor\":\"#E5ECF6\",\"angularaxis\":{\"gridcolor\":\"white\",\"linecolor\":\"white\",\"ticks\":\"\"},\"radialaxis\":{\"gridcolor\":\"white\",\"linecolor\":\"white\",\"ticks\":\"\"}},\"ternary\":{\"bgcolor\":\"#E5ECF6\",\"aaxis\":{\"gridcolor\":\"white\",\"linecolor\":\"white\",\"ticks\":\"\"},\"baxis\":{\"gridcolor\":\"white\",\"linecolor\":\"white\",\"ticks\":\"\"},\"caxis\":{\"gridcolor\":\"white\",\"linecolor\":\"white\",\"ticks\":\"\"}},\"coloraxis\":{\"colorbar\":{\"outlinewidth\":0,\"ticks\":\"\"}},\"colorscale\":{\"sequential\":[[0.0,\"#0d0887\"],[0.1111111111111111,\"#46039f\"],[0.2222222222222222,\"#7201a8\"],[0.3333333333333333,\"#9c179e\"],[0.4444444444444444,\"#bd3786\"],[0.5555555555555556,\"#d8576b\"],[0.6666666666666666,\"#ed7953\"],[0.7777777777777778,\"#fb9f3a\"],[0.8888888888888888,\"#fdca26\"],[1.0,\"#f0f921\"]],\"sequentialminus\":[[0.0,\"#0d0887\"],[0.1111111111111111,\"#46039f\"],[0.2222222222222222,\"#7201a8\"],[0.3333333333333333,\"#9c179e\"],[0.4444444444444444,\"#bd3786\"],[0.5555555555555556,\"#d8576b\"],[0.6666666666666666,\"#ed7953\"],[0.7777777777777778,\"#fb9f3a\"],[0.8888888888888888,\"#fdca26\"],[1.0,\"#f0f921\"]],\"diverging\":[[0,\"#8e0152\"],[0.1,\"#c51b7d\"],[0.2,\"#de77ae\"],[0.3,\"#f1b6da\"],[0.4,\"#fde0ef\"],[0.5,\"#f7f7f7\"],[0.6,\"#e6f5d0\"],[0.7,\"#b8e186\"],[0.8,\"#7fbc41\"],[0.9,\"#4d9221\"],[1,\"#276419\"]]},\"xaxis\":{\"gridcolor\":\"white\",\"linecolor\":\"white\",\"ticks\":\"\",\"title\":{\"standoff\":15},\"zerolinecolor\":\"white\",\"automargin\":true,\"zerolinewidth\":2},\"yaxis\":{\"gridcolor\":\"white\",\"linecolor\":\"white\",\"ticks\":\"\",\"title\":{\"standoff\":15},\"zerolinecolor\":\"white\",\"automargin\":true,\"zerolinewidth\":2},\"scene\":{\"xaxis\":{\"backgroundcolor\":\"#E5ECF6\",\"gridcolor\":\"white\",\"linecolor\":\"white\",\"showbackground\":true,\"ticks\":\"\",\"zerolinecolor\":\"white\",\"gridwidth\":2},\"yaxis\":{\"backgroundcolor\":\"#E5ECF6\",\"gridcolor\":\"white\",\"linecolor\":\"white\",\"showbackground\":true,\"ticks\":\"\",\"zerolinecolor\":\"white\",\"gridwidth\":2},\"zaxis\":{\"backgroundcolor\":\"#E5ECF6\",\"gridcolor\":\"white\",\"linecolor\":\"white\",\"showbackground\":true,\"ticks\":\"\",\"zerolinecolor\":\"white\",\"gridwidth\":2}},\"shapedefaults\":{\"line\":{\"color\":\"#2a3f5f\"}},\"annotationdefaults\":{\"arrowcolor\":\"#2a3f5f\",\"arrowhead\":0,\"arrowwidth\":1},\"geo\":{\"bgcolor\":\"white\",\"landcolor\":\"#E5ECF6\",\"subunitcolor\":\"white\",\"showland\":true,\"showlakes\":true,\"lakecolor\":\"white\"},\"title\":{\"x\":0.05},\"mapbox\":{\"style\":\"light\"}}}},                        {\"responsive\": true}                    ).then(function(){\n",
       "                            \n",
       "var gd = document.getElementById('e8ab8408-18e3-4d51-9259-1cacab412bf3');\n",
       "var x = new MutationObserver(function (mutations, observer) {{\n",
       "        var display = window.getComputedStyle(gd).display;\n",
       "        if (!display || display === 'none') {{\n",
       "            console.log([gd, 'removed!']);\n",
       "            Plotly.purge(gd);\n",
       "            observer.disconnect();\n",
       "        }}\n",
       "}});\n",
       "\n",
       "// Listen for the removal of the full notebook cells\n",
       "var notebookContainer = gd.closest('#notebook-container');\n",
       "if (notebookContainer) {{\n",
       "    x.observe(notebookContainer, {childList: true});\n",
       "}}\n",
       "\n",
       "// Listen for the clearing of the current output cell\n",
       "var outputEl = gd.closest('.output');\n",
       "if (outputEl) {{\n",
       "    x.observe(outputEl, {childList: true});\n",
       "}}\n",
       "\n",
       "                        })                };                });            </script>        </div>"
      ]
     },
     "metadata": {},
     "output_type": "display_data"
    }
   ],
   "source": [
    "optuna.visualization.plot_param_importances(study)"
   ]
  },
  {
   "cell_type": "code",
   "execution_count": 21,
   "id": "8bb65aed",
   "metadata": {
    "execution": {
     "iopub.execute_input": "2024-07-14T14:14:13.125955Z",
     "iopub.status.busy": "2024-07-14T14:14:13.125475Z",
     "iopub.status.idle": "2024-07-14T14:14:13.667055Z",
     "shell.execute_reply": "2024-07-14T14:14:13.665402Z"
    },
    "papermill": {
     "duration": 0.558708,
     "end_time": "2024-07-14T14:14:13.669776",
     "exception": false,
     "start_time": "2024-07-14T14:14:13.111068",
     "status": "completed"
    },
    "tags": []
   },
   "outputs": [
    {
     "data": {
      "text/plain": [
       "<Axes: title={'center': 'Feature importance'}, xlabel='Feature importance', ylabel='Features'>"
      ]
     },
     "execution_count": 21,
     "metadata": {},
     "output_type": "execute_result"
    },
    {
     "data": {
      "image/png": "[encoded data removed]",
      "text/plain": [
       "<Figure size 640x480 with 1 Axes>"
      ]
     },
     "metadata": {},
     "output_type": "display_data"
    }
   ],
   "source": [
    "lgb.plot_importance(model)"
   ]
  },
  {
   "cell_type": "code",
   "execution_count": 22,
   "id": "ef90a19d",
   "metadata": {
    "execution": {
     "iopub.execute_input": "2024-07-14T14:14:13.699810Z",
     "iopub.status.busy": "2024-07-14T14:14:13.699355Z",
     "iopub.status.idle": "2024-07-14T14:14:14.142342Z",
     "shell.execute_reply": "2024-07-14T14:14:14.140841Z"
    },
    "papermill": {
     "duration": 0.461426,
     "end_time": "2024-07-14T14:14:14.145515",
     "exception": false,
     "start_time": "2024-07-14T14:14:13.684089",
     "status": "completed"
    },
    "tags": []
   },
   "outputs": [
    {
     "data": {
      "text/plain": [
       "<Axes: title={'center': 'Metric during training'}, xlabel='Iterations', ylabel='l2'>"
      ]
     },
     "execution_count": 22,
     "metadata": {},
     "output_type": "execute_result"
    },
    {
     "data": {
      "image/png": "[encoded data removed]",
      "text/plain": [
       "<Figure size 640x480 with 1 Axes>"
      ]
     },
     "metadata": {},
     "output_type": "display_data"
    }
   ],
   "source": [
    "lgb.plot_metric(model,\n",
    "                metric='l2')"
   ]
  },
  {
   "cell_type": "code",
   "execution_count": 23,
   "id": "4c0d022e",
   "metadata": {
    "execution": {
     "iopub.execute_input": "2024-07-14T14:14:14.176026Z",
     "iopub.status.busy": "2024-07-14T14:14:14.175578Z",
     "iopub.status.idle": "2024-07-14T14:14:14.194241Z",
     "shell.execute_reply": "2024-07-14T14:14:14.192986Z"
    },
    "papermill": {
     "duration": 0.036789,
     "end_time": "2024-07-14T14:14:14.196654",
     "exception": false,
     "start_time": "2024-07-14T14:14:14.159865",
     "status": "completed"
    },
    "tags": []
   },
   "outputs": [
    {
     "data": {
      "text/html": [
       "<div>\n",
       "<style scoped>\n",
       "    .dataframe tbody tr th:only-of-type {\n",
       "        vertical-align: middle;\n",
       "    }\n",
       "\n",
       "    .dataframe tbody tr th {\n",
       "        vertical-align: top;\n",
       "    }\n",
       "\n",
       "    .dataframe thead th {\n",
       "        text-align: right;\n",
       "    }\n",
       "</style>\n",
       "<table border=\"1\" class=\"dataframe\">\n",
       "  <thead>\n",
       "    <tr style=\"text-align: right;\">\n",
       "      <th></th>\n",
       "      <th>num__allelectrons_Total</th>\n",
       "      <th>num__density_Total</th>\n",
       "      <th>num__allelectrons_Average</th>\n",
       "      <th>num__val_e_Average</th>\n",
       "      <th>num__atomicweight_Average</th>\n",
       "      <th>num__ionenergy_Average</th>\n",
       "      <th>num__el_neg_chi_Average</th>\n",
       "      <th>num__R_vdw_element_Average</th>\n",
       "      <th>num__R_cov_element_Average</th>\n",
       "      <th>num__zaratio_Average</th>\n",
       "      <th>num__density_Average</th>\n",
       "    </tr>\n",
       "  </thead>\n",
       "  <tbody>\n",
       "    <tr>\n",
       "      <th>5593</th>\n",
       "      <td>100.0</td>\n",
       "      <td>8.337992</td>\n",
       "      <td>10.0</td>\n",
       "      <td>4.8</td>\n",
       "      <td>20.077018</td>\n",
       "      <td>11.33044</td>\n",
       "      <td>2.706</td>\n",
       "      <td>1.678</td>\n",
       "      <td>0.892</td>\n",
       "      <td>0.498454</td>\n",
       "      <td>0.65552</td>\n",
       "    </tr>\n",
       "  </tbody>\n",
       "</table>\n",
       "</div>"
      ],
      "text/plain": [
       "      num__allelectrons_Total  num__density_Total  num__allelectrons_Average  \\\n",
       "5593                    100.0            8.337992                       10.0   \n",
       "\n",
       "      num__val_e_Average  num__atomicweight_Average  num__ionenergy_Average  \\\n",
       "5593                 4.8                  20.077018                11.33044   \n",
       "\n",
       "      num__el_neg_chi_Average  num__R_vdw_element_Average  \\\n",
       "5593                    2.706                       1.678   \n",
       "\n",
       "      num__R_cov_element_Average  num__zaratio_Average  num__density_Average  \n",
       "5593                       0.892              0.498454               0.65552  "
      ]
     },
     "execution_count": 23,
     "metadata": {},
     "output_type": "execute_result"
    }
   ],
   "source": [
    "data = X_test.sample(1)\n",
    "data"
   ]
  },
  {
   "cell_type": "code",
   "execution_count": 24,
   "id": "9015c09c",
   "metadata": {
    "execution": {
     "iopub.execute_input": "2024-07-14T14:14:14.231780Z",
     "iopub.status.busy": "2024-07-14T14:14:14.231366Z",
     "iopub.status.idle": "2024-07-14T14:14:14.241427Z",
     "shell.execute_reply": "2024-07-14T14:14:14.240175Z"
    },
    "papermill": {
     "duration": 0.032023,
     "end_time": "2024-07-14T14:14:14.244417",
     "exception": false,
     "start_time": "2024-07-14T14:14:14.212394",
     "status": "completed"
    },
    "tags": []
   },
   "outputs": [
    {
     "data": {
      "text/plain": [
       "array([5.27239302])"
      ]
     },
     "execution_count": 24,
     "metadata": {},
     "output_type": "execute_result"
    }
   ],
   "source": [
    "y_pred=model.predict(data)\n",
    "y_pred"
   ]
  },
  {
   "cell_type": "code",
   "execution_count": 25,
   "id": "6ab6ee65",
   "metadata": {
    "execution": {
     "iopub.execute_input": "2024-07-14T14:14:14.277045Z",
     "iopub.status.busy": "2024-07-14T14:14:14.276621Z",
     "iopub.status.idle": "2024-07-14T14:14:14.289623Z",
     "shell.execute_reply": "2024-07-14T14:14:14.288341Z"
    },
    "papermill": {
     "duration": 0.033014,
     "end_time": "2024-07-14T14:14:14.292316",
     "exception": false,
     "start_time": "2024-07-14T14:14:14.259302",
     "status": "completed"
    },
    "tags": []
   },
   "outputs": [
    {
     "data": {
      "text/plain": [
       "['my_model.pkl']"
      ]
     },
     "execution_count": 25,
     "metadata": {},
     "output_type": "execute_result"
    }
   ],
   "source": [
    "import joblib\n",
    "joblib.dump(model, 'my_model.pkl')"
   ]
  }
 ],
 "metadata": {
  "kaggle": {
   "accelerator": "none",
   "dataSources": [
    {
     "databundleVersionId": 6989718,
     "sourceId": 60892,
     "sourceType": "competition"
    }
   ],
   "dockerImageVersionId": 30746,
   "isGpuEnabled": false,
   "isInternetEnabled": false,
   "language": "python",
   "sourceType": "notebook"
  },
  "kernelspec": {
   "display_name": "Python 3",
   "language": "python",
   "name": "python3"
  },
  "language_info": {
   "codemirror_mode": {
    "name": "ipython",
    "version": 3
   },
   "file_extension": ".py",
   "mimetype": "text/x-python",
   "name": "python",
   "nbconvert_exporter": "python",
   "pygments_lexer": "ipython3",
   "version": "3.10.13"
  },
  "papermill": {
   "default_parameters": {},
   "duration": 35.164239,
   "end_time": "2024-07-14T14:14:15.231649",
   "environment_variables": {},
   "exception": null,
   "input_path": "__notebook__.ipynb",
   "output_path": "__notebook__.ipynb",
   "parameters": {},
   "start_time": "2024-07-14T14:13:40.067410",
   "version": "2.5.0"
  }
 },
 "nbformat": 4,
 "nbformat_minor": 5
}
