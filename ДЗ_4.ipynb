{
  "nbformat": 4,
  "nbformat_minor": 0,
  "metadata": {
    "colab": {
      "provenance": [],
      "include_colab_link": true
    },
    "kernelspec": {
      "name": "python3",
      "display_name": "Python 3"
    },
    "language_info": {
      "name": "python"
    }
  },
  "cells": [
    {
      "cell_type": "markdown",
      "metadata": {
        "id": "view-in-github",
        "colab_type": "text"
      },
      "source": [
        "<a href=\"https://colab.research.google.com/github/shaya-686/AI/blob/main/%D0%94%D0%97_4.ipynb\" target=\"_parent\"><img src=\"https://colab.research.google.com/assets/colab-badge.svg\" alt=\"Open In Colab\"/></a>"
      ]
    },
    {
      "cell_type": "markdown",
      "source": [
        "Імпорт модулів та даних"
      ],
      "metadata": {
        "id": "hfOaZ6SkWgtW"
      }
    },
    {
      "cell_type": "code",
      "execution_count": 1,
      "metadata": {
        "id": "lpUB6B6TWdnb"
      },
      "outputs": [],
      "source": [
        "import pandas as pd\n",
        "import numpy as np\n",
        "import matplotlib.pyplot as plt"
      ]
    },
    {
      "cell_type": "code",
      "source": [
        "df = pd.read_csv(\"https://raw.githubusercontent.com/HalyshAnton/IT-Step-Pyton-AI/main/module2/data/possum.csv\")"
      ],
      "metadata": {
        "id": "8jP3Lks4WpHi"
      },
      "execution_count": 2,
      "outputs": []
    },
    {
      "cell_type": "code",
      "source": [
        "df.head()"
      ],
      "metadata": {
        "id": "lVb1XOT2W2O6",
        "colab": {
          "base_uri": "https://localhost:8080/",
          "height": 206
        },
        "outputId": "66670587-9874-4018-b11b-d59df2d9bdab"
      },
      "execution_count": 14,
      "outputs": [
        {
          "output_type": "execute_result",
          "data": {
            "text/plain": [
              "   case  site  Pop sex  age  hdlngth  skullw  totlngth  taill  footlgth  \\\n",
              "0     1     1  Vic   m  8.0     94.1    60.4      89.0   36.0      74.5   \n",
              "1     2     1  Vic   f  6.0     92.5    57.6      91.5   36.5      72.5   \n",
              "2     3     1  Vic   f  6.0     94.0    60.0      95.5   39.0      75.4   \n",
              "3     4     1  Vic   f  6.0     93.2    57.1      92.0   38.0      76.1   \n",
              "4     5     1  Vic   f  2.0     91.5    56.3      85.5   36.0      71.0   \n",
              "\n",
              "   earconch   eye  chest  belly  \n",
              "0      54.5  15.2   28.0   36.0  \n",
              "1      51.2  16.0   28.5   33.0  \n",
              "2      51.9  15.5   30.0   34.0  \n",
              "3      52.2  15.2   28.0   34.0  \n",
              "4      53.2  15.1   28.5   33.0  "
            ],
            "text/html": [
              "\n",
              "  <div id=\"df-7aed06ff-bc07-4734-af7c-ef1fcd2d982e\" class=\"colab-df-container\">\n",
              "    <div>\n",
              "<style scoped>\n",
              "    .dataframe tbody tr th:only-of-type {\n",
              "        vertical-align: middle;\n",
              "    }\n",
              "\n",
              "    .dataframe tbody tr th {\n",
              "        vertical-align: top;\n",
              "    }\n",
              "\n",
              "    .dataframe thead th {\n",
              "        text-align: right;\n",
              "    }\n",
              "</style>\n",
              "<table border=\"1\" class=\"dataframe\">\n",
              "  <thead>\n",
              "    <tr style=\"text-align: right;\">\n",
              "      <th></th>\n",
              "      <th>case</th>\n",
              "      <th>site</th>\n",
              "      <th>Pop</th>\n",
              "      <th>sex</th>\n",
              "      <th>age</th>\n",
              "      <th>hdlngth</th>\n",
              "      <th>skullw</th>\n",
              "      <th>totlngth</th>\n",
              "      <th>taill</th>\n",
              "      <th>footlgth</th>\n",
              "      <th>earconch</th>\n",
              "      <th>eye</th>\n",
              "      <th>chest</th>\n",
              "      <th>belly</th>\n",
              "    </tr>\n",
              "  </thead>\n",
              "  <tbody>\n",
              "    <tr>\n",
              "      <th>0</th>\n",
              "      <td>1</td>\n",
              "      <td>1</td>\n",
              "      <td>Vic</td>\n",
              "      <td>m</td>\n",
              "      <td>8.0</td>\n",
              "      <td>94.1</td>\n",
              "      <td>60.4</td>\n",
              "      <td>89.0</td>\n",
              "      <td>36.0</td>\n",
              "      <td>74.5</td>\n",
              "      <td>54.5</td>\n",
              "      <td>15.2</td>\n",
              "      <td>28.0</td>\n",
              "      <td>36.0</td>\n",
              "    </tr>\n",
              "    <tr>\n",
              "      <th>1</th>\n",
              "      <td>2</td>\n",
              "      <td>1</td>\n",
              "      <td>Vic</td>\n",
              "      <td>f</td>\n",
              "      <td>6.0</td>\n",
              "      <td>92.5</td>\n",
              "      <td>57.6</td>\n",
              "      <td>91.5</td>\n",
              "      <td>36.5</td>\n",
              "      <td>72.5</td>\n",
              "      <td>51.2</td>\n",
              "      <td>16.0</td>\n",
              "      <td>28.5</td>\n",
              "      <td>33.0</td>\n",
              "    </tr>\n",
              "    <tr>\n",
              "      <th>2</th>\n",
              "      <td>3</td>\n",
              "      <td>1</td>\n",
              "      <td>Vic</td>\n",
              "      <td>f</td>\n",
              "      <td>6.0</td>\n",
              "      <td>94.0</td>\n",
              "      <td>60.0</td>\n",
              "      <td>95.5</td>\n",
              "      <td>39.0</td>\n",
              "      <td>75.4</td>\n",
              "      <td>51.9</td>\n",
              "      <td>15.5</td>\n",
              "      <td>30.0</td>\n",
              "      <td>34.0</td>\n",
              "    </tr>\n",
              "    <tr>\n",
              "      <th>3</th>\n",
              "      <td>4</td>\n",
              "      <td>1</td>\n",
              "      <td>Vic</td>\n",
              "      <td>f</td>\n",
              "      <td>6.0</td>\n",
              "      <td>93.2</td>\n",
              "      <td>57.1</td>\n",
              "      <td>92.0</td>\n",
              "      <td>38.0</td>\n",
              "      <td>76.1</td>\n",
              "      <td>52.2</td>\n",
              "      <td>15.2</td>\n",
              "      <td>28.0</td>\n",
              "      <td>34.0</td>\n",
              "    </tr>\n",
              "    <tr>\n",
              "      <th>4</th>\n",
              "      <td>5</td>\n",
              "      <td>1</td>\n",
              "      <td>Vic</td>\n",
              "      <td>f</td>\n",
              "      <td>2.0</td>\n",
              "      <td>91.5</td>\n",
              "      <td>56.3</td>\n",
              "      <td>85.5</td>\n",
              "      <td>36.0</td>\n",
              "      <td>71.0</td>\n",
              "      <td>53.2</td>\n",
              "      <td>15.1</td>\n",
              "      <td>28.5</td>\n",
              "      <td>33.0</td>\n",
              "    </tr>\n",
              "  </tbody>\n",
              "</table>\n",
              "</div>\n",
              "    <div class=\"colab-df-buttons\">\n",
              "\n",
              "  <div class=\"colab-df-container\">\n",
              "    <button class=\"colab-df-convert\" onclick=\"convertToInteractive('df-7aed06ff-bc07-4734-af7c-ef1fcd2d982e')\"\n",
              "            title=\"Convert this dataframe to an interactive table.\"\n",
              "            style=\"display:none;\">\n",
              "\n",
              "  <svg xmlns=\"http://www.w3.org/2000/svg\" height=\"24px\" viewBox=\"0 -960 960 960\">\n",
              "    <path d=\"M120-120v-720h720v720H120Zm60-500h600v-160H180v160Zm220 220h160v-160H400v160Zm0 220h160v-160H400v160ZM180-400h160v-160H180v160Zm440 0h160v-160H620v160ZM180-180h160v-160H180v160Zm440 0h160v-160H620v160Z\"/>\n",
              "  </svg>\n",
              "    </button>\n",
              "\n",
              "  <style>\n",
              "    .colab-df-container {\n",
              "      display:flex;\n",
              "      gap: 12px;\n",
              "    }\n",
              "\n",
              "    .colab-df-convert {\n",
              "      background-color: #E8F0FE;\n",
              "      border: none;\n",
              "      border-radius: 50%;\n",
              "      cursor: pointer;\n",
              "      display: none;\n",
              "      fill: #1967D2;\n",
              "      height: 32px;\n",
              "      padding: 0 0 0 0;\n",
              "      width: 32px;\n",
              "    }\n",
              "\n",
              "    .colab-df-convert:hover {\n",
              "      background-color: #E2EBFA;\n",
              "      box-shadow: 0px 1px 2px rgba(60, 64, 67, 0.3), 0px 1px 3px 1px rgba(60, 64, 67, 0.15);\n",
              "      fill: #174EA6;\n",
              "    }\n",
              "\n",
              "    .colab-df-buttons div {\n",
              "      margin-bottom: 4px;\n",
              "    }\n",
              "\n",
              "    [theme=dark] .colab-df-convert {\n",
              "      background-color: #3B4455;\n",
              "      fill: #D2E3FC;\n",
              "    }\n",
              "\n",
              "    [theme=dark] .colab-df-convert:hover {\n",
              "      background-color: #434B5C;\n",
              "      box-shadow: 0px 1px 3px 1px rgba(0, 0, 0, 0.15);\n",
              "      filter: drop-shadow(0px 1px 2px rgba(0, 0, 0, 0.3));\n",
              "      fill: #FFFFFF;\n",
              "    }\n",
              "  </style>\n",
              "\n",
              "    <script>\n",
              "      const buttonEl =\n",
              "        document.querySelector('#df-7aed06ff-bc07-4734-af7c-ef1fcd2d982e button.colab-df-convert');\n",
              "      buttonEl.style.display =\n",
              "        google.colab.kernel.accessAllowed ? 'block' : 'none';\n",
              "\n",
              "      async function convertToInteractive(key) {\n",
              "        const element = document.querySelector('#df-7aed06ff-bc07-4734-af7c-ef1fcd2d982e');\n",
              "        const dataTable =\n",
              "          await google.colab.kernel.invokeFunction('convertToInteractive',\n",
              "                                                    [key], {});\n",
              "        if (!dataTable) return;\n",
              "\n",
              "        const docLinkHtml = 'Like what you see? Visit the ' +\n",
              "          '<a target=\"_blank\" href=https://colab.research.google.com/notebooks/data_table.ipynb>data table notebook</a>'\n",
              "          + ' to learn more about interactive tables.';\n",
              "        element.innerHTML = '';\n",
              "        dataTable['output_type'] = 'display_data';\n",
              "        await google.colab.output.renderOutput(dataTable, element);\n",
              "        const docLink = document.createElement('div');\n",
              "        docLink.innerHTML = docLinkHtml;\n",
              "        element.appendChild(docLink);\n",
              "      }\n",
              "    </script>\n",
              "  </div>\n",
              "\n",
              "\n",
              "<div id=\"df-a408c5ed-5a94-4553-8d98-818388ba6601\">\n",
              "  <button class=\"colab-df-quickchart\" onclick=\"quickchart('df-a408c5ed-5a94-4553-8d98-818388ba6601')\"\n",
              "            title=\"Suggest charts\"\n",
              "            style=\"display:none;\">\n",
              "\n",
              "<svg xmlns=\"http://www.w3.org/2000/svg\" height=\"24px\"viewBox=\"0 0 24 24\"\n",
              "     width=\"24px\">\n",
              "    <g>\n",
              "        <path d=\"M19 3H5c-1.1 0-2 .9-2 2v14c0 1.1.9 2 2 2h14c1.1 0 2-.9 2-2V5c0-1.1-.9-2-2-2zM9 17H7v-7h2v7zm4 0h-2V7h2v10zm4 0h-2v-4h2v4z\"/>\n",
              "    </g>\n",
              "</svg>\n",
              "  </button>\n",
              "\n",
              "<style>\n",
              "  .colab-df-quickchart {\n",
              "      --bg-color: #E8F0FE;\n",
              "      --fill-color: #1967D2;\n",
              "      --hover-bg-color: #E2EBFA;\n",
              "      --hover-fill-color: #174EA6;\n",
              "      --disabled-fill-color: #AAA;\n",
              "      --disabled-bg-color: #DDD;\n",
              "  }\n",
              "\n",
              "  [theme=dark] .colab-df-quickchart {\n",
              "      --bg-color: #3B4455;\n",
              "      --fill-color: #D2E3FC;\n",
              "      --hover-bg-color: #434B5C;\n",
              "      --hover-fill-color: #FFFFFF;\n",
              "      --disabled-bg-color: #3B4455;\n",
              "      --disabled-fill-color: #666;\n",
              "  }\n",
              "\n",
              "  .colab-df-quickchart {\n",
              "    background-color: var(--bg-color);\n",
              "    border: none;\n",
              "    border-radius: 50%;\n",
              "    cursor: pointer;\n",
              "    display: none;\n",
              "    fill: var(--fill-color);\n",
              "    height: 32px;\n",
              "    padding: 0;\n",
              "    width: 32px;\n",
              "  }\n",
              "\n",
              "  .colab-df-quickchart:hover {\n",
              "    background-color: var(--hover-bg-color);\n",
              "    box-shadow: 0 1px 2px rgba(60, 64, 67, 0.3), 0 1px 3px 1px rgba(60, 64, 67, 0.15);\n",
              "    fill: var(--button-hover-fill-color);\n",
              "  }\n",
              "\n",
              "  .colab-df-quickchart-complete:disabled,\n",
              "  .colab-df-quickchart-complete:disabled:hover {\n",
              "    background-color: var(--disabled-bg-color);\n",
              "    fill: var(--disabled-fill-color);\n",
              "    box-shadow: none;\n",
              "  }\n",
              "\n",
              "  .colab-df-spinner {\n",
              "    border: 2px solid var(--fill-color);\n",
              "    border-color: transparent;\n",
              "    border-bottom-color: var(--fill-color);\n",
              "    animation:\n",
              "      spin 1s steps(1) infinite;\n",
              "  }\n",
              "\n",
              "  @keyframes spin {\n",
              "    0% {\n",
              "      border-color: transparent;\n",
              "      border-bottom-color: var(--fill-color);\n",
              "      border-left-color: var(--fill-color);\n",
              "    }\n",
              "    20% {\n",
              "      border-color: transparent;\n",
              "      border-left-color: var(--fill-color);\n",
              "      border-top-color: var(--fill-color);\n",
              "    }\n",
              "    30% {\n",
              "      border-color: transparent;\n",
              "      border-left-color: var(--fill-color);\n",
              "      border-top-color: var(--fill-color);\n",
              "      border-right-color: var(--fill-color);\n",
              "    }\n",
              "    40% {\n",
              "      border-color: transparent;\n",
              "      border-right-color: var(--fill-color);\n",
              "      border-top-color: var(--fill-color);\n",
              "    }\n",
              "    60% {\n",
              "      border-color: transparent;\n",
              "      border-right-color: var(--fill-color);\n",
              "    }\n",
              "    80% {\n",
              "      border-color: transparent;\n",
              "      border-right-color: var(--fill-color);\n",
              "      border-bottom-color: var(--fill-color);\n",
              "    }\n",
              "    90% {\n",
              "      border-color: transparent;\n",
              "      border-bottom-color: var(--fill-color);\n",
              "    }\n",
              "  }\n",
              "</style>\n",
              "\n",
              "  <script>\n",
              "    async function quickchart(key) {\n",
              "      const quickchartButtonEl =\n",
              "        document.querySelector('#' + key + ' button');\n",
              "      quickchartButtonEl.disabled = true;  // To prevent multiple clicks.\n",
              "      quickchartButtonEl.classList.add('colab-df-spinner');\n",
              "      try {\n",
              "        const charts = await google.colab.kernel.invokeFunction(\n",
              "            'suggestCharts', [key], {});\n",
              "      } catch (error) {\n",
              "        console.error('Error during call to suggestCharts:', error);\n",
              "      }\n",
              "      quickchartButtonEl.classList.remove('colab-df-spinner');\n",
              "      quickchartButtonEl.classList.add('colab-df-quickchart-complete');\n",
              "    }\n",
              "    (() => {\n",
              "      let quickchartButtonEl =\n",
              "        document.querySelector('#df-a408c5ed-5a94-4553-8d98-818388ba6601 button');\n",
              "      quickchartButtonEl.style.display =\n",
              "        google.colab.kernel.accessAllowed ? 'block' : 'none';\n",
              "    })();\n",
              "  </script>\n",
              "</div>\n",
              "\n",
              "    </div>\n",
              "  </div>\n"
            ],
            "application/vnd.google.colaboratory.intrinsic+json": {
              "type": "dataframe",
              "variable_name": "df",
              "summary": "{\n  \"name\": \"df\",\n  \"rows\": 104,\n  \"fields\": [\n    {\n      \"column\": \"case\",\n      \"properties\": {\n        \"dtype\": \"number\",\n        \"std\": 30,\n        \"min\": 1,\n        \"max\": 104,\n        \"num_unique_values\": 104,\n        \"samples\": [\n          31,\n          66,\n          65\n        ],\n        \"semantic_type\": \"\",\n        \"description\": \"\"\n      }\n    },\n    {\n      \"column\": \"site\",\n      \"properties\": {\n        \"dtype\": \"number\",\n        \"std\": 2,\n        \"min\": 1,\n        \"max\": 7,\n        \"num_unique_values\": 7,\n        \"samples\": [\n          1,\n          2,\n          6\n        ],\n        \"semantic_type\": \"\",\n        \"description\": \"\"\n      }\n    },\n    {\n      \"column\": \"Pop\",\n      \"properties\": {\n        \"dtype\": \"category\",\n        \"num_unique_values\": 2,\n        \"samples\": [\n          \"other\",\n          \"Vic\"\n        ],\n        \"semantic_type\": \"\",\n        \"description\": \"\"\n      }\n    },\n    {\n      \"column\": \"sex\",\n      \"properties\": {\n        \"dtype\": \"category\",\n        \"num_unique_values\": 2,\n        \"samples\": [\n          \"f\",\n          \"m\"\n        ],\n        \"semantic_type\": \"\",\n        \"description\": \"\"\n      }\n    },\n    {\n      \"column\": \"age\",\n      \"properties\": {\n        \"dtype\": \"number\",\n        \"std\": 1.9092444897006104,\n        \"min\": 1.0,\n        \"max\": 9.0,\n        \"num_unique_values\": 9,\n        \"samples\": [\n          4.0,\n          6.0\n        ],\n        \"semantic_type\": \"\",\n        \"description\": \"\"\n      }\n    },\n    {\n      \"column\": \"hdlngth\",\n      \"properties\": {\n        \"dtype\": \"number\",\n        \"std\": 3.573349486079402,\n        \"min\": 82.5,\n        \"max\": 103.1,\n        \"num_unique_values\": 71,\n        \"samples\": [\n          96.0,\n          94.1\n        ],\n        \"semantic_type\": \"\",\n        \"description\": \"\"\n      }\n    },\n    {\n      \"column\": \"skullw\",\n      \"properties\": {\n        \"dtype\": \"number\",\n        \"std\": 3.1134256903770203,\n        \"min\": 50.0,\n        \"max\": 68.6,\n        \"num_unique_values\": 64,\n        \"samples\": [\n          50.0,\n          58.4\n        ],\n        \"semantic_type\": \"\",\n        \"description\": \"\"\n      }\n    },\n    {\n      \"column\": \"totlngth\",\n      \"properties\": {\n        \"dtype\": \"number\",\n        \"std\": 4.310549436569344,\n        \"min\": 75.0,\n        \"max\": 96.5,\n        \"num_unique_values\": 34,\n        \"samples\": [\n          93.0,\n          75.0\n        ],\n        \"semantic_type\": \"\",\n        \"description\": \"\"\n      }\n    },\n    {\n      \"column\": \"taill\",\n      \"properties\": {\n        \"dtype\": \"number\",\n        \"std\": 1.959518428592603,\n        \"min\": 32.0,\n        \"max\": 43.0,\n        \"num_unique_values\": 19,\n        \"samples\": [\n          36.0,\n          37.0\n        ],\n        \"semantic_type\": \"\",\n        \"description\": \"\"\n      }\n    },\n    {\n      \"column\": \"footlgth\",\n      \"properties\": {\n        \"dtype\": \"number\",\n        \"std\": 4.395305804641412,\n        \"min\": 60.3,\n        \"max\": 77.9,\n        \"num_unique_values\": 75,\n        \"samples\": [\n          71.0,\n          60.7\n        ],\n        \"semantic_type\": \"\",\n        \"description\": \"\"\n      }\n    },\n    {\n      \"column\": \"earconch\",\n      \"properties\": {\n        \"dtype\": \"number\",\n        \"std\": 4.109380151285827,\n        \"min\": 40.3,\n        \"max\": 56.2,\n        \"num_unique_values\": 69,\n        \"samples\": [\n          56.2,\n          54.5\n        ],\n        \"semantic_type\": \"\",\n        \"description\": \"\"\n      }\n    },\n    {\n      \"column\": \"eye\",\n      \"properties\": {\n        \"dtype\": \"number\",\n        \"std\": 1.0503742353818448,\n        \"min\": 12.8,\n        \"max\": 17.8,\n        \"num_unique_values\": 35,\n        \"samples\": [\n          16.5,\n          15.4\n        ],\n        \"semantic_type\": \"\",\n        \"description\": \"\"\n      }\n    },\n    {\n      \"column\": \"chest\",\n      \"properties\": {\n        \"dtype\": \"number\",\n        \"std\": 2.0455967391979963,\n        \"min\": 22.0,\n        \"max\": 32.0,\n        \"num_unique_values\": 19,\n        \"samples\": [\n          28.0,\n          31.0\n        ],\n        \"semantic_type\": \"\",\n        \"description\": \"\"\n      }\n    },\n    {\n      \"column\": \"belly\",\n      \"properties\": {\n        \"dtype\": \"number\",\n        \"std\": 2.7619487172923667,\n        \"min\": 25.0,\n        \"max\": 40.0,\n        \"num_unique_values\": 24,\n        \"samples\": [\n          40.0,\n          27.0\n        ],\n        \"semantic_type\": \"\",\n        \"description\": \"\"\n      }\n    }\n  ]\n}"
            }
          },
          "metadata": {},
          "execution_count": 14
        }
      ]
    },
    {
      "cell_type": "markdown",
      "source": [
        "# Завдання 1\n",
        "Виведіть основні числові характеристики для числових ознак"
      ],
      "metadata": {
        "id": "7s0YT6a2Xhd0"
      }
    },
    {
      "cell_type": "code",
      "source": [
        "stats = {}\n",
        "def figure_characteristics(df, column):\n",
        "  if df[column].dtypes not in (\"object\", \"datetime64[ns]\"):\n",
        "    count = df[column].count()\n",
        "    mean = df[column].mean().round(3)\n",
        "    median = df[column].median().round(3)\n",
        "    q1 = df[column].quantile(q=0.25)\n",
        "    q3 = df[column].quantile(q=0.75)\n",
        "    std = df[column].std().round(3)\n",
        "    min = df[column].min()\n",
        "    max = df[column].max()\n",
        "    stats[column] = {'count': count, 'mean': mean, 'median' : median, 'q1': q1, 'q3': q3, 'std': std,  'min': min, 'max': max}\n",
        "\n",
        "for column in df.columns:\n",
        "  figure_characteristics(df,column)\n",
        "\n",
        "for key, value in stats.items():\n",
        "  print(f\"{key} = {value} \\n\")\n",
        "\n",
        "#df.describe()"
      ],
      "metadata": {
        "id": "1DeE-hXvW3MH",
        "colab": {
          "base_uri": "https://localhost:8080/"
        },
        "outputId": "1fcdc344-153e-4690-c295-133b6beeb33d"
      },
      "execution_count": 36,
      "outputs": [
        {
          "output_type": "stream",
          "name": "stdout",
          "text": [
            "case = {'count': 104, 'mean': 52.5, 'median': 52.5, 'q1': 26.75, 'q3': 78.25, 'std': 30.166, 'min': 1, 'max': 104} \n",
            "\n",
            "site = {'count': 104, 'mean': 3.625, 'median': 3.0, 'q1': 1.0, 'q3': 6.0, 'std': 2.349, 'min': 1, 'max': 7} \n",
            "\n",
            "age = {'count': 102, 'mean': 3.833, 'median': 3.0, 'q1': 2.25, 'q3': 5.0, 'std': 1.909, 'min': 1.0, 'max': 9.0} \n",
            "\n",
            "hdlngth = {'count': 104, 'mean': 92.603, 'median': 92.8, 'q1': 90.675, 'q3': 94.725, 'std': 3.573, 'min': 82.5, 'max': 103.1} \n",
            "\n",
            "skullw = {'count': 104, 'mean': 56.884, 'median': 56.35, 'q1': 54.975, 'q3': 58.1, 'std': 3.113, 'min': 50.0, 'max': 68.6} \n",
            "\n",
            "totlngth = {'count': 104, 'mean': 87.088, 'median': 88.0, 'q1': 84.0, 'q3': 90.0, 'std': 4.311, 'min': 75.0, 'max': 96.5} \n",
            "\n",
            "taill = {'count': 104, 'mean': 37.01, 'median': 37.0, 'q1': 35.875, 'q3': 38.0, 'std': 1.96, 'min': 32.0, 'max': 43.0} \n",
            "\n",
            "footlgth = {'count': 103, 'mean': 68.459, 'median': 68.0, 'q1': 64.6, 'q3': 72.5, 'std': 4.395, 'min': 60.3, 'max': 77.9} \n",
            "\n",
            "earconch = {'count': 104, 'mean': 48.131, 'median': 46.8, 'q1': 44.8, 'q3': 52.0, 'std': 4.109, 'min': 40.3, 'max': 56.2} \n",
            "\n",
            "eye = {'count': 104, 'mean': 15.046, 'median': 14.9, 'q1': 14.4, 'q3': 15.725, 'std': 1.05, 'min': 12.8, 'max': 17.8} \n",
            "\n",
            "chest = {'count': 104, 'mean': 27.0, 'median': 27.0, 'q1': 25.5, 'q3': 28.0, 'std': 2.046, 'min': 22.0, 'max': 32.0} \n",
            "\n",
            "belly = {'count': 104, 'mean': 32.587, 'median': 32.5, 'q1': 31.0, 'q3': 34.125, 'std': 2.762, 'min': 25.0, 'max': 40.0} \n",
            "\n"
          ]
        }
      ]
    },
    {
      "cell_type": "markdown",
      "source": [
        "# Завдання 2\n",
        "Проаналізуйте стовпчик `case`, чи є він інформативним?"
      ],
      "metadata": {
        "id": "L08M-we9Xv6k"
      }
    },
    {
      "cell_type": "code",
      "source": [
        "df['case'].nunique()\n",
        "plt.subplot(211)\n",
        "df['case'].plot(kind='box', vert=False, figsize=(14,6))\n",
        "plt.subplot(212)\n",
        "df['case'].plot(kind='hist',  bins=104, figsize=(14,6))\n",
        "plt.show()"
      ],
      "metadata": {
        "id": "zoJTHBquZ1K2",
        "colab": {
          "base_uri": "https://localhost:8080/",
          "height": 522
        },
        "outputId": "48124257-9ef7-4bbe-cc17-6c9cc6fa9d13"
      },
      "execution_count": 32,
      "outputs": [
        {
          "output_type": "display_data",
          "data": {
            "text/plain": [
              "<Figure size 1400x600 with 2 Axes>"
            ],
            "image/png": "[encoded data removed]"
          },
          "metadata": {}
        }
      ]
    },
    {
      "cell_type": "markdown",
      "source": [
        "# Завдання 3\n",
        "Очистіть дані від викидів. Виведіть очищений датафрейм"
      ],
      "metadata": {
        "id": "MNPiVacVYWcE"
      }
    },
    {
      "cell_type": "code",
      "source": [
        "print(\"Original shape: \", df.shape)\n",
        "def remove_outliers(df, column_name):\n",
        "  q1 = df[column_name].quantile(q=0.25)\n",
        "  q3 = df[column_name].quantile(q=0.75)\n",
        "\n",
        "  IQR = q3 - q1\n",
        "  lower = q1 - 1.5*IQR\n",
        "  upper = q3 + 1.5*IQR\n",
        "\n",
        "  mask = (df[column_name] >= lower) & (df[column_name] <= upper)\n",
        "  return df[mask]\n",
        "\n",
        "df1 = df.copy()\n",
        "\n",
        "for column_name in df1.columns:\n",
        "  if df1.dtypes[column_name] in (\"object\", \"datetime64[ns]\"):\n",
        "    continue\n",
        "\n",
        "  df1 = remove_outliers(df1, column_name)\n",
        "\n",
        "print(\"New shape: \", df1.shape)"
      ],
      "metadata": {
        "id": "qZvwnLlJXCWz",
        "colab": {
          "base_uri": "https://localhost:8080/"
        },
        "outputId": "08b1c710-dca3-4e07-a37e-46081c5f80d1"
      },
      "execution_count": 35,
      "outputs": [
        {
          "output_type": "stream",
          "name": "stdout",
          "text": [
            "Original shape:  (104, 14)\n",
            "New shape:  (85, 14)\n"
          ]
        }
      ]
    },
    {
      "cell_type": "code",
      "source": [
        "num_df = df.select_dtypes(include='number')\n",
        "q1 = num_df.quantile(q=0.25)\n",
        "q3 = num_df.quantile(q=0.75)\n",
        "\n",
        "IQR = q3 - q1\n",
        "lower = q1 - 1.5*IQR\n",
        "upper = q3 + 1.5*IQR\n",
        "mask = (num_df >= lower) & (num_df <= upper)\n",
        "df[mask.all(axis=1)].shape"
      ],
      "metadata": {
        "colab": {
          "base_uri": "https://localhost:8080/"
        },
        "id": "Y8AobYZUpZHX",
        "outputId": "3cc08442-55e0-4638-e484-8b475d7a8e36"
      },
      "execution_count": 44,
      "outputs": [
        {
          "output_type": "execute_result",
          "data": {
            "text/plain": [
              "(85, 14)"
            ]
          },
          "metadata": {},
          "execution_count": 44
        }
      ]
    },
    {
      "cell_type": "markdown",
      "source": [
        "# Завдання 4\n",
        "Намалюйте матрицб кореляцій. Для найбільш корельованих ознак намалюйте точкову діаграму."
      ],
      "metadata": {
        "id": "g-qxBuuSYzX6"
      }
    },
    {
      "cell_type": "code",
      "source": [],
      "metadata": {
        "id": "rQefEj-XY-2_"
      },
      "execution_count": null,
      "outputs": []
    },
    {
      "cell_type": "markdown",
      "source": [
        "# Завдання 5\n",
        "Для 4-ох числових ознак на вибір намалюйте ящики з вусами згрупованими по статі. Подумайте чи є вплив статі на розміри опосума"
      ],
      "metadata": {
        "id": "DgIFGk9iY_ir"
      }
    },
    {
      "cell_type": "code",
      "source": [],
      "metadata": {
        "id": "N2rwAwQRZNXA"
      },
      "execution_count": null,
      "outputs": []
    }
  ]
}