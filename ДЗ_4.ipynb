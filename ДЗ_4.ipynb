{
  "nbformat": 4,
  "nbformat_minor": 0,
  "metadata": {
    "colab": {
      "provenance": [],
      "include_colab_link": true
    },
    "kernelspec": {
      "name": "python3",
      "display_name": "Python 3"
    },
    "language_info": {
      "name": "python"
    }
  },
  "cells": [
    {
      "cell_type": "markdown",
      "metadata": {
        "id": "view-in-github",
        "colab_type": "text"
      },
      "source": [
        "<a href=\"https://colab.research.google.com/github/shaya-686/AI/blob/main/%D0%94%D0%97_4.ipynb\" target=\"_parent\"><img src=\"https://colab.research.google.com/assets/colab-badge.svg\" alt=\"Open In Colab\"/></a>"
      ]
    },
    {
      "cell_type": "markdown",
      "source": [
        "Імпорт модулів та даних"
      ],
      "metadata": {
        "id": "hfOaZ6SkWgtW"
      }
    },
    {
      "cell_type": "code",
      "execution_count": null,
      "metadata": {
        "id": "lpUB6B6TWdnb"
      },
      "outputs": [],
      "source": [
        "import pandas as pd\n",
        "import numpy as np\n",
        "import matplotlib.pyplot as plt"
      ]
    },
    {
      "cell_type": "code",
      "source": [
        "df = pd.read_csv(\"https://raw.githubusercontent.com/HalyshAnton/IT-Step-Pyton-AI/main/module2/data/possum.csv\")"
      ],
      "metadata": {
        "id": "8jP3Lks4WpHi"
      },
      "execution_count": null,
      "outputs": []
    },
    {
      "cell_type": "code",
      "source": [
        "df.head()"
      ],
      "metadata": {
        "id": "lVb1XOT2W2O6"
      },
      "execution_count": null,
      "outputs": []
    },
    {
      "cell_type": "markdown",
      "source": [
        "# Завдання 1\n",
        "Виведіть основні числові характеристики для числових ознак"
      ],
      "metadata": {
        "id": "7s0YT6a2Xhd0"
      }
    },
    {
      "cell_type": "code",
      "source": [],
      "metadata": {
        "id": "1DeE-hXvW3MH"
      },
      "execution_count": null,
      "outputs": []
    },
    {
      "cell_type": "markdown",
      "source": [
        "# Завдання 2\n",
        "Проаналізуйте стовпчик `case`, чи є він інформативним?"
      ],
      "metadata": {
        "id": "L08M-we9Xv6k"
      }
    },
    {
      "cell_type": "code",
      "source": [],
      "metadata": {
        "id": "zoJTHBquZ1K2"
      },
      "execution_count": null,
      "outputs": []
    },
    {
      "cell_type": "markdown",
      "source": [
        "# Завдання 3\n",
        "Очистіть дані від викидів. Виведіть очищений датафрейм"
      ],
      "metadata": {
        "id": "MNPiVacVYWcE"
      }
    },
    {
      "cell_type": "code",
      "source": [],
      "metadata": {
        "id": "qZvwnLlJXCWz"
      },
      "execution_count": null,
      "outputs": []
    },
    {
      "cell_type": "markdown",
      "source": [
        "# Завдання 4\n",
        "Намалюйте матрицб кореляцій. Для найбільш корельованих ознак намалюйте точкову діаграму."
      ],
      "metadata": {
        "id": "g-qxBuuSYzX6"
      }
    },
    {
      "cell_type": "code",
      "source": [],
      "metadata": {
        "id": "rQefEj-XY-2_"
      },
      "execution_count": null,
      "outputs": []
    },
    {
      "cell_type": "markdown",
      "source": [
        "# Завдання 5\n",
        "Для 4-ох числових ознак на вибір намалюйте ящики з вусами згрупованими по статі. Подумайте чи є вплив статі на розміри опосума"
      ],
      "metadata": {
        "id": "DgIFGk9iY_ir"
      }
    },
    {
      "cell_type": "code",
      "source": [],
      "metadata": {
        "id": "N2rwAwQRZNXA"
      },
      "execution_count": null,
      "outputs": []
    }
  ]
}