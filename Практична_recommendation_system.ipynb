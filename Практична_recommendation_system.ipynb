{
  "nbformat": 4,
  "nbformat_minor": 0,
  "metadata": {
    "colab": {
      "provenance": [],
      "include_colab_link": true
    },
    "kernelspec": {
      "name": "python3",
      "display_name": "Python 3"
    },
    "language_info": {
      "name": "python"
    }
  },
  "cells": [
    {
      "cell_type": "markdown",
      "metadata": {
        "id": "view-in-github",
        "colab_type": "text"
      },
      "source": [
        "<a href=\"https://colab.research.google.com/github/shaya-686/AI/blob/main/%D0%9F%D1%80%D0%B0%D0%BA%D1%82%D0%B8%D1%87%D0%BD%D0%B0_recommendation_system.ipynb\" target=\"_parent\"><img src=\"https://colab.research.google.com/assets/colab-badge.svg\" alt=\"Open In Colab\"/></a>"
      ]
    },
    {
      "cell_type": "markdown",
      "source": [
        "# Завдання\n",
        "\n",
        "* Створіть Reader\n",
        "* Створіть датасет та розділіть його на тренувальні та тестові дані\n",
        "* Виберіть метрики для поріняння якості моделей\n",
        "* На основі метрик виберіть найкращу модель\n",
        "* Використайте `optuna` для підбору найкращих параметрів\n",
        "\n"
      ],
      "metadata": {
        "id": "cpuh9s2eYX3v"
      }
    },
    {
      "cell_type": "code",
      "execution_count": 1,
      "metadata": {
        "colab": {
          "base_uri": "https://localhost:8080/",
          "height": 206
        },
        "id": "wIK2PWg8YMIs",
        "outputId": "72ff6bd2-3283-4761-c657-c758103d7d2d"
      },
      "outputs": [
        {
          "output_type": "execute_result",
          "data": {
            "text/plain": [
              "   blog_id  userId  ratings\n",
              "0     9025      11      3.5\n",
              "1     9320      11      5.0\n",
              "2     9246      11      3.5\n",
              "3     9431      11      5.0\n",
              "4      875      11      2.0"
            ],
            "text/html": [
              "\n",
              "  <div id=\"df-62f480fb-9c63-48dc-a9bb-ec70c01d8b10\" class=\"colab-df-container\">\n",
              "    <div>\n",
              "<style scoped>\n",
              "    .dataframe tbody tr th:only-of-type {\n",
              "        vertical-align: middle;\n",
              "    }\n",
              "\n",
              "    .dataframe tbody tr th {\n",
              "        vertical-align: top;\n",
              "    }\n",
              "\n",
              "    .dataframe thead th {\n",
              "        text-align: right;\n",
              "    }\n",
              "</style>\n",
              "<table border=\"1\" class=\"dataframe\">\n",
              "  <thead>\n",
              "    <tr style=\"text-align: right;\">\n",
              "      <th></th>\n",
              "      <th>blog_id</th>\n",
              "      <th>userId</th>\n",
              "      <th>ratings</th>\n",
              "    </tr>\n",
              "  </thead>\n",
              "  <tbody>\n",
              "    <tr>\n",
              "      <th>0</th>\n",
              "      <td>9025</td>\n",
              "      <td>11</td>\n",
              "      <td>3.5</td>\n",
              "    </tr>\n",
              "    <tr>\n",
              "      <th>1</th>\n",
              "      <td>9320</td>\n",
              "      <td>11</td>\n",
              "      <td>5.0</td>\n",
              "    </tr>\n",
              "    <tr>\n",
              "      <th>2</th>\n",
              "      <td>9246</td>\n",
              "      <td>11</td>\n",
              "      <td>3.5</td>\n",
              "    </tr>\n",
              "    <tr>\n",
              "      <th>3</th>\n",
              "      <td>9431</td>\n",
              "      <td>11</td>\n",
              "      <td>5.0</td>\n",
              "    </tr>\n",
              "    <tr>\n",
              "      <th>4</th>\n",
              "      <td>875</td>\n",
              "      <td>11</td>\n",
              "      <td>2.0</td>\n",
              "    </tr>\n",
              "  </tbody>\n",
              "</table>\n",
              "</div>\n",
              "    <div class=\"colab-df-buttons\">\n",
              "\n",
              "  <div class=\"colab-df-container\">\n",
              "    <button class=\"colab-df-convert\" onclick=\"convertToInteractive('df-62f480fb-9c63-48dc-a9bb-ec70c01d8b10')\"\n",
              "            title=\"Convert this dataframe to an interactive table.\"\n",
              "            style=\"display:none;\">\n",
              "\n",
              "  <svg xmlns=\"http://www.w3.org/2000/svg\" height=\"24px\" viewBox=\"0 -960 960 960\">\n",
              "    <path d=\"M120-120v-720h720v720H120Zm60-500h600v-160H180v160Zm220 220h160v-160H400v160Zm0 220h160v-160H400v160ZM180-400h160v-160H180v160Zm440 0h160v-160H620v160ZM180-180h160v-160H180v160Zm440 0h160v-160H620v160Z\"/>\n",
              "  </svg>\n",
              "    </button>\n",
              "\n",
              "  <style>\n",
              "    .colab-df-container {\n",
              "      display:flex;\n",
              "      gap: 12px;\n",
              "    }\n",
              "\n",
              "    .colab-df-convert {\n",
              "      background-color: #E8F0FE;\n",
              "      border: none;\n",
              "      border-radius: 50%;\n",
              "      cursor: pointer;\n",
              "      display: none;\n",
              "      fill: #1967D2;\n",
              "      height: 32px;\n",
              "      padding: 0 0 0 0;\n",
              "      width: 32px;\n",
              "    }\n",
              "\n",
              "    .colab-df-convert:hover {\n",
              "      background-color: #E2EBFA;\n",
              "      box-shadow: 0px 1px 2px rgba(60, 64, 67, 0.3), 0px 1px 3px 1px rgba(60, 64, 67, 0.15);\n",
              "      fill: #174EA6;\n",
              "    }\n",
              "\n",
              "    .colab-df-buttons div {\n",
              "      margin-bottom: 4px;\n",
              "    }\n",
              "\n",
              "    [theme=dark] .colab-df-convert {\n",
              "      background-color: #3B4455;\n",
              "      fill: #D2E3FC;\n",
              "    }\n",
              "\n",
              "    [theme=dark] .colab-df-convert:hover {\n",
              "      background-color: #434B5C;\n",
              "      box-shadow: 0px 1px 3px 1px rgba(0, 0, 0, 0.15);\n",
              "      filter: drop-shadow(0px 1px 2px rgba(0, 0, 0, 0.3));\n",
              "      fill: #FFFFFF;\n",
              "    }\n",
              "  </style>\n",
              "\n",
              "    <script>\n",
              "      const buttonEl =\n",
              "        document.querySelector('#df-62f480fb-9c63-48dc-a9bb-ec70c01d8b10 button.colab-df-convert');\n",
              "      buttonEl.style.display =\n",
              "        google.colab.kernel.accessAllowed ? 'block' : 'none';\n",
              "\n",
              "      async function convertToInteractive(key) {\n",
              "        const element = document.querySelector('#df-62f480fb-9c63-48dc-a9bb-ec70c01d8b10');\n",
              "        const dataTable =\n",
              "          await google.colab.kernel.invokeFunction('convertToInteractive',\n",
              "                                                    [key], {});\n",
              "        if (!dataTable) return;\n",
              "\n",
              "        const docLinkHtml = 'Like what you see? Visit the ' +\n",
              "          '<a target=\"_blank\" href=https://colab.research.google.com/notebooks/data_table.ipynb>data table notebook</a>'\n",
              "          + ' to learn more about interactive tables.';\n",
              "        element.innerHTML = '';\n",
              "        dataTable['output_type'] = 'display_data';\n",
              "        await google.colab.output.renderOutput(dataTable, element);\n",
              "        const docLink = document.createElement('div');\n",
              "        docLink.innerHTML = docLinkHtml;\n",
              "        element.appendChild(docLink);\n",
              "      }\n",
              "    </script>\n",
              "  </div>\n",
              "\n",
              "\n",
              "<div id=\"df-98033274-1a3f-4045-a862-bbc391dc6b35\">\n",
              "  <button class=\"colab-df-quickchart\" onclick=\"quickchart('df-98033274-1a3f-4045-a862-bbc391dc6b35')\"\n",
              "            title=\"Suggest charts\"\n",
              "            style=\"display:none;\">\n",
              "\n",
              "<svg xmlns=\"http://www.w3.org/2000/svg\" height=\"24px\"viewBox=\"0 0 24 24\"\n",
              "     width=\"24px\">\n",
              "    <g>\n",
              "        <path d=\"M19 3H5c-1.1 0-2 .9-2 2v14c0 1.1.9 2 2 2h14c1.1 0 2-.9 2-2V5c0-1.1-.9-2-2-2zM9 17H7v-7h2v7zm4 0h-2V7h2v10zm4 0h-2v-4h2v4z\"/>\n",
              "    </g>\n",
              "</svg>\n",
              "  </button>\n",
              "\n",
              "<style>\n",
              "  .colab-df-quickchart {\n",
              "      --bg-color: #E8F0FE;\n",
              "      --fill-color: #1967D2;\n",
              "      --hover-bg-color: #E2EBFA;\n",
              "      --hover-fill-color: #174EA6;\n",
              "      --disabled-fill-color: #AAA;\n",
              "      --disabled-bg-color: #DDD;\n",
              "  }\n",
              "\n",
              "  [theme=dark] .colab-df-quickchart {\n",
              "      --bg-color: #3B4455;\n",
              "      --fill-color: #D2E3FC;\n",
              "      --hover-bg-color: #434B5C;\n",
              "      --hover-fill-color: #FFFFFF;\n",
              "      --disabled-bg-color: #3B4455;\n",
              "      --disabled-fill-color: #666;\n",
              "  }\n",
              "\n",
              "  .colab-df-quickchart {\n",
              "    background-color: var(--bg-color);\n",
              "    border: none;\n",
              "    border-radius: 50%;\n",
              "    cursor: pointer;\n",
              "    display: none;\n",
              "    fill: var(--fill-color);\n",
              "    height: 32px;\n",
              "    padding: 0;\n",
              "    width: 32px;\n",
              "  }\n",
              "\n",
              "  .colab-df-quickchart:hover {\n",
              "    background-color: var(--hover-bg-color);\n",
              "    box-shadow: 0 1px 2px rgba(60, 64, 67, 0.3), 0 1px 3px 1px rgba(60, 64, 67, 0.15);\n",
              "    fill: var(--button-hover-fill-color);\n",
              "  }\n",
              "\n",
              "  .colab-df-quickchart-complete:disabled,\n",
              "  .colab-df-quickchart-complete:disabled:hover {\n",
              "    background-color: var(--disabled-bg-color);\n",
              "    fill: var(--disabled-fill-color);\n",
              "    box-shadow: none;\n",
              "  }\n",
              "\n",
              "  .colab-df-spinner {\n",
              "    border: 2px solid var(--fill-color);\n",
              "    border-color: transparent;\n",
              "    border-bottom-color: var(--fill-color);\n",
              "    animation:\n",
              "      spin 1s steps(1) infinite;\n",
              "  }\n",
              "\n",
              "  @keyframes spin {\n",
              "    0% {\n",
              "      border-color: transparent;\n",
              "      border-bottom-color: var(--fill-color);\n",
              "      border-left-color: var(--fill-color);\n",
              "    }\n",
              "    20% {\n",
              "      border-color: transparent;\n",
              "      border-left-color: var(--fill-color);\n",
              "      border-top-color: var(--fill-color);\n",
              "    }\n",
              "    30% {\n",
              "      border-color: transparent;\n",
              "      border-left-color: var(--fill-color);\n",
              "      border-top-color: var(--fill-color);\n",
              "      border-right-color: var(--fill-color);\n",
              "    }\n",
              "    40% {\n",
              "      border-color: transparent;\n",
              "      border-right-color: var(--fill-color);\n",
              "      border-top-color: var(--fill-color);\n",
              "    }\n",
              "    60% {\n",
              "      border-color: transparent;\n",
              "      border-right-color: var(--fill-color);\n",
              "    }\n",
              "    80% {\n",
              "      border-color: transparent;\n",
              "      border-right-color: var(--fill-color);\n",
              "      border-bottom-color: var(--fill-color);\n",
              "    }\n",
              "    90% {\n",
              "      border-color: transparent;\n",
              "      border-bottom-color: var(--fill-color);\n",
              "    }\n",
              "  }\n",
              "</style>\n",
              "\n",
              "  <script>\n",
              "    async function quickchart(key) {\n",
              "      const quickchartButtonEl =\n",
              "        document.querySelector('#' + key + ' button');\n",
              "      quickchartButtonEl.disabled = true;  // To prevent multiple clicks.\n",
              "      quickchartButtonEl.classList.add('colab-df-spinner');\n",
              "      try {\n",
              "        const charts = await google.colab.kernel.invokeFunction(\n",
              "            'suggestCharts', [key], {});\n",
              "      } catch (error) {\n",
              "        console.error('Error during call to suggestCharts:', error);\n",
              "      }\n",
              "      quickchartButtonEl.classList.remove('colab-df-spinner');\n",
              "      quickchartButtonEl.classList.add('colab-df-quickchart-complete');\n",
              "    }\n",
              "    (() => {\n",
              "      let quickchartButtonEl =\n",
              "        document.querySelector('#df-98033274-1a3f-4045-a862-bbc391dc6b35 button');\n",
              "      quickchartButtonEl.style.display =\n",
              "        google.colab.kernel.accessAllowed ? 'block' : 'none';\n",
              "    })();\n",
              "  </script>\n",
              "</div>\n",
              "    </div>\n",
              "  </div>\n"
            ],
            "application/vnd.google.colaboratory.intrinsic+json": {
              "type": "dataframe",
              "variable_name": "df"
            }
          },
          "metadata": {},
          "execution_count": 1
        }
      ],
      "source": [
        "import pandas as pd\n",
        "\n",
        "df = pd.read_csv(\"https://raw.githubusercontent.com/HalyshAnton/IT-Step-Pyton-AI/main/module7/data/Blog%20Ratings.csv\")\n",
        "\n",
        "df.head()"
      ]
    },
    {
      "cell_type": "code",
      "source": [
        "df.describe()"
      ],
      "metadata": {
        "id": "GbUFFlp7YXS5",
        "outputId": "272c5f66-4ace-469f-f457-99621a4516c6",
        "colab": {
          "base_uri": "https://localhost:8080/",
          "height": 300
        }
      },
      "execution_count": 2,
      "outputs": [
        {
          "output_type": "execute_result",
          "data": {
            "text/plain": [
              "             blog_id         userId        ratings\n",
              "count  200140.000000  200140.000000  200140.000000\n",
              "mean     5652.533621    2545.710158       3.117468\n",
              "std      2970.685946    1446.195478       1.768113\n",
              "min         1.000000      10.000000       0.500000\n",
              "25%      2906.000000    1314.000000       2.000000\n",
              "50%      5994.000000    2552.000000       3.500000\n",
              "75%      8510.000000    3795.000000       5.000000\n",
              "max      9755.000000    5010.000000       5.000000"
            ],
            "text/html": [
              "\n",
              "  <div id=\"df-fdc34a88-8dc8-4653-93eb-060f39366464\" class=\"colab-df-container\">\n",
              "    <div>\n",
              "<style scoped>\n",
              "    .dataframe tbody tr th:only-of-type {\n",
              "        vertical-align: middle;\n",
              "    }\n",
              "\n",
              "    .dataframe tbody tr th {\n",
              "        vertical-align: top;\n",
              "    }\n",
              "\n",
              "    .dataframe thead th {\n",
              "        text-align: right;\n",
              "    }\n",
              "</style>\n",
              "<table border=\"1\" class=\"dataframe\">\n",
              "  <thead>\n",
              "    <tr style=\"text-align: right;\">\n",
              "      <th></th>\n",
              "      <th>blog_id</th>\n",
              "      <th>userId</th>\n",
              "      <th>ratings</th>\n",
              "    </tr>\n",
              "  </thead>\n",
              "  <tbody>\n",
              "    <tr>\n",
              "      <th>count</th>\n",
              "      <td>200140.000000</td>\n",
              "      <td>200140.000000</td>\n",
              "      <td>200140.000000</td>\n",
              "    </tr>\n",
              "    <tr>\n",
              "      <th>mean</th>\n",
              "      <td>5652.533621</td>\n",
              "      <td>2545.710158</td>\n",
              "      <td>3.117468</td>\n",
              "    </tr>\n",
              "    <tr>\n",
              "      <th>std</th>\n",
              "      <td>2970.685946</td>\n",
              "      <td>1446.195478</td>\n",
              "      <td>1.768113</td>\n",
              "    </tr>\n",
              "    <tr>\n",
              "      <th>min</th>\n",
              "      <td>1.000000</td>\n",
              "      <td>10.000000</td>\n",
              "      <td>0.500000</td>\n",
              "    </tr>\n",
              "    <tr>\n",
              "      <th>25%</th>\n",
              "      <td>2906.000000</td>\n",
              "      <td>1314.000000</td>\n",
              "      <td>2.000000</td>\n",
              "    </tr>\n",
              "    <tr>\n",
              "      <th>50%</th>\n",
              "      <td>5994.000000</td>\n",
              "      <td>2552.000000</td>\n",
              "      <td>3.500000</td>\n",
              "    </tr>\n",
              "    <tr>\n",
              "      <th>75%</th>\n",
              "      <td>8510.000000</td>\n",
              "      <td>3795.000000</td>\n",
              "      <td>5.000000</td>\n",
              "    </tr>\n",
              "    <tr>\n",
              "      <th>max</th>\n",
              "      <td>9755.000000</td>\n",
              "      <td>5010.000000</td>\n",
              "      <td>5.000000</td>\n",
              "    </tr>\n",
              "  </tbody>\n",
              "</table>\n",
              "</div>\n",
              "    <div class=\"colab-df-buttons\">\n",
              "\n",
              "  <div class=\"colab-df-container\">\n",
              "    <button class=\"colab-df-convert\" onclick=\"convertToInteractive('df-fdc34a88-8dc8-4653-93eb-060f39366464')\"\n",
              "            title=\"Convert this dataframe to an interactive table.\"\n",
              "            style=\"display:none;\">\n",
              "\n",
              "  <svg xmlns=\"http://www.w3.org/2000/svg\" height=\"24px\" viewBox=\"0 -960 960 960\">\n",
              "    <path d=\"M120-120v-720h720v720H120Zm60-500h600v-160H180v160Zm220 220h160v-160H400v160Zm0 220h160v-160H400v160ZM180-400h160v-160H180v160Zm440 0h160v-160H620v160ZM180-180h160v-160H180v160Zm440 0h160v-160H620v160Z\"/>\n",
              "  </svg>\n",
              "    </button>\n",
              "\n",
              "  <style>\n",
              "    .colab-df-container {\n",
              "      display:flex;\n",
              "      gap: 12px;\n",
              "    }\n",
              "\n",
              "    .colab-df-convert {\n",
              "      background-color: #E8F0FE;\n",
              "      border: none;\n",
              "      border-radius: 50%;\n",
              "      cursor: pointer;\n",
              "      display: none;\n",
              "      fill: #1967D2;\n",
              "      height: 32px;\n",
              "      padding: 0 0 0 0;\n",
              "      width: 32px;\n",
              "    }\n",
              "\n",
              "    .colab-df-convert:hover {\n",
              "      background-color: #E2EBFA;\n",
              "      box-shadow: 0px 1px 2px rgba(60, 64, 67, 0.3), 0px 1px 3px 1px rgba(60, 64, 67, 0.15);\n",
              "      fill: #174EA6;\n",
              "    }\n",
              "\n",
              "    .colab-df-buttons div {\n",
              "      margin-bottom: 4px;\n",
              "    }\n",
              "\n",
              "    [theme=dark] .colab-df-convert {\n",
              "      background-color: #3B4455;\n",
              "      fill: #D2E3FC;\n",
              "    }\n",
              "\n",
              "    [theme=dark] .colab-df-convert:hover {\n",
              "      background-color: #434B5C;\n",
              "      box-shadow: 0px 1px 3px 1px rgba(0, 0, 0, 0.15);\n",
              "      filter: drop-shadow(0px 1px 2px rgba(0, 0, 0, 0.3));\n",
              "      fill: #FFFFFF;\n",
              "    }\n",
              "  </style>\n",
              "\n",
              "    <script>\n",
              "      const buttonEl =\n",
              "        document.querySelector('#df-fdc34a88-8dc8-4653-93eb-060f39366464 button.colab-df-convert');\n",
              "      buttonEl.style.display =\n",
              "        google.colab.kernel.accessAllowed ? 'block' : 'none';\n",
              "\n",
              "      async function convertToInteractive(key) {\n",
              "        const element = document.querySelector('#df-fdc34a88-8dc8-4653-93eb-060f39366464');\n",
              "        const dataTable =\n",
              "          await google.colab.kernel.invokeFunction('convertToInteractive',\n",
              "                                                    [key], {});\n",
              "        if (!dataTable) return;\n",
              "\n",
              "        const docLinkHtml = 'Like what you see? Visit the ' +\n",
              "          '<a target=\"_blank\" href=https://colab.research.google.com/notebooks/data_table.ipynb>data table notebook</a>'\n",
              "          + ' to learn more about interactive tables.';\n",
              "        element.innerHTML = '';\n",
              "        dataTable['output_type'] = 'display_data';\n",
              "        await google.colab.output.renderOutput(dataTable, element);\n",
              "        const docLink = document.createElement('div');\n",
              "        docLink.innerHTML = docLinkHtml;\n",
              "        element.appendChild(docLink);\n",
              "      }\n",
              "    </script>\n",
              "  </div>\n",
              "\n",
              "\n",
              "<div id=\"df-3d1c803e-ae26-4e7a-b79f-f65a1fb5423d\">\n",
              "  <button class=\"colab-df-quickchart\" onclick=\"quickchart('df-3d1c803e-ae26-4e7a-b79f-f65a1fb5423d')\"\n",
              "            title=\"Suggest charts\"\n",
              "            style=\"display:none;\">\n",
              "\n",
              "<svg xmlns=\"http://www.w3.org/2000/svg\" height=\"24px\"viewBox=\"0 0 24 24\"\n",
              "     width=\"24px\">\n",
              "    <g>\n",
              "        <path d=\"M19 3H5c-1.1 0-2 .9-2 2v14c0 1.1.9 2 2 2h14c1.1 0 2-.9 2-2V5c0-1.1-.9-2-2-2zM9 17H7v-7h2v7zm4 0h-2V7h2v10zm4 0h-2v-4h2v4z\"/>\n",
              "    </g>\n",
              "</svg>\n",
              "  </button>\n",
              "\n",
              "<style>\n",
              "  .colab-df-quickchart {\n",
              "      --bg-color: #E8F0FE;\n",
              "      --fill-color: #1967D2;\n",
              "      --hover-bg-color: #E2EBFA;\n",
              "      --hover-fill-color: #174EA6;\n",
              "      --disabled-fill-color: #AAA;\n",
              "      --disabled-bg-color: #DDD;\n",
              "  }\n",
              "\n",
              "  [theme=dark] .colab-df-quickchart {\n",
              "      --bg-color: #3B4455;\n",
              "      --fill-color: #D2E3FC;\n",
              "      --hover-bg-color: #434B5C;\n",
              "      --hover-fill-color: #FFFFFF;\n",
              "      --disabled-bg-color: #3B4455;\n",
              "      --disabled-fill-color: #666;\n",
              "  }\n",
              "\n",
              "  .colab-df-quickchart {\n",
              "    background-color: var(--bg-color);\n",
              "    border: none;\n",
              "    border-radius: 50%;\n",
              "    cursor: pointer;\n",
              "    display: none;\n",
              "    fill: var(--fill-color);\n",
              "    height: 32px;\n",
              "    padding: 0;\n",
              "    width: 32px;\n",
              "  }\n",
              "\n",
              "  .colab-df-quickchart:hover {\n",
              "    background-color: var(--hover-bg-color);\n",
              "    box-shadow: 0 1px 2px rgba(60, 64, 67, 0.3), 0 1px 3px 1px rgba(60, 64, 67, 0.15);\n",
              "    fill: var(--button-hover-fill-color);\n",
              "  }\n",
              "\n",
              "  .colab-df-quickchart-complete:disabled,\n",
              "  .colab-df-quickchart-complete:disabled:hover {\n",
              "    background-color: var(--disabled-bg-color);\n",
              "    fill: var(--disabled-fill-color);\n",
              "    box-shadow: none;\n",
              "  }\n",
              "\n",
              "  .colab-df-spinner {\n",
              "    border: 2px solid var(--fill-color);\n",
              "    border-color: transparent;\n",
              "    border-bottom-color: var(--fill-color);\n",
              "    animation:\n",
              "      spin 1s steps(1) infinite;\n",
              "  }\n",
              "\n",
              "  @keyframes spin {\n",
              "    0% {\n",
              "      border-color: transparent;\n",
              "      border-bottom-color: var(--fill-color);\n",
              "      border-left-color: var(--fill-color);\n",
              "    }\n",
              "    20% {\n",
              "      border-color: transparent;\n",
              "      border-left-color: var(--fill-color);\n",
              "      border-top-color: var(--fill-color);\n",
              "    }\n",
              "    30% {\n",
              "      border-color: transparent;\n",
              "      border-left-color: var(--fill-color);\n",
              "      border-top-color: var(--fill-color);\n",
              "      border-right-color: var(--fill-color);\n",
              "    }\n",
              "    40% {\n",
              "      border-color: transparent;\n",
              "      border-right-color: var(--fill-color);\n",
              "      border-top-color: var(--fill-color);\n",
              "    }\n",
              "    60% {\n",
              "      border-color: transparent;\n",
              "      border-right-color: var(--fill-color);\n",
              "    }\n",
              "    80% {\n",
              "      border-color: transparent;\n",
              "      border-right-color: var(--fill-color);\n",
              "      border-bottom-color: var(--fill-color);\n",
              "    }\n",
              "    90% {\n",
              "      border-color: transparent;\n",
              "      border-bottom-color: var(--fill-color);\n",
              "    }\n",
              "  }\n",
              "</style>\n",
              "\n",
              "  <script>\n",
              "    async function quickchart(key) {\n",
              "      const quickchartButtonEl =\n",
              "        document.querySelector('#' + key + ' button');\n",
              "      quickchartButtonEl.disabled = true;  // To prevent multiple clicks.\n",
              "      quickchartButtonEl.classList.add('colab-df-spinner');\n",
              "      try {\n",
              "        const charts = await google.colab.kernel.invokeFunction(\n",
              "            'suggestCharts', [key], {});\n",
              "      } catch (error) {\n",
              "        console.error('Error during call to suggestCharts:', error);\n",
              "      }\n",
              "      quickchartButtonEl.classList.remove('colab-df-spinner');\n",
              "      quickchartButtonEl.classList.add('colab-df-quickchart-complete');\n",
              "    }\n",
              "    (() => {\n",
              "      let quickchartButtonEl =\n",
              "        document.querySelector('#df-3d1c803e-ae26-4e7a-b79f-f65a1fb5423d button');\n",
              "      quickchartButtonEl.style.display =\n",
              "        google.colab.kernel.accessAllowed ? 'block' : 'none';\n",
              "    })();\n",
              "  </script>\n",
              "</div>\n",
              "    </div>\n",
              "  </div>\n"
            ],
            "application/vnd.google.colaboratory.intrinsic+json": {
              "type": "dataframe",
              "summary": "{\n  \"name\": \"df\",\n  \"rows\": 8,\n  \"fields\": [\n    {\n      \"column\": \"blog_id\",\n      \"properties\": {\n        \"dtype\": \"number\",\n        \"std\": 69024.76173564183,\n        \"min\": 1.0,\n        \"max\": 200140.0,\n        \"num_unique_values\": 8,\n        \"samples\": [\n          5652.533621464974,\n          5994.0,\n          200140.0\n        ],\n        \"semantic_type\": \"\",\n        \"description\": \"\"\n      }\n    },\n    {\n      \"column\": \"userId\",\n      \"properties\": {\n        \"dtype\": \"number\",\n        \"std\": 69935.02468138852,\n        \"min\": 10.0,\n        \"max\": 200140.0,\n        \"num_unique_values\": 8,\n        \"samples\": [\n          2545.710157889477,\n          2552.0,\n          200140.0\n        ],\n        \"semantic_type\": \"\",\n        \"description\": \"\"\n      }\n    },\n    {\n      \"column\": \"ratings\",\n      \"properties\": {\n        \"dtype\": \"number\",\n        \"std\": 70759.1207293952,\n        \"min\": 0.5,\n        \"max\": 200140.0,\n        \"num_unique_values\": 7,\n        \"samples\": [\n          200140.0,\n          3.1174677725592086,\n          3.5\n        ],\n        \"semantic_type\": \"\",\n        \"description\": \"\"\n      }\n    }\n  ]\n}"
            }
          },
          "metadata": {},
          "execution_count": 2
        }
      ]
    },
    {
      "cell_type": "code",
      "source": [
        "df.shape"
      ],
      "metadata": {
        "id": "tMmHwhkkJGye",
        "outputId": "71621959-4086-4952-e5fe-286cb5a0cf4a",
        "colab": {
          "base_uri": "https://localhost:8080/"
        }
      },
      "execution_count": 6,
      "outputs": [
        {
          "output_type": "execute_result",
          "data": {
            "text/plain": [
              "(200140, 3)"
            ]
          },
          "metadata": {},
          "execution_count": 6
        }
      ]
    },
    {
      "cell_type": "code",
      "source": [
        "!pip install -q surprise"
      ],
      "metadata": {
        "id": "IE-JK3CvIPoZ",
        "outputId": "10d7d6c8-362f-4a67-a3e5-4ba8e9c7b6be",
        "colab": {
          "base_uri": "https://localhost:8080/"
        }
      },
      "execution_count": 3,
      "outputs": [
        {
          "output_type": "stream",
          "name": "stdout",
          "text": [
            "\u001b[?25l     \u001b[90m━━━━━━━━━━━━━━━━━━━━━━━━━━━━━━━━━━━━━━━━\u001b[0m \u001b[32m0.0/154.4 kB\u001b[0m \u001b[31m?\u001b[0m eta \u001b[36m-:--:--\u001b[0m\r\u001b[2K     \u001b[91m━━━━━━━━━━━━━\u001b[0m\u001b[90m╺\u001b[0m\u001b[90m━━━━━━━━━━━━━━━━━━━━━━━━━━\u001b[0m \u001b[32m51.2/154.4 kB\u001b[0m \u001b[31m1.3 MB/s\u001b[0m eta \u001b[36m0:00:01\u001b[0m\r\u001b[2K     \u001b[91m━━━━━━━━━━━━━━━━━━━━━━━━━━━━━━━\u001b[0m\u001b[91m╸\u001b[0m\u001b[90m━━━━━━━━\u001b[0m \u001b[32m122.9/154.4 kB\u001b[0m \u001b[31m1.6 MB/s\u001b[0m eta \u001b[36m0:00:01\u001b[0m\r\u001b[2K     \u001b[90m━━━━━━━━━━━━━━━━━━━━━━━━━━━━━━━━━━━━━━━━\u001b[0m \u001b[32m154.4/154.4 kB\u001b[0m \u001b[31m1.6 MB/s\u001b[0m eta \u001b[36m0:00:00\u001b[0m\n",
            "\u001b[?25h  Installing build dependencies ... \u001b[?25l\u001b[?25hdone\n",
            "  Getting requirements to build wheel ... \u001b[?25l\u001b[?25hdone\n",
            "  Preparing metadata (pyproject.toml) ... \u001b[?25l\u001b[?25hdone\n",
            "  Building wheel for scikit-surprise (pyproject.toml) ... \u001b[?25l\u001b[?25hdone\n"
          ]
        }
      ]
    },
    {
      "cell_type": "code",
      "source": [
        "from surprise import Dataset, SVD, Reader\n",
        "\n",
        "reader = Reader(rating_scale=(0.5, 5))\n",
        "\n",
        "# The columns must correspond to user id, item id and ratings (in that order).\n",
        "data = Dataset.load_from_df(df[[\"userId\", \"blog_id\", \"ratings\"]], reader)"
      ],
      "metadata": {
        "id": "ecLXleOpItiQ"
      },
      "execution_count": 7,
      "outputs": []
    },
    {
      "cell_type": "code",
      "source": [
        "from surprise.model_selection import train_test_split\n",
        "\n",
        "trainset, testset = train_test_split(data, train_size=0.8)"
      ],
      "metadata": {
        "id": "ezmXeb0MJgiJ"
      },
      "execution_count": 8,
      "outputs": []
    },
    {
      "cell_type": "code",
      "source": [
        "from surprise import BaselineOnly\n",
        "\n",
        "bsl_options = {'method': 'sgd',\n",
        "               'reg_u': 0.0001,\n",
        "               'reg_i': 0.0001}\n",
        "\n",
        "algo = BaselineOnly(bsl_options=bsl_options)\n",
        "algo.fit(trainset)"
      ],
      "metadata": {
        "id": "xKQyaBFGJolm",
        "outputId": "7597b75c-7f6c-48ac-9361-16ff2746255b",
        "colab": {
          "base_uri": "https://localhost:8080/"
        }
      },
      "execution_count": 19,
      "outputs": [
        {
          "output_type": "stream",
          "name": "stdout",
          "text": [
            "Estimating biases using sgd...\n"
          ]
        },
        {
          "output_type": "execute_result",
          "data": {
            "text/plain": [
              "<surprise.prediction_algorithms.baseline_only.BaselineOnly at 0x7a24d8f73580>"
            ]
          },
          "metadata": {},
          "execution_count": 19
        }
      ]
    },
    {
      "cell_type": "code",
      "source": [
        "from surprise import accuracy"
      ],
      "metadata": {
        "id": "czf0wU9xJym3"
      },
      "execution_count": 10,
      "outputs": []
    },
    {
      "cell_type": "code",
      "source": [
        "preds = algo.test(testset)\n",
        "\n",
        "print(f\"mae = {accuracy.mae(preds, verbose=False)}\")\n",
        "print(f\"mse = {accuracy.mse(preds, verbose=False)}\")\n",
        "print(f\"rmse= {accuracy.rmse(preds, verbose=False)}\")\n",
        "print(f\"fcp = {accuracy.fcp(preds, verbose=False)}\")"
      ],
      "metadata": {
        "id": "5nxKdGRsKFwG",
        "outputId": "b492a8c6-6f79-4b41-fb37-2c02614e746d",
        "colab": {
          "base_uri": "https://localhost:8080/"
        }
      },
      "execution_count": 20,
      "outputs": [
        {
          "output_type": "stream",
          "name": "stdout",
          "text": [
            "mae = 1.6239103709037646\n",
            "mse = 3.2944523607321012\n",
            "rmse= 1.815062632729819\n",
            "fcp = 0.5048351762127237\n"
          ]
        }
      ]
    },
    {
      "cell_type": "code",
      "source": [
        "from surprise import SVD\n",
        "\n",
        "algo = SVD(n_factors=150,\n",
        "           n_epochs=50,\n",
        "           )\n",
        "\n",
        "algo.fit(trainset)"
      ],
      "metadata": {
        "id": "vgKQHcecKNgS",
        "outputId": "959a0e82-ebaf-4ae9-93be-cb7efcb217cc",
        "colab": {
          "base_uri": "https://localhost:8080/"
        }
      },
      "execution_count": 27,
      "outputs": [
        {
          "output_type": "execute_result",
          "data": {
            "text/plain": [
              "<surprise.prediction_algorithms.matrix_factorization.SVD at 0x7a24d8f721d0>"
            ]
          },
          "metadata": {},
          "execution_count": 27
        }
      ]
    },
    {
      "cell_type": "code",
      "source": [
        "preds = algo.test(testset)\n",
        "\n",
        "print(f\"mae = {accuracy.mae(preds, verbose=False)}\")\n",
        "print(f\"mse = {accuracy.mse(preds, verbose=False)}\")\n",
        "print(f\"rmse= {accuracy.rmse(preds, verbose=False)}\")\n",
        "print(f\"fcp = {accuracy.fcp(preds, verbose=False)}\")"
      ],
      "metadata": {
        "id": "5valwrI6Kpdf",
        "outputId": "1ee7f617-334d-482a-84c7-2f10e9005bb1",
        "colab": {
          "base_uri": "https://localhost:8080/"
        }
      },
      "execution_count": 28,
      "outputs": [
        {
          "output_type": "stream",
          "name": "stdout",
          "text": [
            "mae = 1.6566768720352663\n",
            "mse = 3.573701134259359\n",
            "rmse= 1.8904235330368058\n",
            "fcp = 0.4941640422963094\n"
          ]
        }
      ]
    },
    {
      "cell_type": "code",
      "source": [
        "from surprise import KNNBasic\n",
        "\n",
        "algo = KNNBasic(k=15,\n",
        "                min_k=5,\n",
        "                sim_options={'name': 'cosine',\n",
        "                             'user_based': True})\n",
        "\n",
        "algo.fit(trainset)"
      ],
      "metadata": {
        "id": "J7R4V23nKu_1",
        "outputId": "84e8df91-70d5-49f4-dbc7-bebc84565f64",
        "colab": {
          "base_uri": "https://localhost:8080/"
        }
      },
      "execution_count": 29,
      "outputs": [
        {
          "output_type": "stream",
          "name": "stdout",
          "text": [
            "Computing the cosine similarity matrix...\n",
            "Done computing similarity matrix.\n"
          ]
        },
        {
          "output_type": "execute_result",
          "data": {
            "text/plain": [
              "<surprise.prediction_algorithms.knns.KNNBasic at 0x7a24d8f73b50>"
            ]
          },
          "metadata": {},
          "execution_count": 29
        }
      ]
    },
    {
      "cell_type": "code",
      "source": [
        "preds = algo.test(testset)\n",
        "\n",
        "print(f\"mae = {accuracy.mae(preds, verbose=False)}\")\n",
        "print(f\"mse = {accuracy.mse(preds, verbose=False)}\")\n",
        "print(f\"rmse= {accuracy.rmse(preds, verbose=False)}\")\n",
        "print(f\"fcp = {accuracy.fcp(preds, verbose=False)}\")"
      ],
      "metadata": {
        "id": "njzZf8LhK3Mm",
        "outputId": "5bd08d43-385e-4f68-9ae7-a20dc1a2a575",
        "colab": {
          "base_uri": "https://localhost:8080/"
        }
      },
      "execution_count": 30,
      "outputs": [
        {
          "output_type": "stream",
          "name": "stdout",
          "text": [
            "mae = 1.6322712417052745\n",
            "mse = 3.377646429342832\n",
            "rmse= 1.8378374327842035\n",
            "fcp = 0.5086306078252204\n"
          ]
        }
      ]
    },
    {
      "cell_type": "code",
      "source": [
        "from surprise import CoClustering\n",
        "\n",
        "algo = CoClustering(n_cltr_u = 5,\n",
        "                    n_cltr_i = 15,\n",
        "                    n_epochs = 40)\n",
        "\n",
        "algo.fit(trainset)"
      ],
      "metadata": {
        "id": "zwEswJsgK6zT",
        "outputId": "5a7673f1-3089-447a-dc8c-df0ea4c299c1",
        "colab": {
          "base_uri": "https://localhost:8080/"
        }
      },
      "execution_count": 17,
      "outputs": [
        {
          "output_type": "execute_result",
          "data": {
            "text/plain": [
              "<surprise.prediction_algorithms.co_clustering.CoClustering at 0x7a24d8f719c0>"
            ]
          },
          "metadata": {},
          "execution_count": 17
        }
      ]
    },
    {
      "cell_type": "code",
      "source": [
        "preds = algo.test(testset)\n",
        "\n",
        "print(f\"mae = {accuracy.mae(preds, verbose=False)}\")\n",
        "print(f\"mse = {accuracy.mse(preds, verbose=False)}\")\n",
        "print(f\"rmse= {accuracy.rmse(preds, verbose=False)}\")\n",
        "print(f\"fcp = {accuracy.fcp(preds, verbose=False)}\")"
      ],
      "metadata": {
        "id": "npFqgQeLLGNJ",
        "outputId": "e4d309c4-ec3d-4a63-b632-4ce03b0a875f",
        "colab": {
          "base_uri": "https://localhost:8080/"
        }
      },
      "execution_count": 18,
      "outputs": [
        {
          "output_type": "stream",
          "name": "stdout",
          "text": [
            "mae = 1.7364487035648672\n",
            "mse = 4.163777770184704\n",
            "rmse= 2.040533697390147\n",
            "fcp = 0.49867618683366377\n"
          ]
        }
      ]
    },
    {
      "cell_type": "code",
      "source": [
        "from sklearn import metrics\n",
        "\n",
        "\n",
        "def objective(trial):\n",
        "\n",
        "\n",
        "  params = {\n",
        "        'n_factors': trial.suggest_int('n_factors', 10, 100),\n",
        "        'n_epochs': trial.suggest_int('n_epochs', 10, 50),\n",
        "        'lr_all': trial.suggest_float('lr_all', 0.001, 0.1),\n",
        "        'reg_all': trial.suggest_float('reg_all', 0.1, 1.0)\n",
        "    }\n",
        "\n",
        "\n",
        "  model = SVD(**params)\n",
        "\n",
        "  model.fit(trainset)\n",
        "\n",
        "  preds = model.test(testset)\n",
        "  mae = accuracy.mae(preds, verbose=False)\n",
        "\n",
        "  return mae"
      ],
      "metadata": {
        "id": "oXphJi6ZLNEw"
      },
      "execution_count": 39,
      "outputs": []
    },
    {
      "cell_type": "code",
      "source": [
        "!pip install -q optuna"
      ],
      "metadata": {
        "id": "rEM6zWG6Nljy",
        "outputId": "c387a7af-7129-4a59-edec-1d83356192a4",
        "colab": {
          "base_uri": "https://localhost:8080/"
        }
      },
      "execution_count": 32,
      "outputs": [
        {
          "output_type": "stream",
          "name": "stdout",
          "text": [
            "\u001b[?25l   \u001b[90m━━━━━━━━━━━━━━━━━━━━━━━━━━━━━━━━━━━━━━━━\u001b[0m \u001b[32m0.0/380.1 kB\u001b[0m \u001b[31m?\u001b[0m eta \u001b[36m-:--:--\u001b[0m\r\u001b[2K   \u001b[91m━━━━\u001b[0m\u001b[90m╺\u001b[0m\u001b[90m━━━━━━━━━━━━━━━━━━━━━━━━━━━━━━━━━━━\u001b[0m \u001b[32m41.0/380.1 kB\u001b[0m \u001b[31m1.0 MB/s\u001b[0m eta \u001b[36m0:00:01\u001b[0m\r\u001b[2K   \u001b[91m━━━━━━━━━━━━━━━━━━\u001b[0m\u001b[90m╺\u001b[0m\u001b[90m━━━━━━━━━━━━━━━━━━━━━\u001b[0m \u001b[32m174.1/380.1 kB\u001b[0m \u001b[31m2.4 MB/s\u001b[0m eta \u001b[36m0:00:01\u001b[0m\r\u001b[2K   \u001b[91m━━━━━━━━━━━━━━━━━━━━━━━━━━━━━━━━━━━━━━━\u001b[0m\u001b[91m╸\u001b[0m \u001b[32m378.9/380.1 kB\u001b[0m \u001b[31m3.6 MB/s\u001b[0m eta \u001b[36m0:00:01\u001b[0m\r\u001b[2K   \u001b[90m━━━━━━━━━━━━━━━━━━━━━━━━━━━━━━━━━━━━━━━━\u001b[0m \u001b[32m380.1/380.1 kB\u001b[0m \u001b[31m3.1 MB/s\u001b[0m eta \u001b[36m0:00:00\u001b[0m\n",
            "\u001b[2K   \u001b[90m━━━━━━━━━━━━━━━━━━━━━━━━━━━━━━━━━━━━━━━━\u001b[0m \u001b[32m233.0/233.0 kB\u001b[0m \u001b[31m10.8 MB/s\u001b[0m eta \u001b[36m0:00:00\u001b[0m\n",
            "\u001b[2K   \u001b[90m━━━━━━━━━━━━━━━━━━━━━━━━━━━━━━━━━━━━━━━━\u001b[0m \u001b[32m78.6/78.6 kB\u001b[0m \u001b[31m4.3 MB/s\u001b[0m eta \u001b[36m0:00:00\u001b[0m\n",
            "\u001b[?25h"
          ]
        }
      ]
    },
    {
      "cell_type": "code",
      "source": [
        "import optuna\n",
        "study = optuna.create_study(directions=['minimize'])\n",
        "study.optimize(objective, n_trials=20)"
      ],
      "metadata": {
        "id": "7zZU7xDvOQ71",
        "outputId": "1241136e-3ea4-47a9-eb70-e38a609d4d42",
        "colab": {
          "base_uri": "https://localhost:8080/"
        }
      },
      "execution_count": 40,
      "outputs": [
        {
          "output_type": "stream",
          "name": "stderr",
          "text": [
            "[I 2024-08-29 17:52:00,247] A new study created in memory with name: no-name-4c5eadba-fcc6-43a2-9b42-ba275af3b3df\n",
            "[I 2024-08-29 17:52:03,829] Trial 0 finished with value: 1.6157304932293513 and parameters: {'n_factors': 74, 'n_epochs': 18, 'lr_all': 0.01854043067045209, 'reg_all': 0.9931401758273574}. Best is trial 0 with value: 1.6157304932293513.\n",
            "[I 2024-08-29 17:52:08,737] Trial 1 finished with value: 1.63533256936309 and parameters: {'n_factors': 23, 'n_epochs': 50, 'lr_all': 0.09738861861565962, 'reg_all': 0.4681357053025206}. Best is trial 0 with value: 1.6157304932293513.\n",
            "[I 2024-08-29 17:52:11,869] Trial 2 finished with value: 1.6159778115801442 and parameters: {'n_factors': 11, 'n_epochs': 28, 'lr_all': 0.019748666872682532, 'reg_all': 0.9883608511252329}. Best is trial 0 with value: 1.6157304932293513.\n",
            "[I 2024-08-29 17:52:15,142] Trial 3 finished with value: 1.625288923071538 and parameters: {'n_factors': 82, 'n_epochs': 18, 'lr_all': 0.07803444743282961, 'reg_all': 0.8338866180141047}. Best is trial 0 with value: 1.6157304932293513.\n",
            "[I 2024-08-29 17:52:17,244] Trial 4 finished with value: 1.6247755338321044 and parameters: {'n_factors': 84, 'n_epochs': 10, 'lr_all': 0.0551080062067933, 'reg_all': 0.541286521601681}. Best is trial 0 with value: 1.6157304932293513.\n",
            "[I 2024-08-29 17:52:25,810] Trial 5 finished with value: 1.6482498828397403 and parameters: {'n_factors': 95, 'n_epochs': 43, 'lr_all': 0.05612422092626757, 'reg_all': 0.12147459230101823}. Best is trial 0 with value: 1.6157304932293513.\n",
            "[I 2024-08-29 17:52:34,406] Trial 6 finished with value: 1.637763420815038 and parameters: {'n_factors': 85, 'n_epochs': 50, 'lr_all': 0.04553344643843641, 'reg_all': 0.2356462543345477}. Best is trial 0 with value: 1.6157304932293513.\n",
            "[I 2024-08-29 17:52:42,097] Trial 7 finished with value: 1.617155926158929 and parameters: {'n_factors': 63, 'n_epochs': 48, 'lr_all': 0.031120417209930237, 'reg_all': 0.9716033508997988}. Best is trial 0 with value: 1.6157304932293513.\n",
            "[I 2024-08-29 17:52:44,448] Trial 8 finished with value: 1.6310921304654697 and parameters: {'n_factors': 72, 'n_epochs': 13, 'lr_all': 0.09054409527466037, 'reg_all': 0.6071139925801103}. Best is trial 0 with value: 1.6157304932293513.\n",
            "[I 2024-08-29 17:52:47,110] Trial 9 finished with value: 1.6337627563676411 and parameters: {'n_factors': 46, 'n_epochs': 20, 'lr_all': 0.09840092045779378, 'reg_all': 0.5520400417354684}. Best is trial 0 with value: 1.6157304932293513.\n",
            "[I 2024-08-29 17:52:52,448] Trial 10 finished with value: 1.615014149387004 and parameters: {'n_factors': 46, 'n_epochs': 33, 'lr_all': 0.0026275170440815503, 'reg_all': 0.754702035346784}. Best is trial 10 with value: 1.615014149387004.\n",
            "[I 2024-08-29 17:52:56,733] Trial 11 finished with value: 1.6139311173327215 and parameters: {'n_factors': 43, 'n_epochs': 36, 'lr_all': 0.0012335145480055056, 'reg_all': 0.7675430574687598}. Best is trial 11 with value: 1.6139311173327215.\n",
            "[I 2024-08-29 17:53:01,248] Trial 12 finished with value: 1.6151333631079983 and parameters: {'n_factors': 43, 'n_epochs': 36, 'lr_all': 0.0024948473459543066, 'reg_all': 0.7340291635418015}. Best is trial 11 with value: 1.6139311173327215.\n",
            "[I 2024-08-29 17:53:05,882] Trial 13 finished with value: 1.6142411843831017 and parameters: {'n_factors': 34, 'n_epochs': 32, 'lr_all': 0.0016169942015049276, 'reg_all': 0.7575682073373183}. Best is trial 11 with value: 1.6139311173327215.\n",
            "[I 2024-08-29 17:53:08,962] Trial 14 finished with value: 1.6167705288272456 and parameters: {'n_factors': 29, 'n_epochs': 27, 'lr_all': 0.015921190018902513, 'reg_all': 0.8202308712601596}. Best is trial 11 with value: 1.6139311173327215.\n",
            "[I 2024-08-29 17:53:13,259] Trial 15 finished with value: 1.6279292542823232 and parameters: {'n_factors': 33, 'n_epochs': 40, 'lr_all': 0.03549956887028632, 'reg_all': 0.3834028798000834}. Best is trial 11 with value: 1.6139311173327215.\n",
            "[I 2024-08-29 17:53:17,838] Trial 16 finished with value: 1.6174435490718582 and parameters: {'n_factors': 58, 'n_epochs': 25, 'lr_all': 0.01131531694565338, 'reg_all': 0.6762461332157457}. Best is trial 11 with value: 1.6139311173327215.\n",
            "[I 2024-08-29 17:53:21,161] Trial 17 finished with value: 1.618248291173315 and parameters: {'n_factors': 15, 'n_epochs': 33, 'lr_all': 0.03259652210372748, 'reg_all': 0.8466357863432132}. Best is trial 11 with value: 1.6139311173327215.\n",
            "[I 2024-08-29 17:53:25,343] Trial 18 finished with value: 1.6159897152249787 and parameters: {'n_factors': 32, 'n_epochs': 39, 'lr_all': 0.0028656167991964326, 'reg_all': 0.6601073915006651}. Best is trial 11 with value: 1.6139311173327215.\n",
            "[I 2024-08-29 17:53:28,384] Trial 19 finished with value: 1.6235435737524804 and parameters: {'n_factors': 40, 'n_epochs': 23, 'lr_all': 0.07204414360627476, 'reg_all': 0.8941490532861744}. Best is trial 11 with value: 1.6139311173327215.\n"
          ]
        }
      ]
    },
    {
      "cell_type": "code",
      "source": [
        "best_params = study.best_trials[0].params\n",
        "best_params"
      ],
      "metadata": {
        "id": "fgnytwMyPygZ",
        "outputId": "e4a3689c-3eff-4925-a9c2-a2dc4bd8b2b8",
        "colab": {
          "base_uri": "https://localhost:8080/"
        }
      },
      "execution_count": 44,
      "outputs": [
        {
          "output_type": "execute_result",
          "data": {
            "text/plain": [
              "{'n_factors': 43,\n",
              " 'n_epochs': 36,\n",
              " 'lr_all': 0.0012335145480055056,\n",
              " 'reg_all': 0.7675430574687598}"
            ]
          },
          "metadata": {},
          "execution_count": 44
        }
      ]
    },
    {
      "cell_type": "code",
      "source": [
        "model = SVD(\n",
        "    n_factors = 43,\n",
        "    n_epochs = 36,\n",
        "    lr_all = 0.0012335145480055056,\n",
        "    reg_all = 0.7675430574687598\n",
        ")"
      ],
      "metadata": {
        "id": "0A7aswEzSPyL"
      },
      "execution_count": 49,
      "outputs": []
    },
    {
      "cell_type": "code",
      "source": [
        "model.fit(trainset)"
      ],
      "metadata": {
        "id": "XNetCsOQSx5_",
        "outputId": "825249d9-093d-4a6c-dfbe-cb08e66bf1ef",
        "colab": {
          "base_uri": "https://localhost:8080/"
        }
      },
      "execution_count": 50,
      "outputs": [
        {
          "output_type": "execute_result",
          "data": {
            "text/plain": [
              "<surprise.prediction_algorithms.matrix_factorization.SVD at 0x7a24d315fdf0>"
            ]
          },
          "metadata": {},
          "execution_count": 50
        }
      ]
    },
    {
      "cell_type": "code",
      "source": [
        "preds = model.test(testset)\n",
        "\n",
        "print(f\"mae = {accuracy.mae(preds, verbose=False)}\")\n",
        "print(f\"mse = {accuracy.mse(preds, verbose=False)}\")\n",
        "print(f\"rmse= {accuracy.rmse(preds, verbose=False)}\")\n",
        "print(f\"fcp = {accuracy.fcp(preds, verbose=False)}\")"
      ],
      "metadata": {
        "id": "RQUUUU5JTYTV",
        "outputId": "9ccf39d7-9190-4e0b-8a07-dfa8b43b1a17",
        "colab": {
          "base_uri": "https://localhost:8080/"
        }
      },
      "execution_count": 51,
      "outputs": [
        {
          "output_type": "stream",
          "name": "stdout",
          "text": [
            "mae = 1.6139470170137307\n",
            "mse = 3.171409456887831\n",
            "rmse= 1.7808451524171973\n",
            "fcp = 0.5043455240514976\n"
          ]
        }
      ]
    }
  ]
}