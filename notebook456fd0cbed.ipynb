{
 "cells": [
  {
   "cell_type": "code",
   "execution_count": 1,
   "id": "93998b1b",
   "metadata": {
    "_cell_guid": "b1076dfc-b9ad-4769-8c92-a6c4dae69d19",
    "_uuid": "8f2839f25d086af736a60e9eeb907d3b93b6e0e5",
    "execution": {
     "iopub.execute_input": "2024-07-14T12:36:06.189406Z",
     "iopub.status.busy": "2024-07-14T12:36:06.188966Z",
     "iopub.status.idle": "2024-07-14T12:36:07.015711Z",
     "shell.execute_reply": "2024-07-14T12:36:07.014560Z"
    },
    "papermill": {
     "duration": 0.836983,
     "end_time": "2024-07-14T12:36:07.018137",
     "exception": false,
     "start_time": "2024-07-14T12:36:06.181154",
     "status": "completed"
    },
    "tags": []
   },
   "outputs": [
    {
     "name": "stdout",
     "output_type": "stream",
     "text": [
      "/kaggle/input/playground-series-s3e25/sample_submission.csv\n",
      "/kaggle/input/playground-series-s3e25/train.csv\n",
      "/kaggle/input/playground-series-s3e25/test.csv\n"
     ]
    }
   ],
   "source": [
    "# This Python 3 environment comes with many helpful analytics libraries installed\n",
    "# It is defined by the kaggle/python Docker image: https://github.com/kaggle/docker-python\n",
    "# For example, here's several helpful packages to load\n",
    "\n",
    "import numpy as np # linear algebra\n",
    "import pandas as pd # data processing, CSV file I/O (e.g. pd.read_csv)\n",
    "\n",
    "# Input data files are available in the read-only \"../input/\" directory\n",
    "# For example, running this (by clicking run or pressing Shift+Enter) will list all files under the input directory\n",
    "\n",
    "import os\n",
    "for dirname, _, filenames in os.walk('/kaggle/input'):\n",
    "    for filename in filenames:\n",
    "        print(os.path.join(dirname, filename))\n",
    "\n",
    "# You can write up to 20GB to the current directory (/kaggle/working/) that gets preserved as output when you create a version using \"Save & Run All\" \n",
    "# You can also write temporary files to /kaggle/temp/, but they won't be saved outside of the current session"
   ]
  },
  {
   "cell_type": "code",
   "execution_count": 2,
   "id": "b3df4b93",
   "metadata": {
    "execution": {
     "iopub.execute_input": "2024-07-14T12:36:07.032385Z",
     "iopub.status.busy": "2024-07-14T12:36:07.031401Z",
     "iopub.status.idle": "2024-07-14T12:36:07.081530Z",
     "shell.execute_reply": "2024-07-14T12:36:07.080614Z"
    },
    "papermill": {
     "duration": 0.059734,
     "end_time": "2024-07-14T12:36:07.083967",
     "exception": false,
     "start_time": "2024-07-14T12:36:07.024233",
     "status": "completed"
    },
    "tags": []
   },
   "outputs": [],
   "source": [
    "df=pd.read_csv('/kaggle/input/playground-series-s3e25/train.csv')"
   ]
  },
  {
   "cell_type": "code",
   "execution_count": 3,
   "id": "01db1339",
   "metadata": {
    "execution": {
     "iopub.execute_input": "2024-07-14T12:36:07.099554Z",
     "iopub.status.busy": "2024-07-14T12:36:07.098747Z",
     "iopub.status.idle": "2024-07-14T12:36:07.127394Z",
     "shell.execute_reply": "2024-07-14T12:36:07.126323Z"
    },
    "papermill": {
     "duration": 0.038144,
     "end_time": "2024-07-14T12:36:07.129708",
     "exception": false,
     "start_time": "2024-07-14T12:36:07.091564",
     "status": "completed"
    },
    "tags": []
   },
   "outputs": [
    {
     "name": "stdout",
     "output_type": "stream",
     "text": [
      "<class 'pandas.core.frame.DataFrame'>\n",
      "RangeIndex: 10407 entries, 0 to 10406\n",
      "Data columns (total 13 columns):\n",
      " #   Column                 Non-Null Count  Dtype  \n",
      "---  ------                 --------------  -----  \n",
      " 0   id                     10407 non-null  int64  \n",
      " 1   allelectrons_Total     10407 non-null  float64\n",
      " 2   density_Total          10407 non-null  float64\n",
      " 3   allelectrons_Average   10407 non-null  float64\n",
      " 4   val_e_Average          10407 non-null  float64\n",
      " 5   atomicweight_Average   10407 non-null  float64\n",
      " 6   ionenergy_Average      10407 non-null  float64\n",
      " 7   el_neg_chi_Average     10407 non-null  float64\n",
      " 8   R_vdw_element_Average  10407 non-null  float64\n",
      " 9   R_cov_element_Average  10407 non-null  float64\n",
      " 10  zaratio_Average        10407 non-null  float64\n",
      " 11  density_Average        10407 non-null  float64\n",
      " 12  Hardness               10407 non-null  float64\n",
      "dtypes: float64(12), int64(1)\n",
      "memory usage: 1.0 MB\n"
     ]
    }
   ],
   "source": [
    "df.info()"
   ]
  },
  {
   "cell_type": "code",
   "execution_count": 4,
   "id": "d421e257",
   "metadata": {
    "execution": {
     "iopub.execute_input": "2024-07-14T12:36:07.143245Z",
     "iopub.status.busy": "2024-07-14T12:36:07.142863Z",
     "iopub.status.idle": "2024-07-14T12:36:07.195758Z",
     "shell.execute_reply": "2024-07-14T12:36:07.194331Z"
    },
    "papermill": {
     "duration": 0.062363,
     "end_time": "2024-07-14T12:36:07.198157",
     "exception": false,
     "start_time": "2024-07-14T12:36:07.135794",
     "status": "completed"
    },
    "tags": []
   },
   "outputs": [
    {
     "data": {
      "text/html": [
       "<div>\n",
       "<style scoped>\n",
       "    .dataframe tbody tr th:only-of-type {\n",
       "        vertical-align: middle;\n",
       "    }\n",
       "\n",
       "    .dataframe tbody tr th {\n",
       "        vertical-align: top;\n",
       "    }\n",
       "\n",
       "    .dataframe thead th {\n",
       "        text-align: right;\n",
       "    }\n",
       "</style>\n",
       "<table border=\"1\" class=\"dataframe\">\n",
       "  <thead>\n",
       "    <tr style=\"text-align: right;\">\n",
       "      <th></th>\n",
       "      <th>id</th>\n",
       "      <th>allelectrons_Total</th>\n",
       "      <th>density_Total</th>\n",
       "      <th>allelectrons_Average</th>\n",
       "      <th>val_e_Average</th>\n",
       "      <th>atomicweight_Average</th>\n",
       "      <th>ionenergy_Average</th>\n",
       "      <th>el_neg_chi_Average</th>\n",
       "      <th>R_vdw_element_Average</th>\n",
       "      <th>R_cov_element_Average</th>\n",
       "      <th>zaratio_Average</th>\n",
       "      <th>density_Average</th>\n",
       "      <th>Hardness</th>\n",
       "    </tr>\n",
       "  </thead>\n",
       "  <tbody>\n",
       "    <tr>\n",
       "      <th>count</th>\n",
       "      <td>10407.00000</td>\n",
       "      <td>10407.000000</td>\n",
       "      <td>10407.000000</td>\n",
       "      <td>10407.000000</td>\n",
       "      <td>10407.000000</td>\n",
       "      <td>10407.000000</td>\n",
       "      <td>10407.000000</td>\n",
       "      <td>10407.000000</td>\n",
       "      <td>10407.000000</td>\n",
       "      <td>10407.000000</td>\n",
       "      <td>10407.000000</td>\n",
       "      <td>10407.000000</td>\n",
       "      <td>10407.000000</td>\n",
       "    </tr>\n",
       "    <tr>\n",
       "      <th>mean</th>\n",
       "      <td>5203.00000</td>\n",
       "      <td>128.053516</td>\n",
       "      <td>14.491342</td>\n",
       "      <td>17.033222</td>\n",
       "      <td>4.546789</td>\n",
       "      <td>37.507703</td>\n",
       "      <td>10.938308</td>\n",
       "      <td>2.607662</td>\n",
       "      <td>1.731330</td>\n",
       "      <td>0.944132</td>\n",
       "      <td>0.493349</td>\n",
       "      <td>2.132984</td>\n",
       "      <td>4.647126</td>\n",
       "    </tr>\n",
       "    <tr>\n",
       "      <th>std</th>\n",
       "      <td>3004.38646</td>\n",
       "      <td>224.123776</td>\n",
       "      <td>15.972877</td>\n",
       "      <td>10.468734</td>\n",
       "      <td>0.690864</td>\n",
       "      <td>26.012313</td>\n",
       "      <td>1.408276</td>\n",
       "      <td>0.334906</td>\n",
       "      <td>0.192481</td>\n",
       "      <td>0.180017</td>\n",
       "      <td>0.063080</td>\n",
       "      <td>1.936656</td>\n",
       "      <td>1.680525</td>\n",
       "    </tr>\n",
       "    <tr>\n",
       "      <th>min</th>\n",
       "      <td>0.00000</td>\n",
       "      <td>0.000000</td>\n",
       "      <td>0.000000</td>\n",
       "      <td>0.000000</td>\n",
       "      <td>0.000000</td>\n",
       "      <td>0.000000</td>\n",
       "      <td>0.000000</td>\n",
       "      <td>0.000000</td>\n",
       "      <td>0.000000</td>\n",
       "      <td>0.000000</td>\n",
       "      <td>0.000000</td>\n",
       "      <td>0.000000</td>\n",
       "      <td>1.000000</td>\n",
       "    </tr>\n",
       "    <tr>\n",
       "      <th>25%</th>\n",
       "      <td>2601.50000</td>\n",
       "      <td>68.000000</td>\n",
       "      <td>7.558488</td>\n",
       "      <td>10.000000</td>\n",
       "      <td>4.000000</td>\n",
       "      <td>20.298893</td>\n",
       "      <td>10.590660</td>\n",
       "      <td>2.530000</td>\n",
       "      <td>1.672500</td>\n",
       "      <td>0.864000</td>\n",
       "      <td>0.476196</td>\n",
       "      <td>0.814800</td>\n",
       "      <td>3.000000</td>\n",
       "    </tr>\n",
       "    <tr>\n",
       "      <th>50%</th>\n",
       "      <td>5203.00000</td>\n",
       "      <td>100.000000</td>\n",
       "      <td>10.650000</td>\n",
       "      <td>12.600000</td>\n",
       "      <td>4.714286</td>\n",
       "      <td>26.203827</td>\n",
       "      <td>11.202760</td>\n",
       "      <td>2.706000</td>\n",
       "      <td>1.732727</td>\n",
       "      <td>0.915556</td>\n",
       "      <td>0.488550</td>\n",
       "      <td>1.351550</td>\n",
       "      <td>5.500000</td>\n",
       "    </tr>\n",
       "    <tr>\n",
       "      <th>75%</th>\n",
       "      <td>7804.50000</td>\n",
       "      <td>131.000000</td>\n",
       "      <td>16.676996</td>\n",
       "      <td>22.000000</td>\n",
       "      <td>4.800000</td>\n",
       "      <td>48.719500</td>\n",
       "      <td>11.670725</td>\n",
       "      <td>2.805000</td>\n",
       "      <td>1.800000</td>\n",
       "      <td>0.981667</td>\n",
       "      <td>0.496070</td>\n",
       "      <td>2.741550</td>\n",
       "      <td>6.000000</td>\n",
       "    </tr>\n",
       "    <tr>\n",
       "      <th>max</th>\n",
       "      <td>10406.00000</td>\n",
       "      <td>15300.000000</td>\n",
       "      <td>643.093804</td>\n",
       "      <td>67.000000</td>\n",
       "      <td>6.000000</td>\n",
       "      <td>167.400000</td>\n",
       "      <td>15.245810</td>\n",
       "      <td>3.443000</td>\n",
       "      <td>2.250000</td>\n",
       "      <td>1.615840</td>\n",
       "      <td>0.825990</td>\n",
       "      <td>10.970000</td>\n",
       "      <td>10.000000</td>\n",
       "    </tr>\n",
       "  </tbody>\n",
       "</table>\n",
       "</div>"
      ],
      "text/plain": [
       "                id  allelectrons_Total  density_Total  allelectrons_Average  \\\n",
       "count  10407.00000        10407.000000   10407.000000          10407.000000   \n",
       "mean    5203.00000          128.053516      14.491342             17.033222   \n",
       "std     3004.38646          224.123776      15.972877             10.468734   \n",
       "min        0.00000            0.000000       0.000000              0.000000   \n",
       "25%     2601.50000           68.000000       7.558488             10.000000   \n",
       "50%     5203.00000          100.000000      10.650000             12.600000   \n",
       "75%     7804.50000          131.000000      16.676996             22.000000   \n",
       "max    10406.00000        15300.000000     643.093804             67.000000   \n",
       "\n",
       "       val_e_Average  atomicweight_Average  ionenergy_Average  \\\n",
       "count   10407.000000          10407.000000       10407.000000   \n",
       "mean        4.546789             37.507703          10.938308   \n",
       "std         0.690864             26.012313           1.408276   \n",
       "min         0.000000              0.000000           0.000000   \n",
       "25%         4.000000             20.298893          10.590660   \n",
       "50%         4.714286             26.203827          11.202760   \n",
       "75%         4.800000             48.719500          11.670725   \n",
       "max         6.000000            167.400000          15.245810   \n",
       "\n",
       "       el_neg_chi_Average  R_vdw_element_Average  R_cov_element_Average  \\\n",
       "count        10407.000000           10407.000000           10407.000000   \n",
       "mean             2.607662               1.731330               0.944132   \n",
       "std              0.334906               0.192481               0.180017   \n",
       "min              0.000000               0.000000               0.000000   \n",
       "25%              2.530000               1.672500               0.864000   \n",
       "50%              2.706000               1.732727               0.915556   \n",
       "75%              2.805000               1.800000               0.981667   \n",
       "max              3.443000               2.250000               1.615840   \n",
       "\n",
       "       zaratio_Average  density_Average      Hardness  \n",
       "count     10407.000000     10407.000000  10407.000000  \n",
       "mean          0.493349         2.132984      4.647126  \n",
       "std           0.063080         1.936656      1.680525  \n",
       "min           0.000000         0.000000      1.000000  \n",
       "25%           0.476196         0.814800      3.000000  \n",
       "50%           0.488550         1.351550      5.500000  \n",
       "75%           0.496070         2.741550      6.000000  \n",
       "max           0.825990        10.970000     10.000000  "
      ]
     },
     "execution_count": 4,
     "metadata": {},
     "output_type": "execute_result"
    }
   ],
   "source": [
    "df.describe()"
   ]
  },
  {
   "cell_type": "code",
   "execution_count": 5,
   "id": "82b52110",
   "metadata": {
    "execution": {
     "iopub.execute_input": "2024-07-14T12:36:07.212992Z",
     "iopub.status.busy": "2024-07-14T12:36:07.211876Z",
     "iopub.status.idle": "2024-07-14T12:36:07.219554Z",
     "shell.execute_reply": "2024-07-14T12:36:07.218275Z"
    },
    "papermill": {
     "duration": 0.017318,
     "end_time": "2024-07-14T12:36:07.221773",
     "exception": false,
     "start_time": "2024-07-14T12:36:07.204455",
     "status": "completed"
    },
    "tags": []
   },
   "outputs": [],
   "source": [
    "df = df.drop(columns = ['id'])"
   ]
  },
  {
   "cell_type": "code",
   "execution_count": 6,
   "id": "059df66b",
   "metadata": {
    "execution": {
     "iopub.execute_input": "2024-07-14T12:36:07.236223Z",
     "iopub.status.busy": "2024-07-14T12:36:07.235557Z",
     "iopub.status.idle": "2024-07-14T12:36:07.241325Z",
     "shell.execute_reply": "2024-07-14T12:36:07.240372Z"
    },
    "papermill": {
     "duration": 0.015311,
     "end_time": "2024-07-14T12:36:07.243491",
     "exception": false,
     "start_time": "2024-07-14T12:36:07.228180",
     "status": "completed"
    },
    "tags": []
   },
   "outputs": [],
   "source": [
    "y = df['Hardness']\n",
    "X = df.drop(columns='Hardness')"
   ]
  },
  {
   "cell_type": "code",
   "execution_count": 7,
   "id": "292609b2",
   "metadata": {
    "execution": {
     "iopub.execute_input": "2024-07-14T12:36:07.257925Z",
     "iopub.status.busy": "2024-07-14T12:36:07.257559Z",
     "iopub.status.idle": "2024-07-14T12:36:09.492050Z",
     "shell.execute_reply": "2024-07-14T12:36:09.490935Z"
    },
    "papermill": {
     "duration": 2.244873,
     "end_time": "2024-07-14T12:36:09.494792",
     "exception": false,
     "start_time": "2024-07-14T12:36:07.249919",
     "status": "completed"
    },
    "tags": []
   },
   "outputs": [],
   "source": [
    "import matplotlib.pyplot as plt\n",
    "from sklearn import model_selection, metrics\n",
    "import lightgbm as lgb"
   ]
  },
  {
   "cell_type": "code",
   "execution_count": 8,
   "id": "41500d69",
   "metadata": {
    "execution": {
     "iopub.execute_input": "2024-07-14T12:36:09.509601Z",
     "iopub.status.busy": "2024-07-14T12:36:09.509034Z",
     "iopub.status.idle": "2024-07-14T12:36:09.527168Z",
     "shell.execute_reply": "2024-07-14T12:36:09.525851Z"
    },
    "papermill": {
     "duration": 0.027926,
     "end_time": "2024-07-14T12:36:09.529325",
     "exception": false,
     "start_time": "2024-07-14T12:36:09.501399",
     "status": "completed"
    },
    "tags": []
   },
   "outputs": [
    {
     "name": "stdout",
     "output_type": "stream",
     "text": [
      "Train: 6243 samples \t 60%\n",
      "Test:  2082 samples \t 20%\n",
      "Val:   2082 samples \t 20%\n"
     ]
    }
   ],
   "source": [
    "from sklearn.model_selection import train_test_split\n",
    "\n",
    "X_train, X_test, y_train, y_test = train_test_split(X, y,\n",
    "                                                    train_size=0.8,\n",
    "                                                    random_state=42)\n",
    "\n",
    "X_train, X_val, y_train, y_val = train_test_split(X_train, y_train,\n",
    "                                                  train_size=0.75,\n",
    "                                                  random_state=42)\n",
    "\n",
    "print(f'Train: {X_train.shape[0]} samples \\t {round(X_train.shape[0] / X.shape[0] * 100)}%')\n",
    "print(f'Test:  {X_test.shape[0]} samples \\t {round(X_test.shape[0] / X.shape[0] * 100)}%')\n",
    "print(f'Val:   {X_val.shape[0]} samples \\t {round(X_val.shape[0] / X.shape[0] * 100)}%')"
   ]
  },
  {
   "cell_type": "code",
   "execution_count": 9,
   "id": "8b6e9bca",
   "metadata": {
    "execution": {
     "iopub.execute_input": "2024-07-14T12:36:09.544249Z",
     "iopub.status.busy": "2024-07-14T12:36:09.543099Z",
     "iopub.status.idle": "2024-07-14T12:36:09.712104Z",
     "shell.execute_reply": "2024-07-14T12:36:09.710997Z"
    },
    "papermill": {
     "duration": 0.179336,
     "end_time": "2024-07-14T12:36:09.715016",
     "exception": false,
     "start_time": "2024-07-14T12:36:09.535680",
     "status": "completed"
    },
    "tags": []
   },
   "outputs": [],
   "source": [
    "from sklearn.compose import ColumnTransformer\n",
    "from sklearn.pipeline import Pipeline\n",
    "from sklearn.impute import SimpleImputer\n",
    "from sklearn.preprocessing import OrdinalEncoder\n"
   ]
  },
  {
   "cell_type": "code",
   "execution_count": 10,
   "id": "e7082af9",
   "metadata": {
    "execution": {
     "iopub.execute_input": "2024-07-14T12:36:09.729428Z",
     "iopub.status.busy": "2024-07-14T12:36:09.729039Z",
     "iopub.status.idle": "2024-07-14T12:36:09.764803Z",
     "shell.execute_reply": "2024-07-14T12:36:09.763859Z"
    },
    "papermill": {
     "duration": 0.045448,
     "end_time": "2024-07-14T12:36:09.767058",
     "exception": false,
     "start_time": "2024-07-14T12:36:09.721610",
     "status": "completed"
    },
    "tags": []
   },
   "outputs": [
    {
     "data": {
      "text/html": [
       "<style>#sk-container-id-1 {color: black;background-color: white;}#sk-container-id-1 pre{padding: 0;}#sk-container-id-1 div.sk-toggleable {background-color: white;}#sk-container-id-1 label.sk-toggleable__label {cursor: pointer;display: block;width: 100%;margin-bottom: 0;padding: 0.3em;box-sizing: border-box;text-align: center;}#sk-container-id-1 label.sk-toggleable__label-arrow:before {content: \"▸\";float: left;margin-right: 0.25em;color: #696969;}#sk-container-id-1 label.sk-toggleable__label-arrow:hover:before {color: black;}#sk-container-id-1 div.sk-estimator:hover label.sk-toggleable__label-arrow:before {color: black;}#sk-container-id-1 div.sk-toggleable__content {max-height: 0;max-width: 0;overflow: hidden;text-align: left;background-color: #f0f8ff;}#sk-container-id-1 div.sk-toggleable__content pre {margin: 0.2em;color: black;border-radius: 0.25em;background-color: #f0f8ff;}#sk-container-id-1 input.sk-toggleable__control:checked~div.sk-toggleable__content {max-height: 200px;max-width: 100%;overflow: auto;}#sk-container-id-1 input.sk-toggleable__control:checked~label.sk-toggleable__label-arrow:before {content: \"▾\";}#sk-container-id-1 div.sk-estimator input.sk-toggleable__control:checked~label.sk-toggleable__label {background-color: #d4ebff;}#sk-container-id-1 div.sk-label input.sk-toggleable__control:checked~label.sk-toggleable__label {background-color: #d4ebff;}#sk-container-id-1 input.sk-hidden--visually {border: 0;clip: rect(1px 1px 1px 1px);clip: rect(1px, 1px, 1px, 1px);height: 1px;margin: -1px;overflow: hidden;padding: 0;position: absolute;width: 1px;}#sk-container-id-1 div.sk-estimator {font-family: monospace;background-color: #f0f8ff;border: 1px dotted black;border-radius: 0.25em;box-sizing: border-box;margin-bottom: 0.5em;}#sk-container-id-1 div.sk-estimator:hover {background-color: #d4ebff;}#sk-container-id-1 div.sk-parallel-item::after {content: \"\";width: 100%;border-bottom: 1px solid gray;flex-grow: 1;}#sk-container-id-1 div.sk-label:hover label.sk-toggleable__label {background-color: #d4ebff;}#sk-container-id-1 div.sk-serial::before {content: \"\";position: absolute;border-left: 1px solid gray;box-sizing: border-box;top: 0;bottom: 0;left: 50%;z-index: 0;}#sk-container-id-1 div.sk-serial {display: flex;flex-direction: column;align-items: center;background-color: white;padding-right: 0.2em;padding-left: 0.2em;position: relative;}#sk-container-id-1 div.sk-item {position: relative;z-index: 1;}#sk-container-id-1 div.sk-parallel {display: flex;align-items: stretch;justify-content: center;background-color: white;position: relative;}#sk-container-id-1 div.sk-item::before, #sk-container-id-1 div.sk-parallel-item::before {content: \"\";position: absolute;border-left: 1px solid gray;box-sizing: border-box;top: 0;bottom: 0;left: 50%;z-index: -1;}#sk-container-id-1 div.sk-parallel-item {display: flex;flex-direction: column;z-index: 1;position: relative;background-color: white;}#sk-container-id-1 div.sk-parallel-item:first-child::after {align-self: flex-end;width: 50%;}#sk-container-id-1 div.sk-parallel-item:last-child::after {align-self: flex-start;width: 50%;}#sk-container-id-1 div.sk-parallel-item:only-child::after {width: 0;}#sk-container-id-1 div.sk-dashed-wrapped {border: 1px dashed gray;margin: 0 0.4em 0.5em 0.4em;box-sizing: border-box;padding-bottom: 0.4em;background-color: white;}#sk-container-id-1 div.sk-label label {font-family: monospace;font-weight: bold;display: inline-block;line-height: 1.2em;}#sk-container-id-1 div.sk-label-container {text-align: center;}#sk-container-id-1 div.sk-container {/* jupyter's `normalize.less` sets `[hidden] { display: none; }` but bootstrap.min.css set `[hidden] { display: none !important; }` so we also need the `!important` here to be able to override the default hidden behavior on the sphinx rendered scikit-learn.org. See: https://github.com/scikit-learn/scikit-learn/issues/21755 */display: inline-block !important;position: relative;}#sk-container-id-1 div.sk-text-repr-fallback {display: none;}</style><div id=\"sk-container-id-1\" class=\"sk-top-container\"><div class=\"sk-text-repr-fallback\"><pre>ColumnTransformer(transformers=[(&#x27;num&#x27;,\n",
       "                                 Pipeline(steps=[(&#x27;imputer&#x27;,\n",
       "                                                  SimpleImputer(strategy=&#x27;median&#x27;))]),\n",
       "                                 Index([&#x27;allelectrons_Total&#x27;, &#x27;density_Total&#x27;, &#x27;allelectrons_Average&#x27;,\n",
       "       &#x27;val_e_Average&#x27;, &#x27;atomicweight_Average&#x27;, &#x27;ionenergy_Average&#x27;,\n",
       "       &#x27;el_neg_chi_Average&#x27;, &#x27;R_vdw_element_Average&#x27;, &#x27;R_cov_element_Average&#x27;,\n",
       "       &#x27;zaratio_Average&#x27;, &#x27;density_Average&#x27;],\n",
       "      dtype=&#x27;object&#x27;)),\n",
       "                                (&#x27;cat&#x27;,\n",
       "                                 Pipeline(steps=[(&#x27;imputer&#x27;,\n",
       "                                                  SimpleImputer(strategy=&#x27;most_frequent&#x27;)),\n",
       "                                                 (&#x27;encoder&#x27;,\n",
       "                                                  OrdinalEncoder(handle_unknown=&#x27;use_encoded_value&#x27;,\n",
       "                                                                 unknown_value=nan))]),\n",
       "                                 Index([], dtype=&#x27;object&#x27;))])</pre><b>In a Jupyter environment, please rerun this cell to show the HTML representation or trust the notebook. <br />On GitHub, the HTML representation is unable to render, please try loading this page with nbviewer.org.</b></div><div class=\"sk-container\" hidden><div class=\"sk-item sk-dashed-wrapped\"><div class=\"sk-label-container\"><div class=\"sk-label sk-toggleable\"><input class=\"sk-toggleable__control sk-hidden--visually\" id=\"sk-estimator-id-1\" type=\"checkbox\" ><label for=\"sk-estimator-id-1\" class=\"sk-toggleable__label sk-toggleable__label-arrow\">ColumnTransformer</label><div class=\"sk-toggleable__content\"><pre>ColumnTransformer(transformers=[(&#x27;num&#x27;,\n",
       "                                 Pipeline(steps=[(&#x27;imputer&#x27;,\n",
       "                                                  SimpleImputer(strategy=&#x27;median&#x27;))]),\n",
       "                                 Index([&#x27;allelectrons_Total&#x27;, &#x27;density_Total&#x27;, &#x27;allelectrons_Average&#x27;,\n",
       "       &#x27;val_e_Average&#x27;, &#x27;atomicweight_Average&#x27;, &#x27;ionenergy_Average&#x27;,\n",
       "       &#x27;el_neg_chi_Average&#x27;, &#x27;R_vdw_element_Average&#x27;, &#x27;R_cov_element_Average&#x27;,\n",
       "       &#x27;zaratio_Average&#x27;, &#x27;density_Average&#x27;],\n",
       "      dtype=&#x27;object&#x27;)),\n",
       "                                (&#x27;cat&#x27;,\n",
       "                                 Pipeline(steps=[(&#x27;imputer&#x27;,\n",
       "                                                  SimpleImputer(strategy=&#x27;most_frequent&#x27;)),\n",
       "                                                 (&#x27;encoder&#x27;,\n",
       "                                                  OrdinalEncoder(handle_unknown=&#x27;use_encoded_value&#x27;,\n",
       "                                                                 unknown_value=nan))]),\n",
       "                                 Index([], dtype=&#x27;object&#x27;))])</pre></div></div></div><div class=\"sk-parallel\"><div class=\"sk-parallel-item\"><div class=\"sk-item\"><div class=\"sk-label-container\"><div class=\"sk-label sk-toggleable\"><input class=\"sk-toggleable__control sk-hidden--visually\" id=\"sk-estimator-id-2\" type=\"checkbox\" ><label for=\"sk-estimator-id-2\" class=\"sk-toggleable__label sk-toggleable__label-arrow\">num</label><div class=\"sk-toggleable__content\"><pre>Index([&#x27;allelectrons_Total&#x27;, &#x27;density_Total&#x27;, &#x27;allelectrons_Average&#x27;,\n",
       "       &#x27;val_e_Average&#x27;, &#x27;atomicweight_Average&#x27;, &#x27;ionenergy_Average&#x27;,\n",
       "       &#x27;el_neg_chi_Average&#x27;, &#x27;R_vdw_element_Average&#x27;, &#x27;R_cov_element_Average&#x27;,\n",
       "       &#x27;zaratio_Average&#x27;, &#x27;density_Average&#x27;],\n",
       "      dtype=&#x27;object&#x27;)</pre></div></div></div><div class=\"sk-serial\"><div class=\"sk-item\"><div class=\"sk-serial\"><div class=\"sk-item\"><div class=\"sk-estimator sk-toggleable\"><input class=\"sk-toggleable__control sk-hidden--visually\" id=\"sk-estimator-id-3\" type=\"checkbox\" ><label for=\"sk-estimator-id-3\" class=\"sk-toggleable__label sk-toggleable__label-arrow\">SimpleImputer</label><div class=\"sk-toggleable__content\"><pre>SimpleImputer(strategy=&#x27;median&#x27;)</pre></div></div></div></div></div></div></div></div><div class=\"sk-parallel-item\"><div class=\"sk-item\"><div class=\"sk-label-container\"><div class=\"sk-label sk-toggleable\"><input class=\"sk-toggleable__control sk-hidden--visually\" id=\"sk-estimator-id-4\" type=\"checkbox\" ><label for=\"sk-estimator-id-4\" class=\"sk-toggleable__label sk-toggleable__label-arrow\">cat</label><div class=\"sk-toggleable__content\"><pre>Index([], dtype=&#x27;object&#x27;)</pre></div></div></div><div class=\"sk-serial\"><div class=\"sk-item\"><div class=\"sk-serial\"><div class=\"sk-item\"><div class=\"sk-estimator sk-toggleable\"><input class=\"sk-toggleable__control sk-hidden--visually\" id=\"sk-estimator-id-5\" type=\"checkbox\" ><label for=\"sk-estimator-id-5\" class=\"sk-toggleable__label sk-toggleable__label-arrow\">SimpleImputer</label><div class=\"sk-toggleable__content\"><pre>SimpleImputer(strategy=&#x27;most_frequent&#x27;)</pre></div></div></div><div class=\"sk-item\"><div class=\"sk-estimator sk-toggleable\"><input class=\"sk-toggleable__control sk-hidden--visually\" id=\"sk-estimator-id-6\" type=\"checkbox\" ><label for=\"sk-estimator-id-6\" class=\"sk-toggleable__label sk-toggleable__label-arrow\">OrdinalEncoder</label><div class=\"sk-toggleable__content\"><pre>OrdinalEncoder(handle_unknown=&#x27;use_encoded_value&#x27;, unknown_value=nan)</pre></div></div></div></div></div></div></div></div></div></div></div></div>"
      ],
      "text/plain": [
       "ColumnTransformer(transformers=[('num',\n",
       "                                 Pipeline(steps=[('imputer',\n",
       "                                                  SimpleImputer(strategy='median'))]),\n",
       "                                 Index(['allelectrons_Total', 'density_Total', 'allelectrons_Average',\n",
       "       'val_e_Average', 'atomicweight_Average', 'ionenergy_Average',\n",
       "       'el_neg_chi_Average', 'R_vdw_element_Average', 'R_cov_element_Average',\n",
       "       'zaratio_Average', 'density_Average'],\n",
       "      dtype='object')),\n",
       "                                ('cat',\n",
       "                                 Pipeline(steps=[('imputer',\n",
       "                                                  SimpleImputer(strategy='most_frequent')),\n",
       "                                                 ('encoder',\n",
       "                                                  OrdinalEncoder(handle_unknown='use_encoded_value',\n",
       "                                                                 unknown_value=nan))]),\n",
       "                                 Index([], dtype='object'))])"
      ]
     },
     "execution_count": 10,
     "metadata": {},
     "output_type": "execute_result"
    }
   ],
   "source": [
    "num_columns = X.select_dtypes(include=\"number\").columns\n",
    "cat_columns = X.select_dtypes(include=\"object\").columns\n",
    "\n",
    "# числові ознаки\n",
    "num_transformer = Pipeline(\n",
    "    steps=[(\"imputer\", SimpleImputer(strategy=\"median\"))]\n",
    "    )\n",
    "\n",
    "# категоріальні ознаки\n",
    "cat_transformer = Pipeline(\n",
    "    steps=[(\"imputer\", SimpleImputer(strategy=\"most_frequent\")),\n",
    "           (\"encoder\", OrdinalEncoder(handle_unknown=\"use_encoded_value\", unknown_value=np.nan))])\n",
    "\n",
    "# об'єднання двох pipeline\n",
    "preprocessor = ColumnTransformer(\n",
    "    transformers=[\n",
    "        (\"num\", num_transformer, num_columns),\n",
    "        (\"cat\", cat_transformer, cat_columns),\n",
    "    ]\n",
    ")\n",
    "\n",
    "preprocessor.set_output(transform='pandas')\n",
    "preprocessor"
   ]
  },
  {
   "cell_type": "code",
   "execution_count": 11,
   "id": "d6cf617e",
   "metadata": {
    "execution": {
     "iopub.execute_input": "2024-07-14T12:36:09.782397Z",
     "iopub.status.busy": "2024-07-14T12:36:09.781600Z",
     "iopub.status.idle": "2024-07-14T12:36:09.809812Z",
     "shell.execute_reply": "2024-07-14T12:36:09.808961Z"
    },
    "papermill": {
     "duration": 0.038475,
     "end_time": "2024-07-14T12:36:09.812326",
     "exception": false,
     "start_time": "2024-07-14T12:36:09.773851",
     "status": "completed"
    },
    "tags": []
   },
   "outputs": [],
   "source": [
    "# навчання препроцесора\n",
    "X_train = preprocessor.fit_transform(X_train)\n",
    "\n",
    "# обробка даних\n",
    "X_val = preprocessor.transform(X_val)\n",
    "X_test = preprocessor.transform(X_test)"
   ]
  },
  {
   "cell_type": "code",
   "execution_count": 12,
   "id": "a5477f11",
   "metadata": {
    "execution": {
     "iopub.execute_input": "2024-07-14T12:36:09.827895Z",
     "iopub.status.busy": "2024-07-14T12:36:09.827002Z",
     "iopub.status.idle": "2024-07-14T12:36:09.836943Z",
     "shell.execute_reply": "2024-07-14T12:36:09.835903Z"
    },
    "papermill": {
     "duration": 0.019979,
     "end_time": "2024-07-14T12:36:09.839138",
     "exception": false,
     "start_time": "2024-07-14T12:36:09.819159",
     "status": "completed"
    },
    "tags": []
   },
   "outputs": [],
   "source": [
    "from sklearn import metrics\n",
    "\n",
    "\n",
    "def objective(trial):\n",
    "  \"\"\"\n",
    "  Функція objective для Optuna, яка навчає модель LightGBMRegressor\n",
    "  на тренувальному наборі даних та оцінює її на тестовому наборі.\n",
    "\n",
    "  Args:\n",
    "      trial (optuna.Trial): Об'єкт Optuna, що представляє один набір гіперпараметрів.\n",
    "\n",
    "  Returns:\n",
    "      float: Значення метрики оцінки (R2).\n",
    "  \"\"\"\n",
    "\n",
    "  # 1. Визначення гіперпараметрів:\n",
    "\n",
    "  # params = {\n",
    "  #       'objective': 'mse',\n",
    "  #       'n_estimator': 30,\n",
    "  #       'verbose': -1,\n",
    "  #       'boosting_type': trial.suggest_categorical('boosting_type', ['gbdt', 'dart']),\n",
    "  #       'lambda_l1': trial.suggest_float('lambda_l1', 1e-8, 10.0, log=True),\n",
    "  #       'lambda_l2': trial.suggest_float('lambda_l2', 1e-8, 10.0, log=True),\n",
    "  #       'num_leaves': trial.suggest_int('num_leaves', 2, 256),\n",
    "  #       'feature_fraction': trial.suggest_float('feature_fraction', 0.4, 1.0),\n",
    "  #       'bagging_fraction': trial.suggest_float('bagging_fraction', 0.4, 1.0),\n",
    "  #       'bagging_freq': trial.suggest_int('bagging_freq', 1, 7),\n",
    "  #       'min_child_samples': trial.suggest_int('min_child_samples', 5, 100),\n",
    "  #   }\n",
    "\n",
    "  params = {\n",
    "    'objective': 'mse',\n",
    "    'n_estimators': 1000,\n",
    "    'verbose': -1,\n",
    "    'boosting_type': trial.suggest_categorical('boosting_type', ['gbdt', 'dart']),\n",
    "    'lambda_l1': trial.suggest_float('lambda_l1', 1e-8, 10.0, log=True),\n",
    "    'lambda_l2': trial.suggest_float('lambda_l2', 1e-8, 10.0, log=True),\n",
    "    #'num_leaves': trial.suggest_int('num_leaves', 2, 256),\n",
    "    #'feature_fraction': trial.suggest_float('feature_fraction', 0.4, 1.0),\n",
    "    #'bagging_fraction': trial.suggest_float('bagging_fraction', 0.4, 1.0),\n",
    "    'bagging_freq': trial.suggest_int('bagging_freq', 1, 7),\n",
    "    #'min_child_samples': trial.suggest_int('min_child_samples', 5, 100),\n",
    "    'learning_rate': trial.suggest_float('learning_rate', 1e-4, 1.0, log=True),\n",
    "    #'subsample': trial.suggest_float('subsample', 0.4, 1.0),\n",
    "    #'subsample_freq': trial.suggest_int('subsample_freq', 1, 10),\n",
    "    'colsample_bytree': trial.suggest_float('colsample_bytree', 0.4, 1.0),\n",
    "    #'min_child_weight': trial.suggest_float('min_child_weight', 1e-3, 100.0, log=True),\n",
    "    }\n",
    "\n",
    "  # 2. Створення моделі LightGBMRegressor:\n",
    "\n",
    "  model = lgb.LGBMRegressor(**params)\n",
    "\n",
    "  # 3. Навчання моделі на тренувальному наборі даних:\n",
    "\n",
    "  model.fit(X_train, y_train)\n",
    "\n",
    "  # 4. Оцінка моделі на тестовому наборі даних:\n",
    "\n",
    "  y_pred = model.predict(X_val)\n",
    "  r2 = metrics.r2_score(y_val, y_pred)\n",
    "  mae = metrics.mean_absolute_error(y_val, y_pred)\n",
    "  rmse = metrics.mean_squared_error(y_val, y_pred) ** 0.5\n",
    "\n",
    "  # 5. Повернення значення метрики:\n",
    "  return r2, mae, rmse"
   ]
  },
  {
   "cell_type": "code",
   "execution_count": 13,
   "id": "7c063669",
   "metadata": {
    "execution": {
     "iopub.execute_input": "2024-07-14T12:36:09.853946Z",
     "iopub.status.busy": "2024-07-14T12:36:09.853567Z",
     "iopub.status.idle": "2024-07-14T12:36:22.999179Z",
     "shell.execute_reply": "2024-07-14T12:36:22.997529Z"
    },
    "papermill": {
     "duration": 13.156056,
     "end_time": "2024-07-14T12:36:23.001925",
     "exception": false,
     "start_time": "2024-07-14T12:36:09.845869",
     "status": "completed"
    },
    "tags": []
   },
   "outputs": [],
   "source": [
    "!pip install -q optuna"
   ]
  },
  {
   "cell_type": "code",
   "execution_count": 14,
   "id": "a5839df5",
   "metadata": {
    "execution": {
     "iopub.execute_input": "2024-07-14T12:36:23.018125Z",
     "iopub.status.busy": "2024-07-14T12:36:23.017664Z",
     "iopub.status.idle": "2024-07-14T12:37:42.670651Z",
     "shell.execute_reply": "2024-07-14T12:37:42.669488Z"
    },
    "papermill": {
     "duration": 79.663662,
     "end_time": "2024-07-14T12:37:42.673141",
     "exception": false,
     "start_time": "2024-07-14T12:36:23.009479",
     "status": "completed"
    },
    "tags": []
   },
   "outputs": [
    {
     "name": "stderr",
     "output_type": "stream",
     "text": [
      "[I 2024-07-14 12:36:23,264] A new study created in memory with name: no-name-2ad22c44-be3c-4137-b7ae-8f766c58326a\n",
      "[I 2024-07-14 12:36:34,274] Trial 0 finished with values: [-0.392740847158193, 1.6718374458118153, 1.9896456006319663] and parameters: {'boosting_type': 'dart', 'lambda_l1': 0.6892889979507602, 'lambda_l2': 0.00040150990735629175, 'bagging_freq': 5, 'learning_rate': 0.003980763156784839, 'colsample_bytree': 0.9954528580699307}. \n",
      "[I 2024-07-14 12:36:36,106] Trial 1 finished with values: [0.46160644623345626, 0.9066975631844948, 1.2370592332298116] and parameters: {'boosting_type': 'gbdt', 'lambda_l1': 3.0886940259747665e-07, 'lambda_l2': 3.9318626253387196e-08, 'bagging_freq': 3, 'learning_rate': 0.03712448584650894, 'colsample_bytree': 0.8727873414610792}. \n",
      "[I 2024-07-14 12:36:51,900] Trial 2 finished with values: [-4.498420662057407, 3.597495840361241, 3.9532979831980044] and parameters: {'boosting_type': 'dart', 'lambda_l1': 0.5039387911353593, 'lambda_l2': 0.1256932175794972, 'bagging_freq': 6, 'learning_rate': 0.00022525692125246853, 'colsample_bytree': 0.9305126102240918}. \n",
      "[I 2024-07-14 12:36:53,489] Trial 3 finished with values: [0.30376878676371377, 1.0651888134947587, 1.4067512645360436] and parameters: {'boosting_type': 'gbdt', 'lambda_l1': 6.636810602867041e-08, 'lambda_l2': 0.17761524332465256, 'bagging_freq': 3, 'learning_rate': 0.5441905002956614, 'colsample_bytree': 0.7156082172285094}. \n",
      "[I 2024-07-14 12:37:06,694] Trial 4 finished with values: [0.46177986676648164, 0.905221717123732, 1.2368599842339472] and parameters: {'boosting_type': 'dart', 'lambda_l1': 4.167466479079205e-05, 'lambda_l2': 9.120181081284593e-08, 'bagging_freq': 4, 'learning_rate': 0.13761172302624058, 'colsample_bytree': 0.5829219774545211}. \n",
      "[I 2024-07-14 12:37:08,496] Trial 5 finished with values: [0.46999565420804723, 0.9163537972043235, 1.2273835115598037] and parameters: {'boosting_type': 'gbdt', 'lambda_l1': 2.788829975962483, 'lambda_l2': 1.3504638752461746, 'bagging_freq': 5, 'learning_rate': 0.003450053632736693, 'colsample_bytree': 0.5838170997485839}. \n",
      "[I 2024-07-14 12:37:24,637] Trial 6 finished with values: [-2.610521182686879, 2.834760188203384, 3.2035058256159172] and parameters: {'boosting_type': 'dart', 'lambda_l1': 0.47952822037103565, 'lambda_l2': 3.3869911612680106e-08, 'bagging_freq': 3, 'learning_rate': 0.0011147157936717297, 'colsample_bytree': 0.9457466646669991}. \n",
      "[I 2024-07-14 12:37:25,923] Trial 7 finished with values: [0.12328175498721827, 1.1899364263040297, 1.5785945232026741] and parameters: {'boosting_type': 'gbdt', 'lambda_l1': 1.8005630418186684e-06, 'lambda_l2': 1.648208359779043e-05, 'bagging_freq': 2, 'learning_rate': 0.9221851839669771, 'colsample_bytree': 0.4483253159850261}. \n",
      "[I 2024-07-14 12:37:27,516] Trial 8 finished with values: [0.07391987260179278, 1.433667834905889, 1.6224258297234244] and parameters: {'boosting_type': 'gbdt', 'lambda_l1': 4.535902961431079, 'lambda_l2': 5.670171993834506e-07, 'bagging_freq': 3, 'learning_rate': 0.0001087463236757303, 'colsample_bytree': 0.47846400321092647}. \n",
      "[I 2024-07-14 12:37:42,666] Trial 9 finished with values: [0.3646506800730285, 1.0809255261366055, 1.3438378037299719] and parameters: {'boosting_type': 'dart', 'lambda_l1': 0.0004568974443139546, 'lambda_l2': 7.063457196551216e-08, 'bagging_freq': 3, 'learning_rate': 0.011667053242799062, 'colsample_bytree': 0.4185859683409605}. \n"
     ]
    }
   ],
   "source": [
    "import optuna\n",
    "study = optuna.create_study(directions=['maximize', 'minimize', 'minimize'])\n",
    "study.optimize(objective, n_trials=10)"
   ]
  },
  {
   "cell_type": "code",
   "execution_count": 15,
   "id": "9ff03f8c",
   "metadata": {
    "execution": {
     "iopub.execute_input": "2024-07-14T12:37:42.690575Z",
     "iopub.status.busy": "2024-07-14T12:37:42.689773Z",
     "iopub.status.idle": "2024-07-14T12:37:42.704529Z",
     "shell.execute_reply": "2024-07-14T12:37:42.703503Z"
    },
    "papermill": {
     "duration": 0.025934,
     "end_time": "2024-07-14T12:37:42.706629",
     "exception": false,
     "start_time": "2024-07-14T12:37:42.680695",
     "status": "completed"
    },
    "tags": []
   },
   "outputs": [
    {
     "data": {
      "text/html": [
       "<div>\n",
       "<style scoped>\n",
       "    .dataframe tbody tr th:only-of-type {\n",
       "        vertical-align: middle;\n",
       "    }\n",
       "\n",
       "    .dataframe tbody tr th {\n",
       "        vertical-align: top;\n",
       "    }\n",
       "\n",
       "    .dataframe thead th {\n",
       "        text-align: right;\n",
       "    }\n",
       "</style>\n",
       "<table border=\"1\" class=\"dataframe\">\n",
       "  <thead>\n",
       "    <tr style=\"text-align: right;\">\n",
       "      <th></th>\n",
       "      <th>r2</th>\n",
       "      <th>mae</th>\n",
       "      <th>rmse</th>\n",
       "    </tr>\n",
       "  </thead>\n",
       "  <tbody>\n",
       "    <tr>\n",
       "      <th>0</th>\n",
       "      <td>0.461780</td>\n",
       "      <td>0.905222</td>\n",
       "      <td>1.236860</td>\n",
       "    </tr>\n",
       "    <tr>\n",
       "      <th>1</th>\n",
       "      <td>0.469996</td>\n",
       "      <td>0.916354</td>\n",
       "      <td>1.227384</td>\n",
       "    </tr>\n",
       "  </tbody>\n",
       "</table>\n",
       "</div>"
      ],
      "text/plain": [
       "         r2       mae      rmse\n",
       "0  0.461780  0.905222  1.236860\n",
       "1  0.469996  0.916354  1.227384"
      ]
     },
     "execution_count": 15,
     "metadata": {},
     "output_type": "execute_result"
    }
   ],
   "source": [
    "data = pd.DataFrame([trial.values for trial in study.best_trials],\n",
    "                    columns=['r2', 'mae', 'rmse'])\n",
    "\n",
    "data"
   ]
  },
  {
   "cell_type": "code",
   "execution_count": 16,
   "id": "f3d1a6bc",
   "metadata": {
    "execution": {
     "iopub.execute_input": "2024-07-14T12:37:42.723733Z",
     "iopub.status.busy": "2024-07-14T12:37:42.723061Z",
     "iopub.status.idle": "2024-07-14T12:37:42.729766Z",
     "shell.execute_reply": "2024-07-14T12:37:42.728526Z"
    },
    "papermill": {
     "duration": 0.017703,
     "end_time": "2024-07-14T12:37:42.732008",
     "exception": false,
     "start_time": "2024-07-14T12:37:42.714305",
     "status": "completed"
    },
    "tags": []
   },
   "outputs": [],
   "source": [
    "best_params = study.best_trials[1].params"
   ]
  },
  {
   "cell_type": "code",
   "execution_count": 17,
   "id": "c318f45d",
   "metadata": {
    "execution": {
     "iopub.execute_input": "2024-07-14T12:37:42.748947Z",
     "iopub.status.busy": "2024-07-14T12:37:42.748589Z",
     "iopub.status.idle": "2024-07-14T12:37:42.959555Z",
     "shell.execute_reply": "2024-07-14T12:37:42.958444Z"
    },
    "papermill": {
     "duration": 0.222391,
     "end_time": "2024-07-14T12:37:42.962155",
     "exception": false,
     "start_time": "2024-07-14T12:37:42.739764",
     "status": "completed"
    },
    "tags": []
   },
   "outputs": [
    {
     "data": {
      "text/html": [
       "<style>#sk-container-id-2 {color: black;background-color: white;}#sk-container-id-2 pre{padding: 0;}#sk-container-id-2 div.sk-toggleable {background-color: white;}#sk-container-id-2 label.sk-toggleable__label {cursor: pointer;display: block;width: 100%;margin-bottom: 0;padding: 0.3em;box-sizing: border-box;text-align: center;}#sk-container-id-2 label.sk-toggleable__label-arrow:before {content: \"▸\";float: left;margin-right: 0.25em;color: #696969;}#sk-container-id-2 label.sk-toggleable__label-arrow:hover:before {color: black;}#sk-container-id-2 div.sk-estimator:hover label.sk-toggleable__label-arrow:before {color: black;}#sk-container-id-2 div.sk-toggleable__content {max-height: 0;max-width: 0;overflow: hidden;text-align: left;background-color: #f0f8ff;}#sk-container-id-2 div.sk-toggleable__content pre {margin: 0.2em;color: black;border-radius: 0.25em;background-color: #f0f8ff;}#sk-container-id-2 input.sk-toggleable__control:checked~div.sk-toggleable__content {max-height: 200px;max-width: 100%;overflow: auto;}#sk-container-id-2 input.sk-toggleable__control:checked~label.sk-toggleable__label-arrow:before {content: \"▾\";}#sk-container-id-2 div.sk-estimator input.sk-toggleable__control:checked~label.sk-toggleable__label {background-color: #d4ebff;}#sk-container-id-2 div.sk-label input.sk-toggleable__control:checked~label.sk-toggleable__label {background-color: #d4ebff;}#sk-container-id-2 input.sk-hidden--visually {border: 0;clip: rect(1px 1px 1px 1px);clip: rect(1px, 1px, 1px, 1px);height: 1px;margin: -1px;overflow: hidden;padding: 0;position: absolute;width: 1px;}#sk-container-id-2 div.sk-estimator {font-family: monospace;background-color: #f0f8ff;border: 1px dotted black;border-radius: 0.25em;box-sizing: border-box;margin-bottom: 0.5em;}#sk-container-id-2 div.sk-estimator:hover {background-color: #d4ebff;}#sk-container-id-2 div.sk-parallel-item::after {content: \"\";width: 100%;border-bottom: 1px solid gray;flex-grow: 1;}#sk-container-id-2 div.sk-label:hover label.sk-toggleable__label {background-color: #d4ebff;}#sk-container-id-2 div.sk-serial::before {content: \"\";position: absolute;border-left: 1px solid gray;box-sizing: border-box;top: 0;bottom: 0;left: 50%;z-index: 0;}#sk-container-id-2 div.sk-serial {display: flex;flex-direction: column;align-items: center;background-color: white;padding-right: 0.2em;padding-left: 0.2em;position: relative;}#sk-container-id-2 div.sk-item {position: relative;z-index: 1;}#sk-container-id-2 div.sk-parallel {display: flex;align-items: stretch;justify-content: center;background-color: white;position: relative;}#sk-container-id-2 div.sk-item::before, #sk-container-id-2 div.sk-parallel-item::before {content: \"\";position: absolute;border-left: 1px solid gray;box-sizing: border-box;top: 0;bottom: 0;left: 50%;z-index: -1;}#sk-container-id-2 div.sk-parallel-item {display: flex;flex-direction: column;z-index: 1;position: relative;background-color: white;}#sk-container-id-2 div.sk-parallel-item:first-child::after {align-self: flex-end;width: 50%;}#sk-container-id-2 div.sk-parallel-item:last-child::after {align-self: flex-start;width: 50%;}#sk-container-id-2 div.sk-parallel-item:only-child::after {width: 0;}#sk-container-id-2 div.sk-dashed-wrapped {border: 1px dashed gray;margin: 0 0.4em 0.5em 0.4em;box-sizing: border-box;padding-bottom: 0.4em;background-color: white;}#sk-container-id-2 div.sk-label label {font-family: monospace;font-weight: bold;display: inline-block;line-height: 1.2em;}#sk-container-id-2 div.sk-label-container {text-align: center;}#sk-container-id-2 div.sk-container {/* jupyter's `normalize.less` sets `[hidden] { display: none; }` but bootstrap.min.css set `[hidden] { display: none !important; }` so we also need the `!important` here to be able to override the default hidden behavior on the sphinx rendered scikit-learn.org. See: https://github.com/scikit-learn/scikit-learn/issues/21755 */display: inline-block !important;position: relative;}#sk-container-id-2 div.sk-text-repr-fallback {display: none;}</style><div id=\"sk-container-id-2\" class=\"sk-top-container\"><div class=\"sk-text-repr-fallback\"><pre>LGBMRegressor(bagging_freq=5, colsample_bytree=0.5838170997485839,\n",
       "              lambda_l1=2.788829975962483, lambda_l2=1.3504638752461746,\n",
       "              learning_rate=0.003450053632736693, n_estimator=10, verbose=-1)</pre><b>In a Jupyter environment, please rerun this cell to show the HTML representation or trust the notebook. <br />On GitHub, the HTML representation is unable to render, please try loading this page with nbviewer.org.</b></div><div class=\"sk-container\" hidden><div class=\"sk-item\"><div class=\"sk-estimator sk-toggleable\"><input class=\"sk-toggleable__control sk-hidden--visually\" id=\"sk-estimator-id-7\" type=\"checkbox\" checked><label for=\"sk-estimator-id-7\" class=\"sk-toggleable__label sk-toggleable__label-arrow\">LGBMRegressor</label><div class=\"sk-toggleable__content\"><pre>LGBMRegressor(bagging_freq=5, colsample_bytree=0.5838170997485839,\n",
       "              lambda_l1=2.788829975962483, lambda_l2=1.3504638752461746,\n",
       "              learning_rate=0.003450053632736693, n_estimator=10, verbose=-1)</pre></div></div></div></div></div>"
      ],
      "text/plain": [
       "LGBMRegressor(bagging_freq=5, colsample_bytree=0.5838170997485839,\n",
       "              lambda_l1=2.788829975962483, lambda_l2=1.3504638752461746,\n",
       "              learning_rate=0.003450053632736693, n_estimator=10, verbose=-1)"
      ]
     },
     "execution_count": 17,
     "metadata": {},
     "output_type": "execute_result"
    }
   ],
   "source": [
    "model = lgb.LGBMRegressor(**best_params,\n",
    "                          n_estimator = 10,\n",
    "                          verbose=-1)\n",
    "\n",
    "model.fit(X_train, y_train,\n",
    "          eval_set=[(X_test, y_test), (X_train, y_train)],\n",
    "          eval_metric='mae')"
   ]
  },
  {
   "cell_type": "code",
   "execution_count": 18,
   "id": "e2a4975b",
   "metadata": {
    "execution": {
     "iopub.execute_input": "2024-07-14T12:37:42.979616Z",
     "iopub.status.busy": "2024-07-14T12:37:42.979243Z",
     "iopub.status.idle": "2024-07-14T12:37:42.985104Z",
     "shell.execute_reply": "2024-07-14T12:37:42.984121Z"
    },
    "papermill": {
     "duration": 0.0173,
     "end_time": "2024-07-14T12:37:42.987437",
     "exception": false,
     "start_time": "2024-07-14T12:37:42.970137",
     "status": "completed"
    },
    "tags": []
   },
   "outputs": [],
   "source": [
    "def get_metrics(y_true, y_pred, name=\"model\"):\n",
    "  df = pd.DataFrame()\n",
    "\n",
    "  df.loc[\"MAE\", name] = metrics.mean_absolute_error(y_true, y_pred)\n",
    "  df.loc[\"RMSE\", name] = metrics.mean_squared_error(y_true, y_pred) ** 0.5\n",
    "  df.loc[\"R2\", name] = metrics.r2_score(y_true, y_pred)\n",
    "\n",
    "  return df.round(2)"
   ]
  },
  {
   "cell_type": "code",
   "execution_count": 19,
   "id": "19110504",
   "metadata": {
    "execution": {
     "iopub.execute_input": "2024-07-14T12:37:43.004631Z",
     "iopub.status.busy": "2024-07-14T12:37:43.004280Z",
     "iopub.status.idle": "2024-07-14T12:37:43.096787Z",
     "shell.execute_reply": "2024-07-14T12:37:43.095527Z"
    },
    "papermill": {
     "duration": 0.103936,
     "end_time": "2024-07-14T12:37:43.099369",
     "exception": false,
     "start_time": "2024-07-14T12:37:42.995433",
     "status": "completed"
    },
    "tags": []
   },
   "outputs": [
    {
     "data": {
      "text/html": [
       "<div>\n",
       "<style scoped>\n",
       "    .dataframe tbody tr th:only-of-type {\n",
       "        vertical-align: middle;\n",
       "    }\n",
       "\n",
       "    .dataframe tbody tr th {\n",
       "        vertical-align: top;\n",
       "    }\n",
       "\n",
       "    .dataframe thead th {\n",
       "        text-align: right;\n",
       "    }\n",
       "</style>\n",
       "<table border=\"1\" class=\"dataframe\">\n",
       "  <thead>\n",
       "    <tr style=\"text-align: right;\">\n",
       "      <th></th>\n",
       "      <th>train</th>\n",
       "      <th>test</th>\n",
       "    </tr>\n",
       "  </thead>\n",
       "  <tbody>\n",
       "    <tr>\n",
       "      <th>MAE</th>\n",
       "      <td>1.30</td>\n",
       "      <td>1.29</td>\n",
       "    </tr>\n",
       "    <tr>\n",
       "      <th>RMSE</th>\n",
       "      <td>1.50</td>\n",
       "      <td>1.47</td>\n",
       "    </tr>\n",
       "    <tr>\n",
       "      <th>R2</th>\n",
       "      <td>0.21</td>\n",
       "      <td>0.20</td>\n",
       "    </tr>\n",
       "  </tbody>\n",
       "</table>\n",
       "</div>"
      ],
      "text/plain": [
       "      train  test\n",
       "MAE    1.30  1.29\n",
       "RMSE   1.50  1.47\n",
       "R2     0.21  0.20"
      ]
     },
     "execution_count": 19,
     "metadata": {},
     "output_type": "execute_result"
    }
   ],
   "source": [
    "all_metrics = pd.DataFrame()\n",
    "\n",
    "all_metrics[\"train\"] = get_metrics(y_train, model.predict(X_train))\n",
    "all_metrics[\"test\"] = get_metrics(y_test, model.predict(X_test))\n",
    "\n",
    "all_metrics"
   ]
  },
  {
   "cell_type": "code",
   "execution_count": 20,
   "id": "1b4c2dc1",
   "metadata": {
    "execution": {
     "iopub.execute_input": "2024-07-14T12:37:43.116971Z",
     "iopub.status.busy": "2024-07-14T12:37:43.116609Z",
     "iopub.status.idle": "2024-07-14T12:37:44.593934Z",
     "shell.execute_reply": "2024-07-14T12:37:44.592785Z"
    },
    "papermill": {
     "duration": 1.48868,
     "end_time": "2024-07-14T12:37:44.596149",
     "exception": false,
     "start_time": "2024-07-14T12:37:43.107469",
     "status": "completed"
    },
    "tags": []
   },
   "outputs": [
    {
     "data": {
      "text/html": [
       "        <script type=\"text/javascript\">\n",
       "        window.PlotlyConfig = {MathJaxConfig: 'local'};\n",
       "        if (window.MathJax && window.MathJax.Hub && window.MathJax.Hub.Config) {window.MathJax.Hub.Config({SVG: {font: \"STIX-Web\"}});}\n",
       "        if (typeof require !== 'undefined') {\n",
       "        require.undef(\"plotly\");\n",
       "        requirejs.config({\n",
       "            paths: {\n",
       "                'plotly': ['https://cdn.plot.ly/plotly-2.27.0.min']\n",
       "            }\n",
       "        });\n",
       "        require(['plotly'], function(Plotly) {\n",
       "            window._Plotly = Plotly;\n",
       "        });\n",
       "        }\n",
       "        </script>\n",
       "        "
      ]
     },
     "metadata": {},
     "output_type": "display_data"
    },
    {
     "data": {
      "text/html": [
       "<div>                            <div id=\"17c2bf2d-a0ea-41d3-ad64-6750bb415a0c\" class=\"plotly-graph-div\" style=\"height:525px; width:100%;\"></div>            <script type=\"text/javascript\">                require([\"plotly\"], function(Plotly) {                    window.PLOTLYENV=window.PLOTLYENV || {};                                    if (document.getElementById(\"17c2bf2d-a0ea-41d3-ad64-6750bb415a0c\")) {                    Plotly.newPlot(                        \"17c2bf2d-a0ea-41d3-ad64-6750bb415a0c\",                        [{\"cliponaxis\":false,\"hovertemplate\":[\"boosting_type (CategoricalDistribution): 0.019898898694747646\\u003cextra\\u003e\\u003c\\u002fextra\\u003e\",\"lambda_l1 (FloatDistribution): 0.04110583728942268\\u003cextra\\u003e\\u003c\\u002fextra\\u003e\",\"lambda_l2 (FloatDistribution): 0.06411557490633103\\u003cextra\\u003e\\u003c\\u002fextra\\u003e\",\"learning_rate (FloatDistribution): 0.08985998558520247\\u003cextra\\u003e\\u003c\\u002fextra\\u003e\",\"colsample_bytree (FloatDistribution): 0.32752586126260974\\u003cextra\\u003e\\u003c\\u002fextra\\u003e\",\"bagging_freq (IntDistribution): 0.45749384226168655\\u003cextra\\u003e\\u003c\\u002fextra\\u003e\"],\"name\":\"Objective Value 0\",\"orientation\":\"h\",\"text\":[\"0.02\",\"0.04\",\"0.06\",\"0.09\",\"0.33\",\"0.46\"],\"textposition\":\"outside\",\"x\":[0.019898898694747646,0.04110583728942268,0.06411557490633103,0.08985998558520247,0.32752586126260974,0.45749384226168655],\"y\":[\"boosting_type\",\"lambda_l1\",\"lambda_l2\",\"learning_rate\",\"colsample_bytree\",\"bagging_freq\"],\"type\":\"bar\"},{\"cliponaxis\":false,\"hovertemplate\":[\"lambda_l2 (FloatDistribution): 0.015927246607893204\\u003cextra\\u003e\\u003c\\u002fextra\\u003e\",\"boosting_type (CategoricalDistribution): 0.0452820055912044\\u003cextra\\u003e\\u003c\\u002fextra\\u003e\",\"learning_rate (FloatDistribution): 0.051570271576916356\\u003cextra\\u003e\\u003c\\u002fextra\\u003e\",\"lambda_l1 (FloatDistribution): 0.08226496676657546\\u003cextra\\u003e\\u003c\\u002fextra\\u003e\",\"bagging_freq (IntDistribution): 0.2009349980319485\\u003cextra\\u003e\\u003c\\u002fextra\\u003e\",\"colsample_bytree (FloatDistribution): 0.604020511425462\\u003cextra\\u003e\\u003c\\u002fextra\\u003e\"],\"name\":\"Objective Value 1\",\"orientation\":\"h\",\"text\":[\"0.02\",\"0.05\",\"0.05\",\"0.08\",\"0.20\",\"0.60\"],\"textposition\":\"outside\",\"x\":[0.015927246607893204,0.0452820055912044,0.051570271576916356,0.08226496676657546,0.2009349980319485,0.604020511425462],\"y\":[\"lambda_l2\",\"boosting_type\",\"learning_rate\",\"lambda_l1\",\"bagging_freq\",\"colsample_bytree\"],\"type\":\"bar\"},{\"cliponaxis\":false,\"hovertemplate\":[\"lambda_l2 (FloatDistribution): 0.00013856857100291375\\u003cextra\\u003e\\u003c\\u002fextra\\u003e\",\"lambda_l1 (FloatDistribution): 0.017841216680817593\\u003cextra\\u003e\\u003c\\u002fextra\\u003e\",\"boosting_type (CategoricalDistribution): 0.07105975340122274\\u003cextra\\u003e\\u003c\\u002fextra\\u003e\",\"learning_rate (FloatDistribution): 0.09042176225237888\\u003cextra\\u003e\\u003c\\u002fextra\\u003e\",\"bagging_freq (IntDistribution): 0.21911762490762662\\u003cextra\\u003e\\u003c\\u002fextra\\u003e\",\"colsample_bytree (FloatDistribution): 0.6014210741869513\\u003cextra\\u003e\\u003c\\u002fextra\\u003e\"],\"name\":\"Objective Value 2\",\"orientation\":\"h\",\"text\":[\"\\u003c0.01\",\"0.02\",\"0.07\",\"0.09\",\"0.22\",\"0.60\"],\"textposition\":\"outside\",\"x\":[0.00013856857100291375,0.017841216680817593,0.07105975340122274,0.09042176225237888,0.21911762490762662,0.6014210741869513],\"y\":[\"lambda_l2\",\"lambda_l1\",\"boosting_type\",\"learning_rate\",\"bagging_freq\",\"colsample_bytree\"],\"type\":\"bar\"}],                        {\"title\":{\"text\":\"Hyperparameter Importances\"},\"xaxis\":{\"title\":{\"text\":\"Hyperparameter Importance\"}},\"yaxis\":{\"title\":{\"text\":\"Hyperparameter\"}},\"template\":{\"data\":{\"histogram2dcontour\":[{\"type\":\"histogram2dcontour\",\"colorbar\":{\"outlinewidth\":0,\"ticks\":\"\"},\"colorscale\":[[0.0,\"#0d0887\"],[0.1111111111111111,\"#46039f\"],[0.2222222222222222,\"#7201a8\"],[0.3333333333333333,\"#9c179e\"],[0.4444444444444444,\"#bd3786\"],[0.5555555555555556,\"#d8576b\"],[0.6666666666666666,\"#ed7953\"],[0.7777777777777778,\"#fb9f3a\"],[0.8888888888888888,\"#fdca26\"],[1.0,\"#f0f921\"]]}],\"choropleth\":[{\"type\":\"choropleth\",\"colorbar\":{\"outlinewidth\":0,\"ticks\":\"\"}}],\"histogram2d\":[{\"type\":\"histogram2d\",\"colorbar\":{\"outlinewidth\":0,\"ticks\":\"\"},\"colorscale\":[[0.0,\"#0d0887\"],[0.1111111111111111,\"#46039f\"],[0.2222222222222222,\"#7201a8\"],[0.3333333333333333,\"#9c179e\"],[0.4444444444444444,\"#bd3786\"],[0.5555555555555556,\"#d8576b\"],[0.6666666666666666,\"#ed7953\"],[0.7777777777777778,\"#fb9f3a\"],[0.8888888888888888,\"#fdca26\"],[1.0,\"#f0f921\"]]}],\"heatmap\":[{\"type\":\"heatmap\",\"colorbar\":{\"outlinewidth\":0,\"ticks\":\"\"},\"colorscale\":[[0.0,\"#0d0887\"],[0.1111111111111111,\"#46039f\"],[0.2222222222222222,\"#7201a8\"],[0.3333333333333333,\"#9c179e\"],[0.4444444444444444,\"#bd3786\"],[0.5555555555555556,\"#d8576b\"],[0.6666666666666666,\"#ed7953\"],[0.7777777777777778,\"#fb9f3a\"],[0.8888888888888888,\"#fdca26\"],[1.0,\"#f0f921\"]]}],\"heatmapgl\":[{\"type\":\"heatmapgl\",\"colorbar\":{\"outlinewidth\":0,\"ticks\":\"\"},\"colorscale\":[[0.0,\"#0d0887\"],[0.1111111111111111,\"#46039f\"],[0.2222222222222222,\"#7201a8\"],[0.3333333333333333,\"#9c179e\"],[0.4444444444444444,\"#bd3786\"],[0.5555555555555556,\"#d8576b\"],[0.6666666666666666,\"#ed7953\"],[0.7777777777777778,\"#fb9f3a\"],[0.8888888888888888,\"#fdca26\"],[1.0,\"#f0f921\"]]}],\"contourcarpet\":[{\"type\":\"contourcarpet\",\"colorbar\":{\"outlinewidth\":0,\"ticks\":\"\"}}],\"contour\":[{\"type\":\"contour\",\"colorbar\":{\"outlinewidth\":0,\"ticks\":\"\"},\"colorscale\":[[0.0,\"#0d0887\"],[0.1111111111111111,\"#46039f\"],[0.2222222222222222,\"#7201a8\"],[0.3333333333333333,\"#9c179e\"],[0.4444444444444444,\"#bd3786\"],[0.5555555555555556,\"#d8576b\"],[0.6666666666666666,\"#ed7953\"],[0.7777777777777778,\"#fb9f3a\"],[0.8888888888888888,\"#fdca26\"],[1.0,\"#f0f921\"]]}],\"surface\":[{\"type\":\"surface\",\"colorbar\":{\"outlinewidth\":0,\"ticks\":\"\"},\"colorscale\":[[0.0,\"#0d0887\"],[0.1111111111111111,\"#46039f\"],[0.2222222222222222,\"#7201a8\"],[0.3333333333333333,\"#9c179e\"],[0.4444444444444444,\"#bd3786\"],[0.5555555555555556,\"#d8576b\"],[0.6666666666666666,\"#ed7953\"],[0.7777777777777778,\"#fb9f3a\"],[0.8888888888888888,\"#fdca26\"],[1.0,\"#f0f921\"]]}],\"mesh3d\":[{\"type\":\"mesh3d\",\"colorbar\":{\"outlinewidth\":0,\"ticks\":\"\"}}],\"scatter\":[{\"fillpattern\":{\"fillmode\":\"overlay\",\"size\":10,\"solidity\":0.2},\"type\":\"scatter\"}],\"parcoords\":[{\"type\":\"parcoords\",\"line\":{\"colorbar\":{\"outlinewidth\":0,\"ticks\":\"\"}}}],\"scatterpolargl\":[{\"type\":\"scatterpolargl\",\"marker\":{\"colorbar\":{\"outlinewidth\":0,\"ticks\":\"\"}}}],\"bar\":[{\"error_x\":{\"color\":\"#2a3f5f\"},\"error_y\":{\"color\":\"#2a3f5f\"},\"marker\":{\"line\":{\"color\":\"#E5ECF6\",\"width\":0.5},\"pattern\":{\"fillmode\":\"overlay\",\"size\":10,\"solidity\":0.2}},\"type\":\"bar\"}],\"scattergeo\":[{\"type\":\"scattergeo\",\"marker\":{\"colorbar\":{\"outlinewidth\":0,\"ticks\":\"\"}}}],\"scatterpolar\":[{\"type\":\"scatterpolar\",\"marker\":{\"colorbar\":{\"outlinewidth\":0,\"ticks\":\"\"}}}],\"histogram\":[{\"marker\":{\"pattern\":{\"fillmode\":\"overlay\",\"size\":10,\"solidity\":0.2}},\"type\":\"histogram\"}],\"scattergl\":[{\"type\":\"scattergl\",\"marker\":{\"colorbar\":{\"outlinewidth\":0,\"ticks\":\"\"}}}],\"scatter3d\":[{\"type\":\"scatter3d\",\"line\":{\"colorbar\":{\"outlinewidth\":0,\"ticks\":\"\"}},\"marker\":{\"colorbar\":{\"outlinewidth\":0,\"ticks\":\"\"}}}],\"scattermapbox\":[{\"type\":\"scattermapbox\",\"marker\":{\"colorbar\":{\"outlinewidth\":0,\"ticks\":\"\"}}}],\"scatterternary\":[{\"type\":\"scatterternary\",\"marker\":{\"colorbar\":{\"outlinewidth\":0,\"ticks\":\"\"}}}],\"scattercarpet\":[{\"type\":\"scattercarpet\",\"marker\":{\"colorbar\":{\"outlinewidth\":0,\"ticks\":\"\"}}}],\"carpet\":[{\"aaxis\":{\"endlinecolor\":\"#2a3f5f\",\"gridcolor\":\"white\",\"linecolor\":\"white\",\"minorgridcolor\":\"white\",\"startlinecolor\":\"#2a3f5f\"},\"baxis\":{\"endlinecolor\":\"#2a3f5f\",\"gridcolor\":\"white\",\"linecolor\":\"white\",\"minorgridcolor\":\"white\",\"startlinecolor\":\"#2a3f5f\"},\"type\":\"carpet\"}],\"table\":[{\"cells\":{\"fill\":{\"color\":\"#EBF0F8\"},\"line\":{\"color\":\"white\"}},\"header\":{\"fill\":{\"color\":\"#C8D4E3\"},\"line\":{\"color\":\"white\"}},\"type\":\"table\"}],\"barpolar\":[{\"marker\":{\"line\":{\"color\":\"#E5ECF6\",\"width\":0.5},\"pattern\":{\"fillmode\":\"overlay\",\"size\":10,\"solidity\":0.2}},\"type\":\"barpolar\"}],\"pie\":[{\"automargin\":true,\"type\":\"pie\"}]},\"layout\":{\"autotypenumbers\":\"strict\",\"colorway\":[\"#636efa\",\"#EF553B\",\"#00cc96\",\"#ab63fa\",\"#FFA15A\",\"#19d3f3\",\"#FF6692\",\"#B6E880\",\"#FF97FF\",\"#FECB52\"],\"font\":{\"color\":\"#2a3f5f\"},\"hovermode\":\"closest\",\"hoverlabel\":{\"align\":\"left\"},\"paper_bgcolor\":\"white\",\"plot_bgcolor\":\"#E5ECF6\",\"polar\":{\"bgcolor\":\"#E5ECF6\",\"angularaxis\":{\"gridcolor\":\"white\",\"linecolor\":\"white\",\"ticks\":\"\"},\"radialaxis\":{\"gridcolor\":\"white\",\"linecolor\":\"white\",\"ticks\":\"\"}},\"ternary\":{\"bgcolor\":\"#E5ECF6\",\"aaxis\":{\"gridcolor\":\"white\",\"linecolor\":\"white\",\"ticks\":\"\"},\"baxis\":{\"gridcolor\":\"white\",\"linecolor\":\"white\",\"ticks\":\"\"},\"caxis\":{\"gridcolor\":\"white\",\"linecolor\":\"white\",\"ticks\":\"\"}},\"coloraxis\":{\"colorbar\":{\"outlinewidth\":0,\"ticks\":\"\"}},\"colorscale\":{\"sequential\":[[0.0,\"#0d0887\"],[0.1111111111111111,\"#46039f\"],[0.2222222222222222,\"#7201a8\"],[0.3333333333333333,\"#9c179e\"],[0.4444444444444444,\"#bd3786\"],[0.5555555555555556,\"#d8576b\"],[0.6666666666666666,\"#ed7953\"],[0.7777777777777778,\"#fb9f3a\"],[0.8888888888888888,\"#fdca26\"],[1.0,\"#f0f921\"]],\"sequentialminus\":[[0.0,\"#0d0887\"],[0.1111111111111111,\"#46039f\"],[0.2222222222222222,\"#7201a8\"],[0.3333333333333333,\"#9c179e\"],[0.4444444444444444,\"#bd3786\"],[0.5555555555555556,\"#d8576b\"],[0.6666666666666666,\"#ed7953\"],[0.7777777777777778,\"#fb9f3a\"],[0.8888888888888888,\"#fdca26\"],[1.0,\"#f0f921\"]],\"diverging\":[[0,\"#8e0152\"],[0.1,\"#c51b7d\"],[0.2,\"#de77ae\"],[0.3,\"#f1b6da\"],[0.4,\"#fde0ef\"],[0.5,\"#f7f7f7\"],[0.6,\"#e6f5d0\"],[0.7,\"#b8e186\"],[0.8,\"#7fbc41\"],[0.9,\"#4d9221\"],[1,\"#276419\"]]},\"xaxis\":{\"gridcolor\":\"white\",\"linecolor\":\"white\",\"ticks\":\"\",\"title\":{\"standoff\":15},\"zerolinecolor\":\"white\",\"automargin\":true,\"zerolinewidth\":2},\"yaxis\":{\"gridcolor\":\"white\",\"linecolor\":\"white\",\"ticks\":\"\",\"title\":{\"standoff\":15},\"zerolinecolor\":\"white\",\"automargin\":true,\"zerolinewidth\":2},\"scene\":{\"xaxis\":{\"backgroundcolor\":\"#E5ECF6\",\"gridcolor\":\"white\",\"linecolor\":\"white\",\"showbackground\":true,\"ticks\":\"\",\"zerolinecolor\":\"white\",\"gridwidth\":2},\"yaxis\":{\"backgroundcolor\":\"#E5ECF6\",\"gridcolor\":\"white\",\"linecolor\":\"white\",\"showbackground\":true,\"ticks\":\"\",\"zerolinecolor\":\"white\",\"gridwidth\":2},\"zaxis\":{\"backgroundcolor\":\"#E5ECF6\",\"gridcolor\":\"white\",\"linecolor\":\"white\",\"showbackground\":true,\"ticks\":\"\",\"zerolinecolor\":\"white\",\"gridwidth\":2}},\"shapedefaults\":{\"line\":{\"color\":\"#2a3f5f\"}},\"annotationdefaults\":{\"arrowcolor\":\"#2a3f5f\",\"arrowhead\":0,\"arrowwidth\":1},\"geo\":{\"bgcolor\":\"white\",\"landcolor\":\"#E5ECF6\",\"subunitcolor\":\"white\",\"showland\":true,\"showlakes\":true,\"lakecolor\":\"white\"},\"title\":{\"x\":0.05},\"mapbox\":{\"style\":\"light\"}}}},                        {\"responsive\": true}                    ).then(function(){\n",
       "                            \n",
       "var gd = document.getElementById('17c2bf2d-a0ea-41d3-ad64-6750bb415a0c');\n",
       "var x = new MutationObserver(function (mutations, observer) {{\n",
       "        var display = window.getComputedStyle(gd).display;\n",
       "        if (!display || display === 'none') {{\n",
       "            console.log([gd, 'removed!']);\n",
       "            Plotly.purge(gd);\n",
       "            observer.disconnect();\n",
       "        }}\n",
       "}});\n",
       "\n",
       "// Listen for the removal of the full notebook cells\n",
       "var notebookContainer = gd.closest('#notebook-container');\n",
       "if (notebookContainer) {{\n",
       "    x.observe(notebookContainer, {childList: true});\n",
       "}}\n",
       "\n",
       "// Listen for the clearing of the current output cell\n",
       "var outputEl = gd.closest('.output');\n",
       "if (outputEl) {{\n",
       "    x.observe(outputEl, {childList: true});\n",
       "}}\n",
       "\n",
       "                        })                };                });            </script>        </div>"
      ]
     },
     "metadata": {},
     "output_type": "display_data"
    }
   ],
   "source": [
    "optuna.visualization.plot_param_importances(study)"
   ]
  },
  {
   "cell_type": "code",
   "execution_count": 21,
   "id": "56466dcf",
   "metadata": {
    "execution": {
     "iopub.execute_input": "2024-07-14T12:37:44.615672Z",
     "iopub.status.busy": "2024-07-14T12:37:44.614625Z",
     "iopub.status.idle": "2024-07-14T12:37:45.066841Z",
     "shell.execute_reply": "2024-07-14T12:37:45.065567Z"
    },
    "papermill": {
     "duration": 0.464225,
     "end_time": "2024-07-14T12:37:45.069171",
     "exception": false,
     "start_time": "2024-07-14T12:37:44.604946",
     "status": "completed"
    },
    "tags": []
   },
   "outputs": [
    {
     "data": {
      "text/plain": [
       "<Axes: title={'center': 'Feature importance'}, xlabel='Feature importance', ylabel='Features'>"
      ]
     },
     "execution_count": 21,
     "metadata": {},
     "output_type": "execute_result"
    },
    {
     "data": {
      "image/png": "[encoded data removed]",
      "text/plain": [
       "<Figure size 640x480 with 1 Axes>"
      ]
     },
     "metadata": {},
     "output_type": "display_data"
    }
   ],
   "source": [
    "lgb.plot_importance(model)"
   ]
  },
  {
   "cell_type": "code",
   "execution_count": 22,
   "id": "3b2f4871",
   "metadata": {
    "execution": {
     "iopub.execute_input": "2024-07-14T12:37:45.089536Z",
     "iopub.status.busy": "2024-07-14T12:37:45.089152Z",
     "iopub.status.idle": "2024-07-14T12:37:45.444601Z",
     "shell.execute_reply": "2024-07-14T12:37:45.443574Z"
    },
    "papermill": {
     "duration": 0.368129,
     "end_time": "2024-07-14T12:37:45.446744",
     "exception": false,
     "start_time": "2024-07-14T12:37:45.078615",
     "status": "completed"
    },
    "tags": []
   },
   "outputs": [
    {
     "data": {
      "text/plain": [
       "<Axes: title={'center': 'Metric during training'}, xlabel='Iterations', ylabel='l1'>"
      ]
     },
     "execution_count": 22,
     "metadata": {},
     "output_type": "execute_result"
    },
    {
     "data": {
      "image/png": "[encoded data removed]",
      "text/plain": [
       "<Figure size 640x480 with 1 Axes>"
      ]
     },
     "metadata": {},
     "output_type": "display_data"
    }
   ],
   "source": [
    "lgb.plot_metric(model,\n",
    "                metric='l1')"
   ]
  },
  {
   "cell_type": "code",
   "execution_count": 23,
   "id": "319275f3",
   "metadata": {
    "execution": {
     "iopub.execute_input": "2024-07-14T12:37:45.470327Z",
     "iopub.status.busy": "2024-07-14T12:37:45.469205Z",
     "iopub.status.idle": "2024-07-14T12:37:45.495288Z",
     "shell.execute_reply": "2024-07-14T12:37:45.494317Z"
    },
    "papermill": {
     "duration": 0.040584,
     "end_time": "2024-07-14T12:37:45.497708",
     "exception": false,
     "start_time": "2024-07-14T12:37:45.457124",
     "status": "completed"
    },
    "tags": []
   },
   "outputs": [
    {
     "data": {
      "text/plain": [
       "['my_model.pkl']"
      ]
     },
     "execution_count": 23,
     "metadata": {},
     "output_type": "execute_result"
    }
   ],
   "source": [
    "import joblib\n",
    "joblib.dump(model, 'my_model.pkl')"
   ]
  }
 ],
 "metadata": {
  "kaggle": {
   "accelerator": "none",
   "dataSources": [
    {
     "databundleVersionId": 6989718,
     "sourceId": 60892,
     "sourceType": "competition"
    }
   ],
   "dockerImageVersionId": 30746,
   "isGpuEnabled": false,
   "isInternetEnabled": false,
   "language": "python",
   "sourceType": "notebook"
  },
  "kernelspec": {
   "display_name": "Python 3",
   "language": "python",
   "name": "python3"
  },
  "language_info": {
   "codemirror_mode": {
    "name": "ipython",
    "version": 3
   },
   "file_extension": ".py",
   "mimetype": "text/x-python",
   "name": "python",
   "nbconvert_exporter": "python",
   "pygments_lexer": "ipython3",
   "version": "3.10.13"
  },
  "papermill": {
   "default_parameters": {},
   "duration": 102.816873,
   "end_time": "2024-07-14T12:37:46.328988",
   "environment_variables": {},
   "exception": null,
   "input_path": "__notebook__.ipynb",
   "output_path": "__notebook__.ipynb",
   "parameters": {},
   "start_time": "2024-07-14T12:36:03.512115",
   "version": "2.5.0"
  }
 },
 "nbformat": 4,
 "nbformat_minor": 5
}
