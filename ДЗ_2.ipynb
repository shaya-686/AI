{
  "nbformat": 4,
  "nbformat_minor": 0,
  "metadata": {
    "colab": {
      "provenance": [],
      "toc_visible": true,
      "include_colab_link": true
    },
    "kernelspec": {
      "name": "python3",
      "display_name": "Python 3"
    },
    "language_info": {
      "name": "python"
    }
  },
  "cells": [
    {
      "cell_type": "markdown",
      "metadata": {
        "id": "view-in-github",
        "colab_type": "text"
      },
      "source": [
        "<a href=\"https://colab.research.google.com/github/shaya-686/AI/blob/main/%D0%94%D0%97_2.ipynb\" target=\"_parent\"><img src=\"https://colab.research.google.com/assets/colab-badge.svg\" alt=\"Open In Colab\"/></a>"
      ]
    },
    {
      "cell_type": "markdown",
      "source": [
        "Імпортуйте модуль numpy"
      ],
      "metadata": {
        "id": "tk2sNnUDkXK9"
      }
    },
    {
      "cell_type": "code",
      "source": [
        "import numpy as np"
      ],
      "metadata": {
        "id": "1QbCsQ62kUmZ"
      },
      "execution_count": 1,
      "outputs": []
    },
    {
      "cell_type": "markdown",
      "source": [
        "#Завдання 1\n",
        "\n",
        "Створіть масив з парними числами між 30 і 70"
      ],
      "metadata": {
        "id": "ZVC4Yb3JZFO1"
      }
    },
    {
      "cell_type": "code",
      "source": [
        "a = np.arange(30, 71, 2)\n",
        "print(a)"
      ],
      "metadata": {
        "id": "aunm4Jm_hUkL",
        "outputId": "a4a9436a-1df5-41b5-beed-b84579474497",
        "colab": {
          "base_uri": "https://localhost:8080/"
        }
      },
      "execution_count": 2,
      "outputs": [
        {
          "output_type": "stream",
          "name": "stdout",
          "text": [
            "[30 32 34 36 38 40 42 44 46 48 50 52 54 56 58 60 62 64 66 68 70]\n"
          ]
        }
      ]
    },
    {
      "cell_type": "markdown",
      "source": [
        "#Завдання 2\n",
        "Створіть масив з 10 числами між 0(включно) та 1(не включно) див документацію"
      ],
      "metadata": {
        "id": "UDSLr3f0b31r"
      }
    },
    {
      "cell_type": "code",
      "source": [
        "a = np.linspace(0, 1, 10, endpoint=False)\n",
        "print(a)"
      ],
      "metadata": {
        "id": "w7iNkGd_hUM-",
        "outputId": "0fbf8f2f-89f5-4009-af6c-360a553556c0",
        "colab": {
          "base_uri": "https://localhost:8080/"
        }
      },
      "execution_count": 6,
      "outputs": [
        {
          "output_type": "stream",
          "name": "stdout",
          "text": [
            "[0.  0.1 0.2 0.3 0.4 0.5 0.6 0.7 0.8 0.9]\n"
          ]
        }
      ]
    },
    {
      "cell_type": "markdown",
      "source": [
        "#Завдання 4\n",
        "Напишіть функцію яка приймає матрицю розміру nxn та повертає матрицю розміру (n+2) x (n+2), на краях якої розміщенні 0."
      ],
      "metadata": {
        "id": "rtWKmLWhYi_j"
      }
    },
    {
      "cell_type": "code",
      "source": [
        "def extend_matrix(matrix):\n",
        "  size = matrix.shape[0]\n",
        "  extended_matrix = np.zeros((size + 2, size + 2), dtype=matrix.dtype)\n",
        "  extended_matrix[1:size + 1, 1:size + 1] = matrix\n",
        "  return extended_matrix\n",
        "\n",
        "matrix = np.random.randint(1, 10, size=(4, 4))\n",
        "extended_matrix = extend_matrix(matrix)\n",
        "print(\"Original matrix:\\n\",matrix)\n",
        "print(\"Extended matrix:\\n\",extended_matrix)"
      ],
      "metadata": {
        "id": "mU7vjsnqhVfk",
        "colab": {
          "base_uri": "https://localhost:8080/"
        },
        "outputId": "3f70b687-5afc-48a5-b3c8-e1e11f97cdce"
      },
      "execution_count": 25,
      "outputs": [
        {
          "output_type": "stream",
          "name": "stdout",
          "text": [
            "Original matrix:\n",
            " [[5 4 1 5]\n",
            " [2 6 5 4]\n",
            " [4 1 3 1]\n",
            " [9 6 3 8]]\n",
            "Extended matrix:\n",
            " [[0 0 0 0 0 0]\n",
            " [0 5 4 1 5 0]\n",
            " [0 2 6 5 4 0]\n",
            " [0 4 1 3 1 0]\n",
            " [0 9 6 3 8 0]\n",
            " [0 0 0 0 0 0]]\n"
          ]
        }
      ]
    },
    {
      "cell_type": "markdown",
      "source": [
        "#Завдання 5\n",
        "У попередьньому масиві змініть тип даних. Виведіть тип даних до та після зміни"
      ],
      "metadata": {
        "id": "ok_hMAEJa9oh"
      }
    },
    {
      "cell_type": "code",
      "source": [
        "print(f\"original matrix type = {extended_matrix.dtype}\")\n",
        "extended_matrix = extended_matrix.astype(np.float32)\n",
        "print(f\"new matrix type = {extended_matrix.dtype}\")"
      ],
      "metadata": {
        "id": "vYlj3r3ShV98",
        "outputId": "aac1fc70-9438-4017-9b9a-77bdbb55faed",
        "colab": {
          "base_uri": "https://localhost:8080/"
        }
      },
      "execution_count": 26,
      "outputs": [
        {
          "output_type": "stream",
          "name": "stdout",
          "text": [
            "original matrix type = int64\n",
            "new matrix type = float32\n"
          ]
        }
      ]
    },
    {
      "cell_type": "markdown",
      "source": [
        "#Завдання 6\n",
        "У даному масиві замініть елементи, які дорівнюють\\більші\\менші за var на -1"
      ],
      "metadata": {
        "id": "aR7TWyqgZUDg"
      }
    },
    {
      "cell_type": "code",
      "source": [
        "x = np.array([1, 5, 3, 8, 6, 5, 7, 4])\n",
        "var = 5\n",
        "x[x == var] = -1\n",
        "print(x)\n",
        "x[x > var] = -1\n",
        "print(x)\n",
        "x[x < var] = -1\n",
        "print(x)"
      ],
      "metadata": {
        "id": "oPzL69Fbg2Wq",
        "outputId": "93bc1e07-6e37-4e97-b0d5-efc115af7b82",
        "colab": {
          "base_uri": "https://localhost:8080/"
        }
      },
      "execution_count": 27,
      "outputs": [
        {
          "output_type": "stream",
          "name": "stdout",
          "text": [
            "[ 1 -1  3  8  6 -1  7  4]\n",
            "[ 1 -1  3 -1 -1 -1 -1  4]\n",
            "[-1 -1 -1 -1 -1 -1 -1 -1]\n"
          ]
        }
      ]
    },
    {
      "cell_type": "markdown",
      "source": [
        "#Завдання 7\n",
        "Замініть пропущені значення матриці(np.nan) на -1\n",
        "\n",
        "Дивись np.isnan"
      ],
      "metadata": {
        "id": "Ks3Rtc7kajMJ"
      }
    },
    {
      "cell_type": "code",
      "source": [
        "X = np.array([[1, 2, np.nan, 4],\n",
        "              [5, np.nan, np.nan, 4],\n",
        "              [np.nan, 10, 11, np.nan]])\n",
        "X[np.isnan(X)] = -1\n",
        "print(X)"
      ],
      "metadata": {
        "id": "Rr8CdINEg3Rj",
        "outputId": "ce561306-289d-4c36-8bf3-e9f75f4fc3ab",
        "colab": {
          "base_uri": "https://localhost:8080/"
        }
      },
      "execution_count": 30,
      "outputs": [
        {
          "output_type": "stream",
          "name": "stdout",
          "text": [
            "[[ 1.  2. -1.  4.]\n",
            " [ 5. -1. -1.  4.]\n",
            " [-1. 10. 11. -1.]]\n"
          ]
        }
      ]
    },
    {
      "cell_type": "markdown",
      "source": [
        "#Завдання 8\n",
        "Створіть матрицю розміру 4х6 з випадковими числами. Змініть її розмір на 3х8"
      ],
      "metadata": {
        "id": "teYwjikMa0gs"
      }
    },
    {
      "cell_type": "code",
      "source": [
        "random_matrix = np.random.randint(1, 10 , size=(4, 6))\n",
        "print(\"Original matrix:\\n\", random_matrix)\n",
        "new_matrix = random_matrix.reshape(3,8)\n",
        "print(\"New matrix:\\n\", new_matrix)"
      ],
      "metadata": {
        "id": "JhNvUJwxhXED",
        "outputId": "06dc7638-761f-4a78-8805-d5d99f3547df",
        "colab": {
          "base_uri": "https://localhost:8080/"
        }
      },
      "execution_count": 38,
      "outputs": [
        {
          "output_type": "stream",
          "name": "stdout",
          "text": [
            "Original matrix:\n",
            " [[4 4 7 2 9 7]\n",
            " [2 1 4 6 4 5]\n",
            " [1 4 9 9 8 7]\n",
            " [3 7 9 7 3 1]]\n",
            "New matrix:\n",
            " [[4 4 7 2 9 7 2 1]\n",
            " [4 6 4 5 1 4 9 9]\n",
            " [8 7 3 7 9 7 3 1]]\n"
          ]
        }
      ]
    },
    {
      "cell_type": "markdown",
      "source": [
        "#Завдання 9\n",
        "Створіть матрицю з одиниць розміром 3х4. Знайдіть середнє арифметичне(mean) кожного стовпчика"
      ],
      "metadata": {
        "id": "jVE8280acszi"
      }
    },
    {
      "cell_type": "code",
      "source": [
        "ones_matrix = np.ones((3, 4), dtype = np.int64)\n",
        "print(\"Original matrix:\\n\", ones_matrix)\n",
        "column_mean = ones_matrix.mean(axis=0)\n",
        "print(\"Column mean: \", column_mean)"
      ],
      "metadata": {
        "id": "5QI6HPNHhXd4",
        "outputId": "99690c60-35b8-4212-df23-de42d0d37a38",
        "colab": {
          "base_uri": "https://localhost:8080/"
        }
      },
      "execution_count": 37,
      "outputs": [
        {
          "output_type": "stream",
          "name": "stdout",
          "text": [
            "Original matrix:\n",
            " [[1 1 1 1]\n",
            " [1 1 1 1]\n",
            " [1 1 1 1]]\n",
            "Column mean:  [1. 1. 1. 1.]\n"
          ]
        }
      ]
    },
    {
      "cell_type": "markdown",
      "source": [
        "#Завдання 10\n",
        "Створіть випадкову матрицю розміром 5х6. Округліть значення до одного знаку після коми(np.round). Розмістіть стовпчики так, щоб значення в першому рядку були відсортовані за зростанням"
      ],
      "metadata": {
        "id": "nK6LwLjfc9aC"
      }
    },
    {
      "cell_type": "code",
      "source": [
        "random_matrix = np.random.randn(5, 6).round(decimals=1)\n",
        "print(\"Original matrix: \\n\", random_matrix)\n",
        "ind = random_matrix[0].argsort()\n",
        "print(\"Indexes: \", ind)\n",
        "print(\"Sorted matrix: \\n\", random_matrix[:,ind])"
      ],
      "metadata": {
        "id": "pERBNp12hX58",
        "outputId": "fe8fed75-0c8b-4eb3-86b6-84b29ec45077",
        "colab": {
          "base_uri": "https://localhost:8080/"
        }
      },
      "execution_count": 69,
      "outputs": [
        {
          "output_type": "stream",
          "name": "stdout",
          "text": [
            "Original matrix: \n",
            " [[ 0.1  1.2  0.1  0.8  0.4 -0.4]\n",
            " [ 0.7  1.8  0.3 -0.2 -0.8 -1.9]\n",
            " [-0.1 -0.6 -0.8  0.7  1.4 -1. ]\n",
            " [-1.5 -1.1  0.4 -0.7  0.5 -0.3]\n",
            " [ 1.   0.7 -0.7 -1.3 -1.3 -1.3]]\n",
            "Indexes:  [5 0 2 4 3 1]\n",
            "Sorted matrix: \n",
            " [[-0.4  0.1  0.1  0.4  0.8  1.2]\n",
            " [-1.9  0.7  0.3 -0.8 -0.2  1.8]\n",
            " [-1.  -0.1 -0.8  1.4  0.7 -0.6]\n",
            " [-0.3 -1.5  0.4  0.5 -0.7 -1.1]\n",
            " [-1.3  1.  -0.7 -1.3 -1.3  0.7]]\n"
          ]
        }
      ]
    },
    {
      "cell_type": "markdown",
      "source": [
        "#Завдання 11\n",
        "В даній матриці знайдіть всі елементи зі значенням між 3 і 6\n",
        "\n",
        "Дивись документацію np.logical_and"
      ],
      "metadata": {
        "id": "faCqq4bxiXsg"
      }
    },
    {
      "cell_type": "code",
      "source": [
        "X = np.array([[1, 2, 3, 4, 5],\n",
        "              [6, 7, 8, 9, 10],\n",
        "              [9, 8, 7, 6, 5],\n",
        "              [4, 3, 2, 1, 0]])\n",
        "X_bool = np.logical_and(X > 3, X < 6)\n",
        "print(\"Bool matrix: \\n\", X_bool)\n",
        "result_array = X[X_bool]\n",
        "print(\"Result array: \", result_array)"
      ],
      "metadata": {
        "id": "01ZY_c-tilOF",
        "outputId": "0d7e7dd4-dee1-4649-b20d-3805ada0ab5c",
        "colab": {
          "base_uri": "https://localhost:8080/"
        }
      },
      "execution_count": 75,
      "outputs": [
        {
          "output_type": "stream",
          "name": "stdout",
          "text": [
            "Bool matrix: \n",
            " [[False False False  True  True]\n",
            " [False False False False False]\n",
            " [False False False False  True]\n",
            " [ True False False False False]]\n",
            "Result array:  [4 5 5 4]\n"
          ]
        }
      ]
    },
    {
      "cell_type": "markdown",
      "source": [
        "#Завдання 12\n",
        "Створіть випадкову матрицю розміру 5х6. Нормалізуйте стовпчики: від кожного елемента ставпчика відніміть мінімальне значення та поділіть результат на різницю між максимальним та мінімальним елементом цього стовпчика.\n",
        "\n",
        "Після цього всі значення мають бути в межах [0, 1]"
      ],
      "metadata": {
        "id": "cCZSaa3DMKxb"
      }
    },
    {
      "cell_type": "code",
      "source": [
        "matrix = np.random.randint(1, 10, size = (5, 6))\n",
        "print(\"Original matrix:\\n\", matrix)\n",
        "\n",
        "min_column = matrix.min(axis = 0, keepdims=True)\n",
        "min_max_diff = matrix.max(axis = 0, keepdims=True)-matrix.min(axis = 0, keepdims=True)\n",
        "print(\"Diff between min and max: \", min_max_diff)\n",
        "\n",
        "new_matrix = (matrix - min_column)/min_max_diff\n",
        "print(\"Normalized matrix: \\n\", new_matrix.round(decimals=2))"
      ],
      "metadata": {
        "id": "qnOYOAgOMqRi",
        "outputId": "d61da224-a699-45d6-bb0a-9cbdac994bb5",
        "colab": {
          "base_uri": "https://localhost:8080/"
        }
      },
      "execution_count": 82,
      "outputs": [
        {
          "output_type": "stream",
          "name": "stdout",
          "text": [
            "Original matrix:\n",
            " [[4 2 5 2 2 1]\n",
            " [5 8 3 8 4 9]\n",
            " [3 1 3 5 7 8]\n",
            " [3 4 7 1 4 1]\n",
            " [6 3 6 6 8 4]]\n",
            "Diff between min and max:  [[3 7 4 7 6 8]]\n",
            "Normalized matrix: \n",
            " [[0.33 0.14 0.5  0.14 0.   0.  ]\n",
            " [0.67 1.   0.   1.   0.33 1.  ]\n",
            " [0.   0.   0.   0.57 0.83 0.88]\n",
            " [0.   0.43 1.   0.   0.33 0.  ]\n",
            " [1.   0.29 0.75 0.71 1.   0.38]]\n"
          ]
        }
      ]
    }
  ]
}