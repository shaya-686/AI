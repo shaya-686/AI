{
 "cells": [
  {
   "cell_type": "code",
   "execution_count": 1,
   "id": "115ae834",
   "metadata": {
    "execution": {
     "iopub.execute_input": "2024-08-05T20:05:47.957456Z",
     "iopub.status.busy": "2024-08-05T20:05:47.956975Z",
     "iopub.status.idle": "2024-08-05T20:05:54.540683Z",
     "shell.execute_reply": "2024-08-05T20:05:54.539432Z"
    },
    "papermill": {
     "duration": 6.591562,
     "end_time": "2024-08-05T20:05:54.543645",
     "exception": false,
     "start_time": "2024-08-05T20:05:47.952083",
     "status": "completed"
    },
    "tags": []
   },
   "outputs": [],
   "source": [
    "import torch\n",
    "from torchvision import datasets, transforms\n",
    "from torch.utils.data import ConcatDataset, Dataset, DataLoader\n",
    "from PIL import Image\n",
    "device = \"cuda\" if torch.cuda.is_available() else \"cpu\""
   ]
  },
  {
   "cell_type": "code",
   "execution_count": 2,
   "id": "b91b3b8d",
   "metadata": {
    "execution": {
     "iopub.execute_input": "2024-08-05T20:05:54.551169Z",
     "iopub.status.busy": "2024-08-05T20:05:54.550292Z",
     "iopub.status.idle": "2024-08-05T20:05:54.561172Z",
     "shell.execute_reply": "2024-08-05T20:05:54.559917Z"
    },
    "papermill": {
     "duration": 0.017467,
     "end_time": "2024-08-05T20:05:54.563832",
     "exception": false,
     "start_time": "2024-08-05T20:05:54.546365",
     "status": "completed"
    },
    "tags": []
   },
   "outputs": [],
   "source": [
    "class CustomImageFolderDataset(Dataset):\n",
    "    def __init__(self, *paths):\n",
    "        self.datasets = [datasets.ImageFolder(root=path) for path in paths]\n",
    "        \n",
    "        all_classes = sorted(set(cls for ds in self.datasets for cls in ds.classes))\n",
    "        \n",
    "        self.class_to_idx = {cls: idx for idx, cls in enumerate(all_classes)}\n",
    "        self.classes = all_classes\n",
    "        \n",
    "        self.imgs = []\n",
    "        for ds in self.datasets:\n",
    "            for img_path, target in ds.imgs:\n",
    "                new_target = self.class_to_idx[ds.classes[target]]\n",
    "                self.imgs.append((img_path, new_target))\n",
    "        \n",
    "    def __getitem__(self, index):\n",
    "        path, target = self.imgs[index]\n",
    "        img = Image.open(path).convert('RGB')  \n",
    "        return img, target\n",
    "\n",
    "    def __len__(self):\n",
    "        return len(self.imgs)"
   ]
  },
  {
   "cell_type": "code",
   "execution_count": 3,
   "id": "00682a03",
   "metadata": {
    "execution": {
     "iopub.execute_input": "2024-08-05T20:05:54.570865Z",
     "iopub.status.busy": "2024-08-05T20:05:54.570411Z",
     "iopub.status.idle": "2024-08-05T20:06:10.460860Z",
     "shell.execute_reply": "2024-08-05T20:06:10.459322Z"
    },
    "papermill": {
     "duration": 15.897432,
     "end_time": "2024-08-05T20:06:10.463888",
     "exception": false,
     "start_time": "2024-08-05T20:05:54.566456",
     "status": "completed"
    },
    "tags": []
   },
   "outputs": [],
   "source": [
    "data_dir = '/kaggle/input/fruit-recognition'\n",
    "custom_dataset = CustomImageFolderDataset(data_dir)"
   ]
  },
  {
   "cell_type": "code",
   "execution_count": 4,
   "id": "94d310dd",
   "metadata": {
    "execution": {
     "iopub.execute_input": "2024-08-05T20:06:10.471296Z",
     "iopub.status.busy": "2024-08-05T20:06:10.470870Z",
     "iopub.status.idle": "2024-08-05T20:06:10.479440Z",
     "shell.execute_reply": "2024-08-05T20:06:10.478122Z"
    },
    "papermill": {
     "duration": 0.016007,
     "end_time": "2024-08-05T20:06:10.482734",
     "exception": false,
     "start_time": "2024-08-05T20:06:10.466727",
     "status": "completed"
    },
    "tags": []
   },
   "outputs": [
    {
     "data": {
      "text/plain": [
       "['test', 'train']"
      ]
     },
     "execution_count": 4,
     "metadata": {},
     "output_type": "execute_result"
    }
   ],
   "source": [
    "custom_dataset.classes"
   ]
  }
 ],
 "metadata": {
  "kaggle": {
   "accelerator": "none",
   "dataSources": [
    {
     "datasetId": 849073,
     "sourceId": 3866368,
     "sourceType": "datasetVersion"
    }
   ],
   "dockerImageVersionId": 30746,
   "isGpuEnabled": false,
   "isInternetEnabled": true,
   "language": "python",
   "sourceType": "notebook"
  },
  "kernelspec": {
   "display_name": "Python 3",
   "language": "python",
   "name": "python3"
  },
  "language_info": {
   "codemirror_mode": {
    "name": "ipython",
    "version": 3
   },
   "file_extension": ".py",
   "mimetype": "text/x-python",
   "name": "python",
   "nbconvert_exporter": "python",
   "pygments_lexer": "ipython3",
   "version": "3.10.13"
  },
  "papermill": {
   "default_parameters": {},
   "duration": 26.914916,
   "end_time": "2024-08-05T20:06:11.610658",
   "environment_variables": {},
   "exception": null,
   "input_path": "__notebook__.ipynb",
   "output_path": "__notebook__.ipynb",
   "parameters": {},
   "start_time": "2024-08-05T20:05:44.695742",
   "version": "2.5.0"
  }
 },
 "nbformat": 4,
 "nbformat_minor": 5
}
