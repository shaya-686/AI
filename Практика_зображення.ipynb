{
  "nbformat": 4,
  "nbformat_minor": 0,
  "metadata": {
    "colab": {
      "provenance": [],
      "include_colab_link": true
    },
    "kernelspec": {
      "name": "python3",
      "display_name": "Python 3"
    },
    "language_info": {
      "name": "python"
    }
  },
  "cells": [
    {
      "cell_type": "markdown",
      "metadata": {
        "id": "view-in-github",
        "colab_type": "text"
      },
      "source": [
        "<a href=\"https://colab.research.google.com/github/shaya-686/AI/blob/main/%D0%9F%D1%80%D0%B0%D0%BA%D1%82%D0%B8%D0%BA%D0%B0_%D0%B7%D0%BE%D0%B1%D1%80%D0%B0%D0%B6%D0%B5%D0%BD%D0%BD%D1%8F.ipynb\" target=\"_parent\"><img src=\"https://colab.research.google.com/assets/colab-badge.svg\" alt=\"Open In Colab\"/></a>"
      ]
    },
    {
      "cell_type": "markdown",
      "source": [
        "[Посилання на датасет](https://www.kaggle.com/datasets/andrewmvd/leukemia-classification)\n",
        "\n",
        "[Опис даних]( https://wiki.cancerimagingarchive.net/download/attachments/52758223/CNMC_readme.pdf?api=v2)"
      ],
      "metadata": {
        "id": "tcngeTvWJXo9"
      }
    },
    {
      "cell_type": "markdown",
      "source": [
        "# Завдання:\n",
        "\n",
        "* Ознайомитись з даними та структурою даних\n",
        "* Створіть доповнення(`transform`) для тренувальних та тестових даних. [посилання](https://pytorch.org/vision/0.9/transforms.html)\n",
        "* Створіть `train_dataset` та `test_dataset` за допомогою `ImageFolder`(може знадобитись `ConcatDataset`\n",
        "* Створіть `train_dataset` та `test_dataset` за допомогою власно написаного `Dataset`\n",
        "* Візуалізуйте дані\n",
        "* Збережіть `kaggle notebook` для подальшої роботи"
      ],
      "metadata": {
        "id": "_XM4E8vNJidY"
      }
    },
    {
      "cell_type": "code",
      "source": [],
      "metadata": {
        "id": "t2NIN2HaLcpE"
      },
      "execution_count": null,
      "outputs": []
    }
  ]
}