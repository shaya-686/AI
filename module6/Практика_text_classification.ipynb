{
  "nbformat": 4,
  "nbformat_minor": 0,
  "metadata": {
    "colab": {
      "provenance": [],
      "include_colab_link": true
    },
    "kernelspec": {
      "name": "python3",
      "display_name": "Python 3"
    },
    "language_info": {
      "name": "python"
    }
  },
  "cells": [
    {
      "cell_type": "markdown",
      "metadata": {
        "id": "view-in-github",
        "colab_type": "text"
      },
      "source": [
        "<a href=\"https://colab.research.google.com/github/shaya-686/AI/blob/main/module6/%D0%9F%D1%80%D0%B0%D0%BA%D1%82%D0%B8%D0%BA%D0%B0_text_classification.ipynb\" target=\"_parent\"><img src=\"https://colab.research.google.com/assets/colab-badge.svg\" alt=\"Open In Colab\"/></a>"
      ]
    },
    {
      "cell_type": "markdown",
      "source": [
        "# Завдання\n",
        "\n",
        "[Посилання](https://www.kaggle.com/datasets/banuprakashv/news-articles-classification-dataset-for-nlp-and-ml/data)\n",
        "\n",
        "За допомогою `pytorch` проведіть класифікацію тексту:\n",
        "\n",
        "* Завантажте усі датафрейми\n",
        "* Добавте до кожного стовпчик `labels` з відповідним йому класом(bussiness, sports, education, etc). назви класів беріть з назв файлів\n",
        "* Об'єднайте всі датафрейми в один, див [pd.concat](https://pandas.pydata.org/docs/reference/api/pandas.concat.html)\n",
        "* Створіть стовпчик `text` в якому зберігатиметься текст для подальшої роботи. Можети вибрати такі варіанти:\n",
        "  * Взяти один зі стовпчиків `headline`, `description`, `content`\n",
        "  * Об'єднати тексти зі стовпчиків `headline`, `description`, `content`\n",
        "* Видаліть стовпчики `headline`, `description`, `content`, `url`\n",
        "* Створіть датасет з використанням `Glove`\n",
        "* Перевірте розмірність даних у датасеті\n",
        "* Розділіть дані на тренувальні та тестові, створіть `data_loader`\n",
        "* Створіть модель та натренуйте її\n",
        "* Виведіть результати класифікації"
      ],
      "metadata": {
        "id": "DAH65jNQPXur"
      }
    },
    {
      "cell_type": "code",
      "execution_count": null,
      "metadata": {
        "id": "rWAz7ILkPKyr"
      },
      "outputs": [],
      "source": []
    }
  ]
}