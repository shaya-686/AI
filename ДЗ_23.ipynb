{
  "nbformat": 4,
  "nbformat_minor": 0,
  "metadata": {
    "colab": {
      "provenance": [],
      "include_colab_link": true
    },
    "kernelspec": {
      "name": "python3",
      "display_name": "Python 3"
    },
    "language_info": {
      "name": "python"
    }
  },
  "cells": [
    {
      "cell_type": "markdown",
      "metadata": {
        "id": "view-in-github",
        "colab_type": "text"
      },
      "source": [
        "<a href=\"https://colab.research.google.com/github/shaya-686/AI/blob/main/%D0%94%D0%97_23.ipynb\" target=\"_parent\"><img src=\"https://colab.research.google.com/assets/colab-badge.svg\" alt=\"Open In Colab\"/></a>"
      ]
    },
    {
      "cell_type": "markdown",
      "source": [
        "# Завдання\n",
        "\n",
        "* Створіть Reader\n",
        "* Створіть датасет та розділіть його на тренувальні та тестові дані\n",
        "* Виберіть метрики для поріняння якості моделей\n",
        "* На основі метрик виберіть найкращу модель\n",
        "\n"
      ],
      "metadata": {
        "id": "cpuh9s2eYX3v"
      }
    },
    {
      "cell_type": "code",
      "execution_count": 1,
      "metadata": {
        "colab": {
          "base_uri": "https://localhost:8080/",
          "height": 206
        },
        "id": "wIK2PWg8YMIs",
        "outputId": "e2f5c762-03b3-465f-bea9-585f822cffe0"
      },
      "outputs": [
        {
          "output_type": "execute_result",
          "data": {
            "text/plain": [
              "   user_id  movie_id  rating   timestamp\n",
              "0      172     94969     5.0  1396067836\n",
              "1      172     98956     4.0  1396067879\n",
              "2      176     73881     4.0  1499807147\n",
              "3      221      1900     4.5  1288550866\n",
              "4      333     33688     4.0  1412015122"
            ],
            "text/html": [
              "\n",
              "  <div id=\"df-117ab5d3-2e60-42b2-97af-0f730ebc7393\" class=\"colab-df-container\">\n",
              "    <div>\n",
              "<style scoped>\n",
              "    .dataframe tbody tr th:only-of-type {\n",
              "        vertical-align: middle;\n",
              "    }\n",
              "\n",
              "    .dataframe tbody tr th {\n",
              "        vertical-align: top;\n",
              "    }\n",
              "\n",
              "    .dataframe thead th {\n",
              "        text-align: right;\n",
              "    }\n",
              "</style>\n",
              "<table border=\"1\" class=\"dataframe\">\n",
              "  <thead>\n",
              "    <tr style=\"text-align: right;\">\n",
              "      <th></th>\n",
              "      <th>user_id</th>\n",
              "      <th>movie_id</th>\n",
              "      <th>rating</th>\n",
              "      <th>timestamp</th>\n",
              "    </tr>\n",
              "  </thead>\n",
              "  <tbody>\n",
              "    <tr>\n",
              "      <th>0</th>\n",
              "      <td>172</td>\n",
              "      <td>94969</td>\n",
              "      <td>5.0</td>\n",
              "      <td>1396067836</td>\n",
              "    </tr>\n",
              "    <tr>\n",
              "      <th>1</th>\n",
              "      <td>172</td>\n",
              "      <td>98956</td>\n",
              "      <td>4.0</td>\n",
              "      <td>1396067879</td>\n",
              "    </tr>\n",
              "    <tr>\n",
              "      <th>2</th>\n",
              "      <td>176</td>\n",
              "      <td>73881</td>\n",
              "      <td>4.0</td>\n",
              "      <td>1499807147</td>\n",
              "    </tr>\n",
              "    <tr>\n",
              "      <th>3</th>\n",
              "      <td>221</td>\n",
              "      <td>1900</td>\n",
              "      <td>4.5</td>\n",
              "      <td>1288550866</td>\n",
              "    </tr>\n",
              "    <tr>\n",
              "      <th>4</th>\n",
              "      <td>333</td>\n",
              "      <td>33688</td>\n",
              "      <td>4.0</td>\n",
              "      <td>1412015122</td>\n",
              "    </tr>\n",
              "  </tbody>\n",
              "</table>\n",
              "</div>\n",
              "    <div class=\"colab-df-buttons\">\n",
              "\n",
              "  <div class=\"colab-df-container\">\n",
              "    <button class=\"colab-df-convert\" onclick=\"convertToInteractive('df-117ab5d3-2e60-42b2-97af-0f730ebc7393')\"\n",
              "            title=\"Convert this dataframe to an interactive table.\"\n",
              "            style=\"display:none;\">\n",
              "\n",
              "  <svg xmlns=\"http://www.w3.org/2000/svg\" height=\"24px\" viewBox=\"0 -960 960 960\">\n",
              "    <path d=\"M120-120v-720h720v720H120Zm60-500h600v-160H180v160Zm220 220h160v-160H400v160Zm0 220h160v-160H400v160ZM180-400h160v-160H180v160Zm440 0h160v-160H620v160ZM180-180h160v-160H180v160Zm440 0h160v-160H620v160Z\"/>\n",
              "  </svg>\n",
              "    </button>\n",
              "\n",
              "  <style>\n",
              "    .colab-df-container {\n",
              "      display:flex;\n",
              "      gap: 12px;\n",
              "    }\n",
              "\n",
              "    .colab-df-convert {\n",
              "      background-color: #E8F0FE;\n",
              "      border: none;\n",
              "      border-radius: 50%;\n",
              "      cursor: pointer;\n",
              "      display: none;\n",
              "      fill: #1967D2;\n",
              "      height: 32px;\n",
              "      padding: 0 0 0 0;\n",
              "      width: 32px;\n",
              "    }\n",
              "\n",
              "    .colab-df-convert:hover {\n",
              "      background-color: #E2EBFA;\n",
              "      box-shadow: 0px 1px 2px rgba(60, 64, 67, 0.3), 0px 1px 3px 1px rgba(60, 64, 67, 0.15);\n",
              "      fill: #174EA6;\n",
              "    }\n",
              "\n",
              "    .colab-df-buttons div {\n",
              "      margin-bottom: 4px;\n",
              "    }\n",
              "\n",
              "    [theme=dark] .colab-df-convert {\n",
              "      background-color: #3B4455;\n",
              "      fill: #D2E3FC;\n",
              "    }\n",
              "\n",
              "    [theme=dark] .colab-df-convert:hover {\n",
              "      background-color: #434B5C;\n",
              "      box-shadow: 0px 1px 3px 1px rgba(0, 0, 0, 0.15);\n",
              "      filter: drop-shadow(0px 1px 2px rgba(0, 0, 0, 0.3));\n",
              "      fill: #FFFFFF;\n",
              "    }\n",
              "  </style>\n",
              "\n",
              "    <script>\n",
              "      const buttonEl =\n",
              "        document.querySelector('#df-117ab5d3-2e60-42b2-97af-0f730ebc7393 button.colab-df-convert');\n",
              "      buttonEl.style.display =\n",
              "        google.colab.kernel.accessAllowed ? 'block' : 'none';\n",
              "\n",
              "      async function convertToInteractive(key) {\n",
              "        const element = document.querySelector('#df-117ab5d3-2e60-42b2-97af-0f730ebc7393');\n",
              "        const dataTable =\n",
              "          await google.colab.kernel.invokeFunction('convertToInteractive',\n",
              "                                                    [key], {});\n",
              "        if (!dataTable) return;\n",
              "\n",
              "        const docLinkHtml = 'Like what you see? Visit the ' +\n",
              "          '<a target=\"_blank\" href=https://colab.research.google.com/notebooks/data_table.ipynb>data table notebook</a>'\n",
              "          + ' to learn more about interactive tables.';\n",
              "        element.innerHTML = '';\n",
              "        dataTable['output_type'] = 'display_data';\n",
              "        await google.colab.output.renderOutput(dataTable, element);\n",
              "        const docLink = document.createElement('div');\n",
              "        docLink.innerHTML = docLinkHtml;\n",
              "        element.appendChild(docLink);\n",
              "      }\n",
              "    </script>\n",
              "  </div>\n",
              "\n",
              "\n",
              "<div id=\"df-bc5f723e-bdc1-4633-8629-dd382c17b84d\">\n",
              "  <button class=\"colab-df-quickchart\" onclick=\"quickchart('df-bc5f723e-bdc1-4633-8629-dd382c17b84d')\"\n",
              "            title=\"Suggest charts\"\n",
              "            style=\"display:none;\">\n",
              "\n",
              "<svg xmlns=\"http://www.w3.org/2000/svg\" height=\"24px\"viewBox=\"0 0 24 24\"\n",
              "     width=\"24px\">\n",
              "    <g>\n",
              "        <path d=\"M19 3H5c-1.1 0-2 .9-2 2v14c0 1.1.9 2 2 2h14c1.1 0 2-.9 2-2V5c0-1.1-.9-2-2-2zM9 17H7v-7h2v7zm4 0h-2V7h2v10zm4 0h-2v-4h2v4z\"/>\n",
              "    </g>\n",
              "</svg>\n",
              "  </button>\n",
              "\n",
              "<style>\n",
              "  .colab-df-quickchart {\n",
              "      --bg-color: #E8F0FE;\n",
              "      --fill-color: #1967D2;\n",
              "      --hover-bg-color: #E2EBFA;\n",
              "      --hover-fill-color: #174EA6;\n",
              "      --disabled-fill-color: #AAA;\n",
              "      --disabled-bg-color: #DDD;\n",
              "  }\n",
              "\n",
              "  [theme=dark] .colab-df-quickchart {\n",
              "      --bg-color: #3B4455;\n",
              "      --fill-color: #D2E3FC;\n",
              "      --hover-bg-color: #434B5C;\n",
              "      --hover-fill-color: #FFFFFF;\n",
              "      --disabled-bg-color: #3B4455;\n",
              "      --disabled-fill-color: #666;\n",
              "  }\n",
              "\n",
              "  .colab-df-quickchart {\n",
              "    background-color: var(--bg-color);\n",
              "    border: none;\n",
              "    border-radius: 50%;\n",
              "    cursor: pointer;\n",
              "    display: none;\n",
              "    fill: var(--fill-color);\n",
              "    height: 32px;\n",
              "    padding: 0;\n",
              "    width: 32px;\n",
              "  }\n",
              "\n",
              "  .colab-df-quickchart:hover {\n",
              "    background-color: var(--hover-bg-color);\n",
              "    box-shadow: 0 1px 2px rgba(60, 64, 67, 0.3), 0 1px 3px 1px rgba(60, 64, 67, 0.15);\n",
              "    fill: var(--button-hover-fill-color);\n",
              "  }\n",
              "\n",
              "  .colab-df-quickchart-complete:disabled,\n",
              "  .colab-df-quickchart-complete:disabled:hover {\n",
              "    background-color: var(--disabled-bg-color);\n",
              "    fill: var(--disabled-fill-color);\n",
              "    box-shadow: none;\n",
              "  }\n",
              "\n",
              "  .colab-df-spinner {\n",
              "    border: 2px solid var(--fill-color);\n",
              "    border-color: transparent;\n",
              "    border-bottom-color: var(--fill-color);\n",
              "    animation:\n",
              "      spin 1s steps(1) infinite;\n",
              "  }\n",
              "\n",
              "  @keyframes spin {\n",
              "    0% {\n",
              "      border-color: transparent;\n",
              "      border-bottom-color: var(--fill-color);\n",
              "      border-left-color: var(--fill-color);\n",
              "    }\n",
              "    20% {\n",
              "      border-color: transparent;\n",
              "      border-left-color: var(--fill-color);\n",
              "      border-top-color: var(--fill-color);\n",
              "    }\n",
              "    30% {\n",
              "      border-color: transparent;\n",
              "      border-left-color: var(--fill-color);\n",
              "      border-top-color: var(--fill-color);\n",
              "      border-right-color: var(--fill-color);\n",
              "    }\n",
              "    40% {\n",
              "      border-color: transparent;\n",
              "      border-right-color: var(--fill-color);\n",
              "      border-top-color: var(--fill-color);\n",
              "    }\n",
              "    60% {\n",
              "      border-color: transparent;\n",
              "      border-right-color: var(--fill-color);\n",
              "    }\n",
              "    80% {\n",
              "      border-color: transparent;\n",
              "      border-right-color: var(--fill-color);\n",
              "      border-bottom-color: var(--fill-color);\n",
              "    }\n",
              "    90% {\n",
              "      border-color: transparent;\n",
              "      border-bottom-color: var(--fill-color);\n",
              "    }\n",
              "  }\n",
              "</style>\n",
              "\n",
              "  <script>\n",
              "    async function quickchart(key) {\n",
              "      const quickchartButtonEl =\n",
              "        document.querySelector('#' + key + ' button');\n",
              "      quickchartButtonEl.disabled = true;  // To prevent multiple clicks.\n",
              "      quickchartButtonEl.classList.add('colab-df-spinner');\n",
              "      try {\n",
              "        const charts = await google.colab.kernel.invokeFunction(\n",
              "            'suggestCharts', [key], {});\n",
              "      } catch (error) {\n",
              "        console.error('Error during call to suggestCharts:', error);\n",
              "      }\n",
              "      quickchartButtonEl.classList.remove('colab-df-spinner');\n",
              "      quickchartButtonEl.classList.add('colab-df-quickchart-complete');\n",
              "    }\n",
              "    (() => {\n",
              "      let quickchartButtonEl =\n",
              "        document.querySelector('#df-bc5f723e-bdc1-4633-8629-dd382c17b84d button');\n",
              "      quickchartButtonEl.style.display =\n",
              "        google.colab.kernel.accessAllowed ? 'block' : 'none';\n",
              "    })();\n",
              "  </script>\n",
              "</div>\n",
              "    </div>\n",
              "  </div>\n"
            ],
            "application/vnd.google.colaboratory.intrinsic+json": {
              "type": "dataframe",
              "variable_name": "df",
              "summary": "{\n  \"name\": \"df\",\n  \"rows\": 17604,\n  \"fields\": [\n    {\n      \"column\": \"user_id\",\n      \"properties\": {\n        \"dtype\": \"number\",\n        \"std\": 81731,\n        \"min\": 172,\n        \"max\": 283195,\n        \"num_unique_values\": 5667,\n        \"samples\": [\n          236287,\n          217639,\n          248726\n        ],\n        \"semantic_type\": \"\",\n        \"description\": \"\"\n      }\n    },\n    {\n      \"column\": \"movie_id\",\n      \"properties\": {\n        \"dtype\": \"number\",\n        \"std\": 51285,\n        \"min\": 139,\n        \"max\": 193843,\n        \"num_unique_values\": 779,\n        \"samples\": [\n          146184,\n          135791,\n          141201\n        ],\n        \"semantic_type\": \"\",\n        \"description\": \"\"\n      }\n    },\n    {\n      \"column\": \"rating\",\n      \"properties\": {\n        \"dtype\": \"number\",\n        \"std\": 1.203144353497351,\n        \"min\": 0.5,\n        \"max\": 5.0,\n        \"num_unique_values\": 10,\n        \"samples\": [\n          1.0,\n          4.0,\n          0.5\n        ],\n        \"semantic_type\": \"\",\n        \"description\": \"\"\n      }\n    },\n    {\n      \"column\": \"timestamp\",\n      \"properties\": {\n        \"dtype\": \"number\",\n        \"std\": 151508281,\n        \"min\": 828222421,\n        \"max\": 1537933852,\n        \"num_unique_values\": 16385,\n        \"samples\": [\n          1461617327,\n          1494358048,\n          1489828939\n        ],\n        \"semantic_type\": \"\",\n        \"description\": \"\"\n      }\n    }\n  ]\n}"
            }
          },
          "metadata": {},
          "execution_count": 1
        }
      ],
      "source": [
        "import pandas as pd\n",
        "\n",
        "df = pd.read_csv(\"https://raw.githubusercontent.com/HalyshAnton/IT-Step-Pyton-AI/main/module7/data/ratings.csv\")\n",
        "\n",
        "df.head()"
      ]
    },
    {
      "cell_type": "code",
      "source": [
        "df.shape"
      ],
      "metadata": {
        "id": "jRe4BU5qX8V3",
        "outputId": "779a5594-bfc2-4940-dcf9-6a0d8010add4",
        "colab": {
          "base_uri": "https://localhost:8080/"
        }
      },
      "execution_count": 3,
      "outputs": [
        {
          "output_type": "execute_result",
          "data": {
            "text/plain": [
              "(17604, 4)"
            ]
          },
          "metadata": {},
          "execution_count": 3
        }
      ]
    },
    {
      "cell_type": "code",
      "source": [
        "df.describe()"
      ],
      "metadata": {
        "id": "B7tfrj2SYQrn",
        "outputId": "44c9d18e-2a13-4c45-c1e6-9996e21dfc4f",
        "colab": {
          "base_uri": "https://localhost:8080/",
          "height": 300
        }
      },
      "execution_count": 5,
      "outputs": [
        {
          "output_type": "execute_result",
          "data": {
            "text/plain": [
              "             user_id       movie_id        rating     timestamp\n",
              "count   17604.000000   17604.000000  17604.000000  1.760400e+04\n",
              "mean   141251.609009   88913.605942      3.465945  1.403256e+09\n",
              "std     81731.882435   51285.238375      1.203144  1.515083e+08\n",
              "min       172.000000     139.000000      0.500000  8.282224e+08\n",
              "25%     71256.000000   55098.000000      3.000000  1.395695e+09\n",
              "50%    138487.000000   89554.000000      3.500000  1.456552e+09\n",
              "75%    210264.500000  134779.500000      4.500000  1.494418e+09\n",
              "max    283195.000000  193843.000000      5.000000  1.537934e+09"
            ],
            "text/html": [
              "\n",
              "  <div id=\"df-8107334f-ffab-4ba5-863e-baa68934c2e1\" class=\"colab-df-container\">\n",
              "    <div>\n",
              "<style scoped>\n",
              "    .dataframe tbody tr th:only-of-type {\n",
              "        vertical-align: middle;\n",
              "    }\n",
              "\n",
              "    .dataframe tbody tr th {\n",
              "        vertical-align: top;\n",
              "    }\n",
              "\n",
              "    .dataframe thead th {\n",
              "        text-align: right;\n",
              "    }\n",
              "</style>\n",
              "<table border=\"1\" class=\"dataframe\">\n",
              "  <thead>\n",
              "    <tr style=\"text-align: right;\">\n",
              "      <th></th>\n",
              "      <th>user_id</th>\n",
              "      <th>movie_id</th>\n",
              "      <th>rating</th>\n",
              "      <th>timestamp</th>\n",
              "    </tr>\n",
              "  </thead>\n",
              "  <tbody>\n",
              "    <tr>\n",
              "      <th>count</th>\n",
              "      <td>17604.000000</td>\n",
              "      <td>17604.000000</td>\n",
              "      <td>17604.000000</td>\n",
              "      <td>1.760400e+04</td>\n",
              "    </tr>\n",
              "    <tr>\n",
              "      <th>mean</th>\n",
              "      <td>141251.609009</td>\n",
              "      <td>88913.605942</td>\n",
              "      <td>3.465945</td>\n",
              "      <td>1.403256e+09</td>\n",
              "    </tr>\n",
              "    <tr>\n",
              "      <th>std</th>\n",
              "      <td>81731.882435</td>\n",
              "      <td>51285.238375</td>\n",
              "      <td>1.203144</td>\n",
              "      <td>1.515083e+08</td>\n",
              "    </tr>\n",
              "    <tr>\n",
              "      <th>min</th>\n",
              "      <td>172.000000</td>\n",
              "      <td>139.000000</td>\n",
              "      <td>0.500000</td>\n",
              "      <td>8.282224e+08</td>\n",
              "    </tr>\n",
              "    <tr>\n",
              "      <th>25%</th>\n",
              "      <td>71256.000000</td>\n",
              "      <td>55098.000000</td>\n",
              "      <td>3.000000</td>\n",
              "      <td>1.395695e+09</td>\n",
              "    </tr>\n",
              "    <tr>\n",
              "      <th>50%</th>\n",
              "      <td>138487.000000</td>\n",
              "      <td>89554.000000</td>\n",
              "      <td>3.500000</td>\n",
              "      <td>1.456552e+09</td>\n",
              "    </tr>\n",
              "    <tr>\n",
              "      <th>75%</th>\n",
              "      <td>210264.500000</td>\n",
              "      <td>134779.500000</td>\n",
              "      <td>4.500000</td>\n",
              "      <td>1.494418e+09</td>\n",
              "    </tr>\n",
              "    <tr>\n",
              "      <th>max</th>\n",
              "      <td>283195.000000</td>\n",
              "      <td>193843.000000</td>\n",
              "      <td>5.000000</td>\n",
              "      <td>1.537934e+09</td>\n",
              "    </tr>\n",
              "  </tbody>\n",
              "</table>\n",
              "</div>\n",
              "    <div class=\"colab-df-buttons\">\n",
              "\n",
              "  <div class=\"colab-df-container\">\n",
              "    <button class=\"colab-df-convert\" onclick=\"convertToInteractive('df-8107334f-ffab-4ba5-863e-baa68934c2e1')\"\n",
              "            title=\"Convert this dataframe to an interactive table.\"\n",
              "            style=\"display:none;\">\n",
              "\n",
              "  <svg xmlns=\"http://www.w3.org/2000/svg\" height=\"24px\" viewBox=\"0 -960 960 960\">\n",
              "    <path d=\"M120-120v-720h720v720H120Zm60-500h600v-160H180v160Zm220 220h160v-160H400v160Zm0 220h160v-160H400v160ZM180-400h160v-160H180v160Zm440 0h160v-160H620v160ZM180-180h160v-160H180v160Zm440 0h160v-160H620v160Z\"/>\n",
              "  </svg>\n",
              "    </button>\n",
              "\n",
              "  <style>\n",
              "    .colab-df-container {\n",
              "      display:flex;\n",
              "      gap: 12px;\n",
              "    }\n",
              "\n",
              "    .colab-df-convert {\n",
              "      background-color: #E8F0FE;\n",
              "      border: none;\n",
              "      border-radius: 50%;\n",
              "      cursor: pointer;\n",
              "      display: none;\n",
              "      fill: #1967D2;\n",
              "      height: 32px;\n",
              "      padding: 0 0 0 0;\n",
              "      width: 32px;\n",
              "    }\n",
              "\n",
              "    .colab-df-convert:hover {\n",
              "      background-color: #E2EBFA;\n",
              "      box-shadow: 0px 1px 2px rgba(60, 64, 67, 0.3), 0px 1px 3px 1px rgba(60, 64, 67, 0.15);\n",
              "      fill: #174EA6;\n",
              "    }\n",
              "\n",
              "    .colab-df-buttons div {\n",
              "      margin-bottom: 4px;\n",
              "    }\n",
              "\n",
              "    [theme=dark] .colab-df-convert {\n",
              "      background-color: #3B4455;\n",
              "      fill: #D2E3FC;\n",
              "    }\n",
              "\n",
              "    [theme=dark] .colab-df-convert:hover {\n",
              "      background-color: #434B5C;\n",
              "      box-shadow: 0px 1px 3px 1px rgba(0, 0, 0, 0.15);\n",
              "      filter: drop-shadow(0px 1px 2px rgba(0, 0, 0, 0.3));\n",
              "      fill: #FFFFFF;\n",
              "    }\n",
              "  </style>\n",
              "\n",
              "    <script>\n",
              "      const buttonEl =\n",
              "        document.querySelector('#df-8107334f-ffab-4ba5-863e-baa68934c2e1 button.colab-df-convert');\n",
              "      buttonEl.style.display =\n",
              "        google.colab.kernel.accessAllowed ? 'block' : 'none';\n",
              "\n",
              "      async function convertToInteractive(key) {\n",
              "        const element = document.querySelector('#df-8107334f-ffab-4ba5-863e-baa68934c2e1');\n",
              "        const dataTable =\n",
              "          await google.colab.kernel.invokeFunction('convertToInteractive',\n",
              "                                                    [key], {});\n",
              "        if (!dataTable) return;\n",
              "\n",
              "        const docLinkHtml = 'Like what you see? Visit the ' +\n",
              "          '<a target=\"_blank\" href=https://colab.research.google.com/notebooks/data_table.ipynb>data table notebook</a>'\n",
              "          + ' to learn more about interactive tables.';\n",
              "        element.innerHTML = '';\n",
              "        dataTable['output_type'] = 'display_data';\n",
              "        await google.colab.output.renderOutput(dataTable, element);\n",
              "        const docLink = document.createElement('div');\n",
              "        docLink.innerHTML = docLinkHtml;\n",
              "        element.appendChild(docLink);\n",
              "      }\n",
              "    </script>\n",
              "  </div>\n",
              "\n",
              "\n",
              "<div id=\"df-403bce06-c5c0-4b18-bb0e-79168e73ef12\">\n",
              "  <button class=\"colab-df-quickchart\" onclick=\"quickchart('df-403bce06-c5c0-4b18-bb0e-79168e73ef12')\"\n",
              "            title=\"Suggest charts\"\n",
              "            style=\"display:none;\">\n",
              "\n",
              "<svg xmlns=\"http://www.w3.org/2000/svg\" height=\"24px\"viewBox=\"0 0 24 24\"\n",
              "     width=\"24px\">\n",
              "    <g>\n",
              "        <path d=\"M19 3H5c-1.1 0-2 .9-2 2v14c0 1.1.9 2 2 2h14c1.1 0 2-.9 2-2V5c0-1.1-.9-2-2-2zM9 17H7v-7h2v7zm4 0h-2V7h2v10zm4 0h-2v-4h2v4z\"/>\n",
              "    </g>\n",
              "</svg>\n",
              "  </button>\n",
              "\n",
              "<style>\n",
              "  .colab-df-quickchart {\n",
              "      --bg-color: #E8F0FE;\n",
              "      --fill-color: #1967D2;\n",
              "      --hover-bg-color: #E2EBFA;\n",
              "      --hover-fill-color: #174EA6;\n",
              "      --disabled-fill-color: #AAA;\n",
              "      --disabled-bg-color: #DDD;\n",
              "  }\n",
              "\n",
              "  [theme=dark] .colab-df-quickchart {\n",
              "      --bg-color: #3B4455;\n",
              "      --fill-color: #D2E3FC;\n",
              "      --hover-bg-color: #434B5C;\n",
              "      --hover-fill-color: #FFFFFF;\n",
              "      --disabled-bg-color: #3B4455;\n",
              "      --disabled-fill-color: #666;\n",
              "  }\n",
              "\n",
              "  .colab-df-quickchart {\n",
              "    background-color: var(--bg-color);\n",
              "    border: none;\n",
              "    border-radius: 50%;\n",
              "    cursor: pointer;\n",
              "    display: none;\n",
              "    fill: var(--fill-color);\n",
              "    height: 32px;\n",
              "    padding: 0;\n",
              "    width: 32px;\n",
              "  }\n",
              "\n",
              "  .colab-df-quickchart:hover {\n",
              "    background-color: var(--hover-bg-color);\n",
              "    box-shadow: 0 1px 2px rgba(60, 64, 67, 0.3), 0 1px 3px 1px rgba(60, 64, 67, 0.15);\n",
              "    fill: var(--button-hover-fill-color);\n",
              "  }\n",
              "\n",
              "  .colab-df-quickchart-complete:disabled,\n",
              "  .colab-df-quickchart-complete:disabled:hover {\n",
              "    background-color: var(--disabled-bg-color);\n",
              "    fill: var(--disabled-fill-color);\n",
              "    box-shadow: none;\n",
              "  }\n",
              "\n",
              "  .colab-df-spinner {\n",
              "    border: 2px solid var(--fill-color);\n",
              "    border-color: transparent;\n",
              "    border-bottom-color: var(--fill-color);\n",
              "    animation:\n",
              "      spin 1s steps(1) infinite;\n",
              "  }\n",
              "\n",
              "  @keyframes spin {\n",
              "    0% {\n",
              "      border-color: transparent;\n",
              "      border-bottom-color: var(--fill-color);\n",
              "      border-left-color: var(--fill-color);\n",
              "    }\n",
              "    20% {\n",
              "      border-color: transparent;\n",
              "      border-left-color: var(--fill-color);\n",
              "      border-top-color: var(--fill-color);\n",
              "    }\n",
              "    30% {\n",
              "      border-color: transparent;\n",
              "      border-left-color: var(--fill-color);\n",
              "      border-top-color: var(--fill-color);\n",
              "      border-right-color: var(--fill-color);\n",
              "    }\n",
              "    40% {\n",
              "      border-color: transparent;\n",
              "      border-right-color: var(--fill-color);\n",
              "      border-top-color: var(--fill-color);\n",
              "    }\n",
              "    60% {\n",
              "      border-color: transparent;\n",
              "      border-right-color: var(--fill-color);\n",
              "    }\n",
              "    80% {\n",
              "      border-color: transparent;\n",
              "      border-right-color: var(--fill-color);\n",
              "      border-bottom-color: var(--fill-color);\n",
              "    }\n",
              "    90% {\n",
              "      border-color: transparent;\n",
              "      border-bottom-color: var(--fill-color);\n",
              "    }\n",
              "  }\n",
              "</style>\n",
              "\n",
              "  <script>\n",
              "    async function quickchart(key) {\n",
              "      const quickchartButtonEl =\n",
              "        document.querySelector('#' + key + ' button');\n",
              "      quickchartButtonEl.disabled = true;  // To prevent multiple clicks.\n",
              "      quickchartButtonEl.classList.add('colab-df-spinner');\n",
              "      try {\n",
              "        const charts = await google.colab.kernel.invokeFunction(\n",
              "            'suggestCharts', [key], {});\n",
              "      } catch (error) {\n",
              "        console.error('Error during call to suggestCharts:', error);\n",
              "      }\n",
              "      quickchartButtonEl.classList.remove('colab-df-spinner');\n",
              "      quickchartButtonEl.classList.add('colab-df-quickchart-complete');\n",
              "    }\n",
              "    (() => {\n",
              "      let quickchartButtonEl =\n",
              "        document.querySelector('#df-403bce06-c5c0-4b18-bb0e-79168e73ef12 button');\n",
              "      quickchartButtonEl.style.display =\n",
              "        google.colab.kernel.accessAllowed ? 'block' : 'none';\n",
              "    })();\n",
              "  </script>\n",
              "</div>\n",
              "    </div>\n",
              "  </div>\n"
            ],
            "application/vnd.google.colaboratory.intrinsic+json": {
              "type": "dataframe",
              "summary": "{\n  \"name\": \"df\",\n  \"rows\": 8,\n  \"fields\": [\n    {\n      \"column\": \"user_id\",\n      \"properties\": {\n        \"dtype\": \"number\",\n        \"std\": 95786.70693854098,\n        \"min\": 172.0,\n        \"max\": 283195.0,\n        \"num_unique_values\": 8,\n        \"samples\": [\n          141251.60900931607,\n          138487.0,\n          17604.0\n        ],\n        \"semantic_type\": \"\",\n        \"description\": \"\"\n      }\n    },\n    {\n      \"column\": \"movie_id\",\n      \"properties\": {\n        \"dtype\": \"number\",\n        \"std\": 63062.09723802972,\n        \"min\": 139.0,\n        \"max\": 193843.0,\n        \"num_unique_values\": 8,\n        \"samples\": [\n          88913.6059418314,\n          89554.0,\n          17604.0\n        ],\n        \"semantic_type\": \"\",\n        \"description\": \"\"\n      }\n    },\n    {\n      \"column\": \"rating\",\n      \"properties\": {\n        \"dtype\": \"number\",\n        \"std\": 6222.884873372509,\n        \"min\": 0.5,\n        \"max\": 17604.0,\n        \"num_unique_values\": 8,\n        \"samples\": [\n          3.4659452397182458,\n          3.5,\n          17604.0\n        ],\n        \"semantic_type\": \"\",\n        \"description\": \"\"\n      }\n    },\n    {\n      \"column\": \"timestamp\",\n      \"properties\": {\n        \"dtype\": \"number\",\n        \"std\": 632671310.8885015,\n        \"min\": 17604.0,\n        \"max\": 1537933852.0,\n        \"num_unique_values\": 8,\n        \"samples\": [\n          1403256438.7448876,\n          1456552342.5,\n          17604.0\n        ],\n        \"semantic_type\": \"\",\n        \"description\": \"\"\n      }\n    }\n  ]\n}"
            }
          },
          "metadata": {},
          "execution_count": 5
        }
      ]
    },
    {
      "cell_type": "code",
      "source": [
        "!pip install -q surprise"
      ],
      "metadata": {
        "id": "GSINnCJZYCzr",
        "outputId": "420975c5-6a5d-4a40-c956-dd2c23cf4e20",
        "colab": {
          "base_uri": "https://localhost:8080/"
        }
      },
      "execution_count": 4,
      "outputs": [
        {
          "output_type": "stream",
          "name": "stdout",
          "text": [
            "\u001b[?25l     \u001b[90m━━━━━━━━━━━━━━━━━━━━━━━━━━━━━━━━━━━━━━━━\u001b[0m \u001b[32m0.0/154.4 kB\u001b[0m \u001b[31m?\u001b[0m eta \u001b[36m-:--:--\u001b[0m\r\u001b[2K     \u001b[91m━━━━━━━━━━━━━━━━━━━━━\u001b[0m\u001b[90m╺\u001b[0m\u001b[90m━━━━━━━━━━━━━━━━━━\u001b[0m \u001b[32m81.9/154.4 kB\u001b[0m \u001b[31m2.4 MB/s\u001b[0m eta \u001b[36m0:00:01\u001b[0m\r\u001b[2K     \u001b[90m━━━━━━━━━━━━━━━━━━━━━━━━━━━━━━━━━━━━━━━━\u001b[0m \u001b[32m154.4/154.4 kB\u001b[0m \u001b[31m2.3 MB/s\u001b[0m eta \u001b[36m0:00:00\u001b[0m\n",
            "\u001b[?25h  Installing build dependencies ... \u001b[?25l\u001b[?25hdone\n",
            "  Getting requirements to build wheel ... \u001b[?25l\u001b[?25hdone\n",
            "  Preparing metadata (pyproject.toml) ... \u001b[?25l\u001b[?25hdone\n",
            "  Building wheel for scikit-surprise (pyproject.toml) ... \u001b[?25l\u001b[?25hdone\n"
          ]
        }
      ]
    },
    {
      "cell_type": "code",
      "source": [
        "from surprise import Dataset, SVD, Reader\n",
        "\n",
        "reader = Reader(rating_scale=(0.5, 5))\n",
        "\n",
        "# The columns must correspond to user id, item id and ratings (in that order).\n",
        "data = Dataset.load_from_df(df[[\"user_id\", \"movie_id\",\"rating\"]], reader)"
      ],
      "metadata": {
        "id": "oONohhE2Yelg"
      },
      "execution_count": 7,
      "outputs": []
    },
    {
      "cell_type": "code",
      "source": [
        "from surprise.model_selection import train_test_split\n",
        "\n",
        "trainset, testset = train_test_split(data, train_size=0.8)"
      ],
      "metadata": {
        "id": "BX9-FP9aYcRz"
      },
      "execution_count": 8,
      "outputs": []
    },
    {
      "cell_type": "code",
      "source": [
        "from surprise import BaselineOnly\n",
        "\n",
        "bsl_options = {'method': 'sgd',\n",
        "               'reg_u': 0.0001,\n",
        "               'reg_i': 0.0001}\n",
        "\n",
        "algo = BaselineOnly(bsl_options=bsl_options)\n",
        "algo.fit(trainset)"
      ],
      "metadata": {
        "id": "Z5Vomq_uY4Vy",
        "outputId": "0f75f910-5326-4690-f3e8-a4898713c3c9",
        "colab": {
          "base_uri": "https://localhost:8080/"
        }
      },
      "execution_count": 9,
      "outputs": [
        {
          "output_type": "stream",
          "name": "stdout",
          "text": [
            "Estimating biases using sgd...\n"
          ]
        },
        {
          "output_type": "execute_result",
          "data": {
            "text/plain": [
              "<surprise.prediction_algorithms.baseline_only.BaselineOnly at 0x7be45f24dc90>"
            ]
          },
          "metadata": {},
          "execution_count": 9
        }
      ]
    },
    {
      "cell_type": "code",
      "source": [
        "from surprise import accuracy"
      ],
      "metadata": {
        "id": "-AHnMhnVZHlX"
      },
      "execution_count": 10,
      "outputs": []
    },
    {
      "cell_type": "code",
      "source": [
        "preds = algo.test(testset)\n",
        "\n",
        "print(f\"mae = {accuracy.mae(preds, verbose=False)}\")\n",
        "print(f\"mse = {accuracy.mse(preds, verbose=False)}\")\n",
        "print(f\"rmse= {accuracy.rmse(preds, verbose=False)}\")\n",
        "print(f\"fcp = {accuracy.fcp(preds, verbose=False)}\")"
      ],
      "metadata": {
        "id": "lzI1nruoZLmt",
        "outputId": "38492c6a-5515-4d43-a2b5-1645a6775048",
        "colab": {
          "base_uri": "https://localhost:8080/"
        }
      },
      "execution_count": 11,
      "outputs": [
        {
          "output_type": "stream",
          "name": "stdout",
          "text": [
            "mae = 0.7386838888671069\n",
            "mse = 0.9333099840675722\n",
            "rmse= 0.9660796986106126\n",
            "fcp = 0.61628864524656\n"
          ]
        }
      ]
    },
    {
      "cell_type": "code",
      "source": [
        "from surprise import SVD\n",
        "\n",
        "algo = SVD(n_factors=150,\n",
        "           n_epochs=50,\n",
        "           )\n",
        "\n",
        "algo.fit(trainset)"
      ],
      "metadata": {
        "id": "Gyi3wcSyZPOT",
        "outputId": "67a8b6c9-8f39-46c3-aca6-455a0f36c32c",
        "colab": {
          "base_uri": "https://localhost:8080/"
        }
      },
      "execution_count": 12,
      "outputs": [
        {
          "output_type": "execute_result",
          "data": {
            "text/plain": [
              "<surprise.prediction_algorithms.matrix_factorization.SVD at 0x7be4309ef370>"
            ]
          },
          "metadata": {},
          "execution_count": 12
        }
      ]
    },
    {
      "cell_type": "code",
      "source": [
        "preds = algo.test(testset)\n",
        "\n",
        "print(f\"mae = {accuracy.mae(preds, verbose=False)}\")\n",
        "print(f\"mse = {accuracy.mse(preds, verbose=False)}\")\n",
        "print(f\"rmse= {accuracy.rmse(preds, verbose=False)}\")\n",
        "print(f\"fcp = {accuracy.fcp(preds, verbose=False)}\")"
      ],
      "metadata": {
        "id": "ywy2jO2ZZSWq",
        "outputId": "5900d1bf-e95f-4a91-9782-7fdb96089763",
        "colab": {
          "base_uri": "https://localhost:8080/"
        }
      },
      "execution_count": 13,
      "outputs": [
        {
          "output_type": "stream",
          "name": "stdout",
          "text": [
            "mae = 0.7260633486348896\n",
            "mse = 0.9187349468409372\n",
            "rmse= 0.9585066232639904\n",
            "fcp = 0.5874897736569403\n"
          ]
        }
      ]
    },
    {
      "cell_type": "code",
      "source": [
        "from surprise import KNNBasic\n",
        "\n",
        "algo = KNNBasic(k=15,\n",
        "                min_k=5,\n",
        "                sim_options={'name': 'cosine',\n",
        "                             'user_based': True})\n",
        "\n",
        "algo.fit(trainset)"
      ],
      "metadata": {
        "id": "Pdi6KywEZVNh",
        "outputId": "53162a1e-9f09-4ae0-bdee-75e0ab6915ec",
        "colab": {
          "base_uri": "https://localhost:8080/"
        }
      },
      "execution_count": 14,
      "outputs": [
        {
          "output_type": "stream",
          "name": "stdout",
          "text": [
            "Computing the cosine similarity matrix...\n",
            "Done computing similarity matrix.\n"
          ]
        },
        {
          "output_type": "execute_result",
          "data": {
            "text/plain": [
              "<surprise.prediction_algorithms.knns.KNNBasic at 0x7be43086b220>"
            ]
          },
          "metadata": {},
          "execution_count": 14
        }
      ]
    },
    {
      "cell_type": "code",
      "source": [
        "\n",
        "preds = algo.test(testset)\n",
        "\n",
        "print(f\"mae = {accuracy.mae(preds, verbose=False)}\")\n",
        "print(f\"mse = {accuracy.mse(preds, verbose=False)}\")\n",
        "print(f\"rmse= {accuracy.rmse(preds, verbose=False)}\")\n",
        "print(f\"fcp = {accuracy.fcp(preds, verbose=False)}\")"
      ],
      "metadata": {
        "id": "P1aoZKd4ZYw8",
        "outputId": "7abb765b-356f-454d-88c4-2dfc036a77d7",
        "colab": {
          "base_uri": "https://localhost:8080/"
        }
      },
      "execution_count": 15,
      "outputs": [
        {
          "output_type": "stream",
          "name": "stdout",
          "text": [
            "mae = 0.9100698449016235\n",
            "mse = 1.3958767545417994\n",
            "rmse= 1.18147228259566\n",
            "fcp = 0.6088315033750209\n"
          ]
        }
      ]
    },
    {
      "cell_type": "code",
      "source": [
        "from surprise import CoClustering\n",
        "\n",
        "algo = CoClustering(n_cltr_u = 5,\n",
        "                    n_cltr_i = 15,\n",
        "                    n_epochs = 40)\n",
        "\n",
        "algo.fit(trainset)"
      ],
      "metadata": {
        "id": "4AxnGEhIZb4D",
        "outputId": "89a4a391-9aab-40fd-89a3-fb425e91e008",
        "colab": {
          "base_uri": "https://localhost:8080/"
        }
      },
      "execution_count": 16,
      "outputs": [
        {
          "output_type": "execute_result",
          "data": {
            "text/plain": [
              "<surprise.prediction_algorithms.co_clustering.CoClustering at 0x7be42fa2d480>"
            ]
          },
          "metadata": {},
          "execution_count": 16
        }
      ]
    },
    {
      "cell_type": "code",
      "source": [
        "preds = algo.test(testset)\n",
        "\n",
        "print(f\"mae = {accuracy.mae(preds, verbose=False)}\")\n",
        "print(f\"mse = {accuracy.mse(preds, verbose=False)}\")\n",
        "print(f\"rmse= {accuracy.rmse(preds, verbose=False)}\")\n",
        "print(f\"fcp = {accuracy.fcp(preds, verbose=False)}\")"
      ],
      "metadata": {
        "id": "vDCCMX3MZlsr",
        "outputId": "dbbb5e4c-8215-4df7-9861-c2078e0a4d41",
        "colab": {
          "base_uri": "https://localhost:8080/"
        }
      },
      "execution_count": 17,
      "outputs": [
        {
          "output_type": "stream",
          "name": "stdout",
          "text": [
            "mae = 0.8090540896551626\n",
            "mse = 1.1334747578925621\n",
            "rmse= 1.0646477153934828\n",
            "fcp = 0.6250106798052003\n"
          ]
        }
      ]
    },
    {
      "cell_type": "code",
      "source": [
        "from sklearn import metrics\n",
        "\n",
        "\n",
        "def objective(trial):\n",
        "\n",
        "\n",
        "  params = {\n",
        "        'n_factors': trial.suggest_int('n_factors', 10, 100),\n",
        "        'n_epochs': trial.suggest_int('n_epochs', 10, 50),\n",
        "        'lr_all': trial.suggest_float('lr_all', 1e-4, 0.1),\n",
        "        'reg_all': trial.suggest_float('reg_all', 1e-3, 1.0)\n",
        "    }\n",
        "\n",
        "\n",
        "  model = SVD(**params)\n",
        "\n",
        "  model.fit(trainset)\n",
        "\n",
        "  preds = model.test(testset)\n",
        "  mae = accuracy.mae(preds, verbose=False)\n",
        "\n",
        "  return mae"
      ],
      "metadata": {
        "id": "7w4eOo1UZmxq"
      },
      "execution_count": 18,
      "outputs": []
    },
    {
      "cell_type": "code",
      "source": [
        "!pip install -q optuna"
      ],
      "metadata": {
        "id": "9a_DAbmXZsWb",
        "outputId": "ed4b2e17-01c6-40b7-c4ec-4115d1a3f576",
        "colab": {
          "base_uri": "https://localhost:8080/"
        }
      },
      "execution_count": 19,
      "outputs": [
        {
          "output_type": "stream",
          "name": "stdout",
          "text": [
            "\u001b[?25l   \u001b[90m━━━━━━━━━━━━━━━━━━━━━━━━━━━━━━━━━━━━━━━━\u001b[0m \u001b[32m0.0/362.8 kB\u001b[0m \u001b[31m?\u001b[0m eta \u001b[36m-:--:--\u001b[0m\r\u001b[2K   \u001b[91m━━━━━━━━━━━━━━━━━━━━━━━━━━━━\u001b[0m\u001b[90m╺\u001b[0m\u001b[90m━━━━━━━━━━━\u001b[0m \u001b[32m256.0/362.8 kB\u001b[0m \u001b[31m7.8 MB/s\u001b[0m eta \u001b[36m0:00:01\u001b[0m\r\u001b[2K   \u001b[90m━━━━━━━━━━━━━━━━━━━━━━━━━━━━━━━━━━━━━━━━\u001b[0m \u001b[32m362.8/362.8 kB\u001b[0m \u001b[31m6.7 MB/s\u001b[0m eta \u001b[36m0:00:00\u001b[0m\n",
            "\u001b[2K   \u001b[90m━━━━━━━━━━━━━━━━━━━━━━━━━━━━━━━━━━━━━━━━\u001b[0m \u001b[32m233.0/233.0 kB\u001b[0m \u001b[31m18.9 MB/s\u001b[0m eta \u001b[36m0:00:00\u001b[0m\n",
            "\u001b[2K   \u001b[90m━━━━━━━━━━━━━━━━━━━━━━━━━━━━━━━━━━━━━━━━\u001b[0m \u001b[32m78.6/78.6 kB\u001b[0m \u001b[31m7.2 MB/s\u001b[0m eta \u001b[36m0:00:00\u001b[0m\n",
            "\u001b[?25h"
          ]
        }
      ]
    },
    {
      "cell_type": "code",
      "source": [
        "import optuna\n",
        "study = optuna.create_study(directions=['minimize'])\n",
        "study.optimize(objective, n_trials=20)"
      ],
      "metadata": {
        "id": "FPNdksodZxB-",
        "outputId": "ea649d6a-402e-410b-c072-e0d6c5bb0440",
        "colab": {
          "base_uri": "https://localhost:8080/"
        }
      },
      "execution_count": 20,
      "outputs": [
        {
          "output_type": "stream",
          "name": "stderr",
          "text": [
            "[I 2024-09-03 19:43:36,605] A new study created in memory with name: no-name-84159196-d403-4a9b-80ba-d743ccdaacde\n",
            "[I 2024-09-03 19:43:37,306] Trial 0 finished with value: 0.7373462025130577 and parameters: {'n_factors': 60, 'n_epochs': 16, 'lr_all': 0.05081467797979605, 'reg_all': 0.39833438047094694}. Best is trial 0 with value: 0.7373462025130577.\n",
            "[I 2024-09-03 19:43:38,273] Trial 1 finished with value: 0.7823971170831818 and parameters: {'n_factors': 90, 'n_epochs': 30, 'lr_all': 0.00958426926578862, 'reg_all': 0.8821874979722716}. Best is trial 0 with value: 0.7373462025130577.\n",
            "[I 2024-09-03 19:43:39,319] Trial 2 finished with value: 0.7268298020240983 and parameters: {'n_factors': 66, 'n_epochs': 46, 'lr_all': 0.06368597900927064, 'reg_all': 0.2826798930157876}. Best is trial 2 with value: 0.7268298020240983.\n",
            "[I 2024-09-03 19:43:39,853] Trial 3 finished with value: 0.7683844594573991 and parameters: {'n_factors': 10, 'n_epochs': 34, 'lr_all': 0.04894163469083619, 'reg_all': 0.7210048931775148}. Best is trial 2 with value: 0.7268298020240983.\n",
            "[I 2024-09-03 19:43:40,243] Trial 4 finished with value: 0.7804947509597956 and parameters: {'n_factors': 26, 'n_epochs': 24, 'lr_all': 0.034096387855561974, 'reg_all': 0.9167535295088632}. Best is trial 2 with value: 0.7268298020240983.\n",
            "[I 2024-09-03 19:43:40,682] Trial 5 finished with value: 0.8019434949991373 and parameters: {'n_factors': 71, 'n_epochs': 20, 'lr_all': 0.005818961831360973, 'reg_all': 0.9360362707642068}. Best is trial 2 with value: 0.7268298020240983.\n",
            "[I 2024-09-03 19:43:41,634] Trial 6 finished with value: 0.7083596049575183 and parameters: {'n_factors': 77, 'n_epochs': 40, 'lr_all': 0.051747936296769007, 'reg_all': 0.06704334475175697}. Best is trial 6 with value: 0.7083596049575183.\n",
            "[I 2024-09-03 19:43:42,703] Trial 7 finished with value: 0.7872236164666389 and parameters: {'n_factors': 77, 'n_epochs': 39, 'lr_all': 0.08239427692649523, 'reg_all': 0.8920767663463496}. Best is trial 6 with value: 0.7083596049575183.\n",
            "[I 2024-09-03 19:43:43,475] Trial 8 finished with value: 0.7036059292303894 and parameters: {'n_factors': 10, 'n_epochs': 47, 'lr_all': 0.02183426678644364, 'reg_all': 0.1634557403185574}. Best is trial 8 with value: 0.7036059292303894.\n",
            "[I 2024-09-03 19:43:43,983] Trial 9 finished with value: 0.7141289451122866 and parameters: {'n_factors': 89, 'n_epochs': 25, 'lr_all': 0.011585467481772641, 'reg_all': 0.07805737245623748}. Best is trial 8 with value: 0.7036059292303894.\n",
            "[I 2024-09-03 19:43:44,396] Trial 10 finished with value: 0.7530384813616972 and parameters: {'n_factors': 43, 'n_epochs': 50, 'lr_all': 0.03220813729755306, 'reg_all': 0.5782483983218856}. Best is trial 8 with value: 0.7036059292303894.\n",
            "[I 2024-09-03 19:43:44,782] Trial 11 finished with value: 0.7183405480142225 and parameters: {'n_factors': 43, 'n_epochs': 41, 'lr_all': 0.029689039338190476, 'reg_all': 0.015330492866616724}. Best is trial 8 with value: 0.7036059292303894.\n",
            "[I 2024-09-03 19:43:45,301] Trial 12 finished with value: 0.7233400343593932 and parameters: {'n_factors': 45, 'n_epochs': 42, 'lr_all': 0.08983498603030057, 'reg_all': 0.19744321825115252}. Best is trial 8 with value: 0.7036059292303894.\n",
            "[I 2024-09-03 19:43:45,834] Trial 13 finished with value: 0.7222107659185831 and parameters: {'n_factors': 21, 'n_epochs': 50, 'lr_all': 0.0704998845807081, 'reg_all': 0.2186871742068227}. Best is trial 8 with value: 0.7036059292303894.\n",
            "[I 2024-09-03 19:43:46,135] Trial 14 finished with value: 0.7455173489129205 and parameters: {'n_factors': 100, 'n_epochs': 10, 'lr_all': 0.04456975068807919, 'reg_all': 0.4328185502636941}. Best is trial 8 with value: 0.7036059292303894.\n",
            "[I 2024-09-03 19:43:46,650] Trial 15 finished with value: 0.7048753767835404 and parameters: {'n_factors': 53, 'n_epochs': 35, 'lr_all': 0.02131711474857482, 'reg_all': 0.11436030952022469}. Best is trial 8 with value: 0.7036059292303894.\n",
            "[I 2024-09-03 19:43:47,102] Trial 16 finished with value: 0.7281826554867498 and parameters: {'n_factors': 30, 'n_epochs': 34, 'lr_all': 0.02021191694083759, 'reg_all': 0.3508301835121511}. Best is trial 8 with value: 0.7036059292303894.\n",
            "[I 2024-09-03 19:43:47,556] Trial 17 finished with value: 0.7518222707272457 and parameters: {'n_factors': 10, 'n_epochs': 34, 'lr_all': 0.020509396404177562, 'reg_all': 0.5807318275335444}. Best is trial 8 with value: 0.7036059292303894.\n",
            "[I 2024-09-03 19:43:48,416] Trial 18 finished with value: 0.7864434735040223 and parameters: {'n_factors': 53, 'n_epochs': 44, 'lr_all': 0.0010617814618653111, 'reg_all': 0.18245805960845138}. Best is trial 8 with value: 0.7036059292303894.\n",
            "[I 2024-09-03 19:43:48,924] Trial 19 finished with value: 0.7045668155912092 and parameters: {'n_factors': 31, 'n_epochs': 30, 'lr_all': 0.018808435897867806, 'reg_all': 0.1367278973671954}. Best is trial 8 with value: 0.7036059292303894.\n"
          ]
        }
      ]
    },
    {
      "cell_type": "code",
      "source": [
        "best_params = study.best_trials[0].params\n",
        "best_params"
      ],
      "metadata": {
        "id": "g4s6GjKBZ3Ln",
        "outputId": "61da87b2-ee13-4e37-cdd3-2d35c8293b87",
        "colab": {
          "base_uri": "https://localhost:8080/"
        }
      },
      "execution_count": 21,
      "outputs": [
        {
          "output_type": "execute_result",
          "data": {
            "text/plain": [
              "{'n_factors': 10,\n",
              " 'n_epochs': 47,\n",
              " 'lr_all': 0.02183426678644364,\n",
              " 'reg_all': 0.1634557403185574}"
            ]
          },
          "metadata": {},
          "execution_count": 21
        }
      ]
    },
    {
      "cell_type": "code",
      "source": [
        "model = SVD(\n",
        "    n_factors = 10,\n",
        "    n_epochs = 47,\n",
        "    lr_all = 0.02183426678644364,\n",
        "    reg_all = 0.1634557403185574\n",
        ")\n",
        ""
      ],
      "metadata": {
        "id": "gEHPH0OlZ4Fz"
      },
      "execution_count": 22,
      "outputs": []
    },
    {
      "cell_type": "code",
      "source": [
        "model.fit(trainset)\n",
        ""
      ],
      "metadata": {
        "id": "QTD0OTseZ8E2",
        "outputId": "59553a4d-48d7-4603-e220-2e384e020a98",
        "colab": {
          "base_uri": "https://localhost:8080/"
        }
      },
      "execution_count": 23,
      "outputs": [
        {
          "output_type": "execute_result",
          "data": {
            "text/plain": [
              "<surprise.prediction_algorithms.matrix_factorization.SVD at 0x7be46cadb550>"
            ]
          },
          "metadata": {},
          "execution_count": 23
        }
      ]
    },
    {
      "cell_type": "code",
      "source": [
        "preds = model.test(testset)\n",
        "\n",
        "print(f\"mae = {accuracy.mae(preds, verbose=False)}\")\n",
        "print(f\"mse = {accuracy.mse(preds, verbose=False)}\")\n",
        "print(f\"rmse= {accuracy.rmse(preds, verbose=False)}\")\n",
        "print(f\"fcp = {accuracy.fcp(preds, verbose=False)}\")"
      ],
      "metadata": {
        "id": "-R5bKexjZ_ti",
        "outputId": "d53dc6c2-d2e4-4433-e0e9-c6a483f18b90",
        "colab": {
          "base_uri": "https://localhost:8080/"
        }
      },
      "execution_count": 24,
      "outputs": [
        {
          "output_type": "stream",
          "name": "stdout",
          "text": [
            "mae = 0.7021195470657511\n",
            "mse = 0.842725125553658\n",
            "rmse= 0.91800061304645\n",
            "fcp = 0.6517600131478246\n"
          ]
        }
      ]
    }
  ]
}