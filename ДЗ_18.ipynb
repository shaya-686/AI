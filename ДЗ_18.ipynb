{
  "nbformat": 4,
  "nbformat_minor": 0,
  "metadata": {
    "colab": {
      "provenance": [],
      "include_colab_link": true
    },
    "kernelspec": {
      "name": "python3",
      "display_name": "Python 3"
    },
    "language_info": {
      "name": "python"
    }
  },
  "cells": [
    {
      "cell_type": "markdown",
      "metadata": {
        "id": "view-in-github",
        "colab_type": "text"
      },
      "source": [
        "<a href=\"https://colab.research.google.com/github/shaya-686/AI/blob/main/%D0%94%D0%97_18.ipynb\" target=\"_parent\"><img src=\"https://colab.research.google.com/assets/colab-badge.svg\" alt=\"Open In Colab\"/></a>"
      ]
    },
    {
      "cell_type": "markdown",
      "source": [
        "# Оберіть одне завдання на вибір"
      ],
      "metadata": {
        "id": "4rXwBC__jrad"
      }
    },
    {
      "cell_type": "markdown",
      "source": [
        "# Завдання 1\n",
        "\n",
        "За допомогою сегментації зображень замінітть фон для зображення https://github.com/HalyshAnton/IT-Step-Pyton-AI/blob/main/module5/images/humans.jpg\n",
        "\n",
        "на фон з https://github.com/HalyshAnton/IT-Step-Pyton-AI/blob/main/module5/images/forest.jpg\n",
        "\n",
        "* отримайте маску для зображення людей, де `True` - піксель класу людини, `False` - піксель іншого класу\n",
        "* зробіть зображення лісу такого ж розміру як і зображення людей\n",
        "* застосуйте маску щоб змінити значення пікселів зображення лісу на пікселі зображення людей\n",
        "* Якщо результат поганий можете спробувати використати маску для класу `__background`"
      ],
      "metadata": {
        "id": "AVce3DOPMw84"
      }
    },
    {
      "cell_type": "code",
      "source": [],
      "metadata": {
        "id": "Bgodx0aygf75"
      },
      "execution_count": null,
      "outputs": []
    },
    {
      "cell_type": "markdown",
      "source": [
        "# Завдання 2\n",
        "\n",
        "Проведіть детекцію об'єктів для відео\n",
        "\n",
        "https://github.com/HalyshAnton/IT-Step-Pyton-AI/blob/main/module5/images/Highway%20driving%20during%20the%20day%20front%20view%20camera%20driving%20plate%204k%20footage.mp4\n",
        "\n",
        "Підберіть параметри для якісного виявлення машин та знаків\n",
        "Код для перетворення набору зображень у відео є нижче\n",
        "\n",
        "[документація](https://matplotlib.org/stable/api/_as_gen/matplotlib.animation.ArtistAnimation.html)"
      ],
      "metadata": {
        "id": "ztlNAbk7PyKX"
      }
    },
    {
      "cell_type": "code",
      "source": [
        "import matplotlib.pyplot as plt\n",
        "import matplotlib.cm as cm\n",
        "import matplotlib.animation as animation\n",
        "\n",
        "img = [] # some array of images\n",
        "frames = [] # for storing the generated images\n",
        "fig = plt.figure()\n",
        "for result in results:\n",
        "    frames.append([plt.imshow(result.plot())])\n",
        "\n",
        "ani = animation.ArtistAnimation(fig, frames, interval=50, blit=True,\n",
        "                                repeat_delay=1000)\n",
        "\n",
        "ani.save('output.mp4')\n",
        "plt.show()"
      ],
      "metadata": {
        "id": "Fl1XxcRYQwM3"
      },
      "execution_count": null,
      "outputs": []
    },
    {
      "cell_type": "markdown",
      "source": [
        "# Завдання 3\n",
        "\n",
        "Згенеруйте зображення на основі тексту\n",
        "\n",
        "[документація](https://huggingface.co/docs/diffusers/using-diffusers/conditional_image_generation)"
      ],
      "metadata": {
        "id": "H1Rzg8y2jNmY"
      }
    },
    {
      "cell_type": "code",
      "source": [],
      "metadata": {
        "id": "cFZzhQNZjl9l"
      },
      "execution_count": null,
      "outputs": []
    }
  ]
}