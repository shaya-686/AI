{
  "nbformat": 4,
  "nbformat_minor": 0,
  "metadata": {
    "colab": {
      "provenance": [],
      "include_colab_link": true
    },
    "kernelspec": {
      "name": "python3",
      "display_name": "Python 3"
    },
    "language_info": {
      "name": "python"
    }
  },
  "cells": [
    {
      "cell_type": "markdown",
      "metadata": {
        "id": "view-in-github",
        "colab_type": "text"
      },
      "source": [
        "<a href=\"https://colab.research.google.com/github/shaya-686/AI/blob/main/%D0%9F%D1%80%D0%B0%D0%BA%D1%82%D0%B8%D0%BA%D0%B0_pandas.ipynb\" target=\"_parent\"><img src=\"https://colab.research.google.com/assets/colab-badge.svg\" alt=\"Open In Colab\"/></a>"
      ]
    },
    {
      "cell_type": "markdown",
      "source": [
        "Імпорт модуля pandas"
      ],
      "metadata": {
        "id": "ikzNvEQx0XKG"
      }
    },
    {
      "cell_type": "code",
      "execution_count": null,
      "metadata": {
        "id": "fzkEy73a0Rl8"
      },
      "outputs": [],
      "source": []
    },
    {
      "cell_type": "markdown",
      "source": [
        "Дані про пасажирів корабля:\n",
        "* pclass -- клас білета(перший, другий або третій)\n",
        "* sex -- стать\n",
        "* age -- вік\n",
        "* sibsp -- кількість братів\\сестер та чоловіків\\дружин на борту\n",
        "* parch -- кількість дітей та батьків на борту\n",
        "* fare -- вартість поїздки\n",
        "* embarked -- Порт посадки (C = Шербур, Q = Квінстаун, S = Саутгемптон)\n"
      ],
      "metadata": {
        "id": "RoUDr2wi1D7y"
      }
    },
    {
      "cell_type": "code",
      "source": [
        "df = pd.read_csv(\"https://raw.githubusercontent.com/HalyshAnton/IT-Step-Pyton-AI/main/module2/data/ship_passengers.csv\",\n",
        "                 index_col=\"Unnamed: 0\")"
      ],
      "metadata": {
        "id": "sDI-qfUH0dBT"
      },
      "execution_count": null,
      "outputs": []
    },
    {
      "cell_type": "markdown",
      "source": [
        "# Завдання 1\n",
        "\n",
        "Вивести загальну інформацію про таблицю: кількість рядків та стовпців, назви стовпців та їхній тип даних, в яких стовпцях є пропущені значення"
      ],
      "metadata": {
        "id": "_pD2l5vN43VF"
      }
    },
    {
      "cell_type": "code",
      "source": [],
      "metadata": {
        "id": "n-BkudKiWhW_"
      },
      "execution_count": null,
      "outputs": []
    },
    {
      "cell_type": "markdown",
      "source": [
        "# Завдання 2\n",
        "Скільки пасажирів сіло у Квінстауні?"
      ],
      "metadata": {
        "id": "YVUQGjfXOLMo"
      }
    },
    {
      "cell_type": "code",
      "source": [],
      "metadata": {
        "id": "x4PMpTIlPYR5"
      },
      "execution_count": null,
      "outputs": []
    },
    {
      "cell_type": "markdown",
      "source": [
        "# Завдання 3\n",
        "Виведіть стать, вік та вартість поїздки для пасажирів з білетом першого класу"
      ],
      "metadata": {
        "id": "GUQxGeGZPaxq"
      }
    },
    {
      "cell_type": "code",
      "source": [],
      "metadata": {
        "id": "XKIZYvdsRQSY"
      },
      "execution_count": null,
      "outputs": []
    },
    {
      "cell_type": "markdown",
      "source": [
        "# Завдання 4\n",
        "Ввиведіть дані про неповнолітніх чоловіків з Шербура"
      ],
      "metadata": {
        "id": "7S_Qh0hvRaVS"
      }
    },
    {
      "cell_type": "code",
      "source": [],
      "metadata": {
        "id": "mfOJmkOgRURj"
      },
      "execution_count": null,
      "outputs": []
    },
    {
      "cell_type": "markdown",
      "source": [
        "# Завдання 5\n",
        "Створіть новий стовпчик relatives -- загальна кількість родичів на борту для кожного пасажира"
      ],
      "metadata": {
        "id": "ZoF1nlueSptD"
      }
    },
    {
      "cell_type": "code",
      "source": [],
      "metadata": {
        "id": "L1UXr-75WflB"
      },
      "execution_count": null,
      "outputs": []
    },
    {
      "cell_type": "markdown",
      "source": [
        "# Завдання 6\n",
        "Видаліть стовпчик, в якому найбільше пропусків. Якщо пропущені значення ще залишаться, видаліть рядки з пропусками"
      ],
      "metadata": {
        "id": "GggTkcdOV3D0"
      }
    },
    {
      "cell_type": "code",
      "source": [],
      "metadata": {
        "id": "TDeDRKJCSSpV"
      },
      "execution_count": null,
      "outputs": []
    }
  ]
}