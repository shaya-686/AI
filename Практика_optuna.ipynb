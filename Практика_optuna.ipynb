{
  "nbformat": 4,
  "nbformat_minor": 0,
  "metadata": {
    "colab": {
      "provenance": [],
      "include_colab_link": true
    },
    "kernelspec": {
      "name": "python3",
      "display_name": "Python 3"
    },
    "language_info": {
      "name": "python"
    }
  },
  "cells": [
    {
      "cell_type": "markdown",
      "metadata": {
        "id": "view-in-github",
        "colab_type": "text"
      },
      "source": [
        "<a href=\"https://colab.research.google.com/github/shaya-686/AI/blob/main/%D0%9F%D1%80%D0%B0%D0%BA%D1%82%D0%B8%D0%BA%D0%B0_optuna.ipynb\" target=\"_parent\"><img src=\"https://colab.research.google.com/assets/colab-badge.svg\" alt=\"Open In Colab\"/></a>"
      ]
    },
    {
      "cell_type": "markdown",
      "source": [
        "У цьому конкурсі вам потрібно проаналізувати набір даних про клієнтів Google Merchandise Store (також відомого як GStore, де продаються товари від Google), щоб передбачити дохід на кожного клієнта.\n",
        "\n",
        "[посилання](https://www.kaggle.com/competitions/ga-customer-revenue-prediction/overview)\n",
        "\n",
        "Перейшовши за посиланням, натисність кнопку `Late Submission`"
      ],
      "metadata": {
        "id": "PyPWP69bSWRG"
      }
    },
    {
      "cell_type": "markdown",
      "source": [
        "Для завантаження даних використайте наступний код, ваша цільова ознака це стовпчик `totals_transactionRevenue`"
      ],
      "metadata": {
        "id": "5qTJ_saKStOa"
      }
    },
    {
      "cell_type": "code",
      "execution_count": null,
      "metadata": {
        "id": "aJMGZTJAKJXt"
      },
      "outputs": [],
      "source": [
        "import json\n",
        "import pandas as pd\n",
        "\n",
        "\n",
        "def load_df(csv_path='/kaggle/input/ga-customer-revenue-prediction/train_v2.csv', nrows=None):\n",
        "    JSON_COLUMNS = ['device', 'geoNetwork', 'totals', 'trafficSource']\n",
        "\n",
        "    df = pd.read_csv(csv_path,\n",
        "                     converters={column: json.loads for column in JSON_COLUMNS},\n",
        "                     dtype={'fullVisitorId': 'str'},\n",
        "                     nrows=nrows)\n",
        "\n",
        "    for column in JSON_COLUMNS:\n",
        "        column_as_df = pd.json_normalize(df[column])\n",
        "        column_as_df.columns = [f\"{column}_{subcolumn}\" for subcolumn in column_as_df.columns]\n",
        "        df = df.drop(column, axis=1).merge(column_as_df, right_index=True, left_index=True)\n",
        "\n",
        "    df.drop(columns=['customDimensions', 'hits'], inplace=True)\n",
        "\n",
        "    df = df.fillna({'totals_pageviews':0,\n",
        "                    'totals_transactionRevenue':0,\n",
        "                    'totals_pageviews':0})\n",
        "\n",
        "    df['device_isMobile'] = df['device_isMobile'].astype(int)\n",
        "    df['totals_transactionRevenue'] = df['totals_transactionRevenue'].astype(int)\n",
        "\n",
        "    cat_col = df.select_dtypes(include='object').columns\n",
        "\n",
        "    df[cat_col] = df[cat_col].astype(str)\n",
        "\n",
        "    return df\n",
        "\n",
        "\n",
        "df = load_df('/kaggle/input/ga-customer-revenue-prediction/train_v2.csv', nrows=100_000)\n"
      ]
    }
  ]
}