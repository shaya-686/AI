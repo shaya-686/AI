{
  "nbformat": 4,
  "nbformat_minor": 0,
  "metadata": {
    "colab": {
      "provenance": [],
      "gpuType": "T4",
      "include_colab_link": true
    },
    "kernelspec": {
      "name": "python3",
      "display_name": "Python 3"
    },
    "language_info": {
      "name": "python"
    },
    "accelerator": "GPU"
  },
  "cells": [
    {
      "cell_type": "markdown",
      "metadata": {
        "id": "view-in-github",
        "colab_type": "text"
      },
      "source": [
        "<a href=\"https://colab.research.google.com/github/shaya-686/AI/blob/main/%D0%9F%D1%80%D0%B0%D0%BA%D1%82%D0%B8%D0%BA%D0%B0_pytorch.ipynb\" target=\"_parent\"><img src=\"https://colab.research.google.com/assets/colab-badge.svg\" alt=\"Open In Colab\"/></a>"
      ]
    },
    {
      "cell_type": "markdown",
      "source": [
        "Імпорт модулів"
      ],
      "metadata": {
        "id": "ZnHVsAJ_5Py3"
      }
    },
    {
      "cell_type": "code",
      "execution_count": 1,
      "metadata": {
        "id": "yJf_g69N5LP6"
      },
      "outputs": [],
      "source": [
        "import torch\n",
        "import numpy as np"
      ]
    },
    {
      "cell_type": "markdown",
      "source": [
        "# Завдання 1\n",
        "\n",
        "Перегляньте інформацію про доступні процесори, та виведіть про них інформацію"
      ],
      "metadata": {
        "id": "pRkcTmfh6jCX"
      }
    },
    {
      "cell_type": "code",
      "source": [
        "print(torch.cuda.is_available())  # True/False\n",
        "\n",
        "if torch.cuda.is_available():\n",
        "    print(torch.cuda.device_count())  # Кількість GPU\n",
        "    print(torch.cuda.get_device_name(0))  # Назва першого GPU\n",
        "\n",
        "tensor = torch.tensor([1, 2, 3])\n",
        "print(tensor.device)"
      ],
      "metadata": {
        "id": "W5yEGTcV6zHy",
        "outputId": "7da9d439-148c-49c7-f10f-4156f80d2f5e",
        "colab": {
          "base_uri": "https://localhost:8080/"
        }
      },
      "execution_count": null,
      "outputs": [
        {
          "output_type": "stream",
          "name": "stdout",
          "text": [
            "False\n",
            "cpu\n"
          ]
        }
      ]
    },
    {
      "cell_type": "markdown",
      "source": [
        "# Завдання 2\n",
        "Підключіть colab до процесора GPU, та знову виведіть інформацію про доступні процесори"
      ],
      "metadata": {
        "id": "xTLIVYQg6z5G"
      }
    },
    {
      "cell_type": "code",
      "source": [
        "print(torch.cuda.is_available())  # True/False\n",
        "\n",
        "if torch.cuda.is_available():\n",
        "    print(torch.cuda.device_count())  # Кількість GPU\n",
        "    print(torch.cuda.get_device_name(0))  # Назва першого GPU\n",
        "\n",
        "tensor = torch.tensor([1, 2, 3])\n",
        "print(tensor.device)"
      ],
      "metadata": {
        "id": "iVPWDF2D8dAM",
        "outputId": "0bbb1b39-a3d1-4f93-d9a2-32322243a7ed",
        "colab": {
          "base_uri": "https://localhost:8080/"
        }
      },
      "execution_count": null,
      "outputs": [
        {
          "output_type": "stream",
          "name": "stdout",
          "text": [
            "True\n",
            "1\n",
            "Tesla T4\n",
            "cpu\n"
          ]
        }
      ]
    },
    {
      "cell_type": "markdown",
      "source": [
        "# Завдання 3\n",
        "Створіть випадковий тензор розміру (2, 3). Виведіть інформацію про його:\n",
        "\n",
        "* розмір\n",
        "* тип даних\n",
        "* процесор\n",
        "* наявність градієнта"
      ],
      "metadata": {
        "id": "OkMil6fb7AiX"
      }
    },
    {
      "cell_type": "code",
      "source": [
        "tensor = torch.randn(2, 3)\n",
        "print(f\"tensor.shape = {tensor.shape}\")\n",
        "print(f\"tensor.dtype = {tensor.dtype}\")\n",
        "print(f\"tensor.device = {tensor.device}\")\n",
        "print(f\"tensor.requires_grad = {tensor.requires_grad}\")"
      ],
      "metadata": {
        "id": "ih3MeOto8yrO",
        "outputId": "0de0187b-f75b-4160-8262-0e32ff4ea24f",
        "colab": {
          "base_uri": "https://localhost:8080/"
        }
      },
      "execution_count": null,
      "outputs": [
        {
          "output_type": "stream",
          "name": "stdout",
          "text": [
            "tensor.shape = torch.Size([2, 3])\n",
            "tensor.dtype = torch.float32\n",
            "tensor.device = cpu\n",
            "tensor.requires_grad = False\n"
          ]
        }
      ]
    },
    {
      "cell_type": "markdown",
      "source": [
        "# Завдання 4\n",
        "\n",
        "Створіть 2 тензора розміру 100. Використовуючи лише модуль `torch` обрахуйте середьню абсолютну похибку(mae) між ними. Виведіть результат як число"
      ],
      "metadata": {
        "id": "nNrrplv_9Vha"
      }
    },
    {
      "cell_type": "code",
      "source": [
        "tensor_a = torch.randn(100)\n",
        "tensor_b = torch.randn(100)\n",
        "mae = torch.mean(torch.abs(tensor_a - tensor_b))\n",
        "mae.item()"
      ],
      "metadata": {
        "id": "HybhfrBT9wT5",
        "outputId": "683e9dcc-385b-4769-972e-36b4ec5fe4cf",
        "colab": {
          "base_uri": "https://localhost:8080/"
        }
      },
      "execution_count": null,
      "outputs": [
        {
          "output_type": "execute_result",
          "data": {
            "text/plain": [
              "1.1602232456207275"
            ]
          },
          "metadata": {},
          "execution_count": 7
        }
      ]
    },
    {
      "cell_type": "markdown",
      "source": [
        "# Завдання 5\n",
        "\n",
        "Створіть 3 випадкових тензора з розмірами:\n",
        "* 32х28х28\n",
        "* 16х28х28\n",
        "* 64х28х28\n",
        "\n",
        "Об'єднайте їх по першій розмірності. Результат має мати розмір 112х28х28"
      ],
      "metadata": {
        "id": "JoU54G199w5-"
      }
    },
    {
      "cell_type": "code",
      "source": [
        "tensor_c = torch.randn(32, 28, 28)\n",
        "tensor_d = torch.randn(16, 28, 28)\n",
        "tensor_e = torch.randn(64, 28, 28)\n",
        "tensor_f = torch.cat((tensor_c, tensor_d, tensor_e), dim=0)\n",
        "tensor_f.shape"
      ],
      "metadata": {
        "id": "Ar7NOowB-NBn",
        "outputId": "8b7b6079-93d9-4439-c043-28bc6e265dba",
        "colab": {
          "base_uri": "https://localhost:8080/"
        }
      },
      "execution_count": null,
      "outputs": [
        {
          "output_type": "execute_result",
          "data": {
            "text/plain": [
              "torch.Size([112, 28, 28])"
            ]
          },
          "metadata": {},
          "execution_count": 8
        }
      ]
    },
    {
      "cell_type": "markdown",
      "source": [
        "# Завдання 6\n",
        "Застосуйте метод градієнтного спуску для функції"
      ],
      "metadata": {
        "id": "8v4erUf8-Tnn"
      }
    },
    {
      "cell_type": "code",
      "source": [
        "def f(x):\n",
        "  return x**2/3 + torch.sin(torch.pi*x)\n",
        "\n",
        "device = \"cuda\" if torch.cuda.is_available() else \"cpu\"\n",
        "torch.set_default_device(device)\n",
        "\n",
        "# вибираємо початкове значення\n",
        "x = torch.tensor(-2.0, requires_grad=True)\n",
        "learning_rate = 1e-1\n",
        "\n",
        "# ініціалізація моменту\n",
        "moment = torch.tensor(0.0)\n",
        "beta = 0.99\n",
        "\n",
        "for t in range(2000):\n",
        "    # обчислюємо функцію яку потрібно мінімізувати\n",
        "    loss = f(x)\n",
        "\n",
        "    # обчислюємо всі потрібні градієнти\n",
        "    loss.backward()\n",
        "\n",
        "    # вивід значення функції\n",
        "    if t % 100 == 0:\n",
        "      print(f'{loss.item()=}')\n",
        "\n",
        "    # градієнтний спуск\n",
        "    with torch.no_grad():\n",
        "      moment = beta*moment + learning_rate*x.grad\n",
        "      x -= moment\n",
        "\n",
        "      # очищуємо пам'ять для повторного обчислення градієнтів\n",
        "      x.grad = None"
      ],
      "metadata": {
        "id": "c89FE7vc-aWy",
        "outputId": "6ea23d9a-6c00-4a8f-dfab-2da18787aaa1",
        "colab": {
          "base_uri": "https://localhost:8080/"
        }
      },
      "execution_count": 16,
      "outputs": [
        {
          "output_type": "stream",
          "name": "stdout",
          "text": [
            "loss.item()=1.3333332538604736\n",
            "loss.item()=1.0998700857162476\n",
            "loss.item()=0.9519016742706299\n",
            "loss.item()=0.9664866328239441\n",
            "loss.item()=0.956887423992157\n",
            "loss.item()=0.951842188835144\n",
            "loss.item()=0.949904203414917\n",
            "loss.item()=0.9491893649101257\n",
            "loss.item()=0.9489274024963379\n",
            "loss.item()=0.9488317966461182\n",
            "loss.item()=0.9487969279289246\n",
            "loss.item()=0.9487841725349426\n",
            "loss.item()=0.9487794637680054\n",
            "loss.item()=0.9487776756286621\n",
            "loss.item()=0.9487771987915039\n",
            "loss.item()=0.9487768411636353\n",
            "loss.item()=0.94877690076828\n",
            "loss.item()=0.9487766623497009\n",
            "loss.item()=0.9487766623497009\n",
            "loss.item()=0.9487766027450562\n"
          ]
        }
      ]
    },
    {
      "cell_type": "code",
      "source": [
        "import matplotlib.pyplot as plt\n",
        "\n",
        "xs = torch.linspace(-3, 5, 100)\n",
        "plt.plot(xs.cpu(), f(xs).cpu(), label='f(x)')\n",
        "plt.scatter(x.item(), f(x).item(), c='red', label='min')\n",
        "plt.legend()"
      ],
      "metadata": {
        "id": "lZRFsN257eHh",
        "outputId": "955ebc77-7c95-4939-b0f7-0cfac2431b6d",
        "colab": {
          "base_uri": "https://localhost:8080/",
          "height": 447
        }
      },
      "execution_count": 17,
      "outputs": [
        {
          "output_type": "execute_result",
          "data": {
            "text/plain": [
              "<matplotlib.legend.Legend at 0x7b6a33786410>"
            ]
          },
          "metadata": {},
          "execution_count": 17
        },
        {
          "output_type": "display_data",
          "data": {
            "text/plain": [
              "<Figure size 640x480 with 1 Axes>"
            ],
            "image/png": "[encoded data removed]"
          },
          "metadata": {}
        }
      ]
    },
    {
      "cell_type": "code",
      "source": [
        "x"
      ],
      "metadata": {
        "id": "-far33y68B5B",
        "outputId": "4f5fc505-1982-46a0-9867-893043d2dd9b",
        "colab": {
          "base_uri": "https://localhost:8080/"
        }
      },
      "execution_count": 18,
      "outputs": [
        {
          "output_type": "execute_result",
          "data": {
            "text/plain": [
              "tensor(-2.3350, device='cuda:0', requires_grad=True)"
            ]
          },
          "metadata": {},
          "execution_count": 18
        }
      ]
    },
    {
      "cell_type": "code",
      "source": [
        "!pip install -q torchviz"
      ],
      "metadata": {
        "id": "0Y9hryt78Nb4",
        "outputId": "17affaf4-bb6e-4460-fdc1-cb54a5e9f98b",
        "colab": {
          "base_uri": "https://localhost:8080/"
        }
      },
      "execution_count": 13,
      "outputs": [
        {
          "output_type": "stream",
          "name": "stdout",
          "text": [
            "  Preparing metadata (setup.py) ... \u001b[?25l\u001b[?25hdone\n",
            "\u001b[2K     \u001b[90m━━━━━━━━━━━━━━━━━━━━━━━━━━━━━━━━━━━━━━━━\u001b[0m \u001b[32m21.3/21.3 MB\u001b[0m \u001b[31m58.0 MB/s\u001b[0m eta \u001b[36m0:00:00\u001b[0m\n",
            "\u001b[?25h  Building wheel for torchviz (setup.py) ... \u001b[?25l\u001b[?25hdone\n"
          ]
        }
      ]
    },
    {
      "cell_type": "code",
      "source": [
        "from torchviz import make_dot\n",
        "loss = f(x)\n",
        "\n",
        "dot = make_dot(loss, params={'x': x, 'f(x)': loss})\n",
        "dot"
      ],
      "metadata": {
        "id": "ip9mlgse8HuH",
        "outputId": "23311eea-1b05-4402-cfc1-d20974c5f1b1",
        "colab": {
          "base_uri": "https://localhost:8080/",
          "height": 454
        }
      },
      "execution_count": null,
      "outputs": [
        {
          "output_type": "execute_result",
          "data": {
            "image/svg+xml": "<?xml version=\"1.0\" encoding=\"UTF-8\" standalone=\"no\"?>\n<!DOCTYPE svg PUBLIC \"-//W3C//DTD SVG 1.1//EN\"\n \"http://www.w3.org/Graphics/SVG/1.1/DTD/svg11.dtd\">\n<!-- Generated by graphviz version 2.43.0 (0)\n -->\n<!-- Title: %3 Pages: 1 -->\n<svg width=\"204pt\" height=\"324pt\"\n viewBox=\"0.00 0.00 204.00 324.00\" xmlns=\"http://www.w3.org/2000/svg\" xmlns:xlink=\"http://www.w3.org/1999/xlink\">\n<g id=\"graph0\" class=\"graph\" transform=\"scale(1 1) rotate(0) translate(4 320)\">\n<title>%3</title>\n<polygon fill=\"white\" stroke=\"transparent\" points=\"-4,4 -4,-320 200,-320 200,4 -4,4\"/>\n<!-- 132722007497904 -->\n<g id=\"node1\" class=\"node\">\n<title>132722007497904</title>\n<polygon fill=\"#caff70\" stroke=\"black\" points=\"124.5,-30 70.5,-30 70.5,0 124.5,0 124.5,-30\"/>\n<text text-anchor=\"middle\" x=\"97.5\" y=\"-18\" font-family=\"monospace\" font-size=\"10.00\">f(x)</text>\n<text text-anchor=\"middle\" x=\"97.5\" y=\"-7\" font-family=\"monospace\" font-size=\"10.00\"> ()</text>\n</g>\n<!-- 132722007375632 -->\n<g id=\"node2\" class=\"node\">\n<title>132722007375632</title>\n<polygon fill=\"lightgrey\" stroke=\"black\" points=\"142,-85 53,-85 53,-66 142,-66 142,-85\"/>\n<text text-anchor=\"middle\" x=\"97.5\" y=\"-73\" font-family=\"monospace\" font-size=\"10.00\">AddBackward0</text>\n</g>\n<!-- 132722007375632&#45;&gt;132722007497904 -->\n<g id=\"edge8\" class=\"edge\">\n<title>132722007375632&#45;&gt;132722007497904</title>\n<path fill=\"none\" stroke=\"black\" d=\"M97.5,-65.87C97.5,-59.11 97.5,-49.35 97.5,-40.26\"/>\n<polygon fill=\"black\" stroke=\"black\" points=\"101,-40.11 97.5,-30.11 94,-40.11 101,-40.11\"/>\n</g>\n<!-- 132722007368432 -->\n<g id=\"node3\" class=\"node\">\n<title>132722007368432</title>\n<polygon fill=\"lightgrey\" stroke=\"black\" points=\"89,-140 0,-140 0,-121 89,-121 89,-140\"/>\n<text text-anchor=\"middle\" x=\"44.5\" y=\"-128\" font-family=\"monospace\" font-size=\"10.00\">DivBackward0</text>\n</g>\n<!-- 132722007368432&#45;&gt;132722007375632 -->\n<g id=\"edge1\" class=\"edge\">\n<title>132722007368432&#45;&gt;132722007375632</title>\n<path fill=\"none\" stroke=\"black\" d=\"M53.25,-120.75C60.97,-113.03 72.4,-101.6 81.72,-92.28\"/>\n<polygon fill=\"black\" stroke=\"black\" points=\"84.31,-94.64 88.91,-85.09 79.36,-89.69 84.31,-94.64\"/>\n</g>\n<!-- 132722007374672 -->\n<g id=\"node4\" class=\"node\">\n<title>132722007374672</title>\n<polygon fill=\"lightgrey\" stroke=\"black\" points=\"89,-195 0,-195 0,-176 89,-176 89,-195\"/>\n<text text-anchor=\"middle\" x=\"44.5\" y=\"-183\" font-family=\"monospace\" font-size=\"10.00\">PowBackward0</text>\n</g>\n<!-- 132722007374672&#45;&gt;132722007368432 -->\n<g id=\"edge2\" class=\"edge\">\n<title>132722007374672&#45;&gt;132722007368432</title>\n<path fill=\"none\" stroke=\"black\" d=\"M44.5,-175.75C44.5,-168.8 44.5,-158.85 44.5,-150.13\"/>\n<polygon fill=\"black\" stroke=\"black\" points=\"48,-150.09 44.5,-140.09 41,-150.09 48,-150.09\"/>\n</g>\n<!-- 132722007370400 -->\n<g id=\"node5\" class=\"node\">\n<title>132722007370400</title>\n<polygon fill=\"lightgrey\" stroke=\"black\" points=\"148,-250 47,-250 47,-231 148,-231 148,-250\"/>\n<text text-anchor=\"middle\" x=\"97.5\" y=\"-238\" font-family=\"monospace\" font-size=\"10.00\">AccumulateGrad</text>\n</g>\n<!-- 132722007370400&#45;&gt;132722007374672 -->\n<g id=\"edge3\" class=\"edge\">\n<title>132722007370400&#45;&gt;132722007374672</title>\n<path fill=\"none\" stroke=\"black\" d=\"M88.75,-230.75C81.03,-223.03 69.6,-211.6 60.28,-202.28\"/>\n<polygon fill=\"black\" stroke=\"black\" points=\"62.64,-199.69 53.09,-195.09 57.69,-204.64 62.64,-199.69\"/>\n</g>\n<!-- 132722007375296 -->\n<g id=\"node8\" class=\"node\">\n<title>132722007375296</title>\n<polygon fill=\"lightgrey\" stroke=\"black\" points=\"196,-195 107,-195 107,-176 196,-176 196,-195\"/>\n<text text-anchor=\"middle\" x=\"151.5\" y=\"-183\" font-family=\"monospace\" font-size=\"10.00\">MulBackward0</text>\n</g>\n<!-- 132722007370400&#45;&gt;132722007375296 -->\n<g id=\"edge7\" class=\"edge\">\n<title>132722007370400&#45;&gt;132722007375296</title>\n<path fill=\"none\" stroke=\"black\" d=\"M106.42,-230.75C114.28,-223.03 125.93,-211.6 135.42,-202.28\"/>\n<polygon fill=\"black\" stroke=\"black\" points=\"138.06,-204.59 142.75,-195.09 133.16,-199.6 138.06,-204.59\"/>\n</g>\n<!-- 132722006915920 -->\n<g id=\"node6\" class=\"node\">\n<title>132722006915920</title>\n<polygon fill=\"lightblue\" stroke=\"black\" points=\"124.5,-316 70.5,-316 70.5,-286 124.5,-286 124.5,-316\"/>\n<text text-anchor=\"middle\" x=\"97.5\" y=\"-304\" font-family=\"monospace\" font-size=\"10.00\">x</text>\n<text text-anchor=\"middle\" x=\"97.5\" y=\"-293\" font-family=\"monospace\" font-size=\"10.00\"> ()</text>\n</g>\n<!-- 132722006915920&#45;&gt;132722007370400 -->\n<g id=\"edge4\" class=\"edge\">\n<title>132722006915920&#45;&gt;132722007370400</title>\n<path fill=\"none\" stroke=\"black\" d=\"M97.5,-285.84C97.5,-278.21 97.5,-268.7 97.5,-260.45\"/>\n<polygon fill=\"black\" stroke=\"black\" points=\"101,-260.27 97.5,-250.27 94,-260.27 101,-260.27\"/>\n</g>\n<!-- 132722007375680 -->\n<g id=\"node7\" class=\"node\">\n<title>132722007375680</title>\n<polygon fill=\"lightgrey\" stroke=\"black\" points=\"196,-140 107,-140 107,-121 196,-121 196,-140\"/>\n<text text-anchor=\"middle\" x=\"151.5\" y=\"-128\" font-family=\"monospace\" font-size=\"10.00\">SinBackward0</text>\n</g>\n<!-- 132722007375680&#45;&gt;132722007375632 -->\n<g id=\"edge5\" class=\"edge\">\n<title>132722007375680&#45;&gt;132722007375632</title>\n<path fill=\"none\" stroke=\"black\" d=\"M142.58,-120.75C134.72,-113.03 123.07,-101.6 113.58,-92.28\"/>\n<polygon fill=\"black\" stroke=\"black\" points=\"115.84,-89.6 106.25,-85.09 110.94,-94.59 115.84,-89.6\"/>\n</g>\n<!-- 132722007375296&#45;&gt;132722007375680 -->\n<g id=\"edge6\" class=\"edge\">\n<title>132722007375296&#45;&gt;132722007375680</title>\n<path fill=\"none\" stroke=\"black\" d=\"M151.5,-175.75C151.5,-168.8 151.5,-158.85 151.5,-150.13\"/>\n<polygon fill=\"black\" stroke=\"black\" points=\"155,-150.09 151.5,-140.09 148,-150.09 155,-150.09\"/>\n</g>\n</g>\n</svg>\n",
            "text/plain": [
              "<graphviz.graphs.Digraph at 0x78b5c01a7bb0>"
            ]
          },
          "metadata": {},
          "execution_count": 29
        }
      ]
    },
    {
      "cell_type": "markdown",
      "source": [
        "# Завдання 7\n",
        "Застосуйте метод градієнтного спуску для функції. Мінімум функції рівний 0"
      ],
      "metadata": {
        "id": "UjHK74ES-iuO"
      }
    },
    {
      "cell_type": "code",
      "source": [
        "def f1(x, y):\n",
        "  # функція Швефеля\n",
        "  return  418.9829*2 - x*torch.sin(x.abs().sqrt()) - y*torch.sin(y.abs().sqrt())\n",
        "\n",
        "def f2(x, y):\n",
        "  # трьохгорбна функція\n",
        "  return 2*x**2  - 1.05*x**4 + 1/6*x**6 + x*y  + y**2\n",
        "\n",
        "def f3(x, y):\n",
        "  # функція птах\n",
        "  return 106.7645 + torch.sin(x)*torch.exp((1-torch.cos(y))**2) + \\\n",
        "  torch.cos(y)*torch.exp((1-torch.sin(x))**2) + \\\n",
        "  (x-y)**2"
      ],
      "metadata": {
        "id": "vRD515Ik_xM-"
      },
      "execution_count": 19,
      "outputs": []
    },
    {
      "cell_type": "code",
      "source": [
        "def fun_min(f, x, y):\n",
        "  # вибираємо початкове значення\n",
        "\n",
        "  learning_rate = 1e-1\n",
        "\n",
        "  # ініціалізація моменту\n",
        "  moment_x = torch.tensor(0.0)\n",
        "  moment_y = torch.tensor(0.0)\n",
        "  beta = 0.99\n",
        "\n",
        "  for t in range(2000):\n",
        "      # обчислюємо функцію яку потрібно мінімізувати\n",
        "      loss = f(x, y)\n",
        "\n",
        "      # обчислюємо всі потрібні градієнти\n",
        "      loss.backward()\n",
        "\n",
        "      # вивід значення функції\n",
        "      if t % 100 == 0:\n",
        "        print(f'{loss.item()=}')\n",
        "\n",
        "      # градієнтний спуск\n",
        "      with torch.no_grad():\n",
        "        moment_x = beta*moment + learning_rate*x.grad\n",
        "        moment_y = beta*moment + learning_rate*y.grad\n",
        "        x -= moment\n",
        "        y -= moment\n",
        "\n",
        "        # очищуємо пам'ять для повторного обчислення градієнтів\n",
        "        x.grad = None\n",
        "        y.grad = None"
      ],
      "metadata": {
        "id": "j2RaZh9E-oyK"
      },
      "execution_count": 147,
      "outputs": []
    },
    {
      "cell_type": "code",
      "source": [
        "def print_plot(fun, x, y):\n",
        "    xs = torch.linspace(-2, 2, 50)\n",
        "    ys = torch.linspace(-2, 2, 50)\n",
        "    res = fun(xs, ys)\n",
        "\n",
        "    # Перетворюємо тензори на NumPy масиви за допомогою .detach().numpy()\n",
        "    xs_np = xs.detach().cpu().numpy()\n",
        "    ys_np = ys.detach().cpu().numpy()\n",
        "\n",
        "    plt.plot(xs_np, res.detach().cpu().numpy(), label='f(x, y)')\n",
        "\n",
        "    # Перетворюємо x і fun(x, y) на NumPy масиви за допомогою .detach().numpy()\n",
        "    x_np = x.detach().cpu().numpy()\n",
        "    y_np = y.detach().cpu().numpy()\n",
        "    res_min = fun(x, y).detach().cpu().numpy()\n",
        "\n",
        "    plt.scatter(x_np, res_min, c='red', label='min')\n",
        "    plt.legend()\n",
        "    plt.show()\n"
      ],
      "metadata": {
        "id": "nYuP-xGdMxSq"
      },
      "execution_count": 178,
      "outputs": []
    },
    {
      "cell_type": "code",
      "source": [
        "x = torch.tensor(-2.0, requires_grad=True)\n",
        "y = torch.tensor(2.0, requires_grad=True)\n",
        "fun_min(f1, x, y)\n"
      ],
      "metadata": {
        "id": "1l9zq4k5MKB6",
        "outputId": "fc64cded-87ff-4eba-be4f-d79c7702a840",
        "colab": {
          "base_uri": "https://localhost:8080/"
        }
      },
      "execution_count": 163,
      "outputs": [
        {
          "output_type": "stream",
          "name": "stdout",
          "text": [
            "loss.item()=837.9658203125\n",
            "loss.item()=837.9661865234375\n",
            "loss.item()=837.9664306640625\n",
            "loss.item()=837.966796875\n",
            "loss.item()=837.9671020507812\n",
            "loss.item()=837.9674682617188\n",
            "loss.item()=837.9678344726562\n",
            "loss.item()=837.9680786132812\n",
            "loss.item()=837.9684448242188\n",
            "loss.item()=837.96875\n",
            "loss.item()=837.9691162109375\n",
            "loss.item()=837.9694213867188\n",
            "loss.item()=837.9697265625\n",
            "loss.item()=837.9700927734375\n",
            "loss.item()=837.9703979492188\n",
            "loss.item()=837.9707641601562\n",
            "loss.item()=837.9710693359375\n",
            "loss.item()=837.9713745117188\n",
            "loss.item()=837.9716796875\n",
            "loss.item()=837.9720458984375\n"
          ]
        }
      ]
    },
    {
      "cell_type": "code",
      "source": [
        "x"
      ],
      "metadata": {
        "id": "1o3UitVtMnis",
        "outputId": "7a853571-7f61-4657-f8b8-16232ded9643",
        "colab": {
          "base_uri": "https://localhost:8080/"
        }
      },
      "execution_count": 168,
      "outputs": [
        {
          "output_type": "execute_result",
          "data": {
            "text/plain": [
              "tensor(-2.0029, device='cuda:0', requires_grad=True)"
            ]
          },
          "metadata": {},
          "execution_count": 168
        }
      ]
    },
    {
      "cell_type": "code",
      "source": [
        "y"
      ],
      "metadata": {
        "id": "FXTf8_GVOyfZ",
        "outputId": "dc5cc598-67b0-4670-fdee-ab95c6b1b035",
        "colab": {
          "base_uri": "https://localhost:8080/"
        }
      },
      "execution_count": 169,
      "outputs": [
        {
          "output_type": "execute_result",
          "data": {
            "text/plain": [
              "tensor(1.9969, device='cuda:0', requires_grad=True)"
            ]
          },
          "metadata": {},
          "execution_count": 169
        }
      ]
    },
    {
      "cell_type": "code",
      "source": [
        "print_plot(f1, x, y)"
      ],
      "metadata": {
        "id": "gHQrLSv-O6un",
        "outputId": "86cca33c-a8b6-438d-c3a1-3108e07e3751",
        "colab": {
          "base_uri": "https://localhost:8080/",
          "height": 430
        }
      },
      "execution_count": 172,
      "outputs": [
        {
          "output_type": "display_data",
          "data": {
            "text/plain": [
              "<Figure size 640x480 with 1 Axes>"
            ],
            "image/png": "[encoded data removed]"
          },
          "metadata": {}
        }
      ]
    },
    {
      "cell_type": "code",
      "source": [
        "x = torch.tensor(-1., requires_grad=True)\n",
        "y = torch.tensor(1., requires_grad=True)\n",
        "fun_min(f2, x, y)"
      ],
      "metadata": {
        "id": "eu3cFspdQe8o",
        "outputId": "5658bb49-2077-4e06-d046-ceac8179c192",
        "colab": {
          "base_uri": "https://localhost:8080/"
        }
      },
      "execution_count": 174,
      "outputs": [
        {
          "output_type": "stream",
          "name": "stdout",
          "text": [
            "loss.item()=1.1166666746139526\n",
            "loss.item()=1.116486668586731\n",
            "loss.item()=1.1163067817687988\n",
            "loss.item()=1.1161267757415771\n",
            "loss.item()=1.115946650505066\n",
            "loss.item()=1.1157667636871338\n",
            "loss.item()=1.115586757659912\n",
            "loss.item()=1.1154067516326904\n",
            "loss.item()=1.1152268648147583\n",
            "loss.item()=1.115046739578247\n",
            "loss.item()=1.1148667335510254\n",
            "loss.item()=1.1146867275238037\n",
            "loss.item()=1.1145069599151611\n",
            "loss.item()=1.1143269538879395\n",
            "loss.item()=1.1141469478607178\n",
            "loss.item()=1.1139670610427856\n",
            "loss.item()=1.1137874126434326\n",
            "loss.item()=1.1136071681976318\n",
            "loss.item()=1.1134271621704102\n",
            "loss.item()=1.1132473945617676\n"
          ]
        }
      ]
    },
    {
      "cell_type": "code",
      "source": [
        "x"
      ],
      "metadata": {
        "id": "0VV4yuhkbcUN",
        "outputId": "98c76b00-e0fd-4e92-fc6d-82261e1df070",
        "colab": {
          "base_uri": "https://localhost:8080/"
        }
      },
      "execution_count": 175,
      "outputs": [
        {
          "output_type": "execute_result",
          "data": {
            "text/plain": [
              "tensor(-1.0031, device='cuda:0', requires_grad=True)"
            ]
          },
          "metadata": {},
          "execution_count": 175
        }
      ]
    },
    {
      "cell_type": "code",
      "source": [
        "y"
      ],
      "metadata": {
        "id": "9_SDFef6bdo8",
        "outputId": "3ba63f41-f2d5-4b33-c218-9c0a55b2cd38",
        "colab": {
          "base_uri": "https://localhost:8080/"
        }
      },
      "execution_count": 176,
      "outputs": [
        {
          "output_type": "execute_result",
          "data": {
            "text/plain": [
              "tensor(0.9970, device='cuda:0', requires_grad=True)"
            ]
          },
          "metadata": {},
          "execution_count": 176
        }
      ]
    },
    {
      "cell_type": "code",
      "source": [
        "print_plot(f2, x, y)"
      ],
      "metadata": {
        "id": "gVi0yJouQkqm",
        "outputId": "39d2cf13-63a7-426f-ca36-847209c756c7",
        "colab": {
          "base_uri": "https://localhost:8080/",
          "height": 430
        }
      },
      "execution_count": 179,
      "outputs": [
        {
          "output_type": "display_data",
          "data": {
            "text/plain": [
              "<Figure size 640x480 with 1 Axes>"
            ],
            "image/png": "[encoded data removed]"
          },
          "metadata": {}
        }
      ]
    },
    {
      "cell_type": "code",
      "source": [
        "x = torch.tensor(1.0, requires_grad=True)\n",
        "y = torch.tensor(1.0, requires_grad=True)\n",
        "fun_min(f3, x, y)"
      ],
      "metadata": {
        "id": "S6Ge94QrR4PI",
        "outputId": "68ca42cf-00da-48b3-92fe-97af45c0fdcc",
        "colab": {
          "base_uri": "https://localhost:8080/"
        }
      },
      "execution_count": 180,
      "outputs": [
        {
          "output_type": "stream",
          "name": "stdout",
          "text": [
            "loss.item()=108.3580322265625\n",
            "loss.item()=108.35796356201172\n",
            "loss.item()=108.35787963867188\n",
            "loss.item()=108.35780334472656\n",
            "loss.item()=108.35772705078125\n",
            "loss.item()=108.35765075683594\n",
            "loss.item()=108.35757446289062\n",
            "loss.item()=108.35749816894531\n",
            "loss.item()=108.357421875\n",
            "loss.item()=108.35734558105469\n",
            "loss.item()=108.35726928710938\n",
            "loss.item()=108.3572006225586\n",
            "loss.item()=108.35711669921875\n",
            "loss.item()=108.35704040527344\n",
            "loss.item()=108.35697174072266\n",
            "loss.item()=108.35689544677734\n",
            "loss.item()=108.3568115234375\n",
            "loss.item()=108.35674285888672\n",
            "loss.item()=108.3566665649414\n",
            "loss.item()=108.3565902709961\n"
          ]
        }
      ]
    },
    {
      "cell_type": "code",
      "source": [
        "print_plot(f3, x, y)"
      ],
      "metadata": {
        "id": "PaXjR_w-U3VU",
        "outputId": "40586940-6bca-416b-a8f1-e496a8b43423",
        "colab": {
          "base_uri": "https://localhost:8080/",
          "height": 430
        }
      },
      "execution_count": 181,
      "outputs": [
        {
          "output_type": "display_data",
          "data": {
            "text/plain": [
              "<Figure size 640x480 with 1 Axes>"
            ],
            "image/png": "[encoded data removed]"
          },
          "metadata": {}
        }
      ]
    }
  ]
}