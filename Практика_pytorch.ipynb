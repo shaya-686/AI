{
  "nbformat": 4,
  "nbformat_minor": 0,
  "metadata": {
    "colab": {
      "provenance": [],
      "gpuType": "T4",
      "include_colab_link": true
    },
    "kernelspec": {
      "name": "python3",
      "display_name": "Python 3"
    },
    "language_info": {
      "name": "python"
    },
    "accelerator": "GPU"
  },
  "cells": [
    {
      "cell_type": "markdown",
      "metadata": {
        "id": "view-in-github",
        "colab_type": "text"
      },
      "source": [
        "<a href=\"https://colab.research.google.com/github/shaya-686/AI/blob/main/%D0%9F%D1%80%D0%B0%D0%BA%D1%82%D0%B8%D0%BA%D0%B0_pytorch.ipynb\" target=\"_parent\"><img src=\"https://colab.research.google.com/assets/colab-badge.svg\" alt=\"Open In Colab\"/></a>"
      ]
    },
    {
      "cell_type": "markdown",
      "source": [
        "Імпорт модулів"
      ],
      "metadata": {
        "id": "ZnHVsAJ_5Py3"
      }
    },
    {
      "cell_type": "code",
      "execution_count": 2,
      "metadata": {
        "id": "yJf_g69N5LP6"
      },
      "outputs": [],
      "source": [
        "import torch\n",
        "import numpy as np"
      ]
    },
    {
      "cell_type": "markdown",
      "source": [
        "# Завдання 1\n",
        "\n",
        "Перегляньте інформацію про доступні процесори, та виведіть про них інформацію"
      ],
      "metadata": {
        "id": "pRkcTmfh6jCX"
      }
    },
    {
      "cell_type": "code",
      "source": [
        "print(torch.cuda.is_available())  # True/False\n",
        "\n",
        "if torch.cuda.is_available():\n",
        "    print(torch.cuda.device_count())  # Кількість GPU\n",
        "    print(torch.cuda.get_device_name(0))  # Назва першого GPU\n",
        "\n",
        "tensor = torch.tensor([1, 2, 3])\n",
        "print(tensor.device)"
      ],
      "metadata": {
        "id": "W5yEGTcV6zHy",
        "outputId": "7da9d439-148c-49c7-f10f-4156f80d2f5e",
        "colab": {
          "base_uri": "https://localhost:8080/"
        }
      },
      "execution_count": 2,
      "outputs": [
        {
          "output_type": "stream",
          "name": "stdout",
          "text": [
            "False\n",
            "cpu\n"
          ]
        }
      ]
    },
    {
      "cell_type": "markdown",
      "source": [
        "# Завдання 2\n",
        "Підключіть colab до процесора GPU, та знову виведіть інформацію про доступні процесори"
      ],
      "metadata": {
        "id": "xTLIVYQg6z5G"
      }
    },
    {
      "cell_type": "code",
      "source": [
        "print(torch.cuda.is_available())  # True/False\n",
        "\n",
        "if torch.cuda.is_available():\n",
        "    print(torch.cuda.device_count())  # Кількість GPU\n",
        "    print(torch.cuda.get_device_name(0))  # Назва першого GPU\n",
        "\n",
        "tensor = torch.tensor([1, 2, 3])\n",
        "print(tensor.device)"
      ],
      "metadata": {
        "id": "iVPWDF2D8dAM",
        "outputId": "0bbb1b39-a3d1-4f93-d9a2-32322243a7ed",
        "colab": {
          "base_uri": "https://localhost:8080/"
        }
      },
      "execution_count": 3,
      "outputs": [
        {
          "output_type": "stream",
          "name": "stdout",
          "text": [
            "True\n",
            "1\n",
            "Tesla T4\n",
            "cpu\n"
          ]
        }
      ]
    },
    {
      "cell_type": "markdown",
      "source": [
        "# Завдання 3\n",
        "Створіть випадковий тензор розміру (2, 3). Виведіть інформацію про його:\n",
        "\n",
        "* розмір\n",
        "* тип даних\n",
        "* процесор\n",
        "* наявність градієнта"
      ],
      "metadata": {
        "id": "OkMil6fb7AiX"
      }
    },
    {
      "cell_type": "code",
      "source": [
        "tensor = torch.randn(2, 3)\n",
        "print(f\"tensor.shape = {tensor.shape}\")\n",
        "print(f\"tensor.dtype = {tensor.dtype}\")\n",
        "print(f\"tensor.device = {tensor.device}\")\n",
        "print(f\"tensor.requires_grad = {tensor.requires_grad}\")"
      ],
      "metadata": {
        "id": "ih3MeOto8yrO",
        "outputId": "0de0187b-f75b-4160-8262-0e32ff4ea24f",
        "colab": {
          "base_uri": "https://localhost:8080/"
        }
      },
      "execution_count": 5,
      "outputs": [
        {
          "output_type": "stream",
          "name": "stdout",
          "text": [
            "tensor.shape = torch.Size([2, 3])\n",
            "tensor.dtype = torch.float32\n",
            "tensor.device = cpu\n",
            "tensor.requires_grad = False\n"
          ]
        }
      ]
    },
    {
      "cell_type": "markdown",
      "source": [
        "# Завдання 4\n",
        "\n",
        "Створіть 2 тензора розміру 100. Використовуючи лише модуль `torch` обрахуйте середьню абсолютну похибку(mae) між ними. Виведіть результат як число"
      ],
      "metadata": {
        "id": "nNrrplv_9Vha"
      }
    },
    {
      "cell_type": "code",
      "source": [
        "tensor_a = torch.randn(100)\n",
        "tensor_b = torch.randn(100)\n",
        "mae = torch.mean(torch.abs(tensor_a - tensor_b))\n",
        "mae.item()"
      ],
      "metadata": {
        "id": "HybhfrBT9wT5",
        "outputId": "683e9dcc-385b-4769-972e-36b4ec5fe4cf",
        "colab": {
          "base_uri": "https://localhost:8080/"
        }
      },
      "execution_count": 7,
      "outputs": [
        {
          "output_type": "execute_result",
          "data": {
            "text/plain": [
              "1.1602232456207275"
            ]
          },
          "metadata": {},
          "execution_count": 7
        }
      ]
    },
    {
      "cell_type": "markdown",
      "source": [
        "# Завдання 5\n",
        "\n",
        "Створіть 3 випадкових тензора з розмірами:\n",
        "* 32х28х28\n",
        "* 16х28х28\n",
        "* 64х28х28\n",
        "\n",
        "Об'єднайте їх по першій розмірності. Результат має мати розмір 112х28х28"
      ],
      "metadata": {
        "id": "JoU54G199w5-"
      }
    },
    {
      "cell_type": "code",
      "source": [
        "tensor_c = torch.randn(32, 28, 28)\n",
        "tensor_d = torch.randn(16, 28, 28)\n",
        "tensor_e = torch.randn(64, 28, 28)\n",
        "tensor_f = torch.cat((tensor_c, tensor_d, tensor_e), dim=0)\n",
        "tensor_f.shape"
      ],
      "metadata": {
        "id": "Ar7NOowB-NBn",
        "outputId": "8b7b6079-93d9-4439-c043-28bc6e265dba",
        "colab": {
          "base_uri": "https://localhost:8080/"
        }
      },
      "execution_count": 8,
      "outputs": [
        {
          "output_type": "execute_result",
          "data": {
            "text/plain": [
              "torch.Size([112, 28, 28])"
            ]
          },
          "metadata": {},
          "execution_count": 8
        }
      ]
    },
    {
      "cell_type": "markdown",
      "source": [
        "# Завдання 6\n",
        "Застосуйте метод градієнтного спуску для функції"
      ],
      "metadata": {
        "id": "8v4erUf8-Tnn"
      }
    },
    {
      "cell_type": "code",
      "source": [
        "def f(x):\n",
        "  return x**2/3 + torch.sin(torch.pi*x)\n",
        "\n",
        "device = \"cuda\" if torch.cuda.is_available() else \"cpu\"\n",
        "torch.set_default_device(device)\n",
        "\n",
        "# вибираємо початкове значення\n",
        "x = torch.tensor(-2.0, requires_grad=True)\n",
        "learning_rate = 1e-1\n",
        "\n",
        "# ініціалізація моменту\n",
        "moment = torch.tensor(0.0)\n",
        "beta = 0.99\n",
        "\n",
        "for t in range(2000):\n",
        "    # обчислюємо функцію яку потрібно мінімізувати\n",
        "    loss = f(x)\n",
        "\n",
        "    # обчислюємо всі потрібні градієнти\n",
        "    loss.backward()\n",
        "\n",
        "    # вивід значення функції\n",
        "    if t % 100 == 0:\n",
        "      print(f'{loss.item()=}')\n",
        "\n",
        "    # градієнтний спуск\n",
        "    with torch.no_grad():\n",
        "      moment = beta*moment + learning_rate*x.grad\n",
        "      x -= moment\n",
        "\n",
        "      # очищуємо пам'ять для повторного обчислення градієнтів\n",
        "      x.grad = None"
      ],
      "metadata": {
        "id": "c89FE7vc-aWy",
        "outputId": "97f64b2b-057b-4f54-8a7a-1c2d429dd813",
        "colab": {
          "base_uri": "https://localhost:8080/"
        }
      },
      "execution_count": 42,
      "outputs": [
        {
          "output_type": "stream",
          "name": "stdout",
          "text": [
            "loss.item()=1.3333332538604736\n",
            "loss.item()=1.0998700857162476\n",
            "loss.item()=0.9519016742706299\n",
            "loss.item()=0.9664866328239441\n",
            "loss.item()=0.956887423992157\n",
            "loss.item()=0.951842188835144\n",
            "loss.item()=0.949904203414917\n",
            "loss.item()=0.9491893649101257\n",
            "loss.item()=0.9489274024963379\n",
            "loss.item()=0.9488317966461182\n",
            "loss.item()=0.9487969279289246\n",
            "loss.item()=0.9487841725349426\n",
            "loss.item()=0.9487794637680054\n",
            "loss.item()=0.9487776756286621\n",
            "loss.item()=0.9487771987915039\n",
            "loss.item()=0.9487768411636353\n",
            "loss.item()=0.94877690076828\n",
            "loss.item()=0.9487766623497009\n",
            "loss.item()=0.9487766623497009\n",
            "loss.item()=0.9487766027450562\n"
          ]
        }
      ]
    },
    {
      "cell_type": "code",
      "source": [
        "import matplotlib.pyplot as plt\n",
        "\n",
        "xs = torch.linspace(-3, 5, 100)\n",
        "plt.plot(xs.cpu(), f(xs).cpu(), label='f(x)')\n",
        "plt.scatter(x.item(), f(x).item(), c='red', label='min')\n",
        "plt.legend()"
      ],
      "metadata": {
        "id": "lZRFsN257eHh",
        "outputId": "9b453dd0-bb89-41fd-e3de-b222e85f84fd",
        "colab": {
          "base_uri": "https://localhost:8080/",
          "height": 447
        }
      },
      "execution_count": 43,
      "outputs": [
        {
          "output_type": "execute_result",
          "data": {
            "text/plain": [
              "<matplotlib.legend.Legend at 0x78b5a19efac0>"
            ]
          },
          "metadata": {},
          "execution_count": 43
        },
        {
          "output_type": "display_data",
          "data": {
            "text/plain": [
              "<Figure size 640x480 with 1 Axes>"
            ],
            "image/png": "[encoded data removed]"
          },
          "metadata": {}
        }
      ]
    },
    {
      "cell_type": "code",
      "source": [
        "x"
      ],
      "metadata": {
        "id": "-far33y68B5B",
        "outputId": "5ecdc664-46d6-4e34-d1ad-b8e91b36169f",
        "colab": {
          "base_uri": "https://localhost:8080/"
        }
      },
      "execution_count": 27,
      "outputs": [
        {
          "output_type": "execute_result",
          "data": {
            "text/plain": [
              "tensor(-0.5449, device='cuda:0', requires_grad=True)"
            ]
          },
          "metadata": {},
          "execution_count": 27
        }
      ]
    },
    {
      "cell_type": "code",
      "source": [
        "!pip install -q torchviz"
      ],
      "metadata": {
        "id": "0Y9hryt78Nb4"
      },
      "execution_count": null,
      "outputs": []
    },
    {
      "cell_type": "code",
      "source": [
        "from torchviz import make_dot\n",
        "loss = f(x)\n",
        "\n",
        "dot = make_dot(loss, params={'x': x, 'f(x)': loss})\n",
        "dot"
      ],
      "metadata": {
        "id": "ip9mlgse8HuH",
        "outputId": "23311eea-1b05-4402-cfc1-d20974c5f1b1",
        "colab": {
          "base_uri": "https://localhost:8080/",
          "height": 454
        }
      },
      "execution_count": 29,
      "outputs": [
        {
          "output_type": "execute_result",
          "data": {
            "image/svg+xml": "<?xml version=\"1.0\" encoding=\"UTF-8\" standalone=\"no\"?>\n<!DOCTYPE svg PUBLIC \"-//W3C//DTD SVG 1.1//EN\"\n \"http://www.w3.org/Graphics/SVG/1.1/DTD/svg11.dtd\">\n<!-- Generated by graphviz version 2.43.0 (0)\n -->\n<!-- Title: %3 Pages: 1 -->\n<svg width=\"204pt\" height=\"324pt\"\n viewBox=\"0.00 0.00 204.00 324.00\" xmlns=\"http://www.w3.org/2000/svg\" xmlns:xlink=\"http://www.w3.org/1999/xlink\">\n<g id=\"graph0\" class=\"graph\" transform=\"scale(1 1) rotate(0) translate(4 320)\">\n<title>%3</title>\n<polygon fill=\"white\" stroke=\"transparent\" points=\"-4,4 -4,-320 200,-320 200,4 -4,4\"/>\n<!-- 132722007497904 -->\n<g id=\"node1\" class=\"node\">\n<title>132722007497904</title>\n<polygon fill=\"#caff70\" stroke=\"black\" points=\"124.5,-30 70.5,-30 70.5,0 124.5,0 124.5,-30\"/>\n<text text-anchor=\"middle\" x=\"97.5\" y=\"-18\" font-family=\"monospace\" font-size=\"10.00\">f(x)</text>\n<text text-anchor=\"middle\" x=\"97.5\" y=\"-7\" font-family=\"monospace\" font-size=\"10.00\"> ()</text>\n</g>\n<!-- 132722007375632 -->\n<g id=\"node2\" class=\"node\">\n<title>132722007375632</title>\n<polygon fill=\"lightgrey\" stroke=\"black\" points=\"142,-85 53,-85 53,-66 142,-66 142,-85\"/>\n<text text-anchor=\"middle\" x=\"97.5\" y=\"-73\" font-family=\"monospace\" font-size=\"10.00\">AddBackward0</text>\n</g>\n<!-- 132722007375632&#45;&gt;132722007497904 -->\n<g id=\"edge8\" class=\"edge\">\n<title>132722007375632&#45;&gt;132722007497904</title>\n<path fill=\"none\" stroke=\"black\" d=\"M97.5,-65.87C97.5,-59.11 97.5,-49.35 97.5,-40.26\"/>\n<polygon fill=\"black\" stroke=\"black\" points=\"101,-40.11 97.5,-30.11 94,-40.11 101,-40.11\"/>\n</g>\n<!-- 132722007368432 -->\n<g id=\"node3\" class=\"node\">\n<title>132722007368432</title>\n<polygon fill=\"lightgrey\" stroke=\"black\" points=\"89,-140 0,-140 0,-121 89,-121 89,-140\"/>\n<text text-anchor=\"middle\" x=\"44.5\" y=\"-128\" font-family=\"monospace\" font-size=\"10.00\">DivBackward0</text>\n</g>\n<!-- 132722007368432&#45;&gt;132722007375632 -->\n<g id=\"edge1\" class=\"edge\">\n<title>132722007368432&#45;&gt;132722007375632</title>\n<path fill=\"none\" stroke=\"black\" d=\"M53.25,-120.75C60.97,-113.03 72.4,-101.6 81.72,-92.28\"/>\n<polygon fill=\"black\" stroke=\"black\" points=\"84.31,-94.64 88.91,-85.09 79.36,-89.69 84.31,-94.64\"/>\n</g>\n<!-- 132722007374672 -->\n<g id=\"node4\" class=\"node\">\n<title>132722007374672</title>\n<polygon fill=\"lightgrey\" stroke=\"black\" points=\"89,-195 0,-195 0,-176 89,-176 89,-195\"/>\n<text text-anchor=\"middle\" x=\"44.5\" y=\"-183\" font-family=\"monospace\" font-size=\"10.00\">PowBackward0</text>\n</g>\n<!-- 132722007374672&#45;&gt;132722007368432 -->\n<g id=\"edge2\" class=\"edge\">\n<title>132722007374672&#45;&gt;132722007368432</title>\n<path fill=\"none\" stroke=\"black\" d=\"M44.5,-175.75C44.5,-168.8 44.5,-158.85 44.5,-150.13\"/>\n<polygon fill=\"black\" stroke=\"black\" points=\"48,-150.09 44.5,-140.09 41,-150.09 48,-150.09\"/>\n</g>\n<!-- 132722007370400 -->\n<g id=\"node5\" class=\"node\">\n<title>132722007370400</title>\n<polygon fill=\"lightgrey\" stroke=\"black\" points=\"148,-250 47,-250 47,-231 148,-231 148,-250\"/>\n<text text-anchor=\"middle\" x=\"97.5\" y=\"-238\" font-family=\"monospace\" font-size=\"10.00\">AccumulateGrad</text>\n</g>\n<!-- 132722007370400&#45;&gt;132722007374672 -->\n<g id=\"edge3\" class=\"edge\">\n<title>132722007370400&#45;&gt;132722007374672</title>\n<path fill=\"none\" stroke=\"black\" d=\"M88.75,-230.75C81.03,-223.03 69.6,-211.6 60.28,-202.28\"/>\n<polygon fill=\"black\" stroke=\"black\" points=\"62.64,-199.69 53.09,-195.09 57.69,-204.64 62.64,-199.69\"/>\n</g>\n<!-- 132722007375296 -->\n<g id=\"node8\" class=\"node\">\n<title>132722007375296</title>\n<polygon fill=\"lightgrey\" stroke=\"black\" points=\"196,-195 107,-195 107,-176 196,-176 196,-195\"/>\n<text text-anchor=\"middle\" x=\"151.5\" y=\"-183\" font-family=\"monospace\" font-size=\"10.00\">MulBackward0</text>\n</g>\n<!-- 132722007370400&#45;&gt;132722007375296 -->\n<g id=\"edge7\" class=\"edge\">\n<title>132722007370400&#45;&gt;132722007375296</title>\n<path fill=\"none\" stroke=\"black\" d=\"M106.42,-230.75C114.28,-223.03 125.93,-211.6 135.42,-202.28\"/>\n<polygon fill=\"black\" stroke=\"black\" points=\"138.06,-204.59 142.75,-195.09 133.16,-199.6 138.06,-204.59\"/>\n</g>\n<!-- 132722006915920 -->\n<g id=\"node6\" class=\"node\">\n<title>132722006915920</title>\n<polygon fill=\"lightblue\" stroke=\"black\" points=\"124.5,-316 70.5,-316 70.5,-286 124.5,-286 124.5,-316\"/>\n<text text-anchor=\"middle\" x=\"97.5\" y=\"-304\" font-family=\"monospace\" font-size=\"10.00\">x</text>\n<text text-anchor=\"middle\" x=\"97.5\" y=\"-293\" font-family=\"monospace\" font-size=\"10.00\"> ()</text>\n</g>\n<!-- 132722006915920&#45;&gt;132722007370400 -->\n<g id=\"edge4\" class=\"edge\">\n<title>132722006915920&#45;&gt;132722007370400</title>\n<path fill=\"none\" stroke=\"black\" d=\"M97.5,-285.84C97.5,-278.21 97.5,-268.7 97.5,-260.45\"/>\n<polygon fill=\"black\" stroke=\"black\" points=\"101,-260.27 97.5,-250.27 94,-260.27 101,-260.27\"/>\n</g>\n<!-- 132722007375680 -->\n<g id=\"node7\" class=\"node\">\n<title>132722007375680</title>\n<polygon fill=\"lightgrey\" stroke=\"black\" points=\"196,-140 107,-140 107,-121 196,-121 196,-140\"/>\n<text text-anchor=\"middle\" x=\"151.5\" y=\"-128\" font-family=\"monospace\" font-size=\"10.00\">SinBackward0</text>\n</g>\n<!-- 132722007375680&#45;&gt;132722007375632 -->\n<g id=\"edge5\" class=\"edge\">\n<title>132722007375680&#45;&gt;132722007375632</title>\n<path fill=\"none\" stroke=\"black\" d=\"M142.58,-120.75C134.72,-113.03 123.07,-101.6 113.58,-92.28\"/>\n<polygon fill=\"black\" stroke=\"black\" points=\"115.84,-89.6 106.25,-85.09 110.94,-94.59 115.84,-89.6\"/>\n</g>\n<!-- 132722007375296&#45;&gt;132722007375680 -->\n<g id=\"edge6\" class=\"edge\">\n<title>132722007375296&#45;&gt;132722007375680</title>\n<path fill=\"none\" stroke=\"black\" d=\"M151.5,-175.75C151.5,-168.8 151.5,-158.85 151.5,-150.13\"/>\n<polygon fill=\"black\" stroke=\"black\" points=\"155,-150.09 151.5,-140.09 148,-150.09 155,-150.09\"/>\n</g>\n</g>\n</svg>\n",
            "text/plain": [
              "<graphviz.graphs.Digraph at 0x78b5c01a7bb0>"
            ]
          },
          "metadata": {},
          "execution_count": 29
        }
      ]
    },
    {
      "cell_type": "markdown",
      "source": [
        "# Завдання 7\n",
        "Застосуйте метод градієнтного спуску для функції. Мінімум функції рівний 0"
      ],
      "metadata": {
        "id": "UjHK74ES-iuO"
      }
    },
    {
      "cell_type": "code",
      "source": [
        "def f1(x, y):\n",
        "  # функція Швефеля\n",
        "  return  418.9829*2 - x*torch.sin(x.abs().sqrt()) - y*torch.sin(y.abs().sqrt())\n",
        "\n",
        "def f2(x, y):\n",
        "  # трьохгорбна функція\n",
        "  return 2*x**2  - 1.05*x**4 + 1/6*x**6 + x*y  + y**2\n",
        "\n",
        "def f3(x, y):\n",
        "  # функція птах\n",
        "  return 106.7645 + torch.sin(x)*torch.exp((1-torch.cos(y))**2) + \\\n",
        "  torch.cos(y)*torch.exp((1-torch.sin(x))**2) + \\\n",
        "  (x-y)**2"
      ],
      "metadata": {
        "id": "vRD515Ik_xM-"
      },
      "execution_count": null,
      "outputs": []
    },
    {
      "cell_type": "code",
      "source": [],
      "metadata": {
        "id": "j2RaZh9E-oyK"
      },
      "execution_count": null,
      "outputs": []
    }
  ]
}